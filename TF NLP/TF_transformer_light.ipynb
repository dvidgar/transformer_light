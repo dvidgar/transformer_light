{
  "nbformat": 4,
  "nbformat_minor": 0,
  "metadata": {
    "accelerator": "GPU",
    "colab": {
      "name": "TF transformer light.ipynb",
      "provenance": [],
      "collapsed_sections": [
        "s_qNSzzyaCbD"
      ]
    },
    "kernelspec": {
      "display_name": "Python 3",
      "name": "python3"
    },
    "widgets": {
      "application/vnd.jupyter.widget-state+json": {
        "5ee89f9684db4f4dbf8a361fc5a453bd": {
          "model_module": "@jupyter-widgets/controls",
          "model_name": "HBoxModel",
          "model_module_version": "1.5.0",
          "state": {
            "_view_name": "HBoxView",
            "_dom_classes": [],
            "_model_name": "HBoxModel",
            "_view_module": "@jupyter-widgets/controls",
            "_model_module_version": "1.5.0",
            "_view_count": null,
            "_view_module_version": "1.5.0",
            "box_style": "",
            "layout": "IPY_MODEL_41bda5a13260474b89002862db8ae112",
            "_model_module": "@jupyter-widgets/controls",
            "children": [
              "IPY_MODEL_b6d4823a48ab4f12bba3508e7f350095",
              "IPY_MODEL_beadd385be0b40ce8a54e14f47c3bbcf",
              "IPY_MODEL_2d6c3f5f9a364fa08297c7ae0b40fd74"
            ]
          }
        },
        "41bda5a13260474b89002862db8ae112": {
          "model_module": "@jupyter-widgets/base",
          "model_name": "LayoutModel",
          "model_module_version": "1.2.0",
          "state": {
            "_view_name": "LayoutView",
            "grid_template_rows": null,
            "right": null,
            "justify_content": null,
            "_view_module": "@jupyter-widgets/base",
            "overflow": null,
            "_model_module_version": "1.2.0",
            "_view_count": null,
            "flex_flow": null,
            "width": null,
            "min_width": null,
            "border": null,
            "align_items": null,
            "bottom": null,
            "_model_module": "@jupyter-widgets/base",
            "top": null,
            "grid_column": null,
            "overflow_y": null,
            "overflow_x": null,
            "grid_auto_flow": null,
            "grid_area": null,
            "grid_template_columns": null,
            "flex": null,
            "_model_name": "LayoutModel",
            "justify_items": null,
            "grid_row": null,
            "max_height": null,
            "align_content": null,
            "visibility": null,
            "align_self": null,
            "height": null,
            "min_height": null,
            "padding": null,
            "grid_auto_rows": null,
            "grid_gap": null,
            "max_width": null,
            "order": null,
            "_view_module_version": "1.2.0",
            "grid_template_areas": null,
            "object_position": null,
            "object_fit": null,
            "grid_auto_columns": null,
            "margin": null,
            "display": null,
            "left": null
          }
        },
        "b6d4823a48ab4f12bba3508e7f350095": {
          "model_module": "@jupyter-widgets/controls",
          "model_name": "HTMLModel",
          "model_module_version": "1.5.0",
          "state": {
            "_view_name": "HTMLView",
            "style": "IPY_MODEL_3fb46c35c1324fe5ac9640c3efb1f01d",
            "_dom_classes": [],
            "description": "",
            "_model_name": "HTMLModel",
            "placeholder": "​",
            "_view_module": "@jupyter-widgets/controls",
            "_model_module_version": "1.5.0",
            "value": "Dl Completed...: 100%",
            "_view_count": null,
            "_view_module_version": "1.5.0",
            "description_tooltip": null,
            "_model_module": "@jupyter-widgets/controls",
            "layout": "IPY_MODEL_c2bd3be4a94e473c88fe7452fdab10b5"
          }
        },
        "beadd385be0b40ce8a54e14f47c3bbcf": {
          "model_module": "@jupyter-widgets/controls",
          "model_name": "FloatProgressModel",
          "model_module_version": "1.5.0",
          "state": {
            "_view_name": "ProgressView",
            "style": "IPY_MODEL_57df19f5f67d4f639a039a4318a32836",
            "_dom_classes": [],
            "description": "",
            "_model_name": "FloatProgressModel",
            "bar_style": "success",
            "max": 1,
            "_view_module": "@jupyter-widgets/controls",
            "_model_module_version": "1.5.0",
            "value": 1,
            "_view_count": null,
            "_view_module_version": "1.5.0",
            "orientation": "horizontal",
            "min": 0,
            "description_tooltip": null,
            "_model_module": "@jupyter-widgets/controls",
            "layout": "IPY_MODEL_e5d562d519c24030ad55e094a232956f"
          }
        },
        "2d6c3f5f9a364fa08297c7ae0b40fd74": {
          "model_module": "@jupyter-widgets/controls",
          "model_name": "HTMLModel",
          "model_module_version": "1.5.0",
          "state": {
            "_view_name": "HTMLView",
            "style": "IPY_MODEL_707a699b94954986afa876fe6fa12e80",
            "_dom_classes": [],
            "description": "",
            "_model_name": "HTMLModel",
            "placeholder": "​",
            "_view_module": "@jupyter-widgets/controls",
            "_model_module_version": "1.5.0",
            "value": " 1/1 [00:12&lt;00:00,  4.03s/ url]",
            "_view_count": null,
            "_view_module_version": "1.5.0",
            "description_tooltip": null,
            "_model_module": "@jupyter-widgets/controls",
            "layout": "IPY_MODEL_6e9d1a7d32304a58a328e758b2dd72ce"
          }
        },
        "3fb46c35c1324fe5ac9640c3efb1f01d": {
          "model_module": "@jupyter-widgets/controls",
          "model_name": "DescriptionStyleModel",
          "model_module_version": "1.5.0",
          "state": {
            "_view_name": "StyleView",
            "_model_name": "DescriptionStyleModel",
            "description_width": "",
            "_view_module": "@jupyter-widgets/base",
            "_model_module_version": "1.5.0",
            "_view_count": null,
            "_view_module_version": "1.2.0",
            "_model_module": "@jupyter-widgets/controls"
          }
        },
        "c2bd3be4a94e473c88fe7452fdab10b5": {
          "model_module": "@jupyter-widgets/base",
          "model_name": "LayoutModel",
          "model_module_version": "1.2.0",
          "state": {
            "_view_name": "LayoutView",
            "grid_template_rows": null,
            "right": null,
            "justify_content": null,
            "_view_module": "@jupyter-widgets/base",
            "overflow": null,
            "_model_module_version": "1.2.0",
            "_view_count": null,
            "flex_flow": null,
            "width": null,
            "min_width": null,
            "border": null,
            "align_items": null,
            "bottom": null,
            "_model_module": "@jupyter-widgets/base",
            "top": null,
            "grid_column": null,
            "overflow_y": null,
            "overflow_x": null,
            "grid_auto_flow": null,
            "grid_area": null,
            "grid_template_columns": null,
            "flex": null,
            "_model_name": "LayoutModel",
            "justify_items": null,
            "grid_row": null,
            "max_height": null,
            "align_content": null,
            "visibility": null,
            "align_self": null,
            "height": null,
            "min_height": null,
            "padding": null,
            "grid_auto_rows": null,
            "grid_gap": null,
            "max_width": null,
            "order": null,
            "_view_module_version": "1.2.0",
            "grid_template_areas": null,
            "object_position": null,
            "object_fit": null,
            "grid_auto_columns": null,
            "margin": null,
            "display": null,
            "left": null
          }
        },
        "57df19f5f67d4f639a039a4318a32836": {
          "model_module": "@jupyter-widgets/controls",
          "model_name": "ProgressStyleModel",
          "model_module_version": "1.5.0",
          "state": {
            "_view_name": "StyleView",
            "_model_name": "ProgressStyleModel",
            "description_width": "",
            "_view_module": "@jupyter-widgets/base",
            "_model_module_version": "1.5.0",
            "_view_count": null,
            "_view_module_version": "1.2.0",
            "bar_color": null,
            "_model_module": "@jupyter-widgets/controls"
          }
        },
        "e5d562d519c24030ad55e094a232956f": {
          "model_module": "@jupyter-widgets/base",
          "model_name": "LayoutModel",
          "model_module_version": "1.2.0",
          "state": {
            "_view_name": "LayoutView",
            "grid_template_rows": null,
            "right": null,
            "justify_content": null,
            "_view_module": "@jupyter-widgets/base",
            "overflow": null,
            "_model_module_version": "1.2.0",
            "_view_count": null,
            "flex_flow": null,
            "width": "20px",
            "min_width": null,
            "border": null,
            "align_items": null,
            "bottom": null,
            "_model_module": "@jupyter-widgets/base",
            "top": null,
            "grid_column": null,
            "overflow_y": null,
            "overflow_x": null,
            "grid_auto_flow": null,
            "grid_area": null,
            "grid_template_columns": null,
            "flex": null,
            "_model_name": "LayoutModel",
            "justify_items": null,
            "grid_row": null,
            "max_height": null,
            "align_content": null,
            "visibility": null,
            "align_self": null,
            "height": null,
            "min_height": null,
            "padding": null,
            "grid_auto_rows": null,
            "grid_gap": null,
            "max_width": null,
            "order": null,
            "_view_module_version": "1.2.0",
            "grid_template_areas": null,
            "object_position": null,
            "object_fit": null,
            "grid_auto_columns": null,
            "margin": null,
            "display": null,
            "left": null
          }
        },
        "707a699b94954986afa876fe6fa12e80": {
          "model_module": "@jupyter-widgets/controls",
          "model_name": "DescriptionStyleModel",
          "model_module_version": "1.5.0",
          "state": {
            "_view_name": "StyleView",
            "_model_name": "DescriptionStyleModel",
            "description_width": "",
            "_view_module": "@jupyter-widgets/base",
            "_model_module_version": "1.5.0",
            "_view_count": null,
            "_view_module_version": "1.2.0",
            "_model_module": "@jupyter-widgets/controls"
          }
        },
        "6e9d1a7d32304a58a328e758b2dd72ce": {
          "model_module": "@jupyter-widgets/base",
          "model_name": "LayoutModel",
          "model_module_version": "1.2.0",
          "state": {
            "_view_name": "LayoutView",
            "grid_template_rows": null,
            "right": null,
            "justify_content": null,
            "_view_module": "@jupyter-widgets/base",
            "overflow": null,
            "_model_module_version": "1.2.0",
            "_view_count": null,
            "flex_flow": null,
            "width": null,
            "min_width": null,
            "border": null,
            "align_items": null,
            "bottom": null,
            "_model_module": "@jupyter-widgets/base",
            "top": null,
            "grid_column": null,
            "overflow_y": null,
            "overflow_x": null,
            "grid_auto_flow": null,
            "grid_area": null,
            "grid_template_columns": null,
            "flex": null,
            "_model_name": "LayoutModel",
            "justify_items": null,
            "grid_row": null,
            "max_height": null,
            "align_content": null,
            "visibility": null,
            "align_self": null,
            "height": null,
            "min_height": null,
            "padding": null,
            "grid_auto_rows": null,
            "grid_gap": null,
            "max_width": null,
            "order": null,
            "_view_module_version": "1.2.0",
            "grid_template_areas": null,
            "object_position": null,
            "object_fit": null,
            "grid_auto_columns": null,
            "margin": null,
            "display": null,
            "left": null
          }
        },
        "61371b665cbf41f89596937d97b6f48c": {
          "model_module": "@jupyter-widgets/controls",
          "model_name": "HBoxModel",
          "model_module_version": "1.5.0",
          "state": {
            "_view_name": "HBoxView",
            "_dom_classes": [],
            "_model_name": "HBoxModel",
            "_view_module": "@jupyter-widgets/controls",
            "_model_module_version": "1.5.0",
            "_view_count": null,
            "_view_module_version": "1.5.0",
            "box_style": "",
            "layout": "IPY_MODEL_bd7f02cb8cf949aab42f224f192af7fd",
            "_model_module": "@jupyter-widgets/controls",
            "children": [
              "IPY_MODEL_7d679e68e6dd42f8a32c4748eb598d54",
              "IPY_MODEL_8cb8b84d1e634c39bfd0e8285e740217",
              "IPY_MODEL_ee05bbfd5bcb48e2b85fa7bdf20f40ca"
            ]
          }
        },
        "bd7f02cb8cf949aab42f224f192af7fd": {
          "model_module": "@jupyter-widgets/base",
          "model_name": "LayoutModel",
          "model_module_version": "1.2.0",
          "state": {
            "_view_name": "LayoutView",
            "grid_template_rows": null,
            "right": null,
            "justify_content": null,
            "_view_module": "@jupyter-widgets/base",
            "overflow": null,
            "_model_module_version": "1.2.0",
            "_view_count": null,
            "flex_flow": null,
            "width": null,
            "min_width": null,
            "border": null,
            "align_items": null,
            "bottom": null,
            "_model_module": "@jupyter-widgets/base",
            "top": null,
            "grid_column": null,
            "overflow_y": null,
            "overflow_x": null,
            "grid_auto_flow": null,
            "grid_area": null,
            "grid_template_columns": null,
            "flex": null,
            "_model_name": "LayoutModel",
            "justify_items": null,
            "grid_row": null,
            "max_height": null,
            "align_content": null,
            "visibility": null,
            "align_self": null,
            "height": null,
            "min_height": null,
            "padding": null,
            "grid_auto_rows": null,
            "grid_gap": null,
            "max_width": null,
            "order": null,
            "_view_module_version": "1.2.0",
            "grid_template_areas": null,
            "object_position": null,
            "object_fit": null,
            "grid_auto_columns": null,
            "margin": null,
            "display": null,
            "left": null
          }
        },
        "7d679e68e6dd42f8a32c4748eb598d54": {
          "model_module": "@jupyter-widgets/controls",
          "model_name": "HTMLModel",
          "model_module_version": "1.5.0",
          "state": {
            "_view_name": "HTMLView",
            "style": "IPY_MODEL_765ec2ad050a4de9894e3d1bb7dd3e03",
            "_dom_classes": [],
            "description": "",
            "_model_name": "HTMLModel",
            "placeholder": "​",
            "_view_module": "@jupyter-widgets/controls",
            "_model_module_version": "1.5.0",
            "value": "Dl Size...: 100%",
            "_view_count": null,
            "_view_module_version": "1.5.0",
            "description_tooltip": null,
            "_model_module": "@jupyter-widgets/controls",
            "layout": "IPY_MODEL_78cd1bdcf75346b1a3a2c3b291957333"
          }
        },
        "8cb8b84d1e634c39bfd0e8285e740217": {
          "model_module": "@jupyter-widgets/controls",
          "model_name": "FloatProgressModel",
          "model_module_version": "1.5.0",
          "state": {
            "_view_name": "ProgressView",
            "style": "IPY_MODEL_6a44fc6ddf76496cab8f6c278d3a2c20",
            "_dom_classes": [],
            "description": "",
            "_model_name": "FloatProgressModel",
            "bar_style": "success",
            "max": 1,
            "_view_module": "@jupyter-widgets/controls",
            "_model_module_version": "1.5.0",
            "value": 1,
            "_view_count": null,
            "_view_module_version": "1.5.0",
            "orientation": "horizontal",
            "min": 0,
            "description_tooltip": null,
            "_model_module": "@jupyter-widgets/controls",
            "layout": "IPY_MODEL_fadcf45af3bc45258451403f153e9b60"
          }
        },
        "ee05bbfd5bcb48e2b85fa7bdf20f40ca": {
          "model_module": "@jupyter-widgets/controls",
          "model_name": "HTMLModel",
          "model_module_version": "1.5.0",
          "state": {
            "_view_name": "HTMLView",
            "style": "IPY_MODEL_1490ad41d6c34dd4a0000e2190d38a33",
            "_dom_classes": [],
            "description": "",
            "_model_name": "HTMLModel",
            "placeholder": "​",
            "_view_module": "@jupyter-widgets/controls",
            "_model_module_version": "1.5.0",
            "value": " 124/124 [00:12&lt;00:00, 40.50 MiB/s]",
            "_view_count": null,
            "_view_module_version": "1.5.0",
            "description_tooltip": null,
            "_model_module": "@jupyter-widgets/controls",
            "layout": "IPY_MODEL_cad218b31d0b4fff8eec92335f7b4af4"
          }
        },
        "765ec2ad050a4de9894e3d1bb7dd3e03": {
          "model_module": "@jupyter-widgets/controls",
          "model_name": "DescriptionStyleModel",
          "model_module_version": "1.5.0",
          "state": {
            "_view_name": "StyleView",
            "_model_name": "DescriptionStyleModel",
            "description_width": "",
            "_view_module": "@jupyter-widgets/base",
            "_model_module_version": "1.5.0",
            "_view_count": null,
            "_view_module_version": "1.2.0",
            "_model_module": "@jupyter-widgets/controls"
          }
        },
        "78cd1bdcf75346b1a3a2c3b291957333": {
          "model_module": "@jupyter-widgets/base",
          "model_name": "LayoutModel",
          "model_module_version": "1.2.0",
          "state": {
            "_view_name": "LayoutView",
            "grid_template_rows": null,
            "right": null,
            "justify_content": null,
            "_view_module": "@jupyter-widgets/base",
            "overflow": null,
            "_model_module_version": "1.2.0",
            "_view_count": null,
            "flex_flow": null,
            "width": null,
            "min_width": null,
            "border": null,
            "align_items": null,
            "bottom": null,
            "_model_module": "@jupyter-widgets/base",
            "top": null,
            "grid_column": null,
            "overflow_y": null,
            "overflow_x": null,
            "grid_auto_flow": null,
            "grid_area": null,
            "grid_template_columns": null,
            "flex": null,
            "_model_name": "LayoutModel",
            "justify_items": null,
            "grid_row": null,
            "max_height": null,
            "align_content": null,
            "visibility": null,
            "align_self": null,
            "height": null,
            "min_height": null,
            "padding": null,
            "grid_auto_rows": null,
            "grid_gap": null,
            "max_width": null,
            "order": null,
            "_view_module_version": "1.2.0",
            "grid_template_areas": null,
            "object_position": null,
            "object_fit": null,
            "grid_auto_columns": null,
            "margin": null,
            "display": null,
            "left": null
          }
        },
        "6a44fc6ddf76496cab8f6c278d3a2c20": {
          "model_module": "@jupyter-widgets/controls",
          "model_name": "ProgressStyleModel",
          "model_module_version": "1.5.0",
          "state": {
            "_view_name": "StyleView",
            "_model_name": "ProgressStyleModel",
            "description_width": "",
            "_view_module": "@jupyter-widgets/base",
            "_model_module_version": "1.5.0",
            "_view_count": null,
            "_view_module_version": "1.2.0",
            "bar_color": null,
            "_model_module": "@jupyter-widgets/controls"
          }
        },
        "fadcf45af3bc45258451403f153e9b60": {
          "model_module": "@jupyter-widgets/base",
          "model_name": "LayoutModel",
          "model_module_version": "1.2.0",
          "state": {
            "_view_name": "LayoutView",
            "grid_template_rows": null,
            "right": null,
            "justify_content": null,
            "_view_module": "@jupyter-widgets/base",
            "overflow": null,
            "_model_module_version": "1.2.0",
            "_view_count": null,
            "flex_flow": null,
            "width": "20px",
            "min_width": null,
            "border": null,
            "align_items": null,
            "bottom": null,
            "_model_module": "@jupyter-widgets/base",
            "top": null,
            "grid_column": null,
            "overflow_y": null,
            "overflow_x": null,
            "grid_auto_flow": null,
            "grid_area": null,
            "grid_template_columns": null,
            "flex": null,
            "_model_name": "LayoutModel",
            "justify_items": null,
            "grid_row": null,
            "max_height": null,
            "align_content": null,
            "visibility": null,
            "align_self": null,
            "height": null,
            "min_height": null,
            "padding": null,
            "grid_auto_rows": null,
            "grid_gap": null,
            "max_width": null,
            "order": null,
            "_view_module_version": "1.2.0",
            "grid_template_areas": null,
            "object_position": null,
            "object_fit": null,
            "grid_auto_columns": null,
            "margin": null,
            "display": null,
            "left": null
          }
        },
        "1490ad41d6c34dd4a0000e2190d38a33": {
          "model_module": "@jupyter-widgets/controls",
          "model_name": "DescriptionStyleModel",
          "model_module_version": "1.5.0",
          "state": {
            "_view_name": "StyleView",
            "_model_name": "DescriptionStyleModel",
            "description_width": "",
            "_view_module": "@jupyter-widgets/base",
            "_model_module_version": "1.5.0",
            "_view_count": null,
            "_view_module_version": "1.2.0",
            "_model_module": "@jupyter-widgets/controls"
          }
        },
        "cad218b31d0b4fff8eec92335f7b4af4": {
          "model_module": "@jupyter-widgets/base",
          "model_name": "LayoutModel",
          "model_module_version": "1.2.0",
          "state": {
            "_view_name": "LayoutView",
            "grid_template_rows": null,
            "right": null,
            "justify_content": null,
            "_view_module": "@jupyter-widgets/base",
            "overflow": null,
            "_model_module_version": "1.2.0",
            "_view_count": null,
            "flex_flow": null,
            "width": null,
            "min_width": null,
            "border": null,
            "align_items": null,
            "bottom": null,
            "_model_module": "@jupyter-widgets/base",
            "top": null,
            "grid_column": null,
            "overflow_y": null,
            "overflow_x": null,
            "grid_auto_flow": null,
            "grid_area": null,
            "grid_template_columns": null,
            "flex": null,
            "_model_name": "LayoutModel",
            "justify_items": null,
            "grid_row": null,
            "max_height": null,
            "align_content": null,
            "visibility": null,
            "align_self": null,
            "height": null,
            "min_height": null,
            "padding": null,
            "grid_auto_rows": null,
            "grid_gap": null,
            "max_width": null,
            "order": null,
            "_view_module_version": "1.2.0",
            "grid_template_areas": null,
            "object_position": null,
            "object_fit": null,
            "grid_auto_columns": null,
            "margin": null,
            "display": null,
            "left": null
          }
        },
        "78939c307f2642f895c592a0dbe7a9fa": {
          "model_module": "@jupyter-widgets/controls",
          "model_name": "HBoxModel",
          "model_module_version": "1.5.0",
          "state": {
            "_view_name": "HBoxView",
            "_dom_classes": [],
            "_model_name": "HBoxModel",
            "_view_module": "@jupyter-widgets/controls",
            "_model_module_version": "1.5.0",
            "_view_count": null,
            "_view_module_version": "1.5.0",
            "box_style": "",
            "layout": "IPY_MODEL_b125c0239c204f2fb760d821ce6007a5",
            "_model_module": "@jupyter-widgets/controls",
            "children": [
              "IPY_MODEL_edc9a37d497142b3b89124083b799441",
              "IPY_MODEL_66140e89f03d47339b15175159c34390",
              "IPY_MODEL_fe0d9bb08e6642f38b0467f5324a64b1"
            ]
          }
        },
        "b125c0239c204f2fb760d821ce6007a5": {
          "model_module": "@jupyter-widgets/base",
          "model_name": "LayoutModel",
          "model_module_version": "1.2.0",
          "state": {
            "_view_name": "LayoutView",
            "grid_template_rows": null,
            "right": null,
            "justify_content": null,
            "_view_module": "@jupyter-widgets/base",
            "overflow": null,
            "_model_module_version": "1.2.0",
            "_view_count": null,
            "flex_flow": null,
            "width": null,
            "min_width": null,
            "border": null,
            "align_items": null,
            "bottom": null,
            "_model_module": "@jupyter-widgets/base",
            "top": null,
            "grid_column": null,
            "overflow_y": null,
            "overflow_x": null,
            "grid_auto_flow": null,
            "grid_area": null,
            "grid_template_columns": null,
            "flex": null,
            "_model_name": "LayoutModel",
            "justify_items": null,
            "grid_row": null,
            "max_height": null,
            "align_content": null,
            "visibility": null,
            "align_self": null,
            "height": null,
            "min_height": null,
            "padding": null,
            "grid_auto_rows": null,
            "grid_gap": null,
            "max_width": null,
            "order": null,
            "_view_module_version": "1.2.0",
            "grid_template_areas": null,
            "object_position": null,
            "object_fit": null,
            "grid_auto_columns": null,
            "margin": null,
            "display": null,
            "left": null
          }
        },
        "edc9a37d497142b3b89124083b799441": {
          "model_module": "@jupyter-widgets/controls",
          "model_name": "HTMLModel",
          "model_module_version": "1.5.0",
          "state": {
            "_view_name": "HTMLView",
            "style": "IPY_MODEL_dc2389772f8c48c5a9e6c9ddf06cf7ae",
            "_dom_classes": [],
            "description": "",
            "_model_name": "HTMLModel",
            "placeholder": "​",
            "_view_module": "@jupyter-widgets/controls",
            "_model_module_version": "1.5.0",
            "value": "Extraction completed...: 100%",
            "_view_count": null,
            "_view_module_version": "1.5.0",
            "description_tooltip": null,
            "_model_module": "@jupyter-widgets/controls",
            "layout": "IPY_MODEL_fc990d862c004337a1e0cdabe8761da7"
          }
        },
        "66140e89f03d47339b15175159c34390": {
          "model_module": "@jupyter-widgets/controls",
          "model_name": "FloatProgressModel",
          "model_module_version": "1.5.0",
          "state": {
            "_view_name": "ProgressView",
            "style": "IPY_MODEL_a7cfe76565774a91b09ccdf33b0bca23",
            "_dom_classes": [],
            "description": "",
            "_model_name": "FloatProgressModel",
            "bar_style": "success",
            "max": 1,
            "_view_module": "@jupyter-widgets/controls",
            "_model_module_version": "1.5.0",
            "value": 1,
            "_view_count": null,
            "_view_module_version": "1.5.0",
            "orientation": "horizontal",
            "min": 0,
            "description_tooltip": null,
            "_model_module": "@jupyter-widgets/controls",
            "layout": "IPY_MODEL_e0102d55c0684b7abea3f0b3335b244b"
          }
        },
        "fe0d9bb08e6642f38b0467f5324a64b1": {
          "model_module": "@jupyter-widgets/controls",
          "model_name": "HTMLModel",
          "model_module_version": "1.5.0",
          "state": {
            "_view_name": "HTMLView",
            "style": "IPY_MODEL_1919ba6c62904d4d99a660c0c0db3858",
            "_dom_classes": [],
            "description": "",
            "_model_name": "HTMLModel",
            "placeholder": "​",
            "_view_module": "@jupyter-widgets/controls",
            "_model_module_version": "1.5.0",
            "value": " 1/1 [00:12&lt;00:00, 12.14s/ file]",
            "_view_count": null,
            "_view_module_version": "1.5.0",
            "description_tooltip": null,
            "_model_module": "@jupyter-widgets/controls",
            "layout": "IPY_MODEL_3c93f138cb5243938d696590d60a6954"
          }
        },
        "dc2389772f8c48c5a9e6c9ddf06cf7ae": {
          "model_module": "@jupyter-widgets/controls",
          "model_name": "DescriptionStyleModel",
          "model_module_version": "1.5.0",
          "state": {
            "_view_name": "StyleView",
            "_model_name": "DescriptionStyleModel",
            "description_width": "",
            "_view_module": "@jupyter-widgets/base",
            "_model_module_version": "1.5.0",
            "_view_count": null,
            "_view_module_version": "1.2.0",
            "_model_module": "@jupyter-widgets/controls"
          }
        },
        "fc990d862c004337a1e0cdabe8761da7": {
          "model_module": "@jupyter-widgets/base",
          "model_name": "LayoutModel",
          "model_module_version": "1.2.0",
          "state": {
            "_view_name": "LayoutView",
            "grid_template_rows": null,
            "right": null,
            "justify_content": null,
            "_view_module": "@jupyter-widgets/base",
            "overflow": null,
            "_model_module_version": "1.2.0",
            "_view_count": null,
            "flex_flow": null,
            "width": null,
            "min_width": null,
            "border": null,
            "align_items": null,
            "bottom": null,
            "_model_module": "@jupyter-widgets/base",
            "top": null,
            "grid_column": null,
            "overflow_y": null,
            "overflow_x": null,
            "grid_auto_flow": null,
            "grid_area": null,
            "grid_template_columns": null,
            "flex": null,
            "_model_name": "LayoutModel",
            "justify_items": null,
            "grid_row": null,
            "max_height": null,
            "align_content": null,
            "visibility": null,
            "align_self": null,
            "height": null,
            "min_height": null,
            "padding": null,
            "grid_auto_rows": null,
            "grid_gap": null,
            "max_width": null,
            "order": null,
            "_view_module_version": "1.2.0",
            "grid_template_areas": null,
            "object_position": null,
            "object_fit": null,
            "grid_auto_columns": null,
            "margin": null,
            "display": null,
            "left": null
          }
        },
        "a7cfe76565774a91b09ccdf33b0bca23": {
          "model_module": "@jupyter-widgets/controls",
          "model_name": "ProgressStyleModel",
          "model_module_version": "1.5.0",
          "state": {
            "_view_name": "StyleView",
            "_model_name": "ProgressStyleModel",
            "description_width": "",
            "_view_module": "@jupyter-widgets/base",
            "_model_module_version": "1.5.0",
            "_view_count": null,
            "_view_module_version": "1.2.0",
            "bar_color": null,
            "_model_module": "@jupyter-widgets/controls"
          }
        },
        "e0102d55c0684b7abea3f0b3335b244b": {
          "model_module": "@jupyter-widgets/base",
          "model_name": "LayoutModel",
          "model_module_version": "1.2.0",
          "state": {
            "_view_name": "LayoutView",
            "grid_template_rows": null,
            "right": null,
            "justify_content": null,
            "_view_module": "@jupyter-widgets/base",
            "overflow": null,
            "_model_module_version": "1.2.0",
            "_view_count": null,
            "flex_flow": null,
            "width": "20px",
            "min_width": null,
            "border": null,
            "align_items": null,
            "bottom": null,
            "_model_module": "@jupyter-widgets/base",
            "top": null,
            "grid_column": null,
            "overflow_y": null,
            "overflow_x": null,
            "grid_auto_flow": null,
            "grid_area": null,
            "grid_template_columns": null,
            "flex": null,
            "_model_name": "LayoutModel",
            "justify_items": null,
            "grid_row": null,
            "max_height": null,
            "align_content": null,
            "visibility": null,
            "align_self": null,
            "height": null,
            "min_height": null,
            "padding": null,
            "grid_auto_rows": null,
            "grid_gap": null,
            "max_width": null,
            "order": null,
            "_view_module_version": "1.2.0",
            "grid_template_areas": null,
            "object_position": null,
            "object_fit": null,
            "grid_auto_columns": null,
            "margin": null,
            "display": null,
            "left": null
          }
        },
        "1919ba6c62904d4d99a660c0c0db3858": {
          "model_module": "@jupyter-widgets/controls",
          "model_name": "DescriptionStyleModel",
          "model_module_version": "1.5.0",
          "state": {
            "_view_name": "StyleView",
            "_model_name": "DescriptionStyleModel",
            "description_width": "",
            "_view_module": "@jupyter-widgets/base",
            "_model_module_version": "1.5.0",
            "_view_count": null,
            "_view_module_version": "1.2.0",
            "_model_module": "@jupyter-widgets/controls"
          }
        },
        "3c93f138cb5243938d696590d60a6954": {
          "model_module": "@jupyter-widgets/base",
          "model_name": "LayoutModel",
          "model_module_version": "1.2.0",
          "state": {
            "_view_name": "LayoutView",
            "grid_template_rows": null,
            "right": null,
            "justify_content": null,
            "_view_module": "@jupyter-widgets/base",
            "overflow": null,
            "_model_module_version": "1.2.0",
            "_view_count": null,
            "flex_flow": null,
            "width": null,
            "min_width": null,
            "border": null,
            "align_items": null,
            "bottom": null,
            "_model_module": "@jupyter-widgets/base",
            "top": null,
            "grid_column": null,
            "overflow_y": null,
            "overflow_x": null,
            "grid_auto_flow": null,
            "grid_area": null,
            "grid_template_columns": null,
            "flex": null,
            "_model_name": "LayoutModel",
            "justify_items": null,
            "grid_row": null,
            "max_height": null,
            "align_content": null,
            "visibility": null,
            "align_self": null,
            "height": null,
            "min_height": null,
            "padding": null,
            "grid_auto_rows": null,
            "grid_gap": null,
            "max_width": null,
            "order": null,
            "_view_module_version": "1.2.0",
            "grid_template_areas": null,
            "object_position": null,
            "object_fit": null,
            "grid_auto_columns": null,
            "margin": null,
            "display": null,
            "left": null
          }
        },
        "3eb5e700c8db40598c816ec357422744": {
          "model_module": "@jupyter-widgets/controls",
          "model_name": "HBoxModel",
          "model_module_version": "1.5.0",
          "state": {
            "_view_name": "HBoxView",
            "_dom_classes": [],
            "_model_name": "HBoxModel",
            "_view_module": "@jupyter-widgets/controls",
            "_model_module_version": "1.5.0",
            "_view_count": null,
            "_view_module_version": "1.5.0",
            "box_style": "",
            "layout": "IPY_MODEL_60b23742cece46949fecd4726678b1e0",
            "_model_module": "@jupyter-widgets/controls",
            "children": [
              "IPY_MODEL_ce2d73ae71f6458b9222430d7c600c73",
              "IPY_MODEL_a79fe1cb7a824ee799ff1f71c9d68c0d",
              "IPY_MODEL_bc070ffaf1bd441a8ba1b7d9fec64a6c"
            ]
          }
        },
        "60b23742cece46949fecd4726678b1e0": {
          "model_module": "@jupyter-widgets/base",
          "model_name": "LayoutModel",
          "model_module_version": "1.2.0",
          "state": {
            "_view_name": "LayoutView",
            "grid_template_rows": null,
            "right": null,
            "justify_content": null,
            "_view_module": "@jupyter-widgets/base",
            "overflow": null,
            "_model_module_version": "1.2.0",
            "_view_count": null,
            "flex_flow": null,
            "width": null,
            "min_width": null,
            "border": null,
            "align_items": null,
            "bottom": null,
            "_model_module": "@jupyter-widgets/base",
            "top": null,
            "grid_column": null,
            "overflow_y": null,
            "overflow_x": null,
            "grid_auto_flow": null,
            "grid_area": null,
            "grid_template_columns": null,
            "flex": null,
            "_model_name": "LayoutModel",
            "justify_items": null,
            "grid_row": null,
            "max_height": null,
            "align_content": null,
            "visibility": null,
            "align_self": null,
            "height": null,
            "min_height": null,
            "padding": null,
            "grid_auto_rows": null,
            "grid_gap": null,
            "max_width": null,
            "order": null,
            "_view_module_version": "1.2.0",
            "grid_template_areas": null,
            "object_position": null,
            "object_fit": null,
            "grid_auto_columns": null,
            "margin": null,
            "display": null,
            "left": null
          }
        },
        "ce2d73ae71f6458b9222430d7c600c73": {
          "model_module": "@jupyter-widgets/controls",
          "model_name": "HTMLModel",
          "model_module_version": "1.5.0",
          "state": {
            "_view_name": "HTMLView",
            "style": "IPY_MODEL_96d9f525c6104defaba2ea32dfc8e992",
            "_dom_classes": [],
            "description": "",
            "_model_name": "HTMLModel",
            "placeholder": "​",
            "_view_module": "@jupyter-widgets/controls",
            "_model_module_version": "1.5.0",
            "value": "Generating splits...: 100%",
            "_view_count": null,
            "_view_module_version": "1.5.0",
            "description_tooltip": null,
            "_model_module": "@jupyter-widgets/controls",
            "layout": "IPY_MODEL_ddc1f72dfa4b4e62926094c53aa44c43"
          }
        },
        "a79fe1cb7a824ee799ff1f71c9d68c0d": {
          "model_module": "@jupyter-widgets/controls",
          "model_name": "FloatProgressModel",
          "model_module_version": "1.5.0",
          "state": {
            "_view_name": "ProgressView",
            "style": "IPY_MODEL_04391d02a46e4413a958c68fc49e948e",
            "_dom_classes": [],
            "description": "",
            "_model_name": "FloatProgressModel",
            "bar_style": "",
            "max": 3,
            "_view_module": "@jupyter-widgets/controls",
            "_model_module_version": "1.5.0",
            "value": 3,
            "_view_count": null,
            "_view_module_version": "1.5.0",
            "orientation": "horizontal",
            "min": 0,
            "description_tooltip": null,
            "_model_module": "@jupyter-widgets/controls",
            "layout": "IPY_MODEL_4910888e89824445ad2629732933e5a7"
          }
        },
        "bc070ffaf1bd441a8ba1b7d9fec64a6c": {
          "model_module": "@jupyter-widgets/controls",
          "model_name": "HTMLModel",
          "model_module_version": "1.5.0",
          "state": {
            "_view_name": "HTMLView",
            "style": "IPY_MODEL_feaadd88d2df4344abf0d606303eed8a",
            "_dom_classes": [],
            "description": "",
            "_model_name": "HTMLModel",
            "placeholder": "​",
            "_view_module": "@jupyter-widgets/controls",
            "_model_module_version": "1.5.0",
            "value": " 3/3 [00:14&lt;00:00,  3.36s/ splits]",
            "_view_count": null,
            "_view_module_version": "1.5.0",
            "description_tooltip": null,
            "_model_module": "@jupyter-widgets/controls",
            "layout": "IPY_MODEL_ac47bee06b714480a54a3d6c307d238c"
          }
        },
        "96d9f525c6104defaba2ea32dfc8e992": {
          "model_module": "@jupyter-widgets/controls",
          "model_name": "DescriptionStyleModel",
          "model_module_version": "1.5.0",
          "state": {
            "_view_name": "StyleView",
            "_model_name": "DescriptionStyleModel",
            "description_width": "",
            "_view_module": "@jupyter-widgets/base",
            "_model_module_version": "1.5.0",
            "_view_count": null,
            "_view_module_version": "1.2.0",
            "_model_module": "@jupyter-widgets/controls"
          }
        },
        "ddc1f72dfa4b4e62926094c53aa44c43": {
          "model_module": "@jupyter-widgets/base",
          "model_name": "LayoutModel",
          "model_module_version": "1.2.0",
          "state": {
            "_view_name": "LayoutView",
            "grid_template_rows": null,
            "right": null,
            "justify_content": null,
            "_view_module": "@jupyter-widgets/base",
            "overflow": null,
            "_model_module_version": "1.2.0",
            "_view_count": null,
            "flex_flow": null,
            "width": null,
            "min_width": null,
            "border": null,
            "align_items": null,
            "bottom": null,
            "_model_module": "@jupyter-widgets/base",
            "top": null,
            "grid_column": null,
            "overflow_y": null,
            "overflow_x": null,
            "grid_auto_flow": null,
            "grid_area": null,
            "grid_template_columns": null,
            "flex": null,
            "_model_name": "LayoutModel",
            "justify_items": null,
            "grid_row": null,
            "max_height": null,
            "align_content": null,
            "visibility": null,
            "align_self": null,
            "height": null,
            "min_height": null,
            "padding": null,
            "grid_auto_rows": null,
            "grid_gap": null,
            "max_width": null,
            "order": null,
            "_view_module_version": "1.2.0",
            "grid_template_areas": null,
            "object_position": null,
            "object_fit": null,
            "grid_auto_columns": null,
            "margin": null,
            "display": null,
            "left": null
          }
        },
        "04391d02a46e4413a958c68fc49e948e": {
          "model_module": "@jupyter-widgets/controls",
          "model_name": "ProgressStyleModel",
          "model_module_version": "1.5.0",
          "state": {
            "_view_name": "StyleView",
            "_model_name": "ProgressStyleModel",
            "description_width": "",
            "_view_module": "@jupyter-widgets/base",
            "_model_module_version": "1.5.0",
            "_view_count": null,
            "_view_module_version": "1.2.0",
            "bar_color": null,
            "_model_module": "@jupyter-widgets/controls"
          }
        },
        "4910888e89824445ad2629732933e5a7": {
          "model_module": "@jupyter-widgets/base",
          "model_name": "LayoutModel",
          "model_module_version": "1.2.0",
          "state": {
            "_view_name": "LayoutView",
            "grid_template_rows": null,
            "right": null,
            "justify_content": null,
            "_view_module": "@jupyter-widgets/base",
            "overflow": null,
            "_model_module_version": "1.2.0",
            "_view_count": null,
            "flex_flow": null,
            "width": null,
            "min_width": null,
            "border": null,
            "align_items": null,
            "bottom": null,
            "_model_module": "@jupyter-widgets/base",
            "top": null,
            "grid_column": null,
            "overflow_y": null,
            "overflow_x": null,
            "grid_auto_flow": null,
            "grid_area": null,
            "grid_template_columns": null,
            "flex": null,
            "_model_name": "LayoutModel",
            "justify_items": null,
            "grid_row": null,
            "max_height": null,
            "align_content": null,
            "visibility": null,
            "align_self": null,
            "height": null,
            "min_height": null,
            "padding": null,
            "grid_auto_rows": null,
            "grid_gap": null,
            "max_width": null,
            "order": null,
            "_view_module_version": "1.2.0",
            "grid_template_areas": null,
            "object_position": null,
            "object_fit": null,
            "grid_auto_columns": null,
            "margin": null,
            "display": null,
            "left": null
          }
        },
        "feaadd88d2df4344abf0d606303eed8a": {
          "model_module": "@jupyter-widgets/controls",
          "model_name": "DescriptionStyleModel",
          "model_module_version": "1.5.0",
          "state": {
            "_view_name": "StyleView",
            "_model_name": "DescriptionStyleModel",
            "description_width": "",
            "_view_module": "@jupyter-widgets/base",
            "_model_module_version": "1.5.0",
            "_view_count": null,
            "_view_module_version": "1.2.0",
            "_model_module": "@jupyter-widgets/controls"
          }
        },
        "ac47bee06b714480a54a3d6c307d238c": {
          "model_module": "@jupyter-widgets/base",
          "model_name": "LayoutModel",
          "model_module_version": "1.2.0",
          "state": {
            "_view_name": "LayoutView",
            "grid_template_rows": null,
            "right": null,
            "justify_content": null,
            "_view_module": "@jupyter-widgets/base",
            "overflow": null,
            "_model_module_version": "1.2.0",
            "_view_count": null,
            "flex_flow": null,
            "width": null,
            "min_width": null,
            "border": null,
            "align_items": null,
            "bottom": null,
            "_model_module": "@jupyter-widgets/base",
            "top": null,
            "grid_column": null,
            "overflow_y": null,
            "overflow_x": null,
            "grid_auto_flow": null,
            "grid_area": null,
            "grid_template_columns": null,
            "flex": null,
            "_model_name": "LayoutModel",
            "justify_items": null,
            "grid_row": null,
            "max_height": null,
            "align_content": null,
            "visibility": null,
            "align_self": null,
            "height": null,
            "min_height": null,
            "padding": null,
            "grid_auto_rows": null,
            "grid_gap": null,
            "max_width": null,
            "order": null,
            "_view_module_version": "1.2.0",
            "grid_template_areas": null,
            "object_position": null,
            "object_fit": null,
            "grid_auto_columns": null,
            "margin": null,
            "display": null,
            "left": null
          }
        },
        "6825bfad37a84bd89b213736f5c9bd28": {
          "model_module": "@jupyter-widgets/controls",
          "model_name": "HBoxModel",
          "model_module_version": "1.5.0",
          "state": {
            "_view_name": "HBoxView",
            "_dom_classes": [],
            "_model_name": "HBoxModel",
            "_view_module": "@jupyter-widgets/controls",
            "_model_module_version": "1.5.0",
            "_view_count": null,
            "_view_module_version": "1.5.0",
            "box_style": "",
            "layout": "IPY_MODEL_c8457950954249a693330e89bcc9ea05",
            "_model_module": "@jupyter-widgets/controls",
            "children": [
              "IPY_MODEL_a39c5baaba2e499a81fd787378f7c454",
              "IPY_MODEL_bb83300d42664246a03b99fd6d6e5a7e",
              "IPY_MODEL_cdf864e2e314448f8c262fb55f233491"
            ]
          }
        },
        "c8457950954249a693330e89bcc9ea05": {
          "model_module": "@jupyter-widgets/base",
          "model_name": "LayoutModel",
          "model_module_version": "1.2.0",
          "state": {
            "_view_name": "LayoutView",
            "grid_template_rows": null,
            "right": null,
            "justify_content": null,
            "_view_module": "@jupyter-widgets/base",
            "overflow": null,
            "_model_module_version": "1.2.0",
            "_view_count": null,
            "flex_flow": null,
            "width": null,
            "min_width": null,
            "border": null,
            "align_items": null,
            "bottom": null,
            "_model_module": "@jupyter-widgets/base",
            "top": null,
            "grid_column": null,
            "overflow_y": null,
            "overflow_x": null,
            "grid_auto_flow": null,
            "grid_area": null,
            "grid_template_columns": null,
            "flex": null,
            "_model_name": "LayoutModel",
            "justify_items": null,
            "grid_row": null,
            "max_height": null,
            "align_content": null,
            "visibility": null,
            "align_self": null,
            "height": null,
            "min_height": null,
            "padding": null,
            "grid_auto_rows": null,
            "grid_gap": null,
            "max_width": null,
            "order": null,
            "_view_module_version": "1.2.0",
            "grid_template_areas": null,
            "object_position": null,
            "object_fit": null,
            "grid_auto_columns": null,
            "margin": null,
            "display": null,
            "left": null
          }
        },
        "a39c5baaba2e499a81fd787378f7c454": {
          "model_module": "@jupyter-widgets/controls",
          "model_name": "HTMLModel",
          "model_module_version": "1.5.0",
          "state": {
            "_view_name": "HTMLView",
            "style": "IPY_MODEL_a3e998041c7142c0b1f4bd7546892206",
            "_dom_classes": [],
            "description": "",
            "_model_name": "HTMLModel",
            "placeholder": "​",
            "_view_module": "@jupyter-widgets/controls",
            "_model_module_version": "1.5.0",
            "value": "Generating train examples...:  99%",
            "_view_count": null,
            "_view_module_version": "1.5.0",
            "description_tooltip": null,
            "_model_module": "@jupyter-widgets/controls",
            "layout": "IPY_MODEL_a92c93a4ec484ff8883a6f75265bbbee"
          }
        },
        "bb83300d42664246a03b99fd6d6e5a7e": {
          "model_module": "@jupyter-widgets/controls",
          "model_name": "FloatProgressModel",
          "model_module_version": "1.5.0",
          "state": {
            "_view_name": "ProgressView",
            "style": "IPY_MODEL_dde2292323944c7f85617f6ae66e1372",
            "_dom_classes": [],
            "description": "",
            "_model_name": "FloatProgressModel",
            "bar_style": "",
            "max": 51785,
            "_view_module": "@jupyter-widgets/controls",
            "_model_module_version": "1.5.0",
            "value": 51785,
            "_view_count": null,
            "_view_module_version": "1.5.0",
            "orientation": "horizontal",
            "min": 0,
            "description_tooltip": null,
            "_model_module": "@jupyter-widgets/controls",
            "layout": "IPY_MODEL_12a398b0c44d4212a68c21b0c108ff5a"
          }
        },
        "cdf864e2e314448f8c262fb55f233491": {
          "model_module": "@jupyter-widgets/controls",
          "model_name": "HTMLModel",
          "model_module_version": "1.5.0",
          "state": {
            "_view_name": "HTMLView",
            "style": "IPY_MODEL_1062847c4d7b4d638f3be92c91fcc097",
            "_dom_classes": [],
            "description": "",
            "_model_name": "HTMLModel",
            "placeholder": "​",
            "_view_module": "@jupyter-widgets/controls",
            "_model_module_version": "1.5.0",
            "value": " 51364/51785 [00:12&lt;00:00, 4121.16 examples/s]",
            "_view_count": null,
            "_view_module_version": "1.5.0",
            "description_tooltip": null,
            "_model_module": "@jupyter-widgets/controls",
            "layout": "IPY_MODEL_5eb38eb53cda4d6eb35bce58056a1eb2"
          }
        },
        "a3e998041c7142c0b1f4bd7546892206": {
          "model_module": "@jupyter-widgets/controls",
          "model_name": "DescriptionStyleModel",
          "model_module_version": "1.5.0",
          "state": {
            "_view_name": "StyleView",
            "_model_name": "DescriptionStyleModel",
            "description_width": "",
            "_view_module": "@jupyter-widgets/base",
            "_model_module_version": "1.5.0",
            "_view_count": null,
            "_view_module_version": "1.2.0",
            "_model_module": "@jupyter-widgets/controls"
          }
        },
        "a92c93a4ec484ff8883a6f75265bbbee": {
          "model_module": "@jupyter-widgets/base",
          "model_name": "LayoutModel",
          "model_module_version": "1.2.0",
          "state": {
            "_view_name": "LayoutView",
            "grid_template_rows": null,
            "right": null,
            "justify_content": null,
            "_view_module": "@jupyter-widgets/base",
            "overflow": null,
            "_model_module_version": "1.2.0",
            "_view_count": null,
            "flex_flow": null,
            "width": null,
            "min_width": null,
            "border": null,
            "align_items": null,
            "bottom": null,
            "_model_module": "@jupyter-widgets/base",
            "top": null,
            "grid_column": null,
            "overflow_y": null,
            "overflow_x": null,
            "grid_auto_flow": null,
            "grid_area": null,
            "grid_template_columns": null,
            "flex": null,
            "_model_name": "LayoutModel",
            "justify_items": null,
            "grid_row": null,
            "max_height": null,
            "align_content": null,
            "visibility": null,
            "align_self": null,
            "height": null,
            "min_height": null,
            "padding": null,
            "grid_auto_rows": null,
            "grid_gap": null,
            "max_width": null,
            "order": null,
            "_view_module_version": "1.2.0",
            "grid_template_areas": null,
            "object_position": null,
            "object_fit": null,
            "grid_auto_columns": null,
            "margin": null,
            "display": null,
            "left": null
          }
        },
        "dde2292323944c7f85617f6ae66e1372": {
          "model_module": "@jupyter-widgets/controls",
          "model_name": "ProgressStyleModel",
          "model_module_version": "1.5.0",
          "state": {
            "_view_name": "StyleView",
            "_model_name": "ProgressStyleModel",
            "description_width": "",
            "_view_module": "@jupyter-widgets/base",
            "_model_module_version": "1.5.0",
            "_view_count": null,
            "_view_module_version": "1.2.0",
            "bar_color": null,
            "_model_module": "@jupyter-widgets/controls"
          }
        },
        "12a398b0c44d4212a68c21b0c108ff5a": {
          "model_module": "@jupyter-widgets/base",
          "model_name": "LayoutModel",
          "model_module_version": "1.2.0",
          "state": {
            "_view_name": "LayoutView",
            "grid_template_rows": null,
            "right": null,
            "justify_content": null,
            "_view_module": "@jupyter-widgets/base",
            "overflow": null,
            "_model_module_version": "1.2.0",
            "_view_count": null,
            "flex_flow": null,
            "width": null,
            "min_width": null,
            "border": null,
            "align_items": null,
            "bottom": null,
            "_model_module": "@jupyter-widgets/base",
            "top": null,
            "grid_column": null,
            "overflow_y": null,
            "overflow_x": null,
            "grid_auto_flow": null,
            "grid_area": null,
            "grid_template_columns": null,
            "flex": null,
            "_model_name": "LayoutModel",
            "justify_items": null,
            "grid_row": null,
            "max_height": null,
            "align_content": null,
            "visibility": null,
            "align_self": null,
            "height": null,
            "min_height": null,
            "padding": null,
            "grid_auto_rows": null,
            "grid_gap": null,
            "max_width": null,
            "order": null,
            "_view_module_version": "1.2.0",
            "grid_template_areas": null,
            "object_position": null,
            "object_fit": null,
            "grid_auto_columns": null,
            "margin": null,
            "display": null,
            "left": null
          }
        },
        "1062847c4d7b4d638f3be92c91fcc097": {
          "model_module": "@jupyter-widgets/controls",
          "model_name": "DescriptionStyleModel",
          "model_module_version": "1.5.0",
          "state": {
            "_view_name": "StyleView",
            "_model_name": "DescriptionStyleModel",
            "description_width": "",
            "_view_module": "@jupyter-widgets/base",
            "_model_module_version": "1.5.0",
            "_view_count": null,
            "_view_module_version": "1.2.0",
            "_model_module": "@jupyter-widgets/controls"
          }
        },
        "5eb38eb53cda4d6eb35bce58056a1eb2": {
          "model_module": "@jupyter-widgets/base",
          "model_name": "LayoutModel",
          "model_module_version": "1.2.0",
          "state": {
            "_view_name": "LayoutView",
            "grid_template_rows": null,
            "right": null,
            "justify_content": null,
            "_view_module": "@jupyter-widgets/base",
            "overflow": null,
            "_model_module_version": "1.2.0",
            "_view_count": null,
            "flex_flow": null,
            "width": null,
            "min_width": null,
            "border": null,
            "align_items": null,
            "bottom": null,
            "_model_module": "@jupyter-widgets/base",
            "top": null,
            "grid_column": null,
            "overflow_y": null,
            "overflow_x": null,
            "grid_auto_flow": null,
            "grid_area": null,
            "grid_template_columns": null,
            "flex": null,
            "_model_name": "LayoutModel",
            "justify_items": null,
            "grid_row": null,
            "max_height": null,
            "align_content": null,
            "visibility": null,
            "align_self": null,
            "height": null,
            "min_height": null,
            "padding": null,
            "grid_auto_rows": null,
            "grid_gap": null,
            "max_width": null,
            "order": null,
            "_view_module_version": "1.2.0",
            "grid_template_areas": null,
            "object_position": null,
            "object_fit": null,
            "grid_auto_columns": null,
            "margin": null,
            "display": null,
            "left": null
          }
        },
        "5073664fe777405fa4b9bf6af3e9ab0d": {
          "model_module": "@jupyter-widgets/controls",
          "model_name": "HBoxModel",
          "model_module_version": "1.5.0",
          "state": {
            "_view_name": "HBoxView",
            "_dom_classes": [],
            "_model_name": "HBoxModel",
            "_view_module": "@jupyter-widgets/controls",
            "_model_module_version": "1.5.0",
            "_view_count": null,
            "_view_module_version": "1.5.0",
            "box_style": "",
            "layout": "IPY_MODEL_2348c70e5d9f4669abced4d3276ec53c",
            "_model_module": "@jupyter-widgets/controls",
            "children": [
              "IPY_MODEL_8774bbe1419842768e4e094871431257",
              "IPY_MODEL_c90a328cef54481b9988606f2d697455",
              "IPY_MODEL_c9748ba8f3ae46a6ae20f750ac1d9d2a"
            ]
          }
        },
        "2348c70e5d9f4669abced4d3276ec53c": {
          "model_module": "@jupyter-widgets/base",
          "model_name": "LayoutModel",
          "model_module_version": "1.2.0",
          "state": {
            "_view_name": "LayoutView",
            "grid_template_rows": null,
            "right": null,
            "justify_content": null,
            "_view_module": "@jupyter-widgets/base",
            "overflow": null,
            "_model_module_version": "1.2.0",
            "_view_count": null,
            "flex_flow": null,
            "width": null,
            "min_width": null,
            "border": null,
            "align_items": null,
            "bottom": null,
            "_model_module": "@jupyter-widgets/base",
            "top": null,
            "grid_column": null,
            "overflow_y": null,
            "overflow_x": null,
            "grid_auto_flow": null,
            "grid_area": null,
            "grid_template_columns": null,
            "flex": null,
            "_model_name": "LayoutModel",
            "justify_items": null,
            "grid_row": null,
            "max_height": null,
            "align_content": null,
            "visibility": null,
            "align_self": null,
            "height": null,
            "min_height": null,
            "padding": null,
            "grid_auto_rows": null,
            "grid_gap": null,
            "max_width": null,
            "order": null,
            "_view_module_version": "1.2.0",
            "grid_template_areas": null,
            "object_position": null,
            "object_fit": null,
            "grid_auto_columns": null,
            "margin": null,
            "display": null,
            "left": null
          }
        },
        "8774bbe1419842768e4e094871431257": {
          "model_module": "@jupyter-widgets/controls",
          "model_name": "HTMLModel",
          "model_module_version": "1.5.0",
          "state": {
            "_view_name": "HTMLView",
            "style": "IPY_MODEL_c6d5a6948f2c4922b8d4b105d4bbbb7a",
            "_dom_classes": [],
            "description": "",
            "_model_name": "HTMLModel",
            "placeholder": "​",
            "_view_module": "@jupyter-widgets/controls",
            "_model_module_version": "1.5.0",
            "value": "Shuffling ~/tensorflow_datasets/ted_hrlr_translate/pt_to_en/1.0.0.incomplete4JJGFB/ted_hrlr_translate-train.tfrecord*...:  75%",
            "_view_count": null,
            "_view_module_version": "1.5.0",
            "description_tooltip": null,
            "_model_module": "@jupyter-widgets/controls",
            "layout": "IPY_MODEL_b1c6b84cabdd4b84a605df2efe656404"
          }
        },
        "c90a328cef54481b9988606f2d697455": {
          "model_module": "@jupyter-widgets/controls",
          "model_name": "FloatProgressModel",
          "model_module_version": "1.5.0",
          "state": {
            "_view_name": "ProgressView",
            "style": "IPY_MODEL_0f942ff318ef49e98aeaa88615e0ed08",
            "_dom_classes": [],
            "description": "",
            "_model_name": "FloatProgressModel",
            "bar_style": "",
            "max": 51785,
            "_view_module": "@jupyter-widgets/controls",
            "_model_module_version": "1.5.0",
            "value": 51785,
            "_view_count": null,
            "_view_module_version": "1.5.0",
            "orientation": "horizontal",
            "min": 0,
            "description_tooltip": null,
            "_model_module": "@jupyter-widgets/controls",
            "layout": "IPY_MODEL_df9de56aa0ae4cc09b8bc8eea896f6fc"
          }
        },
        "c9748ba8f3ae46a6ae20f750ac1d9d2a": {
          "model_module": "@jupyter-widgets/controls",
          "model_name": "HTMLModel",
          "model_module_version": "1.5.0",
          "state": {
            "_view_name": "HTMLView",
            "style": "IPY_MODEL_be7d8349ddc84bf386591a64b875f6ea",
            "_dom_classes": [],
            "description": "",
            "_model_name": "HTMLModel",
            "placeholder": "​",
            "_view_module": "@jupyter-widgets/controls",
            "_model_module_version": "1.5.0",
            "value": " 38950/51785 [00:00&lt;00:00, 117000.84 examples/s]",
            "_view_count": null,
            "_view_module_version": "1.5.0",
            "description_tooltip": null,
            "_model_module": "@jupyter-widgets/controls",
            "layout": "IPY_MODEL_27e269fa592a4ceca697d25eee0350b9"
          }
        },
        "c6d5a6948f2c4922b8d4b105d4bbbb7a": {
          "model_module": "@jupyter-widgets/controls",
          "model_name": "DescriptionStyleModel",
          "model_module_version": "1.5.0",
          "state": {
            "_view_name": "StyleView",
            "_model_name": "DescriptionStyleModel",
            "description_width": "",
            "_view_module": "@jupyter-widgets/base",
            "_model_module_version": "1.5.0",
            "_view_count": null,
            "_view_module_version": "1.2.0",
            "_model_module": "@jupyter-widgets/controls"
          }
        },
        "b1c6b84cabdd4b84a605df2efe656404": {
          "model_module": "@jupyter-widgets/base",
          "model_name": "LayoutModel",
          "model_module_version": "1.2.0",
          "state": {
            "_view_name": "LayoutView",
            "grid_template_rows": null,
            "right": null,
            "justify_content": null,
            "_view_module": "@jupyter-widgets/base",
            "overflow": null,
            "_model_module_version": "1.2.0",
            "_view_count": null,
            "flex_flow": null,
            "width": null,
            "min_width": null,
            "border": null,
            "align_items": null,
            "bottom": null,
            "_model_module": "@jupyter-widgets/base",
            "top": null,
            "grid_column": null,
            "overflow_y": null,
            "overflow_x": null,
            "grid_auto_flow": null,
            "grid_area": null,
            "grid_template_columns": null,
            "flex": null,
            "_model_name": "LayoutModel",
            "justify_items": null,
            "grid_row": null,
            "max_height": null,
            "align_content": null,
            "visibility": null,
            "align_self": null,
            "height": null,
            "min_height": null,
            "padding": null,
            "grid_auto_rows": null,
            "grid_gap": null,
            "max_width": null,
            "order": null,
            "_view_module_version": "1.2.0",
            "grid_template_areas": null,
            "object_position": null,
            "object_fit": null,
            "grid_auto_columns": null,
            "margin": null,
            "display": null,
            "left": null
          }
        },
        "0f942ff318ef49e98aeaa88615e0ed08": {
          "model_module": "@jupyter-widgets/controls",
          "model_name": "ProgressStyleModel",
          "model_module_version": "1.5.0",
          "state": {
            "_view_name": "StyleView",
            "_model_name": "ProgressStyleModel",
            "description_width": "",
            "_view_module": "@jupyter-widgets/base",
            "_model_module_version": "1.5.0",
            "_view_count": null,
            "_view_module_version": "1.2.0",
            "bar_color": null,
            "_model_module": "@jupyter-widgets/controls"
          }
        },
        "df9de56aa0ae4cc09b8bc8eea896f6fc": {
          "model_module": "@jupyter-widgets/base",
          "model_name": "LayoutModel",
          "model_module_version": "1.2.0",
          "state": {
            "_view_name": "LayoutView",
            "grid_template_rows": null,
            "right": null,
            "justify_content": null,
            "_view_module": "@jupyter-widgets/base",
            "overflow": null,
            "_model_module_version": "1.2.0",
            "_view_count": null,
            "flex_flow": null,
            "width": null,
            "min_width": null,
            "border": null,
            "align_items": null,
            "bottom": null,
            "_model_module": "@jupyter-widgets/base",
            "top": null,
            "grid_column": null,
            "overflow_y": null,
            "overflow_x": null,
            "grid_auto_flow": null,
            "grid_area": null,
            "grid_template_columns": null,
            "flex": null,
            "_model_name": "LayoutModel",
            "justify_items": null,
            "grid_row": null,
            "max_height": null,
            "align_content": null,
            "visibility": null,
            "align_self": null,
            "height": null,
            "min_height": null,
            "padding": null,
            "grid_auto_rows": null,
            "grid_gap": null,
            "max_width": null,
            "order": null,
            "_view_module_version": "1.2.0",
            "grid_template_areas": null,
            "object_position": null,
            "object_fit": null,
            "grid_auto_columns": null,
            "margin": null,
            "display": null,
            "left": null
          }
        },
        "be7d8349ddc84bf386591a64b875f6ea": {
          "model_module": "@jupyter-widgets/controls",
          "model_name": "DescriptionStyleModel",
          "model_module_version": "1.5.0",
          "state": {
            "_view_name": "StyleView",
            "_model_name": "DescriptionStyleModel",
            "description_width": "",
            "_view_module": "@jupyter-widgets/base",
            "_model_module_version": "1.5.0",
            "_view_count": null,
            "_view_module_version": "1.2.0",
            "_model_module": "@jupyter-widgets/controls"
          }
        },
        "27e269fa592a4ceca697d25eee0350b9": {
          "model_module": "@jupyter-widgets/base",
          "model_name": "LayoutModel",
          "model_module_version": "1.2.0",
          "state": {
            "_view_name": "LayoutView",
            "grid_template_rows": null,
            "right": null,
            "justify_content": null,
            "_view_module": "@jupyter-widgets/base",
            "overflow": null,
            "_model_module_version": "1.2.0",
            "_view_count": null,
            "flex_flow": null,
            "width": null,
            "min_width": null,
            "border": null,
            "align_items": null,
            "bottom": null,
            "_model_module": "@jupyter-widgets/base",
            "top": null,
            "grid_column": null,
            "overflow_y": null,
            "overflow_x": null,
            "grid_auto_flow": null,
            "grid_area": null,
            "grid_template_columns": null,
            "flex": null,
            "_model_name": "LayoutModel",
            "justify_items": null,
            "grid_row": null,
            "max_height": null,
            "align_content": null,
            "visibility": null,
            "align_self": null,
            "height": null,
            "min_height": null,
            "padding": null,
            "grid_auto_rows": null,
            "grid_gap": null,
            "max_width": null,
            "order": null,
            "_view_module_version": "1.2.0",
            "grid_template_areas": null,
            "object_position": null,
            "object_fit": null,
            "grid_auto_columns": null,
            "margin": null,
            "display": null,
            "left": null
          }
        },
        "8c8e3aed40064bc08fafc65f2f7269a1": {
          "model_module": "@jupyter-widgets/controls",
          "model_name": "HBoxModel",
          "model_module_version": "1.5.0",
          "state": {
            "_view_name": "HBoxView",
            "_dom_classes": [],
            "_model_name": "HBoxModel",
            "_view_module": "@jupyter-widgets/controls",
            "_model_module_version": "1.5.0",
            "_view_count": null,
            "_view_module_version": "1.5.0",
            "box_style": "",
            "layout": "IPY_MODEL_f9c3990fa1a04cf3a3b022faf1445b8b",
            "_model_module": "@jupyter-widgets/controls",
            "children": [
              "IPY_MODEL_e20a81c6dd06411e801f80f0055eb221",
              "IPY_MODEL_3abc9957dc1f4d618564eb738012942c",
              "IPY_MODEL_d34160b7d05d49729a527f3664713a7f"
            ]
          }
        },
        "f9c3990fa1a04cf3a3b022faf1445b8b": {
          "model_module": "@jupyter-widgets/base",
          "model_name": "LayoutModel",
          "model_module_version": "1.2.0",
          "state": {
            "_view_name": "LayoutView",
            "grid_template_rows": null,
            "right": null,
            "justify_content": null,
            "_view_module": "@jupyter-widgets/base",
            "overflow": null,
            "_model_module_version": "1.2.0",
            "_view_count": null,
            "flex_flow": null,
            "width": null,
            "min_width": null,
            "border": null,
            "align_items": null,
            "bottom": null,
            "_model_module": "@jupyter-widgets/base",
            "top": null,
            "grid_column": null,
            "overflow_y": null,
            "overflow_x": null,
            "grid_auto_flow": null,
            "grid_area": null,
            "grid_template_columns": null,
            "flex": null,
            "_model_name": "LayoutModel",
            "justify_items": null,
            "grid_row": null,
            "max_height": null,
            "align_content": null,
            "visibility": null,
            "align_self": null,
            "height": null,
            "min_height": null,
            "padding": null,
            "grid_auto_rows": null,
            "grid_gap": null,
            "max_width": null,
            "order": null,
            "_view_module_version": "1.2.0",
            "grid_template_areas": null,
            "object_position": null,
            "object_fit": null,
            "grid_auto_columns": null,
            "margin": null,
            "display": null,
            "left": null
          }
        },
        "e20a81c6dd06411e801f80f0055eb221": {
          "model_module": "@jupyter-widgets/controls",
          "model_name": "HTMLModel",
          "model_module_version": "1.5.0",
          "state": {
            "_view_name": "HTMLView",
            "style": "IPY_MODEL_e08f63bd46be4ee3bd3bae064e573f74",
            "_dom_classes": [],
            "description": "",
            "_model_name": "HTMLModel",
            "placeholder": "​",
            "_view_module": "@jupyter-widgets/controls",
            "_model_module_version": "1.5.0",
            "value": "Generating validation examples...:  60%",
            "_view_count": null,
            "_view_module_version": "1.5.0",
            "description_tooltip": null,
            "_model_module": "@jupyter-widgets/controls",
            "layout": "IPY_MODEL_1a765a25c17a4307a2c2ba9e24471e76"
          }
        },
        "3abc9957dc1f4d618564eb738012942c": {
          "model_module": "@jupyter-widgets/controls",
          "model_name": "FloatProgressModel",
          "model_module_version": "1.5.0",
          "state": {
            "_view_name": "ProgressView",
            "style": "IPY_MODEL_c7a4c4a2930248db8f663e552d59333f",
            "_dom_classes": [],
            "description": "",
            "_model_name": "FloatProgressModel",
            "bar_style": "",
            "max": 1193,
            "_view_module": "@jupyter-widgets/controls",
            "_model_module_version": "1.5.0",
            "value": 1193,
            "_view_count": null,
            "_view_module_version": "1.5.0",
            "orientation": "horizontal",
            "min": 0,
            "description_tooltip": null,
            "_model_module": "@jupyter-widgets/controls",
            "layout": "IPY_MODEL_431fb1711ef64e9099c577e5d85d68df"
          }
        },
        "d34160b7d05d49729a527f3664713a7f": {
          "model_module": "@jupyter-widgets/controls",
          "model_name": "HTMLModel",
          "model_module_version": "1.5.0",
          "state": {
            "_view_name": "HTMLView",
            "style": "IPY_MODEL_83ece46b92db488aa3786470d775b685",
            "_dom_classes": [],
            "description": "",
            "_model_name": "HTMLModel",
            "placeholder": "​",
            "_view_module": "@jupyter-widgets/controls",
            "_model_module_version": "1.5.0",
            "value": " 721/1193 [00:00&lt;00:00, 4084.94 examples/s]",
            "_view_count": null,
            "_view_module_version": "1.5.0",
            "description_tooltip": null,
            "_model_module": "@jupyter-widgets/controls",
            "layout": "IPY_MODEL_e6f5b2392f954e89a0c3e4e8c5226a1d"
          }
        },
        "e08f63bd46be4ee3bd3bae064e573f74": {
          "model_module": "@jupyter-widgets/controls",
          "model_name": "DescriptionStyleModel",
          "model_module_version": "1.5.0",
          "state": {
            "_view_name": "StyleView",
            "_model_name": "DescriptionStyleModel",
            "description_width": "",
            "_view_module": "@jupyter-widgets/base",
            "_model_module_version": "1.5.0",
            "_view_count": null,
            "_view_module_version": "1.2.0",
            "_model_module": "@jupyter-widgets/controls"
          }
        },
        "1a765a25c17a4307a2c2ba9e24471e76": {
          "model_module": "@jupyter-widgets/base",
          "model_name": "LayoutModel",
          "model_module_version": "1.2.0",
          "state": {
            "_view_name": "LayoutView",
            "grid_template_rows": null,
            "right": null,
            "justify_content": null,
            "_view_module": "@jupyter-widgets/base",
            "overflow": null,
            "_model_module_version": "1.2.0",
            "_view_count": null,
            "flex_flow": null,
            "width": null,
            "min_width": null,
            "border": null,
            "align_items": null,
            "bottom": null,
            "_model_module": "@jupyter-widgets/base",
            "top": null,
            "grid_column": null,
            "overflow_y": null,
            "overflow_x": null,
            "grid_auto_flow": null,
            "grid_area": null,
            "grid_template_columns": null,
            "flex": null,
            "_model_name": "LayoutModel",
            "justify_items": null,
            "grid_row": null,
            "max_height": null,
            "align_content": null,
            "visibility": null,
            "align_self": null,
            "height": null,
            "min_height": null,
            "padding": null,
            "grid_auto_rows": null,
            "grid_gap": null,
            "max_width": null,
            "order": null,
            "_view_module_version": "1.2.0",
            "grid_template_areas": null,
            "object_position": null,
            "object_fit": null,
            "grid_auto_columns": null,
            "margin": null,
            "display": null,
            "left": null
          }
        },
        "c7a4c4a2930248db8f663e552d59333f": {
          "model_module": "@jupyter-widgets/controls",
          "model_name": "ProgressStyleModel",
          "model_module_version": "1.5.0",
          "state": {
            "_view_name": "StyleView",
            "_model_name": "ProgressStyleModel",
            "description_width": "",
            "_view_module": "@jupyter-widgets/base",
            "_model_module_version": "1.5.0",
            "_view_count": null,
            "_view_module_version": "1.2.0",
            "bar_color": null,
            "_model_module": "@jupyter-widgets/controls"
          }
        },
        "431fb1711ef64e9099c577e5d85d68df": {
          "model_module": "@jupyter-widgets/base",
          "model_name": "LayoutModel",
          "model_module_version": "1.2.0",
          "state": {
            "_view_name": "LayoutView",
            "grid_template_rows": null,
            "right": null,
            "justify_content": null,
            "_view_module": "@jupyter-widgets/base",
            "overflow": null,
            "_model_module_version": "1.2.0",
            "_view_count": null,
            "flex_flow": null,
            "width": null,
            "min_width": null,
            "border": null,
            "align_items": null,
            "bottom": null,
            "_model_module": "@jupyter-widgets/base",
            "top": null,
            "grid_column": null,
            "overflow_y": null,
            "overflow_x": null,
            "grid_auto_flow": null,
            "grid_area": null,
            "grid_template_columns": null,
            "flex": null,
            "_model_name": "LayoutModel",
            "justify_items": null,
            "grid_row": null,
            "max_height": null,
            "align_content": null,
            "visibility": null,
            "align_self": null,
            "height": null,
            "min_height": null,
            "padding": null,
            "grid_auto_rows": null,
            "grid_gap": null,
            "max_width": null,
            "order": null,
            "_view_module_version": "1.2.0",
            "grid_template_areas": null,
            "object_position": null,
            "object_fit": null,
            "grid_auto_columns": null,
            "margin": null,
            "display": null,
            "left": null
          }
        },
        "83ece46b92db488aa3786470d775b685": {
          "model_module": "@jupyter-widgets/controls",
          "model_name": "DescriptionStyleModel",
          "model_module_version": "1.5.0",
          "state": {
            "_view_name": "StyleView",
            "_model_name": "DescriptionStyleModel",
            "description_width": "",
            "_view_module": "@jupyter-widgets/base",
            "_model_module_version": "1.5.0",
            "_view_count": null,
            "_view_module_version": "1.2.0",
            "_model_module": "@jupyter-widgets/controls"
          }
        },
        "e6f5b2392f954e89a0c3e4e8c5226a1d": {
          "model_module": "@jupyter-widgets/base",
          "model_name": "LayoutModel",
          "model_module_version": "1.2.0",
          "state": {
            "_view_name": "LayoutView",
            "grid_template_rows": null,
            "right": null,
            "justify_content": null,
            "_view_module": "@jupyter-widgets/base",
            "overflow": null,
            "_model_module_version": "1.2.0",
            "_view_count": null,
            "flex_flow": null,
            "width": null,
            "min_width": null,
            "border": null,
            "align_items": null,
            "bottom": null,
            "_model_module": "@jupyter-widgets/base",
            "top": null,
            "grid_column": null,
            "overflow_y": null,
            "overflow_x": null,
            "grid_auto_flow": null,
            "grid_area": null,
            "grid_template_columns": null,
            "flex": null,
            "_model_name": "LayoutModel",
            "justify_items": null,
            "grid_row": null,
            "max_height": null,
            "align_content": null,
            "visibility": null,
            "align_self": null,
            "height": null,
            "min_height": null,
            "padding": null,
            "grid_auto_rows": null,
            "grid_gap": null,
            "max_width": null,
            "order": null,
            "_view_module_version": "1.2.0",
            "grid_template_areas": null,
            "object_position": null,
            "object_fit": null,
            "grid_auto_columns": null,
            "margin": null,
            "display": null,
            "left": null
          }
        },
        "2a617884857c4f7fab2db0e4d7011343": {
          "model_module": "@jupyter-widgets/controls",
          "model_name": "HBoxModel",
          "model_module_version": "1.5.0",
          "state": {
            "_view_name": "HBoxView",
            "_dom_classes": [],
            "_model_name": "HBoxModel",
            "_view_module": "@jupyter-widgets/controls",
            "_model_module_version": "1.5.0",
            "_view_count": null,
            "_view_module_version": "1.5.0",
            "box_style": "",
            "layout": "IPY_MODEL_6bc6c95739754c75bac73be1d70a02fc",
            "_model_module": "@jupyter-widgets/controls",
            "children": [
              "IPY_MODEL_d69a51c6b6284a91a8490b82cb8fbe62",
              "IPY_MODEL_e94f0a5148c04edd8c52b27cad8a3797",
              "IPY_MODEL_914d96eedf1a483a873f75c19bac5011"
            ]
          }
        },
        "6bc6c95739754c75bac73be1d70a02fc": {
          "model_module": "@jupyter-widgets/base",
          "model_name": "LayoutModel",
          "model_module_version": "1.2.0",
          "state": {
            "_view_name": "LayoutView",
            "grid_template_rows": null,
            "right": null,
            "justify_content": null,
            "_view_module": "@jupyter-widgets/base",
            "overflow": null,
            "_model_module_version": "1.2.0",
            "_view_count": null,
            "flex_flow": null,
            "width": null,
            "min_width": null,
            "border": null,
            "align_items": null,
            "bottom": null,
            "_model_module": "@jupyter-widgets/base",
            "top": null,
            "grid_column": null,
            "overflow_y": null,
            "overflow_x": null,
            "grid_auto_flow": null,
            "grid_area": null,
            "grid_template_columns": null,
            "flex": null,
            "_model_name": "LayoutModel",
            "justify_items": null,
            "grid_row": null,
            "max_height": null,
            "align_content": null,
            "visibility": null,
            "align_self": null,
            "height": null,
            "min_height": null,
            "padding": null,
            "grid_auto_rows": null,
            "grid_gap": null,
            "max_width": null,
            "order": null,
            "_view_module_version": "1.2.0",
            "grid_template_areas": null,
            "object_position": null,
            "object_fit": null,
            "grid_auto_columns": null,
            "margin": null,
            "display": null,
            "left": null
          }
        },
        "d69a51c6b6284a91a8490b82cb8fbe62": {
          "model_module": "@jupyter-widgets/controls",
          "model_name": "HTMLModel",
          "model_module_version": "1.5.0",
          "state": {
            "_view_name": "HTMLView",
            "style": "IPY_MODEL_3a24d8a5a8cd420ca0b81f81a7f55ada",
            "_dom_classes": [],
            "description": "",
            "_model_name": "HTMLModel",
            "placeholder": "​",
            "_view_module": "@jupyter-widgets/controls",
            "_model_module_version": "1.5.0",
            "value": "Shuffling ~/tensorflow_datasets/ted_hrlr_translate/pt_to_en/1.0.0.incomplete4JJGFB/ted_hrlr_translate-validation.tfrecord*...:   0%",
            "_view_count": null,
            "_view_module_version": "1.5.0",
            "description_tooltip": null,
            "_model_module": "@jupyter-widgets/controls",
            "layout": "IPY_MODEL_7fd8136408484468be2802a7600e83a1"
          }
        },
        "e94f0a5148c04edd8c52b27cad8a3797": {
          "model_module": "@jupyter-widgets/controls",
          "model_name": "FloatProgressModel",
          "model_module_version": "1.5.0",
          "state": {
            "_view_name": "ProgressView",
            "style": "IPY_MODEL_cdde776b83fe4d34a834570ea0233629",
            "_dom_classes": [],
            "description": "",
            "_model_name": "FloatProgressModel",
            "bar_style": "",
            "max": 1193,
            "_view_module": "@jupyter-widgets/controls",
            "_model_module_version": "1.5.0",
            "value": 1193,
            "_view_count": null,
            "_view_module_version": "1.5.0",
            "orientation": "horizontal",
            "min": 0,
            "description_tooltip": null,
            "_model_module": "@jupyter-widgets/controls",
            "layout": "IPY_MODEL_3cbde6b8160642e39f5c5760669234df"
          }
        },
        "914d96eedf1a483a873f75c19bac5011": {
          "model_module": "@jupyter-widgets/controls",
          "model_name": "HTMLModel",
          "model_module_version": "1.5.0",
          "state": {
            "_view_name": "HTMLView",
            "style": "IPY_MODEL_f2800335e18c4c9897c140c94c198f0f",
            "_dom_classes": [],
            "description": "",
            "_model_name": "HTMLModel",
            "placeholder": "​",
            "_view_module": "@jupyter-widgets/controls",
            "_model_module_version": "1.5.0",
            "value": " 0/1193 [00:00&lt;?, ? examples/s]",
            "_view_count": null,
            "_view_module_version": "1.5.0",
            "description_tooltip": null,
            "_model_module": "@jupyter-widgets/controls",
            "layout": "IPY_MODEL_fce29065ea9e4e7d90630d25b6f5bda3"
          }
        },
        "3a24d8a5a8cd420ca0b81f81a7f55ada": {
          "model_module": "@jupyter-widgets/controls",
          "model_name": "DescriptionStyleModel",
          "model_module_version": "1.5.0",
          "state": {
            "_view_name": "StyleView",
            "_model_name": "DescriptionStyleModel",
            "description_width": "",
            "_view_module": "@jupyter-widgets/base",
            "_model_module_version": "1.5.0",
            "_view_count": null,
            "_view_module_version": "1.2.0",
            "_model_module": "@jupyter-widgets/controls"
          }
        },
        "7fd8136408484468be2802a7600e83a1": {
          "model_module": "@jupyter-widgets/base",
          "model_name": "LayoutModel",
          "model_module_version": "1.2.0",
          "state": {
            "_view_name": "LayoutView",
            "grid_template_rows": null,
            "right": null,
            "justify_content": null,
            "_view_module": "@jupyter-widgets/base",
            "overflow": null,
            "_model_module_version": "1.2.0",
            "_view_count": null,
            "flex_flow": null,
            "width": null,
            "min_width": null,
            "border": null,
            "align_items": null,
            "bottom": null,
            "_model_module": "@jupyter-widgets/base",
            "top": null,
            "grid_column": null,
            "overflow_y": null,
            "overflow_x": null,
            "grid_auto_flow": null,
            "grid_area": null,
            "grid_template_columns": null,
            "flex": null,
            "_model_name": "LayoutModel",
            "justify_items": null,
            "grid_row": null,
            "max_height": null,
            "align_content": null,
            "visibility": null,
            "align_self": null,
            "height": null,
            "min_height": null,
            "padding": null,
            "grid_auto_rows": null,
            "grid_gap": null,
            "max_width": null,
            "order": null,
            "_view_module_version": "1.2.0",
            "grid_template_areas": null,
            "object_position": null,
            "object_fit": null,
            "grid_auto_columns": null,
            "margin": null,
            "display": null,
            "left": null
          }
        },
        "cdde776b83fe4d34a834570ea0233629": {
          "model_module": "@jupyter-widgets/controls",
          "model_name": "ProgressStyleModel",
          "model_module_version": "1.5.0",
          "state": {
            "_view_name": "StyleView",
            "_model_name": "ProgressStyleModel",
            "description_width": "",
            "_view_module": "@jupyter-widgets/base",
            "_model_module_version": "1.5.0",
            "_view_count": null,
            "_view_module_version": "1.2.0",
            "bar_color": null,
            "_model_module": "@jupyter-widgets/controls"
          }
        },
        "3cbde6b8160642e39f5c5760669234df": {
          "model_module": "@jupyter-widgets/base",
          "model_name": "LayoutModel",
          "model_module_version": "1.2.0",
          "state": {
            "_view_name": "LayoutView",
            "grid_template_rows": null,
            "right": null,
            "justify_content": null,
            "_view_module": "@jupyter-widgets/base",
            "overflow": null,
            "_model_module_version": "1.2.0",
            "_view_count": null,
            "flex_flow": null,
            "width": null,
            "min_width": null,
            "border": null,
            "align_items": null,
            "bottom": null,
            "_model_module": "@jupyter-widgets/base",
            "top": null,
            "grid_column": null,
            "overflow_y": null,
            "overflow_x": null,
            "grid_auto_flow": null,
            "grid_area": null,
            "grid_template_columns": null,
            "flex": null,
            "_model_name": "LayoutModel",
            "justify_items": null,
            "grid_row": null,
            "max_height": null,
            "align_content": null,
            "visibility": null,
            "align_self": null,
            "height": null,
            "min_height": null,
            "padding": null,
            "grid_auto_rows": null,
            "grid_gap": null,
            "max_width": null,
            "order": null,
            "_view_module_version": "1.2.0",
            "grid_template_areas": null,
            "object_position": null,
            "object_fit": null,
            "grid_auto_columns": null,
            "margin": null,
            "display": null,
            "left": null
          }
        },
        "f2800335e18c4c9897c140c94c198f0f": {
          "model_module": "@jupyter-widgets/controls",
          "model_name": "DescriptionStyleModel",
          "model_module_version": "1.5.0",
          "state": {
            "_view_name": "StyleView",
            "_model_name": "DescriptionStyleModel",
            "description_width": "",
            "_view_module": "@jupyter-widgets/base",
            "_model_module_version": "1.5.0",
            "_view_count": null,
            "_view_module_version": "1.2.0",
            "_model_module": "@jupyter-widgets/controls"
          }
        },
        "fce29065ea9e4e7d90630d25b6f5bda3": {
          "model_module": "@jupyter-widgets/base",
          "model_name": "LayoutModel",
          "model_module_version": "1.2.0",
          "state": {
            "_view_name": "LayoutView",
            "grid_template_rows": null,
            "right": null,
            "justify_content": null,
            "_view_module": "@jupyter-widgets/base",
            "overflow": null,
            "_model_module_version": "1.2.0",
            "_view_count": null,
            "flex_flow": null,
            "width": null,
            "min_width": null,
            "border": null,
            "align_items": null,
            "bottom": null,
            "_model_module": "@jupyter-widgets/base",
            "top": null,
            "grid_column": null,
            "overflow_y": null,
            "overflow_x": null,
            "grid_auto_flow": null,
            "grid_area": null,
            "grid_template_columns": null,
            "flex": null,
            "_model_name": "LayoutModel",
            "justify_items": null,
            "grid_row": null,
            "max_height": null,
            "align_content": null,
            "visibility": null,
            "align_self": null,
            "height": null,
            "min_height": null,
            "padding": null,
            "grid_auto_rows": null,
            "grid_gap": null,
            "max_width": null,
            "order": null,
            "_view_module_version": "1.2.0",
            "grid_template_areas": null,
            "object_position": null,
            "object_fit": null,
            "grid_auto_columns": null,
            "margin": null,
            "display": null,
            "left": null
          }
        },
        "c9dbd77745a8442a8a24da4c973cccc0": {
          "model_module": "@jupyter-widgets/controls",
          "model_name": "HBoxModel",
          "model_module_version": "1.5.0",
          "state": {
            "_view_name": "HBoxView",
            "_dom_classes": [],
            "_model_name": "HBoxModel",
            "_view_module": "@jupyter-widgets/controls",
            "_model_module_version": "1.5.0",
            "_view_count": null,
            "_view_module_version": "1.5.0",
            "box_style": "",
            "layout": "IPY_MODEL_fcf2b58b83fc430cb922c5dd2cac578a",
            "_model_module": "@jupyter-widgets/controls",
            "children": [
              "IPY_MODEL_4ae9048ea9de4464890a017bdff9bbac",
              "IPY_MODEL_cdbd17fd2d4b498581215619c6719528",
              "IPY_MODEL_d1e1356cd1b24f098a6286703f6e3e95"
            ]
          }
        },
        "fcf2b58b83fc430cb922c5dd2cac578a": {
          "model_module": "@jupyter-widgets/base",
          "model_name": "LayoutModel",
          "model_module_version": "1.2.0",
          "state": {
            "_view_name": "LayoutView",
            "grid_template_rows": null,
            "right": null,
            "justify_content": null,
            "_view_module": "@jupyter-widgets/base",
            "overflow": null,
            "_model_module_version": "1.2.0",
            "_view_count": null,
            "flex_flow": null,
            "width": null,
            "min_width": null,
            "border": null,
            "align_items": null,
            "bottom": null,
            "_model_module": "@jupyter-widgets/base",
            "top": null,
            "grid_column": null,
            "overflow_y": null,
            "overflow_x": null,
            "grid_auto_flow": null,
            "grid_area": null,
            "grid_template_columns": null,
            "flex": null,
            "_model_name": "LayoutModel",
            "justify_items": null,
            "grid_row": null,
            "max_height": null,
            "align_content": null,
            "visibility": null,
            "align_self": null,
            "height": null,
            "min_height": null,
            "padding": null,
            "grid_auto_rows": null,
            "grid_gap": null,
            "max_width": null,
            "order": null,
            "_view_module_version": "1.2.0",
            "grid_template_areas": null,
            "object_position": null,
            "object_fit": null,
            "grid_auto_columns": null,
            "margin": null,
            "display": null,
            "left": null
          }
        },
        "4ae9048ea9de4464890a017bdff9bbac": {
          "model_module": "@jupyter-widgets/controls",
          "model_name": "HTMLModel",
          "model_module_version": "1.5.0",
          "state": {
            "_view_name": "HTMLView",
            "style": "IPY_MODEL_1b39446616b54e778e51636f0009b616",
            "_dom_classes": [],
            "description": "",
            "_model_name": "HTMLModel",
            "placeholder": "​",
            "_view_module": "@jupyter-widgets/controls",
            "_model_module_version": "1.5.0",
            "value": "Generating test examples...:  96%",
            "_view_count": null,
            "_view_module_version": "1.5.0",
            "description_tooltip": null,
            "_model_module": "@jupyter-widgets/controls",
            "layout": "IPY_MODEL_79e3e8cc0a9d4cc6939c71838f178221"
          }
        },
        "cdbd17fd2d4b498581215619c6719528": {
          "model_module": "@jupyter-widgets/controls",
          "model_name": "FloatProgressModel",
          "model_module_version": "1.5.0",
          "state": {
            "_view_name": "ProgressView",
            "style": "IPY_MODEL_e677c7780654402b83a9261657e42406",
            "_dom_classes": [],
            "description": "",
            "_model_name": "FloatProgressModel",
            "bar_style": "",
            "max": 1803,
            "_view_module": "@jupyter-widgets/controls",
            "_model_module_version": "1.5.0",
            "value": 1803,
            "_view_count": null,
            "_view_module_version": "1.5.0",
            "orientation": "horizontal",
            "min": 0,
            "description_tooltip": null,
            "_model_module": "@jupyter-widgets/controls",
            "layout": "IPY_MODEL_596563cb94e944e1a083ea9e5ed99ee7"
          }
        },
        "d1e1356cd1b24f098a6286703f6e3e95": {
          "model_module": "@jupyter-widgets/controls",
          "model_name": "HTMLModel",
          "model_module_version": "1.5.0",
          "state": {
            "_view_name": "HTMLView",
            "style": "IPY_MODEL_4c6abeb925894ddab95d693246751fc4",
            "_dom_classes": [],
            "description": "",
            "_model_name": "HTMLModel",
            "placeholder": "​",
            "_view_module": "@jupyter-widgets/controls",
            "_model_module_version": "1.5.0",
            "value": " 1729/1803 [00:00&lt;00:00, 3203.80 examples/s]",
            "_view_count": null,
            "_view_module_version": "1.5.0",
            "description_tooltip": null,
            "_model_module": "@jupyter-widgets/controls",
            "layout": "IPY_MODEL_466cbe8a21364a5191078661c01425c9"
          }
        },
        "1b39446616b54e778e51636f0009b616": {
          "model_module": "@jupyter-widgets/controls",
          "model_name": "DescriptionStyleModel",
          "model_module_version": "1.5.0",
          "state": {
            "_view_name": "StyleView",
            "_model_name": "DescriptionStyleModel",
            "description_width": "",
            "_view_module": "@jupyter-widgets/base",
            "_model_module_version": "1.5.0",
            "_view_count": null,
            "_view_module_version": "1.2.0",
            "_model_module": "@jupyter-widgets/controls"
          }
        },
        "79e3e8cc0a9d4cc6939c71838f178221": {
          "model_module": "@jupyter-widgets/base",
          "model_name": "LayoutModel",
          "model_module_version": "1.2.0",
          "state": {
            "_view_name": "LayoutView",
            "grid_template_rows": null,
            "right": null,
            "justify_content": null,
            "_view_module": "@jupyter-widgets/base",
            "overflow": null,
            "_model_module_version": "1.2.0",
            "_view_count": null,
            "flex_flow": null,
            "width": null,
            "min_width": null,
            "border": null,
            "align_items": null,
            "bottom": null,
            "_model_module": "@jupyter-widgets/base",
            "top": null,
            "grid_column": null,
            "overflow_y": null,
            "overflow_x": null,
            "grid_auto_flow": null,
            "grid_area": null,
            "grid_template_columns": null,
            "flex": null,
            "_model_name": "LayoutModel",
            "justify_items": null,
            "grid_row": null,
            "max_height": null,
            "align_content": null,
            "visibility": null,
            "align_self": null,
            "height": null,
            "min_height": null,
            "padding": null,
            "grid_auto_rows": null,
            "grid_gap": null,
            "max_width": null,
            "order": null,
            "_view_module_version": "1.2.0",
            "grid_template_areas": null,
            "object_position": null,
            "object_fit": null,
            "grid_auto_columns": null,
            "margin": null,
            "display": null,
            "left": null
          }
        },
        "e677c7780654402b83a9261657e42406": {
          "model_module": "@jupyter-widgets/controls",
          "model_name": "ProgressStyleModel",
          "model_module_version": "1.5.0",
          "state": {
            "_view_name": "StyleView",
            "_model_name": "ProgressStyleModel",
            "description_width": "",
            "_view_module": "@jupyter-widgets/base",
            "_model_module_version": "1.5.0",
            "_view_count": null,
            "_view_module_version": "1.2.0",
            "bar_color": null,
            "_model_module": "@jupyter-widgets/controls"
          }
        },
        "596563cb94e944e1a083ea9e5ed99ee7": {
          "model_module": "@jupyter-widgets/base",
          "model_name": "LayoutModel",
          "model_module_version": "1.2.0",
          "state": {
            "_view_name": "LayoutView",
            "grid_template_rows": null,
            "right": null,
            "justify_content": null,
            "_view_module": "@jupyter-widgets/base",
            "overflow": null,
            "_model_module_version": "1.2.0",
            "_view_count": null,
            "flex_flow": null,
            "width": null,
            "min_width": null,
            "border": null,
            "align_items": null,
            "bottom": null,
            "_model_module": "@jupyter-widgets/base",
            "top": null,
            "grid_column": null,
            "overflow_y": null,
            "overflow_x": null,
            "grid_auto_flow": null,
            "grid_area": null,
            "grid_template_columns": null,
            "flex": null,
            "_model_name": "LayoutModel",
            "justify_items": null,
            "grid_row": null,
            "max_height": null,
            "align_content": null,
            "visibility": null,
            "align_self": null,
            "height": null,
            "min_height": null,
            "padding": null,
            "grid_auto_rows": null,
            "grid_gap": null,
            "max_width": null,
            "order": null,
            "_view_module_version": "1.2.0",
            "grid_template_areas": null,
            "object_position": null,
            "object_fit": null,
            "grid_auto_columns": null,
            "margin": null,
            "display": null,
            "left": null
          }
        },
        "4c6abeb925894ddab95d693246751fc4": {
          "model_module": "@jupyter-widgets/controls",
          "model_name": "DescriptionStyleModel",
          "model_module_version": "1.5.0",
          "state": {
            "_view_name": "StyleView",
            "_model_name": "DescriptionStyleModel",
            "description_width": "",
            "_view_module": "@jupyter-widgets/base",
            "_model_module_version": "1.5.0",
            "_view_count": null,
            "_view_module_version": "1.2.0",
            "_model_module": "@jupyter-widgets/controls"
          }
        },
        "466cbe8a21364a5191078661c01425c9": {
          "model_module": "@jupyter-widgets/base",
          "model_name": "LayoutModel",
          "model_module_version": "1.2.0",
          "state": {
            "_view_name": "LayoutView",
            "grid_template_rows": null,
            "right": null,
            "justify_content": null,
            "_view_module": "@jupyter-widgets/base",
            "overflow": null,
            "_model_module_version": "1.2.0",
            "_view_count": null,
            "flex_flow": null,
            "width": null,
            "min_width": null,
            "border": null,
            "align_items": null,
            "bottom": null,
            "_model_module": "@jupyter-widgets/base",
            "top": null,
            "grid_column": null,
            "overflow_y": null,
            "overflow_x": null,
            "grid_auto_flow": null,
            "grid_area": null,
            "grid_template_columns": null,
            "flex": null,
            "_model_name": "LayoutModel",
            "justify_items": null,
            "grid_row": null,
            "max_height": null,
            "align_content": null,
            "visibility": null,
            "align_self": null,
            "height": null,
            "min_height": null,
            "padding": null,
            "grid_auto_rows": null,
            "grid_gap": null,
            "max_width": null,
            "order": null,
            "_view_module_version": "1.2.0",
            "grid_template_areas": null,
            "object_position": null,
            "object_fit": null,
            "grid_auto_columns": null,
            "margin": null,
            "display": null,
            "left": null
          }
        },
        "7ab6cdec91aa481ab467a6b6a0a3a02e": {
          "model_module": "@jupyter-widgets/controls",
          "model_name": "HBoxModel",
          "model_module_version": "1.5.0",
          "state": {
            "_view_name": "HBoxView",
            "_dom_classes": [],
            "_model_name": "HBoxModel",
            "_view_module": "@jupyter-widgets/controls",
            "_model_module_version": "1.5.0",
            "_view_count": null,
            "_view_module_version": "1.5.0",
            "box_style": "",
            "layout": "IPY_MODEL_938d5410cc2a4db5a6d9c6d676c40b40",
            "_model_module": "@jupyter-widgets/controls",
            "children": [
              "IPY_MODEL_ffba9576ff8e454fb6ce5ec6d3282ede",
              "IPY_MODEL_3c97911319094b2c81351e8fd80542fb",
              "IPY_MODEL_bdfde9990c62417ebc00a53a22fc4ab4"
            ]
          }
        },
        "938d5410cc2a4db5a6d9c6d676c40b40": {
          "model_module": "@jupyter-widgets/base",
          "model_name": "LayoutModel",
          "model_module_version": "1.2.0",
          "state": {
            "_view_name": "LayoutView",
            "grid_template_rows": null,
            "right": null,
            "justify_content": null,
            "_view_module": "@jupyter-widgets/base",
            "overflow": null,
            "_model_module_version": "1.2.0",
            "_view_count": null,
            "flex_flow": null,
            "width": null,
            "min_width": null,
            "border": null,
            "align_items": null,
            "bottom": null,
            "_model_module": "@jupyter-widgets/base",
            "top": null,
            "grid_column": null,
            "overflow_y": null,
            "overflow_x": null,
            "grid_auto_flow": null,
            "grid_area": null,
            "grid_template_columns": null,
            "flex": null,
            "_model_name": "LayoutModel",
            "justify_items": null,
            "grid_row": null,
            "max_height": null,
            "align_content": null,
            "visibility": null,
            "align_self": null,
            "height": null,
            "min_height": null,
            "padding": null,
            "grid_auto_rows": null,
            "grid_gap": null,
            "max_width": null,
            "order": null,
            "_view_module_version": "1.2.0",
            "grid_template_areas": null,
            "object_position": null,
            "object_fit": null,
            "grid_auto_columns": null,
            "margin": null,
            "display": null,
            "left": null
          }
        },
        "ffba9576ff8e454fb6ce5ec6d3282ede": {
          "model_module": "@jupyter-widgets/controls",
          "model_name": "HTMLModel",
          "model_module_version": "1.5.0",
          "state": {
            "_view_name": "HTMLView",
            "style": "IPY_MODEL_79e21afb525d4167891bd4f7e3d89d32",
            "_dom_classes": [],
            "description": "",
            "_model_name": "HTMLModel",
            "placeholder": "​",
            "_view_module": "@jupyter-widgets/controls",
            "_model_module_version": "1.5.0",
            "value": "Shuffling ~/tensorflow_datasets/ted_hrlr_translate/pt_to_en/1.0.0.incomplete4JJGFB/ted_hrlr_translate-test.tfrecord*...:   9%",
            "_view_count": null,
            "_view_module_version": "1.5.0",
            "description_tooltip": null,
            "_model_module": "@jupyter-widgets/controls",
            "layout": "IPY_MODEL_501f1f6560d1492ea2b9522614aaf773"
          }
        },
        "3c97911319094b2c81351e8fd80542fb": {
          "model_module": "@jupyter-widgets/controls",
          "model_name": "FloatProgressModel",
          "model_module_version": "1.5.0",
          "state": {
            "_view_name": "ProgressView",
            "style": "IPY_MODEL_96910e877e87440a841b6f1ca99a26ee",
            "_dom_classes": [],
            "description": "",
            "_model_name": "FloatProgressModel",
            "bar_style": "",
            "max": 1803,
            "_view_module": "@jupyter-widgets/controls",
            "_model_module_version": "1.5.0",
            "value": 1803,
            "_view_count": null,
            "_view_module_version": "1.5.0",
            "orientation": "horizontal",
            "min": 0,
            "description_tooltip": null,
            "_model_module": "@jupyter-widgets/controls",
            "layout": "IPY_MODEL_4b430cfe19864135b7623e338ea18860"
          }
        },
        "bdfde9990c62417ebc00a53a22fc4ab4": {
          "model_module": "@jupyter-widgets/controls",
          "model_name": "HTMLModel",
          "model_module_version": "1.5.0",
          "state": {
            "_view_name": "HTMLView",
            "style": "IPY_MODEL_ca07d90161644d209eb620d0fd0e559e",
            "_dom_classes": [],
            "description": "",
            "_model_name": "HTMLModel",
            "placeholder": "​",
            "_view_module": "@jupyter-widgets/controls",
            "_model_module_version": "1.5.0",
            "value": " 170/1803 [00:00&lt;00:00, 1682.19 examples/s]",
            "_view_count": null,
            "_view_module_version": "1.5.0",
            "description_tooltip": null,
            "_model_module": "@jupyter-widgets/controls",
            "layout": "IPY_MODEL_e757c28f92134ab9b12349f42a01999b"
          }
        },
        "79e21afb525d4167891bd4f7e3d89d32": {
          "model_module": "@jupyter-widgets/controls",
          "model_name": "DescriptionStyleModel",
          "model_module_version": "1.5.0",
          "state": {
            "_view_name": "StyleView",
            "_model_name": "DescriptionStyleModel",
            "description_width": "",
            "_view_module": "@jupyter-widgets/base",
            "_model_module_version": "1.5.0",
            "_view_count": null,
            "_view_module_version": "1.2.0",
            "_model_module": "@jupyter-widgets/controls"
          }
        },
        "501f1f6560d1492ea2b9522614aaf773": {
          "model_module": "@jupyter-widgets/base",
          "model_name": "LayoutModel",
          "model_module_version": "1.2.0",
          "state": {
            "_view_name": "LayoutView",
            "grid_template_rows": null,
            "right": null,
            "justify_content": null,
            "_view_module": "@jupyter-widgets/base",
            "overflow": null,
            "_model_module_version": "1.2.0",
            "_view_count": null,
            "flex_flow": null,
            "width": null,
            "min_width": null,
            "border": null,
            "align_items": null,
            "bottom": null,
            "_model_module": "@jupyter-widgets/base",
            "top": null,
            "grid_column": null,
            "overflow_y": null,
            "overflow_x": null,
            "grid_auto_flow": null,
            "grid_area": null,
            "grid_template_columns": null,
            "flex": null,
            "_model_name": "LayoutModel",
            "justify_items": null,
            "grid_row": null,
            "max_height": null,
            "align_content": null,
            "visibility": null,
            "align_self": null,
            "height": null,
            "min_height": null,
            "padding": null,
            "grid_auto_rows": null,
            "grid_gap": null,
            "max_width": null,
            "order": null,
            "_view_module_version": "1.2.0",
            "grid_template_areas": null,
            "object_position": null,
            "object_fit": null,
            "grid_auto_columns": null,
            "margin": null,
            "display": null,
            "left": null
          }
        },
        "96910e877e87440a841b6f1ca99a26ee": {
          "model_module": "@jupyter-widgets/controls",
          "model_name": "ProgressStyleModel",
          "model_module_version": "1.5.0",
          "state": {
            "_view_name": "StyleView",
            "_model_name": "ProgressStyleModel",
            "description_width": "",
            "_view_module": "@jupyter-widgets/base",
            "_model_module_version": "1.5.0",
            "_view_count": null,
            "_view_module_version": "1.2.0",
            "bar_color": null,
            "_model_module": "@jupyter-widgets/controls"
          }
        },
        "4b430cfe19864135b7623e338ea18860": {
          "model_module": "@jupyter-widgets/base",
          "model_name": "LayoutModel",
          "model_module_version": "1.2.0",
          "state": {
            "_view_name": "LayoutView",
            "grid_template_rows": null,
            "right": null,
            "justify_content": null,
            "_view_module": "@jupyter-widgets/base",
            "overflow": null,
            "_model_module_version": "1.2.0",
            "_view_count": null,
            "flex_flow": null,
            "width": null,
            "min_width": null,
            "border": null,
            "align_items": null,
            "bottom": null,
            "_model_module": "@jupyter-widgets/base",
            "top": null,
            "grid_column": null,
            "overflow_y": null,
            "overflow_x": null,
            "grid_auto_flow": null,
            "grid_area": null,
            "grid_template_columns": null,
            "flex": null,
            "_model_name": "LayoutModel",
            "justify_items": null,
            "grid_row": null,
            "max_height": null,
            "align_content": null,
            "visibility": null,
            "align_self": null,
            "height": null,
            "min_height": null,
            "padding": null,
            "grid_auto_rows": null,
            "grid_gap": null,
            "max_width": null,
            "order": null,
            "_view_module_version": "1.2.0",
            "grid_template_areas": null,
            "object_position": null,
            "object_fit": null,
            "grid_auto_columns": null,
            "margin": null,
            "display": null,
            "left": null
          }
        },
        "ca07d90161644d209eb620d0fd0e559e": {
          "model_module": "@jupyter-widgets/controls",
          "model_name": "DescriptionStyleModel",
          "model_module_version": "1.5.0",
          "state": {
            "_view_name": "StyleView",
            "_model_name": "DescriptionStyleModel",
            "description_width": "",
            "_view_module": "@jupyter-widgets/base",
            "_model_module_version": "1.5.0",
            "_view_count": null,
            "_view_module_version": "1.2.0",
            "_model_module": "@jupyter-widgets/controls"
          }
        },
        "e757c28f92134ab9b12349f42a01999b": {
          "model_module": "@jupyter-widgets/base",
          "model_name": "LayoutModel",
          "model_module_version": "1.2.0",
          "state": {
            "_view_name": "LayoutView",
            "grid_template_rows": null,
            "right": null,
            "justify_content": null,
            "_view_module": "@jupyter-widgets/base",
            "overflow": null,
            "_model_module_version": "1.2.0",
            "_view_count": null,
            "flex_flow": null,
            "width": null,
            "min_width": null,
            "border": null,
            "align_items": null,
            "bottom": null,
            "_model_module": "@jupyter-widgets/base",
            "top": null,
            "grid_column": null,
            "overflow_y": null,
            "overflow_x": null,
            "grid_auto_flow": null,
            "grid_area": null,
            "grid_template_columns": null,
            "flex": null,
            "_model_name": "LayoutModel",
            "justify_items": null,
            "grid_row": null,
            "max_height": null,
            "align_content": null,
            "visibility": null,
            "align_self": null,
            "height": null,
            "min_height": null,
            "padding": null,
            "grid_auto_rows": null,
            "grid_gap": null,
            "max_width": null,
            "order": null,
            "_view_module_version": "1.2.0",
            "grid_template_areas": null,
            "object_position": null,
            "object_fit": null,
            "grid_auto_columns": null,
            "margin": null,
            "display": null,
            "left": null
          }
        }
      }
    }
  },
  "cells": [
    {
      "cell_type": "markdown",
      "metadata": {
        "id": "s_qNSzzyaCbD"
      },
      "source": [
        "##### Copyright 2019 The TensorFlow Authors."
      ]
    },
    {
      "cell_type": "code",
      "metadata": {
        "id": "jmjh290raIky"
      },
      "source": [
        "#@title Licensed under the Apache License, Version 2.0 (the \"License\");\n",
        "# you may not use this file except in compliance with the License.\n",
        "# You may obtain a copy of the License at\n",
        "#\n",
        "# https://www.apache.org/licenses/LICENSE-2.0\n",
        "#\n",
        "# Unless required by applicable law or agreed to in writing, software\n",
        "# distributed under the License is distributed on an \"AS IS\" BASIS,\n",
        "# WITHOUT WARRANTIES OR CONDITIONS OF ANY KIND, either express or implied.\n",
        "# See the License for the specific language governing permissions and\n",
        "# limitations under the License."
      ],
      "execution_count": null,
      "outputs": []
    },
    {
      "cell_type": "markdown",
      "metadata": {
        "id": "J0Qjg6vuaHNt"
      },
      "source": [
        "# Transformer model for language understanding"
      ]
    },
    {
      "cell_type": "markdown",
      "metadata": {
        "id": "M-f8TnGpE_ex"
      },
      "source": [
        "This tutorial trains a <a href=\"https://arxiv.org/abs/1706.03762\" class=\"external\">Transformer model</a> to translate Portuguese to English. This is an advanced example that assumes knowledge of [text generation](text_generation.ipynb) and [attention](nmt_with_attention.ipynb).\n",
        "\n",
        "The core idea behind the Transformer model is *self-attention*—the ability to attend to different positions of the input sequence to compute a representation of that sequence. Transformer creates stacks of self-attention layers and is explained below in the sections *Scaled dot product attention* and *Multi-head attention*.\n",
        "\n",
        "A transformer model handles variable-sized input using stacks of self-attention layers instead of [RNNs](text_classification_rnn.ipynb) or [CNNs](../images/intro_to_cnns.ipynb). This general architecture has a number of advantages:\n",
        "\n",
        "* It make no assumptions about the temporal/spatial relationships across the data. This is ideal for processing a set of objects (for example, [StarCraft units](https://deepmind.com/blog/alphastar-mastering-real-time-strategy-game-starcraft-ii/#block-8)).\n",
        "* Layer outputs can be calculated in parallel, instead of a series like an RNN.\n",
        "* Distant items can affect each other's output without passing through many RNN-steps, or convolution layers (see [Scene Memory Transformer](https://arxiv.org/pdf/1903.03878.pdf) for example).\n",
        "* It can learn long-range dependencies. This is a challenge in many sequence tasks.\n",
        "\n",
        "The downsides of this architecture are:\n",
        "\n",
        "* For a time-series, the output for a time-step is calculated from the *entire history* instead of only the inputs and current hidden-state. This _may_ be less efficient.   \n",
        "* If the input *does* have a  temporal/spatial relationship, like text, some positional encoding must be added or the model will effectively see a bag of words. \n",
        "\n",
        "After training the model in this notebook, you will be able to input a Portuguese sentence and return the English translation.\n",
        "\n",
        "<img src=\"https://www.tensorflow.org/images/tutorials/transformer/attention_map_portuguese.png\" width=\"800\" alt=\"Attention heatmap\">"
      ]
    },
    {
      "cell_type": "code",
      "metadata": {
        "id": "XFG0NDRu5mYQ",
        "outputId": "4b7750c8-98d7-4145-98fd-44f12b0eb14d",
        "colab": {
          "base_uri": "https://localhost:8080/"
        }
      },
      "source": [
        "!pip install -q tfds-nightly\n",
        "\n",
        "# Pin matplotlib version to 3.2.2 since in the latest version\n",
        "# transformer.ipynb fails with the following error:\n",
        "# https://stackoverflow.com/questions/62953704/valueerror-the-number-of-fixedlocator-locations-5-usually-from-a-call-to-set\n",
        "!pip install matplotlib==3.2.2"
      ],
      "execution_count": null,
      "outputs": [
        {
          "output_type": "stream",
          "name": "stdout",
          "text": [
            "\u001b[K     |████████████████████████████████| 4.2 MB 8.6 MB/s \n",
            "\u001b[?25hRequirement already satisfied: matplotlib==3.2.2 in /usr/local/lib/python3.7/dist-packages (3.2.2)\n",
            "Requirement already satisfied: python-dateutil>=2.1 in /usr/local/lib/python3.7/dist-packages (from matplotlib==3.2.2) (2.8.2)\n",
            "Requirement already satisfied: kiwisolver>=1.0.1 in /usr/local/lib/python3.7/dist-packages (from matplotlib==3.2.2) (1.3.2)\n",
            "Requirement already satisfied: cycler>=0.10 in /usr/local/lib/python3.7/dist-packages (from matplotlib==3.2.2) (0.11.0)\n",
            "Requirement already satisfied: numpy>=1.11 in /usr/local/lib/python3.7/dist-packages (from matplotlib==3.2.2) (1.21.5)\n",
            "Requirement already satisfied: pyparsing!=2.0.4,!=2.1.2,!=2.1.6,>=2.0.1 in /usr/local/lib/python3.7/dist-packages (from matplotlib==3.2.2) (3.0.7)\n",
            "Requirement already satisfied: six>=1.5 in /usr/local/lib/python3.7/dist-packages (from python-dateutil>=2.1->matplotlib==3.2.2) (1.15.0)\n"
          ]
        }
      ]
    },
    {
      "cell_type": "code",
      "metadata": {
        "id": "JjJJyJTZYebt"
      },
      "source": [
        "import tensorflow_datasets as tfds\n",
        "import tensorflow as tf\n",
        "\n",
        "import time\n",
        "import numpy as np\n",
        "import matplotlib.pyplot as plt"
      ],
      "execution_count": null,
      "outputs": []
    },
    {
      "cell_type": "markdown",
      "metadata": {
        "id": "fd1NWMxjfsDd"
      },
      "source": [
        "## Setup input pipeline"
      ]
    },
    {
      "cell_type": "markdown",
      "metadata": {
        "id": "t4_Qt8W1hJE_"
      },
      "source": [
        "Use [TFDS](https://www.tensorflow.org/datasets) to load the [Portugese-English translation dataset](https://github.com/neulab/word-embeddings-for-nmt) from the [TED Talks Open Translation Project](https://www.ted.com/participate/translate).\n",
        "\n",
        "This dataset contains approximately 50000 training examples, 1100 validation examples, and 2000 test examples."
      ]
    },
    {
      "cell_type": "code",
      "metadata": {
        "id": "8q9t4FmN96eN",
        "outputId": "c28c2120-4dda-481b-f755-bf458a22f6bd",
        "colab": {
          "base_uri": "https://localhost:8080/",
          "height": 150,
          "referenced_widgets": [
            "5ee89f9684db4f4dbf8a361fc5a453bd",
            "41bda5a13260474b89002862db8ae112",
            "b6d4823a48ab4f12bba3508e7f350095",
            "beadd385be0b40ce8a54e14f47c3bbcf",
            "2d6c3f5f9a364fa08297c7ae0b40fd74",
            "3fb46c35c1324fe5ac9640c3efb1f01d",
            "c2bd3be4a94e473c88fe7452fdab10b5",
            "57df19f5f67d4f639a039a4318a32836",
            "e5d562d519c24030ad55e094a232956f",
            "707a699b94954986afa876fe6fa12e80",
            "6e9d1a7d32304a58a328e758b2dd72ce",
            "61371b665cbf41f89596937d97b6f48c",
            "bd7f02cb8cf949aab42f224f192af7fd",
            "7d679e68e6dd42f8a32c4748eb598d54",
            "8cb8b84d1e634c39bfd0e8285e740217",
            "ee05bbfd5bcb48e2b85fa7bdf20f40ca",
            "765ec2ad050a4de9894e3d1bb7dd3e03",
            "78cd1bdcf75346b1a3a2c3b291957333",
            "6a44fc6ddf76496cab8f6c278d3a2c20",
            "fadcf45af3bc45258451403f153e9b60",
            "1490ad41d6c34dd4a0000e2190d38a33",
            "cad218b31d0b4fff8eec92335f7b4af4",
            "78939c307f2642f895c592a0dbe7a9fa",
            "b125c0239c204f2fb760d821ce6007a5",
            "edc9a37d497142b3b89124083b799441",
            "66140e89f03d47339b15175159c34390",
            "fe0d9bb08e6642f38b0467f5324a64b1",
            "dc2389772f8c48c5a9e6c9ddf06cf7ae",
            "fc990d862c004337a1e0cdabe8761da7",
            "a7cfe76565774a91b09ccdf33b0bca23",
            "e0102d55c0684b7abea3f0b3335b244b",
            "1919ba6c62904d4d99a660c0c0db3858",
            "3c93f138cb5243938d696590d60a6954",
            "3eb5e700c8db40598c816ec357422744",
            "60b23742cece46949fecd4726678b1e0",
            "ce2d73ae71f6458b9222430d7c600c73",
            "a79fe1cb7a824ee799ff1f71c9d68c0d",
            "bc070ffaf1bd441a8ba1b7d9fec64a6c",
            "96d9f525c6104defaba2ea32dfc8e992",
            "ddc1f72dfa4b4e62926094c53aa44c43",
            "04391d02a46e4413a958c68fc49e948e",
            "4910888e89824445ad2629732933e5a7",
            "feaadd88d2df4344abf0d606303eed8a",
            "ac47bee06b714480a54a3d6c307d238c",
            "6825bfad37a84bd89b213736f5c9bd28",
            "c8457950954249a693330e89bcc9ea05",
            "a39c5baaba2e499a81fd787378f7c454",
            "bb83300d42664246a03b99fd6d6e5a7e",
            "cdf864e2e314448f8c262fb55f233491",
            "a3e998041c7142c0b1f4bd7546892206",
            "a92c93a4ec484ff8883a6f75265bbbee",
            "dde2292323944c7f85617f6ae66e1372",
            "12a398b0c44d4212a68c21b0c108ff5a",
            "1062847c4d7b4d638f3be92c91fcc097",
            "5eb38eb53cda4d6eb35bce58056a1eb2",
            "5073664fe777405fa4b9bf6af3e9ab0d",
            "2348c70e5d9f4669abced4d3276ec53c",
            "8774bbe1419842768e4e094871431257",
            "c90a328cef54481b9988606f2d697455",
            "c9748ba8f3ae46a6ae20f750ac1d9d2a",
            "c6d5a6948f2c4922b8d4b105d4bbbb7a",
            "b1c6b84cabdd4b84a605df2efe656404",
            "0f942ff318ef49e98aeaa88615e0ed08",
            "df9de56aa0ae4cc09b8bc8eea896f6fc",
            "be7d8349ddc84bf386591a64b875f6ea",
            "27e269fa592a4ceca697d25eee0350b9",
            "8c8e3aed40064bc08fafc65f2f7269a1",
            "f9c3990fa1a04cf3a3b022faf1445b8b",
            "e20a81c6dd06411e801f80f0055eb221",
            "3abc9957dc1f4d618564eb738012942c",
            "d34160b7d05d49729a527f3664713a7f",
            "e08f63bd46be4ee3bd3bae064e573f74",
            "1a765a25c17a4307a2c2ba9e24471e76",
            "c7a4c4a2930248db8f663e552d59333f",
            "431fb1711ef64e9099c577e5d85d68df",
            "83ece46b92db488aa3786470d775b685",
            "e6f5b2392f954e89a0c3e4e8c5226a1d",
            "2a617884857c4f7fab2db0e4d7011343",
            "6bc6c95739754c75bac73be1d70a02fc",
            "d69a51c6b6284a91a8490b82cb8fbe62",
            "e94f0a5148c04edd8c52b27cad8a3797",
            "914d96eedf1a483a873f75c19bac5011",
            "3a24d8a5a8cd420ca0b81f81a7f55ada",
            "7fd8136408484468be2802a7600e83a1",
            "cdde776b83fe4d34a834570ea0233629",
            "3cbde6b8160642e39f5c5760669234df",
            "f2800335e18c4c9897c140c94c198f0f",
            "fce29065ea9e4e7d90630d25b6f5bda3",
            "c9dbd77745a8442a8a24da4c973cccc0",
            "fcf2b58b83fc430cb922c5dd2cac578a",
            "4ae9048ea9de4464890a017bdff9bbac",
            "cdbd17fd2d4b498581215619c6719528",
            "d1e1356cd1b24f098a6286703f6e3e95",
            "1b39446616b54e778e51636f0009b616",
            "79e3e8cc0a9d4cc6939c71838f178221",
            "e677c7780654402b83a9261657e42406",
            "596563cb94e944e1a083ea9e5ed99ee7",
            "4c6abeb925894ddab95d693246751fc4",
            "466cbe8a21364a5191078661c01425c9",
            "7ab6cdec91aa481ab467a6b6a0a3a02e",
            "938d5410cc2a4db5a6d9c6d676c40b40",
            "ffba9576ff8e454fb6ce5ec6d3282ede",
            "3c97911319094b2c81351e8fd80542fb",
            "bdfde9990c62417ebc00a53a22fc4ab4",
            "79e21afb525d4167891bd4f7e3d89d32",
            "501f1f6560d1492ea2b9522614aaf773",
            "96910e877e87440a841b6f1ca99a26ee",
            "4b430cfe19864135b7623e338ea18860",
            "ca07d90161644d209eb620d0fd0e559e",
            "e757c28f92134ab9b12349f42a01999b"
          ]
        }
      },
      "source": [
        "examples, metadata = tfds.load('ted_hrlr_translate/pt_to_en', with_info=True,\n",
        "                               as_supervised=True)\n",
        "train_examples, val_examples = examples['train'], examples['validation']"
      ],
      "execution_count": null,
      "outputs": [
        {
          "output_type": "stream",
          "name": "stdout",
          "text": [
            "\u001b[1mDownloading and preparing dataset 124.94 MiB (download: 124.94 MiB, generated: Unknown size, total: 124.94 MiB) to ~/tensorflow_datasets/ted_hrlr_translate/pt_to_en/1.0.0...\u001b[0m\n"
          ]
        },
        {
          "output_type": "display_data",
          "data": {
            "application/vnd.jupyter.widget-view+json": {
              "model_id": "5ee89f9684db4f4dbf8a361fc5a453bd",
              "version_minor": 0,
              "version_major": 2
            },
            "text/plain": [
              "Dl Completed...: 0 url [00:00, ? url/s]"
            ]
          },
          "metadata": {}
        },
        {
          "output_type": "display_data",
          "data": {
            "application/vnd.jupyter.widget-view+json": {
              "model_id": "61371b665cbf41f89596937d97b6f48c",
              "version_minor": 0,
              "version_major": 2
            },
            "text/plain": [
              "Dl Size...: 0 MiB [00:00, ? MiB/s]"
            ]
          },
          "metadata": {}
        },
        {
          "output_type": "display_data",
          "data": {
            "application/vnd.jupyter.widget-view+json": {
              "model_id": "78939c307f2642f895c592a0dbe7a9fa",
              "version_minor": 0,
              "version_major": 2
            },
            "text/plain": [
              "Extraction completed...: 0 file [00:00, ? file/s]"
            ]
          },
          "metadata": {}
        },
        {
          "output_type": "display_data",
          "data": {
            "application/vnd.jupyter.widget-view+json": {
              "model_id": "3eb5e700c8db40598c816ec357422744",
              "version_minor": 0,
              "version_major": 2
            },
            "text/plain": [
              "Generating splits...:   0%|          | 0/3 [00:00<?, ? splits/s]"
            ]
          },
          "metadata": {}
        },
        {
          "output_type": "display_data",
          "data": {
            "application/vnd.jupyter.widget-view+json": {
              "model_id": "6825bfad37a84bd89b213736f5c9bd28",
              "version_minor": 0,
              "version_major": 2
            },
            "text/plain": [
              "Generating train examples...:   0%|          | 0/51785 [00:00<?, ? examples/s]"
            ]
          },
          "metadata": {}
        },
        {
          "output_type": "display_data",
          "data": {
            "application/vnd.jupyter.widget-view+json": {
              "model_id": "5073664fe777405fa4b9bf6af3e9ab0d",
              "version_minor": 0,
              "version_major": 2
            },
            "text/plain": [
              "Shuffling ~/tensorflow_datasets/ted_hrlr_translate/pt_to_en/1.0.0.incomplete4JJGFB/ted_hrlr_translate-train.tf…"
            ]
          },
          "metadata": {}
        },
        {
          "output_type": "display_data",
          "data": {
            "application/vnd.jupyter.widget-view+json": {
              "model_id": "8c8e3aed40064bc08fafc65f2f7269a1",
              "version_minor": 0,
              "version_major": 2
            },
            "text/plain": [
              "Generating validation examples...:   0%|          | 0/1193 [00:00<?, ? examples/s]"
            ]
          },
          "metadata": {}
        },
        {
          "output_type": "display_data",
          "data": {
            "application/vnd.jupyter.widget-view+json": {
              "model_id": "2a617884857c4f7fab2db0e4d7011343",
              "version_minor": 0,
              "version_major": 2
            },
            "text/plain": [
              "Shuffling ~/tensorflow_datasets/ted_hrlr_translate/pt_to_en/1.0.0.incomplete4JJGFB/ted_hrlr_translate-validati…"
            ]
          },
          "metadata": {}
        },
        {
          "output_type": "display_data",
          "data": {
            "application/vnd.jupyter.widget-view+json": {
              "model_id": "c9dbd77745a8442a8a24da4c973cccc0",
              "version_minor": 0,
              "version_major": 2
            },
            "text/plain": [
              "Generating test examples...:   0%|          | 0/1803 [00:00<?, ? examples/s]"
            ]
          },
          "metadata": {}
        },
        {
          "output_type": "display_data",
          "data": {
            "application/vnd.jupyter.widget-view+json": {
              "model_id": "7ab6cdec91aa481ab467a6b6a0a3a02e",
              "version_minor": 0,
              "version_major": 2
            },
            "text/plain": [
              "Shuffling ~/tensorflow_datasets/ted_hrlr_translate/pt_to_en/1.0.0.incomplete4JJGFB/ted_hrlr_translate-test.tfr…"
            ]
          },
          "metadata": {}
        },
        {
          "output_type": "stream",
          "name": "stdout",
          "text": [
            "\u001b[1mDataset ted_hrlr_translate downloaded and prepared to ~/tensorflow_datasets/ted_hrlr_translate/pt_to_en/1.0.0. Subsequent calls will reuse this data.\u001b[0m\n"
          ]
        }
      ]
    },
    {
      "cell_type": "markdown",
      "metadata": {
        "id": "RCEKotqosGfq"
      },
      "source": [
        "Create a custom subwords tokenizer from the training dataset. "
      ]
    },
    {
      "cell_type": "code",
      "metadata": {
        "id": "KVBg5Q8tBk5z"
      },
      "source": [
        "tokenizer_en = tfds.deprecated.text.SubwordTextEncoder.build_from_corpus(\n",
        "    (en.numpy() for pt, en in train_examples), target_vocab_size=2**13)\n",
        "\n",
        "tokenizer_pt = tfds.deprecated.text.SubwordTextEncoder.build_from_corpus(\n",
        "    (pt.numpy() for pt, en in train_examples), target_vocab_size=2**13)"
      ],
      "execution_count": null,
      "outputs": []
    },
    {
      "cell_type": "code",
      "metadata": {
        "id": "4DYWukNFkGQN",
        "outputId": "ff6f764b-7e53-4a3e-badd-09ac3310f6d9",
        "colab": {
          "base_uri": "https://localhost:8080/"
        }
      },
      "source": [
        "sample_string = 'Transformer is awesome.'\n",
        "\n",
        "tokenized_string = tokenizer_en.encode(sample_string)\n",
        "print ('Tokenized string is {}'.format(tokenized_string))\n",
        "\n",
        "original_string = tokenizer_en.decode(tokenized_string)\n",
        "print ('The original string: {}'.format(original_string))\n",
        "\n",
        "assert original_string == sample_string"
      ],
      "execution_count": null,
      "outputs": [
        {
          "output_type": "stream",
          "name": "stdout",
          "text": [
            "Tokenized string is [7915, 1248, 7946, 7194, 13, 2799, 7877]\n",
            "The original string: Transformer is awesome.\n"
          ]
        }
      ]
    },
    {
      "cell_type": "markdown",
      "metadata": {
        "id": "o9KJWJjrsZ4Y"
      },
      "source": [
        "The tokenizer encodes the string by breaking it into subwords if the word is not in its dictionary."
      ]
    },
    {
      "cell_type": "code",
      "metadata": {
        "id": "bf2ntBxjkqK6",
        "outputId": "96c09b42-9154-4216-9d4a-6e00187df413",
        "colab": {
          "base_uri": "https://localhost:8080/"
        }
      },
      "source": [
        "for ts in tokenized_string:\n",
        "  print ('{} ----> {}'.format(ts, tokenizer_en.decode([ts])))"
      ],
      "execution_count": null,
      "outputs": [
        {
          "output_type": "stream",
          "name": "stdout",
          "text": [
            "7915 ----> T\n",
            "1248 ----> ran\n",
            "7946 ----> s\n",
            "7194 ----> former \n",
            "13 ----> is \n",
            "2799 ----> awesome\n",
            "7877 ----> .\n"
          ]
        }
      ]
    },
    {
      "cell_type": "code",
      "metadata": {
        "id": "bcRp7VcQ5m6g"
      },
      "source": [
        "BUFFER_SIZE = 20000\n",
        "BATCH_SIZE = 64"
      ],
      "execution_count": null,
      "outputs": []
    },
    {
      "cell_type": "markdown",
      "metadata": {
        "id": "kGi4PoVakxdc"
      },
      "source": [
        "Add a start and end token to the input and target. "
      ]
    },
    {
      "cell_type": "code",
      "metadata": {
        "id": "UZwnPr4R055s"
      },
      "source": [
        "def encode(lang1, lang2):\n",
        "  lang1 = [tokenizer_pt.vocab_size] + tokenizer_pt.encode(\n",
        "      lang1.numpy()) + [tokenizer_pt.vocab_size+1]\n",
        "\n",
        "  lang2 = [tokenizer_en.vocab_size] + tokenizer_en.encode(\n",
        "      lang2.numpy()) + [tokenizer_en.vocab_size+1]\n",
        "  \n",
        "  return lang1, lang2"
      ],
      "execution_count": null,
      "outputs": []
    },
    {
      "cell_type": "markdown",
      "metadata": {
        "id": "Tx1sFbR-9fRs"
      },
      "source": [
        "You want to use `Dataset.map` to apply this function to each element of the dataset.  `Dataset.map` runs in graph mode.\n",
        "\n",
        "* Graph tensors do not have a value. \n",
        "* In graph mode you can only use TensorFlow Ops and functions. \n",
        "\n",
        "So you can't `.map` this function directly: You need to wrap it in a `tf.py_function`. The `tf.py_function` will pass regular tensors (with a value and a `.numpy()` method to access it), to the wrapped python function."
      ]
    },
    {
      "cell_type": "code",
      "metadata": {
        "id": "Mah1cS-P70Iz"
      },
      "source": [
        "def tf_encode(pt, en):\n",
        "  result_pt, result_en = tf.py_function(encode, [pt, en], [tf.int64, tf.int64])\n",
        "  result_pt.set_shape([None])\n",
        "  result_en.set_shape([None])\n",
        "\n",
        "  return result_pt, result_en"
      ],
      "execution_count": null,
      "outputs": []
    },
    {
      "cell_type": "markdown",
      "metadata": {
        "id": "6JrGp5Gek6Ql"
      },
      "source": [
        "Note: To keep this example small and relatively fast, drop examples with a length of over 40 tokens."
      ]
    },
    {
      "cell_type": "code",
      "metadata": {
        "id": "2QEgbjntk6Yf"
      },
      "source": [
        "MAX_LENGTH = 40"
      ],
      "execution_count": null,
      "outputs": []
    },
    {
      "cell_type": "code",
      "metadata": {
        "id": "c081xPGv1CPI"
      },
      "source": [
        "def filter_max_length(x, y, max_length=MAX_LENGTH):\n",
        "  return tf.logical_and(tf.size(x) <= max_length,\n",
        "                        tf.size(y) <= max_length)"
      ],
      "execution_count": null,
      "outputs": []
    },
    {
      "cell_type": "code",
      "metadata": {
        "id": "9mk9AZdZ5bcS"
      },
      "source": [
        "train_dataset = train_examples.map(tf_encode)\n",
        "train_dataset = train_dataset.filter(filter_max_length)\n",
        "# cache the dataset to memory to get a speedup while reading from it.\n",
        "train_dataset = train_dataset.cache()\n",
        "train_dataset = train_dataset.shuffle(BUFFER_SIZE).padded_batch(BATCH_SIZE)\n",
        "train_dataset = train_dataset.prefetch(tf.data.experimental.AUTOTUNE)\n",
        "\n",
        "\n",
        "val_dataset = val_examples.map(tf_encode)\n",
        "val_dataset = val_dataset.filter(filter_max_length).padded_batch(BATCH_SIZE)"
      ],
      "execution_count": null,
      "outputs": []
    },
    {
      "cell_type": "code",
      "metadata": {
        "id": "_fXvfYVfQr2n",
        "outputId": "878b10a3-cb43-40cf-8816-590126581a78",
        "colab": {
          "base_uri": "https://localhost:8080/"
        }
      },
      "source": [
        "pt_batch, en_batch = next(iter(val_dataset))\n",
        "pt_batch, en_batch"
      ],
      "execution_count": null,
      "outputs": [
        {
          "output_type": "execute_result",
          "data": {
            "text/plain": [
              "(<tf.Tensor: shape=(64, 38), dtype=int64, numpy=\n",
              " array([[8214,  342, 3032, ...,    0,    0,    0],\n",
              "        [8214,   95,  198, ...,    0,    0,    0],\n",
              "        [8214, 4479, 7990, ...,    0,    0,    0],\n",
              "        ...,\n",
              "        [8214,  584,   12, ...,    0,    0,    0],\n",
              "        [8214,   59, 1548, ...,    0,    0,    0],\n",
              "        [8214,  118,   34, ...,    0,    0,    0]])>,\n",
              " <tf.Tensor: shape=(64, 40), dtype=int64, numpy=\n",
              " array([[8087,   98,   25, ...,    0,    0,    0],\n",
              "        [8087,   12,   20, ...,    0,    0,    0],\n",
              "        [8087,   12, 5453, ...,    0,    0,    0],\n",
              "        ...,\n",
              "        [8087,   18, 2059, ...,    0,    0,    0],\n",
              "        [8087,   16, 1436, ...,    0,    0,    0],\n",
              "        [8087,   15,   57, ...,    0,    0,    0]])>)"
            ]
          },
          "metadata": {},
          "execution_count": 13
        }
      ]
    },
    {
      "cell_type": "markdown",
      "metadata": {
        "id": "nBQuibYA4n0n"
      },
      "source": [
        "## Positional encoding\n",
        "\n",
        "Since this model doesn't contain any recurrence or convolution, positional encoding is added to give the model some information about the relative position of the words in the sentence. \n",
        "\n",
        "The positional encoding vector is added to the embedding vector. Embeddings represent a token in a d-dimensional space where tokens with similar meaning will be closer to each other. But the embeddings do not encode the relative position of words in a sentence. So after adding the positional encoding, words will be closer to each other based on the *similarity of their meaning and their position in the sentence*, in the d-dimensional space.\n",
        "\n",
        "See the notebook on [positional encoding](https://github.com/tensorflow/examples/blob/master/community/en/position_encoding.ipynb) to learn more about it. The formula for calculating the positional encoding is as follows:\n",
        "\n",
        "$$\\Large{PE_{(pos, 2i)} = sin(pos / 10000^{2i / d_{model}})} $$\n",
        "$$\\Large{PE_{(pos, 2i+1)} = cos(pos / 10000^{2i / d_{model}})} $$"
      ]
    },
    {
      "cell_type": "code",
      "metadata": {
        "id": "WhIOZjMNKujn"
      },
      "source": [
        "def get_angles(pos, i, d_model):\n",
        "  angle_rates = 1 / np.power(10000, (2 * (i//2)) / np.float32(d_model))\n",
        "  return pos * angle_rates"
      ],
      "execution_count": null,
      "outputs": []
    },
    {
      "cell_type": "code",
      "metadata": {
        "id": "1Rz82wEs5biZ"
      },
      "source": [
        "def positional_encoding(position, d_model):\n",
        "  angle_rads = get_angles(np.arange(position)[:, np.newaxis],\n",
        "                          np.arange(d_model)[np.newaxis, :],\n",
        "                          d_model)\n",
        "  \n",
        "  # apply sin to even indices in the array; 2i\n",
        "  angle_rads[:, 0::2] = np.sin(angle_rads[:, 0::2])\n",
        "  \n",
        "  # apply cos to odd indices in the array; 2i+1\n",
        "  angle_rads[:, 1::2] = np.cos(angle_rads[:, 1::2])\n",
        "    \n",
        "  pos_encoding = angle_rads[np.newaxis, ...]\n",
        "    \n",
        "  return tf.cast(pos_encoding, dtype=tf.float32)"
      ],
      "execution_count": null,
      "outputs": []
    },
    {
      "cell_type": "code",
      "metadata": {
        "id": "1kLCla68EloE",
        "outputId": "d6bf0120-b0e1-44cc-a58e-32912cc01de6",
        "colab": {
          "base_uri": "https://localhost:8080/",
          "height": 301
        }
      },
      "source": [
        "pos_encoding = positional_encoding(50, 512)\n",
        "print (pos_encoding.shape)\n",
        "\n",
        "plt.pcolormesh(pos_encoding[0], cmap='RdBu')\n",
        "plt.xlabel('Depth')\n",
        "plt.xlim((0, 512))\n",
        "plt.ylabel('Position')\n",
        "plt.colorbar()\n",
        "plt.show()"
      ],
      "execution_count": null,
      "outputs": [
        {
          "output_type": "stream",
          "name": "stdout",
          "text": [
            "(1, 50, 512)\n"
          ]
        },
        {
          "output_type": "display_data",
          "data": {
            "image/png": "[encoded data removed]",
            "text/plain": [
              "<Figure size 432x288 with 2 Axes>"
            ]
          },
          "metadata": {
            "needs_background": "light"
          }
        }
      ]
    },
    {
      "cell_type": "markdown",
      "metadata": {
        "id": "a_b4ou4TYqUN"
      },
      "source": [
        "## Masking"
      ]
    },
    {
      "cell_type": "markdown",
      "metadata": {
        "id": "s42Uydjkv0hF"
      },
      "source": [
        "Mask all the pad tokens in the batch of sequence. It ensures that the model does not treat padding as the input. The mask indicates where pad value `0` is present: it outputs a `1` at those locations, and a `0` otherwise."
      ]
    },
    {
      "cell_type": "code",
      "metadata": {
        "id": "U2i8-e1s8ti9"
      },
      "source": [
        "def create_padding_mask(seq):\n",
        "  seq = tf.cast(tf.math.equal(seq, 0), tf.float32)\n",
        "  \n",
        "  # add extra dimensions to add the padding\n",
        "  # to the attention logits.\n",
        "  return seq[:, tf.newaxis, tf.newaxis, :]  # (batch_size, 1, 1, seq_len)"
      ],
      "execution_count": null,
      "outputs": []
    },
    {
      "cell_type": "code",
      "metadata": {
        "id": "A7BYeBCNvi7n",
        "outputId": "055f327e-bc86-4dea-9286-1f65f76bb5cd",
        "colab": {
          "base_uri": "https://localhost:8080/"
        }
      },
      "source": [
        "x = tf.constant([[7, 6, 0, 0, 1], [1, 2, 3, 0, 0], [0, 0, 0, 4, 5]])\n",
        "create_padding_mask(x)"
      ],
      "execution_count": null,
      "outputs": [
        {
          "output_type": "execute_result",
          "data": {
            "text/plain": [
              "<tf.Tensor: shape=(3, 1, 1, 5), dtype=float32, numpy=\n",
              "array([[[[0., 0., 1., 1., 0.]]],\n",
              "\n",
              "\n",
              "       [[[0., 0., 0., 1., 1.]]],\n",
              "\n",
              "\n",
              "       [[[1., 1., 1., 0., 0.]]]], dtype=float32)>"
            ]
          },
          "metadata": {},
          "execution_count": 18
        }
      ]
    },
    {
      "cell_type": "markdown",
      "metadata": {
        "id": "Z0hzukDBgVom"
      },
      "source": [
        "The look-ahead mask is used to mask the future tokens in a sequence. In other words, the mask indicates which entries should not be used.\n",
        "\n",
        "This means that to predict the third word, only the first and second word will be used. Similarly to predict the fourth word, only the first, second and the third word will be used and so on."
      ]
    },
    {
      "cell_type": "code",
      "metadata": {
        "id": "dVxS8OPI9uI0"
      },
      "source": [
        "def create_look_ahead_mask(size):\n",
        "  mask = 1 - tf.linalg.band_part(tf.ones((size, size)), -1, 0)\n",
        "  return mask  # (seq_len, seq_len)"
      ],
      "execution_count": null,
      "outputs": []
    },
    {
      "cell_type": "code",
      "metadata": {
        "id": "yxKGuXxaBeeE",
        "outputId": "d1ca5cb8-d881-4132-c6a4-b6f7bae65e43",
        "colab": {
          "base_uri": "https://localhost:8080/"
        }
      },
      "source": [
        "x = tf.random.uniform((1, 3))\n",
        "temp = create_look_ahead_mask(x.shape[1])\n",
        "temp"
      ],
      "execution_count": null,
      "outputs": [
        {
          "output_type": "execute_result",
          "data": {
            "text/plain": [
              "<tf.Tensor: shape=(3, 3), dtype=float32, numpy=\n",
              "array([[0., 1., 1.],\n",
              "       [0., 0., 1.],\n",
              "       [0., 0., 0.]], dtype=float32)>"
            ]
          },
          "metadata": {},
          "execution_count": 20
        }
      ]
    },
    {
      "cell_type": "markdown",
      "metadata": {
        "id": "xluDl5cXYy4y"
      },
      "source": [
        "## Scaled dot product attention"
      ]
    },
    {
      "cell_type": "markdown",
      "metadata": {
        "id": "vsxEE_-Wa1gF"
      },
      "source": [
        "<img src=\"https://www.tensorflow.org/images/tutorials/transformer/scaled_attention.png\" width=\"500\" alt=\"scaled_dot_product_attention\">\n",
        "\n",
        "The attention function used by the transformer takes three inputs: Q (query), K (key), V (value). The equation used to calculate the attention weights is:\n",
        "\n",
        "$$\\Large{Attention(Q, K, V) = softmax_k(\\frac{QK^T}{\\sqrt{d_k}}) V} $$\n",
        "\n",
        "The dot-product attention is scaled by a factor of square root of the depth. This is done because for large values of depth, the dot product grows large in magnitude pushing the softmax function where it has small gradients resulting in a very hard softmax. \n",
        "\n",
        "For example, consider that `Q` and `K` have a mean of 0 and variance of 1. Their matrix multiplication will have a mean of 0 and variance of `dk`. Hence, *square root of `dk`* is used for scaling (and not any other number) because the matmul of `Q` and `K` should have a mean of 0 and variance of 1, and you get a gentler softmax.\n",
        "\n",
        "The mask is multiplied with -1e9 (close to negative infinity). This is done because the mask is summed with the scaled matrix multiplication of Q and K and is applied immediately before a softmax. The goal is to zero out these cells, and large negative inputs to softmax are near zero in the output."
      ]
    },
    {
      "cell_type": "code",
      "metadata": {
        "id": "LazzUq3bJ5SH"
      },
      "source": [
        "def scaled_dot_product_attention(q, k, mask):\n",
        "  \"\"\"Calculate the attention weights.\n",
        "  q, k, v must have matching leading dimensions.\n",
        "  k, v must have matching penultimate dimension, i.e.: seq_len_k = seq_len_v.\n",
        "  The mask has different shapes depending on its type(padding or look ahead) \n",
        "  but it must be broadcastable for addition.\n",
        "  \n",
        "  Args:\n",
        "    q: query shape == (..., seq_len_q, depth)\n",
        "    k: key shape == (..., seq_len_k, depth)\n",
        "    v: value shape == (..., seq_len_v, depth_v)\n",
        "    mask: Float tensor with shape broadcastable \n",
        "          to (..., seq_len_q, seq_len_k). Defaults to None.\n",
        "    \n",
        "  Returns:\n",
        "    output, attention_weights\n",
        "  \"\"\"\n",
        "\n",
        "  matmul_qk = tf.matmul(q, k, transpose_b=True)  # (..., seq_len_q, seq_len_k)\n",
        "  \n",
        "  # scale matmul_qk\n",
        "  dk = tf.cast(tf.shape(k)[-1], tf.float32)\n",
        "  scaled_attention_logits = matmul_qk / tf.math.sqrt(dk)\n",
        "\n",
        "  # add the mask to the scaled tensor.\n",
        "  if mask is not None:\n",
        "    scaled_attention_logits += (mask * -1e9)  \n",
        "\n",
        "  # softmax is normalized on the last axis (seq_len_k) so that the scores\n",
        "  # add up to 1.\n",
        "  attention_weights = tf.nn.softmax(scaled_attention_logits, axis=-1)  # (..., seq_len_q, seq_len_k)\n",
        "\n",
        "  output = tf.matmul(attention_weights, k)  # (..., seq_len_q, depth_v)\n",
        "\n",
        "  return output, attention_weights"
      ],
      "execution_count": null,
      "outputs": []
    },
    {
      "cell_type": "markdown",
      "metadata": {
        "id": "FiqETnhCkoXh"
      },
      "source": [
        "As the softmax normalization is done on K, its values decide the amount of importance given to Q.\n",
        "\n",
        "The output represents the multiplication of the attention weights and the V (value) vector. This ensures that the words you want to focus on are kept as-is and the irrelevant words are flushed out."
      ]
    },
    {
      "cell_type": "code",
      "metadata": {
        "id": "n90YjClyInFy"
      },
      "source": [
        "def print_out(q, k):\n",
        "  temp_out, temp_attn = scaled_dot_product_attention(\n",
        "      q, k, None)\n",
        "  print ('Attention weights are:')\n",
        "  print (temp_attn)\n",
        "  print ('Output is:')\n",
        "  print (temp_out)"
      ],
      "execution_count": null,
      "outputs": []
    },
    {
      "cell_type": "code",
      "metadata": {
        "id": "yAzUAf2DPlNt",
        "outputId": "b924409a-3117-4293-ef62-85352e9fd042",
        "colab": {
          "base_uri": "https://localhost:8080/"
        }
      },
      "source": [
        "np.set_printoptions(suppress=True)\n",
        "\n",
        "temp_k = tf.constant([[10,0,0],\n",
        "                      [0,10,0],\n",
        "                      [0,0,10],\n",
        "                      [0,0,10]], dtype=tf.float32)  # (4, 3)\n",
        "\n",
        "temp_v = tf.constant([[   1,0],\n",
        "                      [  10,0],\n",
        "                      [ 100,5],\n",
        "                      [1000,6]], dtype=tf.float32)  # (4, 2)\n",
        "\n",
        "# This `query` aligns with the second `key`,\n",
        "# so the second `value` is returned.\n",
        "temp_q = tf.constant([[0, 10, 0]], dtype=tf.float32)  # (1, 3)\n",
        "print_out(temp_q, temp_k)"
      ],
      "execution_count": null,
      "outputs": [
        {
          "output_type": "stream",
          "name": "stdout",
          "text": [
            "Attention weights are:\n",
            "tf.Tensor([[0. 1. 0. 0.]], shape=(1, 4), dtype=float32)\n",
            "Output is:\n",
            "tf.Tensor([[ 0. 10.  0.]], shape=(1, 3), dtype=float32)\n"
          ]
        }
      ]
    },
    {
      "cell_type": "code",
      "metadata": {
        "id": "zg6k-fGhgXra",
        "outputId": "880b5882-af92-4fed-8613-e56c2ae04281",
        "colab": {
          "base_uri": "https://localhost:8080/"
        }
      },
      "source": [
        "# This query aligns with a repeated key (third and fourth), \n",
        "# so all associated values get averaged.\n",
        "temp_q = tf.constant([[0, 0, 10]], dtype=tf.float32)  # (1, 3)\n",
        "print_out(temp_q, temp_k)"
      ],
      "execution_count": null,
      "outputs": [
        {
          "output_type": "stream",
          "name": "stdout",
          "text": [
            "Attention weights are:\n",
            "tf.Tensor([[0.  0.  0.5 0.5]], shape=(1, 4), dtype=float32)\n",
            "Output is:\n",
            "tf.Tensor([[ 0.  0. 10.]], shape=(1, 3), dtype=float32)\n"
          ]
        }
      ]
    },
    {
      "cell_type": "code",
      "metadata": {
        "id": "UAq3YOzUgXhb",
        "outputId": "ffc43874-d684-4857-ba2b-0d1e13727906",
        "colab": {
          "base_uri": "https://localhost:8080/"
        }
      },
      "source": [
        "# This query aligns equally with the first and second key, \n",
        "# so their values get averaged.\n",
        "temp_q = tf.constant([[10, 10, 0]], dtype=tf.float32)  # (1, 3)\n",
        "print_out(temp_q, temp_k)"
      ],
      "execution_count": null,
      "outputs": [
        {
          "output_type": "stream",
          "name": "stdout",
          "text": [
            "Attention weights are:\n",
            "tf.Tensor([[0.5 0.5 0.  0. ]], shape=(1, 4), dtype=float32)\n",
            "Output is:\n",
            "tf.Tensor([[5. 5. 0.]], shape=(1, 3), dtype=float32)\n"
          ]
        }
      ]
    },
    {
      "cell_type": "markdown",
      "metadata": {
        "id": "aOz-4_XIhaTP"
      },
      "source": [
        "Pass all the queries together."
      ]
    },
    {
      "cell_type": "code",
      "metadata": {
        "id": "6dlU8Tm-hYrF",
        "outputId": "7c693182-ca04-4ba9-e944-3adba2e87624",
        "colab": {
          "base_uri": "https://localhost:8080/"
        }
      },
      "source": [
        "temp_q = tf.constant([[0, 0, 10], [0, 10, 0], [10, 10, 0]], dtype=tf.float32)  # (3, 3)\n",
        "print_out(temp_q, temp_k)"
      ],
      "execution_count": null,
      "outputs": [
        {
          "output_type": "stream",
          "name": "stdout",
          "text": [
            "Attention weights are:\n",
            "tf.Tensor(\n",
            "[[0.  0.  0.5 0.5]\n",
            " [0.  1.  0.  0. ]\n",
            " [0.5 0.5 0.  0. ]], shape=(3, 4), dtype=float32)\n",
            "Output is:\n",
            "tf.Tensor(\n",
            "[[ 0.  0. 10.]\n",
            " [ 0. 10.  0.]\n",
            " [ 5.  5.  0.]], shape=(3, 3), dtype=float32)\n"
          ]
        }
      ]
    },
    {
      "cell_type": "markdown",
      "metadata": {
        "id": "kmzGPEy64qmA"
      },
      "source": [
        "## Multi-head attention"
      ]
    },
    {
      "cell_type": "markdown",
      "metadata": {
        "id": "fz5BMC8Kaoqo"
      },
      "source": [
        "<img src=\"https://www.tensorflow.org/images/tutorials/transformer/multi_head_attention.png\" width=\"500\" alt=\"multi-head attention\">\n",
        "\n",
        "\n",
        "Multi-head attention consists of four parts:\n",
        "*    Linear layers and split into heads.\n",
        "*    Scaled dot-product attention.\n",
        "*    Concatenation of heads.\n",
        "*    Final linear layer."
      ]
    },
    {
      "cell_type": "markdown",
      "metadata": {
        "id": "JPmbr6F1C-v_"
      },
      "source": [
        "Each multi-head attention block gets three inputs; Q (query), K (key), V (value). These are put through linear (Dense) layers and split up into multiple heads. \n",
        "\n",
        "The `scaled_dot_product_attention` defined above is applied to each head (broadcasted for efficiency). An appropriate mask must be used in the attention step.  The attention output for each head is then concatenated (using `tf.transpose`, and `tf.reshape`) and put through a final `Dense` layer.\n",
        "\n",
        "Instead of one single attention head, Q, K, and V are split into multiple heads because it allows the model to jointly attend to information at different positions from different representational spaces. After the split each head has a reduced dimensionality, so the total computation cost is the same as a single head attention with full dimensionality."
      ]
    },
    {
      "cell_type": "code",
      "metadata": {
        "id": "BSV3PPKsYecw"
      },
      "source": [
        "class MultiHeadAttention(tf.keras.layers.Layer):\n",
        "  def __init__(self, d_model, num_heads):\n",
        "    super(MultiHeadAttention, self).__init__()\n",
        "    self.num_heads = num_heads\n",
        "    self.d_model = d_model\n",
        "    \n",
        "    assert d_model % self.num_heads == 0\n",
        "    \n",
        "    self.depth = d_model // self.num_heads\n",
        "    \n",
        "    self.wq = tf.keras.layers.Dense(d_model)\n",
        "    self.wk = tf.keras.layers.Dense(d_model)\n",
        "    # self.wv = tf.keras.layers.Dense(d_model)\n",
        "    \n",
        "    self.dense = tf.keras.layers.Dense(d_model)\n",
        "        \n",
        "  def split_heads(self, x, batch_size):\n",
        "    \"\"\"Split the last dimension into (num_heads, depth).\n",
        "    Transpose the result such that the shape is (batch_size, num_heads, seq_len, depth)\n",
        "    \"\"\"\n",
        "    x = tf.reshape(x, (batch_size, -1, self.num_heads, self.depth))\n",
        "    return tf.transpose(x, perm=[0, 2, 1, 3])\n",
        "    \n",
        "  def call(self, v, k, q, mask):\n",
        "    batch_size = tf.shape(q)[0]\n",
        "    \n",
        "    q = self.wq(q)  # (batch_size, seq_len, d_model)\n",
        "    k = self.wk(k)  # (batch_size, seq_len, d_model)\n",
        "    # v = self.wv(v)  # (batch_size, seq_len, d_model)\n",
        "    \n",
        "    q = self.split_heads(q, batch_size)  # (batch_size, num_heads, seq_len_q, depth)\n",
        "    k = self.split_heads(k, batch_size)  # (batch_size, num_heads, seq_len_k, depth)\n",
        "    # v = self.split_heads(v, batch_size)  # (batch_size, num_heads, seq_len_v, depth)\n",
        "    \n",
        "    # scaled_attention.shape == (batch_size, num_heads, seq_len_q, depth)\n",
        "    # attention_weights.shape == (batch_size, num_heads, seq_len_q, seq_len_k)\n",
        "    scaled_attention, attention_weights = scaled_dot_product_attention(\n",
        "        q, k, mask)\n",
        "    \n",
        "    scaled_attention = tf.transpose(scaled_attention, perm=[0, 2, 1, 3])  # (batch_size, seq_len_q, num_heads, depth)\n",
        "\n",
        "    concat_attention = tf.reshape(scaled_attention, \n",
        "                                  (batch_size, -1, self.d_model))  # (batch_size, seq_len_q, d_model)\n",
        "\n",
        "    output = self.dense(concat_attention)  # (batch_size, seq_len_q, d_model)\n",
        "        \n",
        "    return output, attention_weights"
      ],
      "execution_count": null,
      "outputs": []
    },
    {
      "cell_type": "markdown",
      "metadata": {
        "id": "0D8FJue5lDyZ"
      },
      "source": [
        "Create a `MultiHeadAttention` layer to try out. At each location in the sequence, `y`, the `MultiHeadAttention` runs all 8 attention heads across all other locations in the sequence, returning a new vector of the same length at each location."
      ]
    },
    {
      "cell_type": "code",
      "metadata": {
        "id": "Hu94p-_-2_BX",
        "outputId": "68c55a0e-21d0-4340-82d6-f3da14695dda",
        "colab": {
          "base_uri": "https://localhost:8080/"
        }
      },
      "source": [
        "temp_mha = MultiHeadAttention(d_model=512, num_heads=8)\n",
        "y = tf.random.uniform((1, 60, 512))  # (batch_size, encoder_sequence, d_model)\n",
        "out, attn = temp_mha(y, k=y, q=y, mask=None)\n",
        "out.shape, attn.shape"
      ],
      "execution_count": null,
      "outputs": [
        {
          "output_type": "execute_result",
          "data": {
            "text/plain": [
              "(TensorShape([1, 60, 512]), TensorShape([1, 8, 60, 60]))"
            ]
          },
          "metadata": {},
          "execution_count": 28
        }
      ]
    },
    {
      "cell_type": "markdown",
      "metadata": {
        "id": "RdDqGayx67vv"
      },
      "source": [
        "## Point wise feed forward network"
      ]
    },
    {
      "cell_type": "markdown",
      "metadata": {
        "id": "gBqzJXGfHK3X"
      },
      "source": [
        "Point wise feed forward network consists of two fully-connected layers with a ReLU activation in between."
      ]
    },
    {
      "cell_type": "code",
      "metadata": {
        "id": "ET7xLt0yCT6Z"
      },
      "source": [
        "def point_wise_feed_forward_network(d_model, dff):\n",
        "  return tf.keras.Sequential([\n",
        "      tf.keras.layers.Dense(dff, activation='relu'),  # (batch_size, seq_len, dff)\n",
        "      tf.keras.layers.Dense(d_model)  # (batch_size, seq_len, d_model)\n",
        "  ])"
      ],
      "execution_count": null,
      "outputs": []
    },
    {
      "cell_type": "code",
      "metadata": {
        "id": "mytb1lPyOHLB",
        "outputId": "ea310469-73ef-437d-d3cb-8036a2a99b43",
        "colab": {
          "base_uri": "https://localhost:8080/"
        }
      },
      "source": [
        "sample_ffn = point_wise_feed_forward_network(512, 2048)\n",
        "sample_ffn(tf.random.uniform((64, 50, 512))).shape"
      ],
      "execution_count": null,
      "outputs": [
        {
          "output_type": "execute_result",
          "data": {
            "text/plain": [
              "TensorShape([64, 50, 512])"
            ]
          },
          "metadata": {},
          "execution_count": 30
        }
      ]
    },
    {
      "cell_type": "markdown",
      "metadata": {
        "id": "7e7hKcxn6-zd"
      },
      "source": [
        "## Encoder and decoder"
      ]
    },
    {
      "cell_type": "markdown",
      "metadata": {
        "id": "yScbC0MUH8dS"
      },
      "source": [
        "<img src=\"https://www.tensorflow.org/images/tutorials/transformer/transformer.png\" width=\"600\" alt=\"transformer\">"
      ]
    },
    {
      "cell_type": "markdown",
      "metadata": {
        "id": "MfYJG-Kvgwy2"
      },
      "source": [
        "The transformer model follows the same general pattern as a standard [sequence to sequence with attention model](nmt_with_attention.ipynb). \n",
        "\n",
        "* The input sentence is passed through `N` encoder layers that generates an output for each word/token in the sequence.\n",
        "* The decoder attends on the encoder's output and its own input (self-attention) to predict the next word. "
      ]
    },
    {
      "cell_type": "markdown",
      "metadata": {
        "id": "QFv-FNYUmvpn"
      },
      "source": [
        "### Encoder layer\n",
        "\n",
        "Each encoder layer consists of sublayers:\n",
        "\n",
        "1.   Multi-head attention (with padding mask) \n",
        "2.    Point wise feed forward networks. \n",
        "\n",
        "Each of these sublayers has a residual connection around it followed by a layer normalization. Residual connections help in avoiding the vanishing gradient problem in deep networks.\n",
        "\n",
        "The output of each sublayer is `LayerNorm(x + Sublayer(x))`. The normalization is done on the `d_model` (last) axis. There are N encoder layers in the transformer."
      ]
    },
    {
      "cell_type": "code",
      "metadata": {
        "id": "ncyS-Ms3i2x_"
      },
      "source": [
        "class EncoderLayer(tf.keras.layers.Layer):\n",
        "  def __init__(self, d_model, num_heads, dff, rate=0.1):\n",
        "    super(EncoderLayer, self).__init__()\n",
        "\n",
        "    self.mha = MultiHeadAttention(d_model, num_heads)\n",
        "    self.ffn = point_wise_feed_forward_network(d_model, dff)\n",
        "\n",
        "    self.layernorm1 = tf.keras.layers.LayerNormalization(epsilon=1e-6)\n",
        "    self.layernorm2 = tf.keras.layers.LayerNormalization(epsilon=1e-6)\n",
        "    \n",
        "    self.dropout1 = tf.keras.layers.Dropout(rate)\n",
        "    self.dropout2 = tf.keras.layers.Dropout(rate)\n",
        "    \n",
        "  def call(self, x, training, mask):\n",
        "\n",
        "    attn_output, _ = self.mha(x, x, x, mask)  # (batch_size, input_seq_len, d_model)\n",
        "    attn_output = self.dropout1(attn_output, training=training)\n",
        "    out1 = self.layernorm1(x + attn_output)  # (batch_size, input_seq_len, d_model)\n",
        "    \n",
        "    ffn_output = self.ffn(out1)  # (batch_size, input_seq_len, d_model)\n",
        "    ffn_output = self.dropout2(ffn_output, training=training)\n",
        "    out2 = self.layernorm2(out1 + ffn_output)  # (batch_size, input_seq_len, d_model)\n",
        "    \n",
        "    return out2"
      ],
      "execution_count": null,
      "outputs": []
    },
    {
      "cell_type": "code",
      "metadata": {
        "id": "AzZRXdO0mI48",
        "outputId": "2943845f-473a-4bb8-d29a-7cc122cdf977",
        "colab": {
          "base_uri": "https://localhost:8080/"
        }
      },
      "source": [
        "sample_encoder_layer = EncoderLayer(512, 8, 2048)\n",
        "\n",
        "sample_encoder_layer_output = sample_encoder_layer(\n",
        "    tf.random.uniform((64, 43, 512)), False, None)\n",
        "\n",
        "sample_encoder_layer_output.shape  # (batch_size, input_seq_len, d_model)"
      ],
      "execution_count": null,
      "outputs": [
        {
          "output_type": "execute_result",
          "data": {
            "text/plain": [
              "TensorShape([64, 43, 512])"
            ]
          },
          "metadata": {},
          "execution_count": 32
        }
      ]
    },
    {
      "cell_type": "markdown",
      "metadata": {
        "id": "6LO_48Owmx_o"
      },
      "source": [
        "### Decoder layer\n",
        "\n",
        "Each decoder layer consists of sublayers:\n",
        "\n",
        "1.   Masked multi-head attention (with look ahead mask and padding mask)\n",
        "2.   Multi-head attention (with padding mask). V (value) and K (key) receive the *encoder output* as inputs. Q (query) receives the *output from the masked multi-head attention sublayer.*\n",
        "3.   Point wise feed forward networks\n",
        "\n",
        "Each of these sublayers has a residual connection around it followed by a layer normalization. The output of each sublayer is `LayerNorm(x + Sublayer(x))`. The normalization is done on the `d_model` (last) axis.\n",
        "\n",
        "There are N decoder layers in the transformer.\n",
        "\n",
        "As Q receives the output from decoder's first attention block, and K receives the encoder output, the attention weights represent the importance given to the decoder's input based on the encoder's output. In other words, the decoder predicts the next word by looking at the encoder output and self-attending to its own output. See the demonstration above in the scaled dot product attention section."
      ]
    },
    {
      "cell_type": "code",
      "metadata": {
        "id": "9SoX0-vd1hue"
      },
      "source": [
        "class DecoderLayer(tf.keras.layers.Layer):\n",
        "  def __init__(self, d_model, num_heads, dff, rate=0.1):\n",
        "    super(DecoderLayer, self).__init__()\n",
        "\n",
        "    self.mha1 = MultiHeadAttention(d_model, num_heads)\n",
        "    self.mha2 = MultiHeadAttention(d_model, num_heads)\n",
        "\n",
        "    self.ffn = point_wise_feed_forward_network(d_model, dff)\n",
        " \n",
        "    self.layernorm1 = tf.keras.layers.LayerNormalization(epsilon=1e-6)\n",
        "    self.layernorm2 = tf.keras.layers.LayerNormalization(epsilon=1e-6)\n",
        "    self.layernorm3 = tf.keras.layers.LayerNormalization(epsilon=1e-6)\n",
        "    \n",
        "    self.dropout1 = tf.keras.layers.Dropout(rate)\n",
        "    self.dropout2 = tf.keras.layers.Dropout(rate)\n",
        "    self.dropout3 = tf.keras.layers.Dropout(rate)\n",
        "    \n",
        "    \n",
        "  def call(self, x, enc_output, training, \n",
        "           look_ahead_mask, padding_mask):\n",
        "    # enc_output.shape == (batch_size, input_seq_len, d_model)\n",
        "\n",
        "    attn1, attn_weights_block1 = self.mha1(x, x, x, look_ahead_mask)  # (batch_size, target_seq_len, d_model)\n",
        "    attn1 = self.dropout1(attn1, training=training)\n",
        "    out1 = self.layernorm1(attn1 + x)\n",
        "    \n",
        "    attn2, attn_weights_block2 = self.mha2(\n",
        "        enc_output, enc_output, out1, padding_mask)  # (batch_size, target_seq_len, d_model)\n",
        "    attn2 = self.dropout2(attn2, training=training)\n",
        "    out2 = self.layernorm2(attn2 + out1)  # (batch_size, target_seq_len, d_model)\n",
        "    \n",
        "    ffn_output = self.ffn(out2)  # (batch_size, target_seq_len, d_model)\n",
        "    ffn_output = self.dropout3(ffn_output, training=training)\n",
        "    out3 = self.layernorm3(ffn_output + out2)  # (batch_size, target_seq_len, d_model)\n",
        "    \n",
        "    return out3, attn_weights_block1, attn_weights_block2"
      ],
      "execution_count": null,
      "outputs": []
    },
    {
      "cell_type": "code",
      "metadata": {
        "id": "Ne2Bqx8k71l0",
        "outputId": "6eaf3e9b-7e0d-43c5-da07-e7583cac8cda",
        "colab": {
          "base_uri": "https://localhost:8080/"
        }
      },
      "source": [
        "sample_decoder_layer = DecoderLayer(512, 8, 2048)\n",
        "\n",
        "sample_decoder_layer_output, _, _ = sample_decoder_layer(\n",
        "    tf.random.uniform((64, 50, 512)), sample_encoder_layer_output, \n",
        "    False, None, None)\n",
        "\n",
        "sample_decoder_layer_output.shape  # (batch_size, target_seq_len, d_model)"
      ],
      "execution_count": null,
      "outputs": [
        {
          "output_type": "execute_result",
          "data": {
            "text/plain": [
              "TensorShape([64, 50, 512])"
            ]
          },
          "metadata": {},
          "execution_count": 34
        }
      ]
    },
    {
      "cell_type": "markdown",
      "metadata": {
        "id": "SE1H51Ajm0q1"
      },
      "source": [
        "### Encoder\n",
        "\n",
        "The `Encoder` consists of:\n",
        "1.   Input Embedding\n",
        "2.   Positional Encoding\n",
        "3.   N encoder layers\n",
        "\n",
        "The input is put through an embedding which is summed with the positional encoding. The output of this summation is the input to the encoder layers. The output of the encoder is the input to the decoder."
      ]
    },
    {
      "cell_type": "code",
      "metadata": {
        "id": "jpEox7gJ8FCI"
      },
      "source": [
        "class Encoder(tf.keras.layers.Layer):\n",
        "  def __init__(self, num_layers, d_model, num_heads, dff, input_vocab_size,\n",
        "               maximum_position_encoding, rate=0.1):\n",
        "    super(Encoder, self).__init__()\n",
        "\n",
        "    self.d_model = d_model\n",
        "    self.num_layers = num_layers\n",
        "    \n",
        "    self.embedding = tf.keras.layers.Embedding(input_vocab_size, d_model)\n",
        "    self.pos_encoding = positional_encoding(maximum_position_encoding, \n",
        "                                            self.d_model)\n",
        "    \n",
        "    \n",
        "    self.enc_layers = [EncoderLayer(d_model, num_heads, dff, rate) \n",
        "                       for _ in range(num_layers)]\n",
        "  \n",
        "    self.dropout = tf.keras.layers.Dropout(rate)\n",
        "        \n",
        "  def call(self, x, training, mask):\n",
        "\n",
        "    seq_len = tf.shape(x)[1]\n",
        "    \n",
        "    # adding embedding and position encoding.\n",
        "    x = self.embedding(x)  # (batch_size, input_seq_len, d_model)\n",
        "    x *= tf.math.sqrt(tf.cast(self.d_model, tf.float32))\n",
        "    x += self.pos_encoding[:, :seq_len, :]\n",
        "\n",
        "    x = self.dropout(x, training=training)\n",
        "    \n",
        "    for i in range(self.num_layers):\n",
        "      x = self.enc_layers[i](x, training, mask)\n",
        "    \n",
        "    return x  # (batch_size, input_seq_len, d_model)"
      ],
      "execution_count": null,
      "outputs": []
    },
    {
      "cell_type": "code",
      "metadata": {
        "id": "8QG9nueFQKXx",
        "outputId": "a634daea-a2e2-4082-d869-5c1b7169370e",
        "colab": {
          "base_uri": "https://localhost:8080/"
        }
      },
      "source": [
        "sample_encoder = Encoder(num_layers=2, d_model=512, num_heads=8, \n",
        "                         dff=2048, input_vocab_size=8500,\n",
        "                         maximum_position_encoding=10000)\n",
        "temp_input = tf.random.uniform((64, 62), dtype=tf.int64, minval=0, maxval=200)\n",
        "\n",
        "sample_encoder_output = sample_encoder(temp_input, training=False, mask=None)\n",
        "\n",
        "print (sample_encoder_output.shape)  # (batch_size, input_seq_len, d_model)"
      ],
      "execution_count": null,
      "outputs": [
        {
          "output_type": "stream",
          "name": "stdout",
          "text": [
            "(64, 62, 512)\n"
          ]
        }
      ]
    },
    {
      "cell_type": "markdown",
      "metadata": {
        "id": "p-uO6ls8m2O5"
      },
      "source": [
        "### Decoder"
      ]
    },
    {
      "cell_type": "markdown",
      "metadata": {
        "id": "ZtT7PKzrXkNr"
      },
      "source": [
        " The `Decoder` consists of:\n",
        "1.   Output Embedding\n",
        "2.   Positional Encoding\n",
        "3.   N decoder layers\n",
        "\n",
        "The target is put through an embedding which is summed with the positional encoding. The output of this summation is the input to the decoder layers. The output of the decoder is the input to the final linear layer."
      ]
    },
    {
      "cell_type": "code",
      "metadata": {
        "id": "d5_d5-PLQXwY"
      },
      "source": [
        "class Decoder(tf.keras.layers.Layer):\n",
        "  def __init__(self, num_layers, d_model, num_heads, dff, target_vocab_size,\n",
        "               maximum_position_encoding, rate=0.1):\n",
        "    super(Decoder, self).__init__()\n",
        "\n",
        "    self.d_model = d_model\n",
        "    self.num_layers = num_layers\n",
        "    \n",
        "    self.embedding = tf.keras.layers.Embedding(target_vocab_size, d_model)\n",
        "    self.pos_encoding = positional_encoding(maximum_position_encoding, d_model)\n",
        "    \n",
        "    self.dec_layers = [DecoderLayer(d_model, num_heads, dff, rate) \n",
        "                       for _ in range(num_layers)]\n",
        "    self.dropout = tf.keras.layers.Dropout(rate)\n",
        "    \n",
        "  def call(self, x, enc_output, training, \n",
        "           look_ahead_mask, padding_mask):\n",
        "\n",
        "    seq_len = tf.shape(x)[1]\n",
        "    attention_weights = {}\n",
        "    \n",
        "    x = self.embedding(x)  # (batch_size, target_seq_len, d_model)\n",
        "    x *= tf.math.sqrt(tf.cast(self.d_model, tf.float32))\n",
        "    x += self.pos_encoding[:, :seq_len, :]\n",
        "    \n",
        "    x = self.dropout(x, training=training)\n",
        "\n",
        "    for i in range(self.num_layers):\n",
        "      x, block1, block2 = self.dec_layers[i](x, enc_output, training,\n",
        "                                             look_ahead_mask, padding_mask)\n",
        "      \n",
        "      attention_weights['decoder_layer{}_block1'.format(i+1)] = block1\n",
        "      attention_weights['decoder_layer{}_block2'.format(i+1)] = block2\n",
        "    \n",
        "    # x.shape == (batch_size, target_seq_len, d_model)\n",
        "    return x, attention_weights"
      ],
      "execution_count": null,
      "outputs": []
    },
    {
      "cell_type": "code",
      "metadata": {
        "id": "a1jXoAMRZyvu",
        "outputId": "9d4caecd-af86-48b8-ff95-7970d7df28b7",
        "colab": {
          "base_uri": "https://localhost:8080/"
        }
      },
      "source": [
        "sample_decoder = Decoder(num_layers=2, d_model=512, num_heads=8, \n",
        "                         dff=2048, target_vocab_size=8000,\n",
        "                         maximum_position_encoding=5000)\n",
        "temp_input = tf.random.uniform((64, 26), dtype=tf.int64, minval=0, maxval=200)\n",
        "\n",
        "output, attn = sample_decoder(temp_input, \n",
        "                              enc_output=sample_encoder_output, \n",
        "                              training=False,\n",
        "                              look_ahead_mask=None, \n",
        "                              padding_mask=None)\n",
        "\n",
        "output.shape, attn['decoder_layer2_block2'].shape"
      ],
      "execution_count": null,
      "outputs": [
        {
          "output_type": "execute_result",
          "data": {
            "text/plain": [
              "(TensorShape([64, 26, 512]), TensorShape([64, 8, 26, 62]))"
            ]
          },
          "metadata": {},
          "execution_count": 38
        }
      ]
    },
    {
      "cell_type": "markdown",
      "metadata": {
        "id": "y54xnJnuYgJ7"
      },
      "source": [
        "## Create the Transformer"
      ]
    },
    {
      "cell_type": "markdown",
      "metadata": {
        "id": "uERO1y54cOKq"
      },
      "source": [
        "Transformer consists of the encoder, decoder and a final linear layer. The output of the decoder is the input to the linear layer and its output is returned."
      ]
    },
    {
      "cell_type": "code",
      "metadata": {
        "id": "PED3bIpOYkBu"
      },
      "source": [
        "class Transformer(tf.keras.Model):\n",
        "  def __init__(self, num_layers, d_model, num_heads, dff, input_vocab_size, \n",
        "               target_vocab_size, pe_input, pe_target, rate=0.1):\n",
        "    super(Transformer, self).__init__()\n",
        "\n",
        "    self.encoder = Encoder(num_layers, d_model, num_heads, dff, \n",
        "                           input_vocab_size, pe_input, rate)\n",
        "\n",
        "    self.decoder = Decoder(num_layers, d_model, num_heads, dff, \n",
        "                           target_vocab_size, pe_target, rate)\n",
        "\n",
        "    self.final_layer = tf.keras.layers.Dense(target_vocab_size)\n",
        "    \n",
        "  def call(self, inp, tar, training, enc_padding_mask, \n",
        "           look_ahead_mask, dec_padding_mask):\n",
        "\n",
        "    enc_output = self.encoder(inp, training, enc_padding_mask)  # (batch_size, inp_seq_len, d_model)\n",
        "    \n",
        "    # dec_output.shape == (batch_size, tar_seq_len, d_model)\n",
        "    dec_output, attention_weights = self.decoder(\n",
        "        tar, enc_output, training, look_ahead_mask, dec_padding_mask)\n",
        "    \n",
        "    final_output = self.final_layer(dec_output)  # (batch_size, tar_seq_len, target_vocab_size)\n",
        "    \n",
        "    return final_output, attention_weights"
      ],
      "execution_count": null,
      "outputs": []
    },
    {
      "cell_type": "code",
      "metadata": {
        "id": "tJ4fbQcIkHW1",
        "outputId": "6a2e9a29-2e07-4abe-9c46-e670aca0e408",
        "colab": {
          "base_uri": "https://localhost:8080/"
        }
      },
      "source": [
        "sample_transformer = Transformer(\n",
        "    num_layers=2, d_model=512, num_heads=8, dff=2048, \n",
        "    input_vocab_size=8500, target_vocab_size=8000, \n",
        "    pe_input=10000, pe_target=6000)\n",
        "\n",
        "temp_input = tf.random.uniform((64, 38), dtype=tf.int64, minval=0, maxval=200)\n",
        "temp_target = tf.random.uniform((64, 36), dtype=tf.int64, minval=0, maxval=200)\n",
        "\n",
        "fn_out, _ = sample_transformer(temp_input, temp_target, training=False, \n",
        "                               enc_padding_mask=None, \n",
        "                               look_ahead_mask=None,\n",
        "                               dec_padding_mask=None)\n",
        "\n",
        "fn_out.shape  # (batch_size, tar_seq_len, target_vocab_size)"
      ],
      "execution_count": null,
      "outputs": [
        {
          "output_type": "execute_result",
          "data": {
            "text/plain": [
              "TensorShape([64, 36, 8000])"
            ]
          },
          "metadata": {},
          "execution_count": 40
        }
      ]
    },
    {
      "cell_type": "markdown",
      "metadata": {
        "id": "wsINyf1VEQLC"
      },
      "source": [
        "## Set hyperparameters"
      ]
    },
    {
      "cell_type": "markdown",
      "metadata": {
        "id": "zVjWCxFNcgbt"
      },
      "source": [
        "To keep this example small and relatively fast, the values for *num_layers, d_model, and dff* have been reduced. \n",
        "\n",
        "The values used in the base model of transformer were; *num_layers=6*, *d_model = 512*, *dff = 2048*. See the [paper](https://arxiv.org/abs/1706.03762) for all the other versions of the transformer.\n",
        "\n",
        "Note: By changing the values below, you can get the model that achieved state of the art on many tasks."
      ]
    },
    {
      "cell_type": "code",
      "metadata": {
        "id": "lnJn5SLA2ahP"
      },
      "source": [
        "num_layers = 4\n",
        "d_model = 128\n",
        "dff = 512\n",
        "num_heads = 8\n",
        "\n",
        "input_vocab_size = tokenizer_pt.vocab_size + 2\n",
        "target_vocab_size = tokenizer_en.vocab_size + 2\n",
        "dropout_rate = 0.1"
      ],
      "execution_count": null,
      "outputs": []
    },
    {
      "cell_type": "markdown",
      "metadata": {
        "id": "xYEGhEOtzn5W"
      },
      "source": [
        "## Optimizer"
      ]
    },
    {
      "cell_type": "markdown",
      "metadata": {
        "id": "GOmWW--yP3zx"
      },
      "source": [
        "Use the Adam optimizer with a custom learning rate scheduler according to the formula in the [paper](https://arxiv.org/abs/1706.03762).\n",
        "\n",
        "$$\\Large{lrate = d_{model}^{-0.5} * min(step{\\_}num^{-0.5}, step{\\_}num * warmup{\\_}steps^{-1.5})}$$\n"
      ]
    },
    {
      "cell_type": "code",
      "metadata": {
        "id": "iYQdOO1axwEI"
      },
      "source": [
        "class CustomSchedule(tf.keras.optimizers.schedules.LearningRateSchedule):\n",
        "  def __init__(self, d_model, warmup_steps=4000):\n",
        "    super(CustomSchedule, self).__init__()\n",
        "    \n",
        "    self.d_model = d_model\n",
        "    self.d_model = tf.cast(self.d_model, tf.float32)\n",
        "\n",
        "    self.warmup_steps = warmup_steps\n",
        "    \n",
        "  def __call__(self, step):\n",
        "    arg1 = tf.math.rsqrt(step)\n",
        "    arg2 = step * (self.warmup_steps ** -1.5)\n",
        "    \n",
        "    return tf.math.rsqrt(self.d_model) * tf.math.minimum(arg1, arg2)"
      ],
      "execution_count": null,
      "outputs": []
    },
    {
      "cell_type": "code",
      "metadata": {
        "id": "7r4scdulztRx"
      },
      "source": [
        "learning_rate = CustomSchedule(d_model)\n",
        "\n",
        "optimizer = tf.keras.optimizers.Adam(learning_rate, beta_1=0.9, beta_2=0.98, \n",
        "                                     epsilon=1e-9)"
      ],
      "execution_count": null,
      "outputs": []
    },
    {
      "cell_type": "code",
      "metadata": {
        "id": "f33ZCgvHpPdG",
        "outputId": "2505a2a8-075d-460d-fda2-94c6ac2b9485",
        "colab": {
          "base_uri": "https://localhost:8080/",
          "height": 297
        }
      },
      "source": [
        "temp_learning_rate_schedule = CustomSchedule(d_model)\n",
        "\n",
        "plt.plot(temp_learning_rate_schedule(tf.range(40000, dtype=tf.float32)))\n",
        "plt.ylabel(\"Learning Rate\")\n",
        "plt.xlabel(\"Train Step\")"
      ],
      "execution_count": null,
      "outputs": [
        {
          "output_type": "execute_result",
          "data": {
            "text/plain": [
              "Text(0.5, 0, 'Train Step')"
            ]
          },
          "metadata": {},
          "execution_count": 44
        },
        {
          "output_type": "display_data",
          "data": {
            "image/png": "[encoded data removed]",
            "text/plain": [
              "<Figure size 432x288 with 1 Axes>"
            ]
          },
          "metadata": {
            "needs_background": "light"
          }
        }
      ]
    },
    {
      "cell_type": "markdown",
      "metadata": {
        "id": "YgkDE7hzo8r5"
      },
      "source": [
        "## Loss and metrics"
      ]
    },
    {
      "cell_type": "markdown",
      "metadata": {
        "id": "oxGJtoDuYIHL"
      },
      "source": [
        "Since the target sequences are padded, it is important to apply a padding mask when calculating the loss."
      ]
    },
    {
      "cell_type": "code",
      "metadata": {
        "id": "MlhsJMm0TW_B"
      },
      "source": [
        "loss_object = tf.keras.losses.SparseCategoricalCrossentropy(\n",
        "    from_logits=True, reduction='none')"
      ],
      "execution_count": null,
      "outputs": []
    },
    {
      "cell_type": "code",
      "metadata": {
        "id": "67oqVHiT0Eiu"
      },
      "source": [
        "def loss_function(real, pred):\n",
        "  mask = tf.math.logical_not(tf.math.equal(real, 0))\n",
        "  loss_ = loss_object(real, pred)\n",
        "\n",
        "  mask = tf.cast(mask, dtype=loss_.dtype)\n",
        "  loss_ *= mask\n",
        "  \n",
        "  return tf.reduce_sum(loss_)/tf.reduce_sum(mask)"
      ],
      "execution_count": null,
      "outputs": []
    },
    {
      "cell_type": "code",
      "metadata": {
        "id": "phlyxMnm-Tpx"
      },
      "source": [
        "train_loss = tf.keras.metrics.Mean(name='train_loss')\n",
        "train_accuracy = tf.keras.metrics.SparseCategoricalAccuracy(\n",
        "    name='train_accuracy')"
      ],
      "execution_count": null,
      "outputs": []
    },
    {
      "cell_type": "markdown",
      "metadata": {
        "id": "aeHumfr7zmMa"
      },
      "source": [
        "## Training and checkpointing"
      ]
    },
    {
      "cell_type": "code",
      "metadata": {
        "id": "UiysUa--4tOU"
      },
      "source": [
        "transformer = Transformer(num_layers, d_model, num_heads, dff,\n",
        "                          input_vocab_size, target_vocab_size, \n",
        "                          pe_input=input_vocab_size, \n",
        "                          pe_target=target_vocab_size,\n",
        "                          rate=dropout_rate)"
      ],
      "execution_count": null,
      "outputs": []
    },
    {
      "cell_type": "code",
      "metadata": {
        "id": "ZOJUSB1T8GjM"
      },
      "source": [
        "def create_masks(inp, tar):\n",
        "  # Encoder padding mask\n",
        "  enc_padding_mask = create_padding_mask(inp)\n",
        "  \n",
        "  # Used in the 2nd attention block in the decoder.\n",
        "  # This padding mask is used to mask the encoder outputs.\n",
        "  dec_padding_mask = create_padding_mask(inp)\n",
        "  \n",
        "  # Used in the 1st attention block in the decoder.\n",
        "  # It is used to pad and mask future tokens in the input received by \n",
        "  # the decoder.\n",
        "  look_ahead_mask = create_look_ahead_mask(tf.shape(tar)[1])\n",
        "  dec_target_padding_mask = create_padding_mask(tar)\n",
        "  combined_mask = tf.maximum(dec_target_padding_mask, look_ahead_mask)\n",
        "  \n",
        "  return enc_padding_mask, combined_mask, dec_padding_mask"
      ],
      "execution_count": null,
      "outputs": []
    },
    {
      "cell_type": "markdown",
      "metadata": {
        "id": "Fzuf06YZp66w"
      },
      "source": [
        "Create the checkpoint path and the checkpoint manager. This will be used to save checkpoints every `n` epochs."
      ]
    },
    {
      "cell_type": "code",
      "metadata": {
        "id": "hNhuYfllndLZ"
      },
      "source": [
        "checkpoint_path = \"./checkpoints/train\"\n",
        "\n",
        "ckpt = tf.train.Checkpoint(transformer=transformer,\n",
        "                           optimizer=optimizer)\n",
        "\n",
        "ckpt_manager = tf.train.CheckpointManager(ckpt, checkpoint_path, max_to_keep=5)\n",
        "\n",
        "# if a checkpoint exists, restore the latest checkpoint.\n",
        "if ckpt_manager.latest_checkpoint:\n",
        "  ckpt.restore(ckpt_manager.latest_checkpoint)\n",
        "  print ('Latest checkpoint restored!!')"
      ],
      "execution_count": null,
      "outputs": []
    },
    {
      "cell_type": "markdown",
      "metadata": {
        "id": "0Di_Yaa1gf9r"
      },
      "source": [
        "The target is divided into tar_inp and tar_real. tar_inp is passed as an input to the decoder. `tar_real` is that same input shifted by 1: At each location in `tar_input`, `tar_real` contains the  next token that should be predicted.\n",
        "\n",
        "For example, `sentence` = \"SOS A lion in the jungle is sleeping EOS\"\n",
        "\n",
        "`tar_inp` =  \"SOS A lion in the jungle is sleeping\"\n",
        "\n",
        "`tar_real` = \"A lion in the jungle is sleeping EOS\"\n",
        "\n",
        "The transformer is an auto-regressive model: it makes predictions one part at a time, and uses its output so far to decide what to do next. \n",
        "\n",
        "During training this example uses teacher-forcing (like in the [text generation tutorial](./text_generation.ipynb)). Teacher forcing is passing the true output to the next time step regardless of what the model predicts at the current time step.\n",
        "\n",
        "As the transformer predicts each word, *self-attention* allows it to look at the previous words in the input sequence to better predict the next word.\n",
        "\n",
        "To prevent the model from peeking at the expected output the model uses a look-ahead mask."
      ]
    },
    {
      "cell_type": "code",
      "metadata": {
        "id": "LKpoA6q1sJFj"
      },
      "source": [
        "EPOCHS = 60"
      ],
      "execution_count": null,
      "outputs": []
    },
    {
      "cell_type": "code",
      "metadata": {
        "id": "iJwmp9OE29oj"
      },
      "source": [
        "# The @tf.function trace-compiles train_step into a TF graph for faster\n",
        "# execution. The function specializes to the precise shape of the argument\n",
        "# tensors. To avoid re-tracing due to the variable sequence lengths or variable\n",
        "# batch sizes (the last batch is smaller), use input_signature to specify\n",
        "# more generic shapes.\n",
        "\n",
        "train_step_signature = [\n",
        "    tf.TensorSpec(shape=(None, None), dtype=tf.int64),\n",
        "    tf.TensorSpec(shape=(None, None), dtype=tf.int64),\n",
        "]\n",
        "\n",
        "@tf.function(input_signature=train_step_signature)\n",
        "def train_step(inp, tar):\n",
        "  tar_inp = tar[:, :-1]\n",
        "  tar_real = tar[:, 1:]\n",
        "  \n",
        "  enc_padding_mask, combined_mask, dec_padding_mask = create_masks(inp, tar_inp)\n",
        "  \n",
        "  with tf.GradientTape() as tape:\n",
        "    predictions, _ = transformer(inp, tar_inp, \n",
        "                                 True, \n",
        "                                 enc_padding_mask, \n",
        "                                 combined_mask, \n",
        "                                 dec_padding_mask)\n",
        "    loss = loss_function(tar_real, predictions)\n",
        "\n",
        "  gradients = tape.gradient(loss, transformer.trainable_variables)    \n",
        "  optimizer.apply_gradients(zip(gradients, transformer.trainable_variables))\n",
        "  \n",
        "  train_loss(loss)\n",
        "  train_accuracy(tar_real, predictions)"
      ],
      "execution_count": null,
      "outputs": []
    },
    {
      "cell_type": "markdown",
      "metadata": {
        "id": "qM2PDWGDJ_8V"
      },
      "source": [
        "Portuguese is used as the input language and English is the target language."
      ]
    },
    {
      "cell_type": "code",
      "metadata": {
        "id": "bbvmaKNiznHZ",
        "outputId": "8ae0036f-fc7d-4e0f-b3e6-ba2b58f1cb68",
        "colab": {
          "base_uri": "https://localhost:8080/"
        }
      },
      "source": [
        "for epoch in range(EPOCHS):\n",
        "  start = time.time()\n",
        "  \n",
        "  train_loss.reset_states()\n",
        "  train_accuracy.reset_states()\n",
        "  \n",
        "  # inp -> portuguese, tar -> english\n",
        "  for (batch, (inp, tar)) in enumerate(train_dataset):\n",
        "    train_step(inp, tar)\n",
        "    \n",
        "    if batch % 50 == 0:\n",
        "      print ('Epoch {} Batch {} Loss {:.4f} Accuracy {:.4f}'.format(\n",
        "          epoch + 1, batch, train_loss.result(), train_accuracy.result()))\n",
        "      \n",
        "  if (epoch + 1) % 5 == 0:\n",
        "    ckpt_save_path = ckpt_manager.save()\n",
        "    print ('Saving checkpoint for epoch {} at {}'.format(epoch+1,\n",
        "                                                         ckpt_save_path))\n",
        "    \n",
        "  print ('Epoch {} Loss {:.4f} Accuracy {:.4f}'.format(epoch + 1, \n",
        "                                                train_loss.result(), \n",
        "                                                train_accuracy.result()))\n",
        "\n",
        "  print ('Time taken for 1 epoch: {} secs\\n'.format(time.time() - start))"
      ],
      "execution_count": null,
      "outputs": [
        {
          "output_type": "stream",
          "name": "stdout",
          "text": [
            "Epoch 1 Batch 0 Loss 9.0264 Accuracy 0.0000\n",
            "Epoch 1 Batch 50 Loss 8.9739 Accuracy 0.0001\n",
            "Epoch 1 Batch 100 Loss 8.8833 Accuracy 0.0090\n",
            "Epoch 1 Batch 150 Loss 8.7812 Accuracy 0.0140\n",
            "Epoch 1 Batch 200 Loss 8.6537 Accuracy 0.0165\n",
            "Epoch 1 Batch 250 Loss 8.5010 Accuracy 0.0185\n",
            "Epoch 1 Batch 300 Loss 8.3243 Accuracy 0.0228\n",
            "Epoch 1 Batch 350 Loss 8.1373 Accuracy 0.0266\n",
            "Epoch 1 Batch 400 Loss 7.9557 Accuracy 0.0296\n",
            "Epoch 1 Batch 450 Loss 7.7892 Accuracy 0.0327\n",
            "Epoch 1 Batch 500 Loss 7.6411 Accuracy 0.0362\n",
            "Epoch 1 Batch 550 Loss 7.5034 Accuracy 0.0401\n",
            "Epoch 1 Batch 600 Loss 7.3739 Accuracy 0.0438\n",
            "Epoch 1 Batch 650 Loss 7.2482 Accuracy 0.0476\n",
            "Epoch 1 Batch 700 Loss 7.1311 Accuracy 0.0513\n",
            "Epoch 1 Loss 7.1266 Accuracy 0.0514\n",
            "Time taken for 1 epoch: 107.97587537765503 secs\n",
            "\n",
            "Epoch 2 Batch 0 Loss 5.6390 Accuracy 0.1011\n",
            "Epoch 2 Batch 50 Loss 5.4663 Accuracy 0.1052\n",
            "Epoch 2 Batch 100 Loss 5.3880 Accuracy 0.1080\n",
            "Epoch 2 Batch 150 Loss 5.3287 Accuracy 0.1096\n",
            "Epoch 2 Batch 200 Loss 5.2865 Accuracy 0.1120\n",
            "Epoch 2 Batch 250 Loss 5.2488 Accuracy 0.1138\n",
            "Epoch 2 Batch 300 Loss 5.2128 Accuracy 0.1154\n",
            "Epoch 2 Batch 350 Loss 5.1794 Accuracy 0.1169\n",
            "Epoch 2 Batch 400 Loss 5.1458 Accuracy 0.1183\n",
            "Epoch 2 Batch 450 Loss 5.1172 Accuracy 0.1199\n",
            "Epoch 2 Batch 500 Loss 5.0920 Accuracy 0.1211\n",
            "Epoch 2 Batch 550 Loss 5.0626 Accuracy 0.1223\n",
            "Epoch 2 Batch 600 Loss 5.0384 Accuracy 0.1234\n",
            "Epoch 2 Batch 650 Loss 5.0156 Accuracy 0.1245\n",
            "Epoch 2 Batch 700 Loss 4.9911 Accuracy 0.1257\n",
            "Epoch 2 Loss 4.9895 Accuracy 0.1258\n",
            "Time taken for 1 epoch: 39.622764110565186 secs\n",
            "\n",
            "Epoch 3 Batch 0 Loss 4.8366 Accuracy 0.1279\n",
            "Epoch 3 Batch 50 Loss 4.6289 Accuracy 0.1423\n",
            "Epoch 3 Batch 100 Loss 4.6164 Accuracy 0.1437\n",
            "Epoch 3 Batch 150 Loss 4.6000 Accuracy 0.1447\n",
            "Epoch 3 Batch 200 Loss 4.5811 Accuracy 0.1449\n",
            "Epoch 3 Batch 250 Loss 4.5649 Accuracy 0.1452\n",
            "Epoch 3 Batch 300 Loss 4.5483 Accuracy 0.1463\n",
            "Epoch 3 Batch 350 Loss 4.5373 Accuracy 0.1470\n",
            "Epoch 3 Batch 400 Loss 4.5240 Accuracy 0.1473\n",
            "Epoch 3 Batch 450 Loss 4.5126 Accuracy 0.1476\n",
            "Epoch 3 Batch 500 Loss 4.4996 Accuracy 0.1482\n",
            "Epoch 3 Batch 550 Loss 4.4902 Accuracy 0.1489\n",
            "Epoch 3 Batch 600 Loss 4.4798 Accuracy 0.1492\n",
            "Epoch 3 Batch 650 Loss 4.4699 Accuracy 0.1499\n",
            "Epoch 3 Batch 700 Loss 4.4602 Accuracy 0.1505\n",
            "Epoch 3 Loss 4.4601 Accuracy 0.1505\n",
            "Time taken for 1 epoch: 39.29635572433472 secs\n",
            "\n",
            "Epoch 4 Batch 0 Loss 4.3328 Accuracy 0.1550\n",
            "Epoch 4 Batch 50 Loss 4.2229 Accuracy 0.1601\n",
            "Epoch 4 Batch 100 Loss 4.2130 Accuracy 0.1605\n",
            "Epoch 4 Batch 150 Loss 4.2084 Accuracy 0.1615\n",
            "Epoch 4 Batch 200 Loss 4.2038 Accuracy 0.1618\n",
            "Epoch 4 Batch 250 Loss 4.2005 Accuracy 0.1617\n",
            "Epoch 4 Batch 300 Loss 4.1953 Accuracy 0.1619\n",
            "Epoch 4 Batch 350 Loss 4.1913 Accuracy 0.1620\n",
            "Epoch 4 Batch 400 Loss 4.1841 Accuracy 0.1625\n",
            "Epoch 4 Batch 450 Loss 4.1768 Accuracy 0.1629\n",
            "Epoch 4 Batch 500 Loss 4.1667 Accuracy 0.1635\n",
            "Epoch 4 Batch 550 Loss 4.1586 Accuracy 0.1639\n",
            "Epoch 4 Batch 600 Loss 4.1500 Accuracy 0.1645\n",
            "Epoch 4 Batch 650 Loss 4.1395 Accuracy 0.1650\n",
            "Epoch 4 Batch 700 Loss 4.1288 Accuracy 0.1655\n",
            "Epoch 4 Loss 4.1283 Accuracy 0.1656\n",
            "Time taken for 1 epoch: 39.42122721672058 secs\n",
            "\n",
            "Epoch 5 Batch 0 Loss 4.1040 Accuracy 0.1896\n",
            "Epoch 5 Batch 50 Loss 3.8422 Accuracy 0.1789\n",
            "Epoch 5 Batch 100 Loss 3.8410 Accuracy 0.1785\n",
            "Epoch 5 Batch 150 Loss 3.8389 Accuracy 0.1791\n",
            "Epoch 5 Batch 200 Loss 3.8309 Accuracy 0.1795\n",
            "Epoch 5 Batch 250 Loss 3.8318 Accuracy 0.1800\n",
            "Epoch 5 Batch 300 Loss 3.8288 Accuracy 0.1809\n",
            "Epoch 5 Batch 350 Loss 3.8196 Accuracy 0.1816\n",
            "Epoch 5 Batch 400 Loss 3.8076 Accuracy 0.1821\n",
            "Epoch 5 Batch 450 Loss 3.7937 Accuracy 0.1830\n",
            "Epoch 5 Batch 500 Loss 3.7808 Accuracy 0.1837\n",
            "Epoch 5 Batch 550 Loss 3.7665 Accuracy 0.1844\n",
            "Epoch 5 Batch 600 Loss 3.7553 Accuracy 0.1855\n",
            "Epoch 5 Batch 650 Loss 3.7443 Accuracy 0.1865\n",
            "Epoch 5 Batch 700 Loss 3.7318 Accuracy 0.1875\n",
            "Saving checkpoint for epoch 5 at ./checkpoints/train/ckpt-1\n",
            "Epoch 5 Loss 3.7308 Accuracy 0.1875\n",
            "Time taken for 1 epoch: 39.668795585632324 secs\n",
            "\n",
            "Epoch 6 Batch 0 Loss 3.3461 Accuracy 0.2135\n",
            "Epoch 6 Batch 50 Loss 3.3790 Accuracy 0.2106\n",
            "Epoch 6 Batch 100 Loss 3.3686 Accuracy 0.2085\n",
            "Epoch 6 Batch 150 Loss 3.3768 Accuracy 0.2078\n",
            "Epoch 6 Batch 200 Loss 3.3660 Accuracy 0.2081\n",
            "Epoch 6 Batch 250 Loss 3.3618 Accuracy 0.2079\n",
            "Epoch 6 Batch 300 Loss 3.3512 Accuracy 0.2086\n",
            "Epoch 6 Batch 350 Loss 3.3420 Accuracy 0.2090\n",
            "Epoch 6 Batch 400 Loss 3.3365 Accuracy 0.2092\n",
            "Epoch 6 Batch 450 Loss 3.3284 Accuracy 0.2097\n",
            "Epoch 6 Batch 500 Loss 3.3216 Accuracy 0.2102\n",
            "Epoch 6 Batch 550 Loss 3.3139 Accuracy 0.2107\n",
            "Epoch 6 Batch 600 Loss 3.3035 Accuracy 0.2115\n",
            "Epoch 6 Batch 650 Loss 3.2993 Accuracy 0.2118\n",
            "Epoch 6 Batch 700 Loss 3.2934 Accuracy 0.2124\n",
            "Epoch 6 Loss 3.2927 Accuracy 0.2124\n",
            "Time taken for 1 epoch: 39.550753593444824 secs\n",
            "\n",
            "Epoch 7 Batch 0 Loss 2.8243 Accuracy 0.2418\n",
            "Epoch 7 Batch 50 Loss 2.9265 Accuracy 0.2318\n",
            "Epoch 7 Batch 100 Loss 2.9421 Accuracy 0.2323\n",
            "Epoch 7 Batch 150 Loss 2.9358 Accuracy 0.2312\n",
            "Epoch 7 Batch 200 Loss 2.9359 Accuracy 0.2313\n",
            "Epoch 7 Batch 250 Loss 2.9328 Accuracy 0.2314\n",
            "Epoch 7 Batch 300 Loss 2.9275 Accuracy 0.2325\n",
            "Epoch 7 Batch 350 Loss 2.9235 Accuracy 0.2328\n",
            "Epoch 7 Batch 400 Loss 2.9183 Accuracy 0.2332\n",
            "Epoch 7 Batch 450 Loss 2.9126 Accuracy 0.2336\n",
            "Epoch 7 Batch 500 Loss 2.9035 Accuracy 0.2344\n",
            "Epoch 7 Batch 550 Loss 2.8986 Accuracy 0.2345\n",
            "Epoch 7 Batch 600 Loss 2.8939 Accuracy 0.2348\n",
            "Epoch 7 Batch 650 Loss 2.8895 Accuracy 0.2350\n",
            "Epoch 7 Batch 700 Loss 2.8839 Accuracy 0.2352\n",
            "Epoch 7 Loss 2.8839 Accuracy 0.2352\n",
            "Time taken for 1 epoch: 39.41829752922058 secs\n",
            "\n",
            "Epoch 8 Batch 0 Loss 2.5872 Accuracy 0.2244\n",
            "Epoch 8 Batch 50 Loss 2.5538 Accuracy 0.2499\n",
            "Epoch 8 Batch 100 Loss 2.5588 Accuracy 0.2517\n",
            "Epoch 8 Batch 150 Loss 2.5586 Accuracy 0.2522\n",
            "Epoch 8 Batch 200 Loss 2.5595 Accuracy 0.2522\n",
            "Epoch 8 Batch 250 Loss 2.5638 Accuracy 0.2521\n",
            "Epoch 8 Batch 300 Loss 2.5606 Accuracy 0.2518\n",
            "Epoch 8 Batch 350 Loss 2.5582 Accuracy 0.2523\n",
            "Epoch 8 Batch 400 Loss 2.5583 Accuracy 0.2522\n",
            "Epoch 8 Batch 450 Loss 2.5576 Accuracy 0.2525\n",
            "Epoch 8 Batch 500 Loss 2.5566 Accuracy 0.2528\n",
            "Epoch 8 Batch 550 Loss 2.5552 Accuracy 0.2529\n",
            "Epoch 8 Batch 600 Loss 2.5541 Accuracy 0.2536\n",
            "Epoch 8 Batch 650 Loss 2.5506 Accuracy 0.2536\n",
            "Epoch 8 Batch 700 Loss 2.5502 Accuracy 0.2537\n",
            "Epoch 8 Loss 2.5508 Accuracy 0.2538\n",
            "Time taken for 1 epoch: 39.39209222793579 secs\n",
            "\n",
            "Epoch 9 Batch 0 Loss 2.3301 Accuracy 0.2597\n",
            "Epoch 9 Batch 50 Loss 2.2962 Accuracy 0.2687\n",
            "Epoch 9 Batch 100 Loss 2.2896 Accuracy 0.2686\n",
            "Epoch 9 Batch 150 Loss 2.2826 Accuracy 0.2685\n",
            "Epoch 9 Batch 200 Loss 2.2896 Accuracy 0.2682\n",
            "Epoch 9 Batch 250 Loss 2.2904 Accuracy 0.2682\n",
            "Epoch 9 Batch 300 Loss 2.2935 Accuracy 0.2684\n",
            "Epoch 9 Batch 350 Loss 2.2925 Accuracy 0.2685\n",
            "Epoch 9 Batch 400 Loss 2.2933 Accuracy 0.2684\n",
            "Epoch 9 Batch 450 Loss 2.2965 Accuracy 0.2682\n",
            "Epoch 9 Batch 500 Loss 2.2989 Accuracy 0.2682\n",
            "Epoch 9 Batch 550 Loss 2.3015 Accuracy 0.2681\n",
            "Epoch 9 Batch 600 Loss 2.3017 Accuracy 0.2680\n",
            "Epoch 9 Batch 650 Loss 2.3019 Accuracy 0.2682\n",
            "Epoch 9 Batch 700 Loss 2.3000 Accuracy 0.2682\n",
            "Epoch 9 Loss 2.3000 Accuracy 0.2682\n",
            "Time taken for 1 epoch: 39.45080780982971 secs\n",
            "\n",
            "Epoch 10 Batch 0 Loss 2.0369 Accuracy 0.2799\n",
            "Epoch 10 Batch 50 Loss 2.0507 Accuracy 0.2814\n",
            "Epoch 10 Batch 100 Loss 2.0693 Accuracy 0.2833\n",
            "Epoch 10 Batch 150 Loss 2.0752 Accuracy 0.2808\n",
            "Epoch 10 Batch 200 Loss 2.0829 Accuracy 0.2809\n",
            "Epoch 10 Batch 250 Loss 2.0891 Accuracy 0.2807\n",
            "Epoch 10 Batch 300 Loss 2.0894 Accuracy 0.2802\n",
            "Epoch 10 Batch 350 Loss 2.0917 Accuracy 0.2800\n",
            "Epoch 10 Batch 400 Loss 2.0932 Accuracy 0.2802\n",
            "Epoch 10 Batch 450 Loss 2.0940 Accuracy 0.2798\n",
            "Epoch 10 Batch 500 Loss 2.0959 Accuracy 0.2794\n",
            "Epoch 10 Batch 550 Loss 2.0993 Accuracy 0.2792\n",
            "Epoch 10 Batch 600 Loss 2.1032 Accuracy 0.2792\n",
            "Epoch 10 Batch 650 Loss 2.1080 Accuracy 0.2790\n",
            "Epoch 10 Batch 700 Loss 2.1105 Accuracy 0.2790\n",
            "Saving checkpoint for epoch 10 at ./checkpoints/train/ckpt-2\n",
            "Epoch 10 Loss 2.1112 Accuracy 0.2791\n",
            "Time taken for 1 epoch: 39.71708273887634 secs\n",
            "\n",
            "Epoch 11 Batch 0 Loss 2.1011 Accuracy 0.2897\n",
            "Epoch 11 Batch 50 Loss 1.8851 Accuracy 0.2911\n",
            "Epoch 11 Batch 100 Loss 1.8947 Accuracy 0.2933\n",
            "Epoch 11 Batch 150 Loss 1.9001 Accuracy 0.2924\n",
            "Epoch 11 Batch 200 Loss 1.9088 Accuracy 0.2910\n",
            "Epoch 11 Batch 250 Loss 1.9145 Accuracy 0.2909\n",
            "Epoch 11 Batch 300 Loss 1.9194 Accuracy 0.2906\n",
            "Epoch 11 Batch 350 Loss 1.9247 Accuracy 0.2903\n",
            "Epoch 11 Batch 400 Loss 1.9262 Accuracy 0.2906\n",
            "Epoch 11 Batch 450 Loss 1.9302 Accuracy 0.2905\n",
            "Epoch 11 Batch 500 Loss 1.9367 Accuracy 0.2904\n",
            "Epoch 11 Batch 550 Loss 1.9419 Accuracy 0.2900\n",
            "Epoch 11 Batch 600 Loss 1.9471 Accuracy 0.2896\n",
            "Epoch 11 Batch 650 Loss 1.9510 Accuracy 0.2894\n",
            "Epoch 11 Batch 700 Loss 1.9569 Accuracy 0.2893\n",
            "Epoch 11 Loss 1.9572 Accuracy 0.2893\n",
            "Time taken for 1 epoch: 39.32497262954712 secs\n",
            "\n",
            "Epoch 12 Batch 0 Loss 1.9135 Accuracy 0.2858\n",
            "Epoch 12 Batch 50 Loss 1.7448 Accuracy 0.3063\n",
            "Epoch 12 Batch 100 Loss 1.7606 Accuracy 0.3019\n",
            "Epoch 12 Batch 150 Loss 1.7715 Accuracy 0.3015\n",
            "Epoch 12 Batch 200 Loss 1.7788 Accuracy 0.3000\n",
            "Epoch 12 Batch 250 Loss 1.7838 Accuracy 0.2988\n",
            "Epoch 12 Batch 300 Loss 1.7936 Accuracy 0.2978\n",
            "Epoch 12 Batch 350 Loss 1.7995 Accuracy 0.2985\n",
            "Epoch 12 Batch 400 Loss 1.8028 Accuracy 0.2983\n",
            "Epoch 12 Batch 450 Loss 1.8083 Accuracy 0.2979\n",
            "Epoch 12 Batch 500 Loss 1.8102 Accuracy 0.2981\n",
            "Epoch 12 Batch 550 Loss 1.8155 Accuracy 0.2977\n",
            "Epoch 12 Batch 600 Loss 1.8209 Accuracy 0.2974\n",
            "Epoch 12 Batch 650 Loss 1.8252 Accuracy 0.2975\n",
            "Epoch 12 Batch 700 Loss 1.8314 Accuracy 0.2973\n",
            "Epoch 12 Loss 1.8316 Accuracy 0.2973\n",
            "Time taken for 1 epoch: 39.29069209098816 secs\n",
            "\n",
            "Epoch 13 Batch 0 Loss 1.8380 Accuracy 0.2689\n",
            "Epoch 13 Batch 50 Loss 1.6417 Accuracy 0.3023\n",
            "Epoch 13 Batch 100 Loss 1.6514 Accuracy 0.3054\n",
            "Epoch 13 Batch 150 Loss 1.6656 Accuracy 0.3056\n",
            "Epoch 13 Batch 200 Loss 1.6725 Accuracy 0.3048\n",
            "Epoch 13 Batch 250 Loss 1.6829 Accuracy 0.3045\n",
            "Epoch 13 Batch 300 Loss 1.6867 Accuracy 0.3045\n",
            "Epoch 13 Batch 350 Loss 1.6908 Accuracy 0.3050\n",
            "Epoch 13 Batch 400 Loss 1.6924 Accuracy 0.3053\n",
            "Epoch 13 Batch 450 Loss 1.6964 Accuracy 0.3048\n",
            "Epoch 13 Batch 500 Loss 1.7039 Accuracy 0.3048\n",
            "Epoch 13 Batch 550 Loss 1.7105 Accuracy 0.3045\n",
            "Epoch 13 Batch 600 Loss 1.7163 Accuracy 0.3042\n",
            "Epoch 13 Batch 650 Loss 1.7202 Accuracy 0.3043\n",
            "Epoch 13 Batch 700 Loss 1.7260 Accuracy 0.3038\n",
            "Epoch 13 Loss 1.7258 Accuracy 0.3038\n",
            "Time taken for 1 epoch: 39.2713897228241 secs\n",
            "\n",
            "Epoch 14 Batch 0 Loss 1.5772 Accuracy 0.3037\n",
            "Epoch 14 Batch 50 Loss 1.5469 Accuracy 0.3109\n",
            "Epoch 14 Batch 100 Loss 1.5590 Accuracy 0.3133\n",
            "Epoch 14 Batch 150 Loss 1.5692 Accuracy 0.3119\n",
            "Epoch 14 Batch 200 Loss 1.5714 Accuracy 0.3134\n",
            "Epoch 14 Batch 250 Loss 1.5787 Accuracy 0.3130\n",
            "Epoch 14 Batch 300 Loss 1.5896 Accuracy 0.3123\n",
            "Epoch 14 Batch 350 Loss 1.5936 Accuracy 0.3124\n",
            "Epoch 14 Batch 400 Loss 1.5994 Accuracy 0.3122\n",
            "Epoch 14 Batch 450 Loss 1.6095 Accuracy 0.3121\n",
            "Epoch 14 Batch 500 Loss 1.6130 Accuracy 0.3114\n",
            "Epoch 14 Batch 550 Loss 1.6188 Accuracy 0.3108\n",
            "Epoch 14 Batch 600 Loss 1.6249 Accuracy 0.3102\n",
            "Epoch 14 Batch 650 Loss 1.6317 Accuracy 0.3099\n",
            "Epoch 14 Batch 700 Loss 1.6355 Accuracy 0.3095\n",
            "Epoch 14 Loss 1.6361 Accuracy 0.3095\n",
            "Time taken for 1 epoch: 39.20534014701843 secs\n",
            "\n",
            "Epoch 15 Batch 0 Loss 1.5903 Accuracy 0.2756\n",
            "Epoch 15 Batch 50 Loss 1.4948 Accuracy 0.3207\n",
            "Epoch 15 Batch 100 Loss 1.4824 Accuracy 0.3210\n",
            "Epoch 15 Batch 150 Loss 1.4948 Accuracy 0.3206\n",
            "Epoch 15 Batch 200 Loss 1.5037 Accuracy 0.3193\n",
            "Epoch 15 Batch 250 Loss 1.5102 Accuracy 0.3198\n",
            "Epoch 15 Batch 300 Loss 1.5177 Accuracy 0.3191\n",
            "Epoch 15 Batch 350 Loss 1.5253 Accuracy 0.3179\n",
            "Epoch 15 Batch 400 Loss 1.5265 Accuracy 0.3180\n",
            "Epoch 15 Batch 450 Loss 1.5326 Accuracy 0.3170\n",
            "Epoch 15 Batch 500 Loss 1.5348 Accuracy 0.3167\n",
            "Epoch 15 Batch 550 Loss 1.5391 Accuracy 0.3159\n",
            "Epoch 15 Batch 600 Loss 1.5445 Accuracy 0.3157\n",
            "Epoch 15 Batch 650 Loss 1.5504 Accuracy 0.3154\n",
            "Epoch 15 Batch 700 Loss 1.5551 Accuracy 0.3150\n",
            "Saving checkpoint for epoch 15 at ./checkpoints/train/ckpt-3\n",
            "Epoch 15 Loss 1.5555 Accuracy 0.3150\n",
            "Time taken for 1 epoch: 39.51083469390869 secs\n",
            "\n",
            "Epoch 16 Batch 0 Loss 1.4058 Accuracy 0.2939\n",
            "Epoch 16 Batch 50 Loss 1.4097 Accuracy 0.3228\n",
            "Epoch 16 Batch 100 Loss 1.4114 Accuracy 0.3206\n",
            "Epoch 16 Batch 150 Loss 1.4230 Accuracy 0.3233\n",
            "Epoch 16 Batch 200 Loss 1.4320 Accuracy 0.3223\n",
            "Epoch 16 Batch 250 Loss 1.4359 Accuracy 0.3222\n",
            "Epoch 16 Batch 300 Loss 1.4424 Accuracy 0.3218\n",
            "Epoch 16 Batch 350 Loss 1.4510 Accuracy 0.3215\n",
            "Epoch 16 Batch 400 Loss 1.4565 Accuracy 0.3219\n",
            "Epoch 16 Batch 450 Loss 1.4610 Accuracy 0.3221\n",
            "Epoch 16 Batch 500 Loss 1.4659 Accuracy 0.3213\n",
            "Epoch 16 Batch 550 Loss 1.4722 Accuracy 0.3209\n",
            "Epoch 16 Batch 600 Loss 1.4776 Accuracy 0.3208\n",
            "Epoch 16 Batch 650 Loss 1.4829 Accuracy 0.3200\n",
            "Epoch 16 Batch 700 Loss 1.4877 Accuracy 0.3196\n",
            "Epoch 16 Loss 1.4877 Accuracy 0.3196\n",
            "Time taken for 1 epoch: 39.26243019104004 secs\n",
            "\n",
            "Epoch 17 Batch 0 Loss 1.3073 Accuracy 0.3248\n",
            "Epoch 17 Batch 50 Loss 1.3461 Accuracy 0.3279\n",
            "Epoch 17 Batch 100 Loss 1.3607 Accuracy 0.3266\n",
            "Epoch 17 Batch 150 Loss 1.3668 Accuracy 0.3240\n",
            "Epoch 17 Batch 200 Loss 1.3749 Accuracy 0.3258\n",
            "Epoch 17 Batch 250 Loss 1.3795 Accuracy 0.3258\n",
            "Epoch 17 Batch 300 Loss 1.3819 Accuracy 0.3262\n",
            "Epoch 17 Batch 350 Loss 1.3891 Accuracy 0.3256\n",
            "Epoch 17 Batch 400 Loss 1.3959 Accuracy 0.3255\n",
            "Epoch 17 Batch 450 Loss 1.4009 Accuracy 0.3245\n",
            "Epoch 17 Batch 500 Loss 1.4064 Accuracy 0.3245\n",
            "Epoch 17 Batch 550 Loss 1.4105 Accuracy 0.3247\n",
            "Epoch 17 Batch 600 Loss 1.4153 Accuracy 0.3247\n",
            "Epoch 17 Batch 650 Loss 1.4206 Accuracy 0.3241\n",
            "Epoch 17 Batch 700 Loss 1.4255 Accuracy 0.3238\n",
            "Epoch 17 Loss 1.4256 Accuracy 0.3238\n",
            "Time taken for 1 epoch: 39.227017402648926 secs\n",
            "\n",
            "Epoch 18 Batch 0 Loss 1.3814 Accuracy 0.3319\n",
            "Epoch 18 Batch 50 Loss 1.2802 Accuracy 0.3341\n",
            "Epoch 18 Batch 100 Loss 1.2918 Accuracy 0.3356\n",
            "Epoch 18 Batch 150 Loss 1.3080 Accuracy 0.3325\n",
            "Epoch 18 Batch 200 Loss 1.3170 Accuracy 0.3302\n",
            "Epoch 18 Batch 250 Loss 1.3184 Accuracy 0.3301\n",
            "Epoch 18 Batch 300 Loss 1.3247 Accuracy 0.3298\n",
            "Epoch 18 Batch 350 Loss 1.3297 Accuracy 0.3299\n",
            "Epoch 18 Batch 400 Loss 1.3377 Accuracy 0.3298\n",
            "Epoch 18 Batch 450 Loss 1.3436 Accuracy 0.3297\n",
            "Epoch 18 Batch 500 Loss 1.3488 Accuracy 0.3296\n",
            "Epoch 18 Batch 550 Loss 1.3536 Accuracy 0.3292\n",
            "Epoch 18 Batch 600 Loss 1.3604 Accuracy 0.3280\n",
            "Epoch 18 Batch 650 Loss 1.3659 Accuracy 0.3278\n",
            "Epoch 18 Batch 700 Loss 1.3702 Accuracy 0.3275\n",
            "Epoch 18 Loss 1.3705 Accuracy 0.3275\n",
            "Time taken for 1 epoch: 39.14266228675842 secs\n",
            "\n",
            "Epoch 19 Batch 0 Loss 1.1835 Accuracy 0.3442\n",
            "Epoch 19 Batch 50 Loss 1.2387 Accuracy 0.3387\n",
            "Epoch 19 Batch 100 Loss 1.2478 Accuracy 0.3354\n",
            "Epoch 19 Batch 150 Loss 1.2579 Accuracy 0.3361\n",
            "Epoch 19 Batch 200 Loss 1.2618 Accuracy 0.3354\n",
            "Epoch 19 Batch 250 Loss 1.2669 Accuracy 0.3355\n",
            "Epoch 19 Batch 300 Loss 1.2739 Accuracy 0.3352\n",
            "Epoch 19 Batch 350 Loss 1.2835 Accuracy 0.3354\n",
            "Epoch 19 Batch 400 Loss 1.2896 Accuracy 0.3346\n",
            "Epoch 19 Batch 450 Loss 1.2934 Accuracy 0.3341\n",
            "Epoch 19 Batch 500 Loss 1.2985 Accuracy 0.3337\n",
            "Epoch 19 Batch 550 Loss 1.3048 Accuracy 0.3328\n",
            "Epoch 19 Batch 600 Loss 1.3095 Accuracy 0.3326\n",
            "Epoch 19 Batch 650 Loss 1.3145 Accuracy 0.3319\n",
            "Epoch 19 Batch 700 Loss 1.3193 Accuracy 0.3313\n",
            "Epoch 19 Loss 1.3195 Accuracy 0.3313\n",
            "Time taken for 1 epoch: 39.17085361480713 secs\n",
            "\n",
            "Epoch 20 Batch 0 Loss 1.1507 Accuracy 0.3540\n",
            "Epoch 20 Batch 50 Loss 1.1725 Accuracy 0.3399\n",
            "Epoch 20 Batch 100 Loss 1.1983 Accuracy 0.3373\n",
            "Epoch 20 Batch 150 Loss 1.2126 Accuracy 0.3363\n",
            "Epoch 20 Batch 200 Loss 1.2168 Accuracy 0.3373\n",
            "Epoch 20 Batch 250 Loss 1.2254 Accuracy 0.3372\n",
            "Epoch 20 Batch 300 Loss 1.2284 Accuracy 0.3383\n",
            "Epoch 20 Batch 350 Loss 1.2361 Accuracy 0.3375\n",
            "Epoch 20 Batch 400 Loss 1.2404 Accuracy 0.3369\n",
            "Epoch 20 Batch 450 Loss 1.2456 Accuracy 0.3363\n",
            "Epoch 20 Batch 500 Loss 1.2514 Accuracy 0.3362\n",
            "Epoch 20 Batch 550 Loss 1.2572 Accuracy 0.3360\n",
            "Epoch 20 Batch 600 Loss 1.2641 Accuracy 0.3355\n",
            "Epoch 20 Batch 650 Loss 1.2691 Accuracy 0.3355\n",
            "Epoch 20 Batch 700 Loss 1.2746 Accuracy 0.3350\n",
            "Saving checkpoint for epoch 20 at ./checkpoints/train/ckpt-4\n",
            "Epoch 20 Loss 1.2750 Accuracy 0.3350\n",
            "Time taken for 1 epoch: 39.46100211143494 secs\n",
            "\n",
            "Epoch 21 Batch 0 Loss 1.1052 Accuracy 0.3446\n",
            "Epoch 21 Batch 50 Loss 1.1417 Accuracy 0.3422\n",
            "Epoch 21 Batch 100 Loss 1.1506 Accuracy 0.3447\n",
            "Epoch 21 Batch 150 Loss 1.1588 Accuracy 0.3436\n",
            "Epoch 21 Batch 200 Loss 1.1677 Accuracy 0.3430\n",
            "Epoch 21 Batch 250 Loss 1.1747 Accuracy 0.3417\n",
            "Epoch 21 Batch 300 Loss 1.1836 Accuracy 0.3409\n",
            "Epoch 21 Batch 350 Loss 1.1886 Accuracy 0.3416\n",
            "Epoch 21 Batch 400 Loss 1.1950 Accuracy 0.3411\n",
            "Epoch 21 Batch 450 Loss 1.2024 Accuracy 0.3403\n",
            "Epoch 21 Batch 500 Loss 1.2084 Accuracy 0.3402\n",
            "Epoch 21 Batch 550 Loss 1.2166 Accuracy 0.3394\n",
            "Epoch 21 Batch 600 Loss 1.2234 Accuracy 0.3390\n",
            "Epoch 21 Batch 650 Loss 1.2274 Accuracy 0.3385\n",
            "Epoch 21 Batch 700 Loss 1.2326 Accuracy 0.3382\n",
            "Epoch 21 Loss 1.2323 Accuracy 0.3382\n",
            "Time taken for 1 epoch: 39.245081186294556 secs\n",
            "\n",
            "Epoch 22 Batch 0 Loss 1.0914 Accuracy 0.3617\n",
            "Epoch 22 Batch 50 Loss 1.1220 Accuracy 0.3491\n",
            "Epoch 22 Batch 100 Loss 1.1190 Accuracy 0.3496\n",
            "Epoch 22 Batch 150 Loss 1.1241 Accuracy 0.3483\n",
            "Epoch 22 Batch 200 Loss 1.1383 Accuracy 0.3458\n",
            "Epoch 22 Batch 250 Loss 1.1428 Accuracy 0.3459\n",
            "Epoch 22 Batch 300 Loss 1.1477 Accuracy 0.3459\n",
            "Epoch 22 Batch 350 Loss 1.1516 Accuracy 0.3453\n",
            "Epoch 22 Batch 400 Loss 1.1581 Accuracy 0.3448\n",
            "Epoch 22 Batch 450 Loss 1.1629 Accuracy 0.3446\n",
            "Epoch 22 Batch 500 Loss 1.1689 Accuracy 0.3441\n",
            "Epoch 22 Batch 550 Loss 1.1741 Accuracy 0.3435\n",
            "Epoch 22 Batch 600 Loss 1.1797 Accuracy 0.3426\n",
            "Epoch 22 Batch 650 Loss 1.1871 Accuracy 0.3421\n",
            "Epoch 22 Batch 700 Loss 1.1935 Accuracy 0.3419\n",
            "Epoch 22 Loss 1.1935 Accuracy 0.3418\n",
            "Time taken for 1 epoch: 39.078603744506836 secs\n",
            "\n",
            "Epoch 23 Batch 0 Loss 0.9748 Accuracy 0.3318\n",
            "Epoch 23 Batch 50 Loss 1.0598 Accuracy 0.3470\n",
            "Epoch 23 Batch 100 Loss 1.0739 Accuracy 0.3505\n",
            "Epoch 23 Batch 150 Loss 1.0882 Accuracy 0.3494\n",
            "Epoch 23 Batch 200 Loss 1.0955 Accuracy 0.3482\n",
            "Epoch 23 Batch 250 Loss 1.1048 Accuracy 0.3479\n",
            "Epoch 23 Batch 300 Loss 1.1121 Accuracy 0.3480\n",
            "Epoch 23 Batch 350 Loss 1.1147 Accuracy 0.3478\n",
            "Epoch 23 Batch 400 Loss 1.1191 Accuracy 0.3480\n",
            "Epoch 23 Batch 450 Loss 1.1252 Accuracy 0.3471\n",
            "Epoch 23 Batch 500 Loss 1.1328 Accuracy 0.3461\n",
            "Epoch 23 Batch 550 Loss 1.1400 Accuracy 0.3457\n",
            "Epoch 23 Batch 600 Loss 1.1458 Accuracy 0.3454\n",
            "Epoch 23 Batch 650 Loss 1.1534 Accuracy 0.3447\n",
            "Epoch 23 Batch 700 Loss 1.1585 Accuracy 0.3445\n",
            "Epoch 23 Loss 1.1586 Accuracy 0.3445\n",
            "Time taken for 1 epoch: 39.04965376853943 secs\n",
            "\n",
            "Epoch 24 Batch 0 Loss 0.9813 Accuracy 0.3217\n",
            "Epoch 24 Batch 50 Loss 1.0307 Accuracy 0.3567\n",
            "Epoch 24 Batch 100 Loss 1.0373 Accuracy 0.3557\n",
            "Epoch 24 Batch 150 Loss 1.0511 Accuracy 0.3544\n",
            "Epoch 24 Batch 200 Loss 1.0628 Accuracy 0.3532\n",
            "Epoch 24 Batch 250 Loss 1.0734 Accuracy 0.3513\n",
            "Epoch 24 Batch 300 Loss 1.0774 Accuracy 0.3511\n",
            "Epoch 24 Batch 350 Loss 1.0836 Accuracy 0.3496\n",
            "Epoch 24 Batch 400 Loss 1.0899 Accuracy 0.3485\n",
            "Epoch 24 Batch 450 Loss 1.0983 Accuracy 0.3482\n",
            "Epoch 24 Batch 500 Loss 1.1025 Accuracy 0.3480\n",
            "Epoch 24 Batch 550 Loss 1.1090 Accuracy 0.3476\n",
            "Epoch 24 Batch 600 Loss 1.1155 Accuracy 0.3471\n",
            "Epoch 24 Batch 650 Loss 1.1220 Accuracy 0.3469\n",
            "Epoch 24 Batch 700 Loss 1.1271 Accuracy 0.3467\n",
            "Epoch 24 Loss 1.1274 Accuracy 0.3467\n",
            "Time taken for 1 epoch: 39.10922193527222 secs\n",
            "\n",
            "Epoch 25 Batch 0 Loss 0.9612 Accuracy 0.3779\n",
            "Epoch 25 Batch 50 Loss 1.0072 Accuracy 0.3579\n",
            "Epoch 25 Batch 100 Loss 1.0229 Accuracy 0.3541\n",
            "Epoch 25 Batch 150 Loss 1.0311 Accuracy 0.3549\n",
            "Epoch 25 Batch 200 Loss 1.0379 Accuracy 0.3548\n",
            "Epoch 25 Batch 250 Loss 1.0414 Accuracy 0.3533\n",
            "Epoch 25 Batch 300 Loss 1.0463 Accuracy 0.3532\n",
            "Epoch 25 Batch 350 Loss 1.0555 Accuracy 0.3529\n",
            "Epoch 25 Batch 400 Loss 1.0619 Accuracy 0.3529\n",
            "Epoch 25 Batch 450 Loss 1.0700 Accuracy 0.3519\n",
            "Epoch 25 Batch 500 Loss 1.0730 Accuracy 0.3518\n",
            "Epoch 25 Batch 550 Loss 1.0777 Accuracy 0.3508\n",
            "Epoch 25 Batch 600 Loss 1.0829 Accuracy 0.3505\n",
            "Epoch 25 Batch 650 Loss 1.0882 Accuracy 0.3497\n",
            "Epoch 25 Batch 700 Loss 1.0946 Accuracy 0.3492\n",
            "Saving checkpoint for epoch 25 at ./checkpoints/train/ckpt-5\n",
            "Epoch 25 Loss 1.0948 Accuracy 0.3493\n",
            "Time taken for 1 epoch: 39.37645888328552 secs\n",
            "\n",
            "Epoch 26 Batch 0 Loss 0.9322 Accuracy 0.3530\n",
            "Epoch 26 Batch 50 Loss 0.9872 Accuracy 0.3580\n",
            "Epoch 26 Batch 100 Loss 0.9982 Accuracy 0.3555\n",
            "Epoch 26 Batch 150 Loss 1.0032 Accuracy 0.3555\n",
            "Epoch 26 Batch 200 Loss 1.0091 Accuracy 0.3548\n",
            "Epoch 26 Batch 250 Loss 1.0187 Accuracy 0.3546\n",
            "Epoch 26 Batch 300 Loss 1.0230 Accuracy 0.3540\n",
            "Epoch 26 Batch 350 Loss 1.0289 Accuracy 0.3537\n",
            "Epoch 26 Batch 400 Loss 1.0339 Accuracy 0.3529\n",
            "Epoch 26 Batch 450 Loss 1.0387 Accuracy 0.3527\n",
            "Epoch 26 Batch 500 Loss 1.0430 Accuracy 0.3521\n",
            "Epoch 26 Batch 550 Loss 1.0482 Accuracy 0.3516\n",
            "Epoch 26 Batch 600 Loss 1.0547 Accuracy 0.3517\n",
            "Epoch 26 Batch 650 Loss 1.0602 Accuracy 0.3513\n",
            "Epoch 26 Batch 700 Loss 1.0649 Accuracy 0.3512\n",
            "Epoch 26 Loss 1.0651 Accuracy 0.3513\n",
            "Time taken for 1 epoch: 39.11718273162842 secs\n",
            "\n",
            "Epoch 27 Batch 0 Loss 1.0260 Accuracy 0.3779\n",
            "Epoch 27 Batch 50 Loss 0.9587 Accuracy 0.3593\n",
            "Epoch 27 Batch 100 Loss 0.9596 Accuracy 0.3609\n",
            "Epoch 27 Batch 150 Loss 0.9677 Accuracy 0.3600\n",
            "Epoch 27 Batch 200 Loss 0.9774 Accuracy 0.3607\n",
            "Epoch 27 Batch 250 Loss 0.9841 Accuracy 0.3591\n",
            "Epoch 27 Batch 300 Loss 0.9923 Accuracy 0.3582\n",
            "Epoch 27 Batch 350 Loss 0.9996 Accuracy 0.3578\n",
            "Epoch 27 Batch 400 Loss 1.0057 Accuracy 0.3571\n",
            "Epoch 27 Batch 450 Loss 1.0114 Accuracy 0.3569\n",
            "Epoch 27 Batch 500 Loss 1.0172 Accuracy 0.3560\n",
            "Epoch 27 Batch 550 Loss 1.0229 Accuracy 0.3553\n",
            "Epoch 27 Batch 600 Loss 1.0292 Accuracy 0.3551\n",
            "Epoch 27 Batch 650 Loss 1.0344 Accuracy 0.3544\n",
            "Epoch 27 Batch 700 Loss 1.0414 Accuracy 0.3534\n",
            "Epoch 27 Loss 1.0416 Accuracy 0.3534\n",
            "Time taken for 1 epoch: 39.114667654037476 secs\n",
            "\n",
            "Epoch 28 Batch 0 Loss 0.9409 Accuracy 0.3628\n",
            "Epoch 28 Batch 50 Loss 0.9414 Accuracy 0.3607\n",
            "Epoch 28 Batch 100 Loss 0.9439 Accuracy 0.3634\n",
            "Epoch 28 Batch 150 Loss 0.9521 Accuracy 0.3623\n",
            "Epoch 28 Batch 200 Loss 0.9621 Accuracy 0.3614\n",
            "Epoch 28 Batch 250 Loss 0.9666 Accuracy 0.3603\n",
            "Epoch 28 Batch 300 Loss 0.9695 Accuracy 0.3588\n",
            "Epoch 28 Batch 350 Loss 0.9761 Accuracy 0.3590\n",
            "Epoch 28 Batch 400 Loss 0.9831 Accuracy 0.3587\n",
            "Epoch 28 Batch 450 Loss 0.9915 Accuracy 0.3576\n",
            "Epoch 28 Batch 500 Loss 0.9967 Accuracy 0.3572\n",
            "Epoch 28 Batch 550 Loss 1.0021 Accuracy 0.3565\n",
            "Epoch 28 Batch 600 Loss 1.0075 Accuracy 0.3560\n",
            "Epoch 28 Batch 650 Loss 1.0118 Accuracy 0.3558\n",
            "Epoch 28 Batch 700 Loss 1.0163 Accuracy 0.3554\n",
            "Epoch 28 Loss 1.0164 Accuracy 0.3554\n",
            "Time taken for 1 epoch: 39.07453441619873 secs\n",
            "\n",
            "Epoch 29 Batch 0 Loss 0.8611 Accuracy 0.3779\n",
            "Epoch 29 Batch 50 Loss 0.9136 Accuracy 0.3628\n",
            "Epoch 29 Batch 100 Loss 0.9262 Accuracy 0.3613\n",
            "Epoch 29 Batch 150 Loss 0.9334 Accuracy 0.3593\n",
            "Epoch 29 Batch 200 Loss 0.9379 Accuracy 0.3592\n",
            "Epoch 29 Batch 250 Loss 0.9471 Accuracy 0.3585\n",
            "Epoch 29 Batch 300 Loss 0.9494 Accuracy 0.3591\n",
            "Epoch 29 Batch 350 Loss 0.9552 Accuracy 0.3588\n",
            "Epoch 29 Batch 400 Loss 0.9589 Accuracy 0.3583\n",
            "Epoch 29 Batch 450 Loss 0.9664 Accuracy 0.3583\n",
            "Epoch 29 Batch 500 Loss 0.9728 Accuracy 0.3579\n",
            "Epoch 29 Batch 550 Loss 0.9790 Accuracy 0.3580\n",
            "Epoch 29 Batch 600 Loss 0.9849 Accuracy 0.3577\n",
            "Epoch 29 Batch 650 Loss 0.9890 Accuracy 0.3574\n",
            "Epoch 29 Batch 700 Loss 0.9939 Accuracy 0.3570\n",
            "Epoch 29 Loss 0.9940 Accuracy 0.3570\n",
            "Time taken for 1 epoch: 39.057392835617065 secs\n",
            "\n",
            "Epoch 30 Batch 0 Loss 0.9747 Accuracy 0.3619\n",
            "Epoch 30 Batch 50 Loss 0.8841 Accuracy 0.3688\n",
            "Epoch 30 Batch 100 Loss 0.8901 Accuracy 0.3703\n",
            "Epoch 30 Batch 150 Loss 0.9040 Accuracy 0.3671\n",
            "Epoch 30 Batch 200 Loss 0.9128 Accuracy 0.3651\n",
            "Epoch 30 Batch 250 Loss 0.9229 Accuracy 0.3639\n",
            "Epoch 30 Batch 300 Loss 0.9292 Accuracy 0.3633\n",
            "Epoch 30 Batch 350 Loss 0.9327 Accuracy 0.3631\n",
            "Epoch 30 Batch 400 Loss 0.9375 Accuracy 0.3624\n",
            "Epoch 30 Batch 450 Loss 0.9439 Accuracy 0.3624\n",
            "Epoch 30 Batch 500 Loss 0.9508 Accuracy 0.3617\n",
            "Epoch 30 Batch 550 Loss 0.9566 Accuracy 0.3614\n",
            "Epoch 30 Batch 600 Loss 0.9634 Accuracy 0.3607\n",
            "Epoch 30 Batch 650 Loss 0.9674 Accuracy 0.3602\n",
            "Epoch 30 Batch 700 Loss 0.9727 Accuracy 0.3592\n",
            "Saving checkpoint for epoch 30 at ./checkpoints/train/ckpt-6\n",
            "Epoch 30 Loss 0.9730 Accuracy 0.3591\n",
            "Time taken for 1 epoch: 39.4303514957428 secs\n",
            "\n",
            "Epoch 31 Batch 0 Loss 0.8674 Accuracy 0.3772\n",
            "Epoch 31 Batch 50 Loss 0.8810 Accuracy 0.3704\n",
            "Epoch 31 Batch 100 Loss 0.8892 Accuracy 0.3645\n",
            "Epoch 31 Batch 150 Loss 0.8912 Accuracy 0.3652\n",
            "Epoch 31 Batch 200 Loss 0.8953 Accuracy 0.3651\n",
            "Epoch 31 Batch 250 Loss 0.9019 Accuracy 0.3648\n",
            "Epoch 31 Batch 300 Loss 0.9085 Accuracy 0.3642\n",
            "Epoch 31 Batch 350 Loss 0.9166 Accuracy 0.3634\n",
            "Epoch 31 Batch 400 Loss 0.9212 Accuracy 0.3631\n",
            "Epoch 31 Batch 450 Loss 0.9271 Accuracy 0.3627\n",
            "Epoch 31 Batch 500 Loss 0.9312 Accuracy 0.3623\n",
            "Epoch 31 Batch 550 Loss 0.9379 Accuracy 0.3623\n",
            "Epoch 31 Batch 600 Loss 0.9432 Accuracy 0.3617\n",
            "Epoch 31 Batch 650 Loss 0.9480 Accuracy 0.3613\n",
            "Epoch 31 Batch 700 Loss 0.9533 Accuracy 0.3608\n",
            "Epoch 31 Loss 0.9534 Accuracy 0.3608\n",
            "Time taken for 1 epoch: 39.09891152381897 secs\n",
            "\n",
            "Epoch 32 Batch 0 Loss 0.8822 Accuracy 0.3433\n",
            "Epoch 32 Batch 50 Loss 0.8574 Accuracy 0.3716\n",
            "Epoch 32 Batch 100 Loss 0.8678 Accuracy 0.3703\n",
            "Epoch 32 Batch 150 Loss 0.8732 Accuracy 0.3684\n",
            "Epoch 32 Batch 200 Loss 0.8809 Accuracy 0.3670\n",
            "Epoch 32 Batch 250 Loss 0.8841 Accuracy 0.3666\n",
            "Epoch 32 Batch 300 Loss 0.8919 Accuracy 0.3661\n",
            "Epoch 32 Batch 350 Loss 0.8972 Accuracy 0.3656\n",
            "Epoch 32 Batch 400 Loss 0.9009 Accuracy 0.3656\n",
            "Epoch 32 Batch 450 Loss 0.9062 Accuracy 0.3653\n",
            "Epoch 32 Batch 500 Loss 0.9120 Accuracy 0.3644\n",
            "Epoch 32 Batch 550 Loss 0.9158 Accuracy 0.3641\n",
            "Epoch 32 Batch 600 Loss 0.9226 Accuracy 0.3635\n",
            "Epoch 32 Batch 650 Loss 0.9285 Accuracy 0.3629\n",
            "Epoch 32 Batch 700 Loss 0.9333 Accuracy 0.3624\n",
            "Epoch 32 Loss 0.9333 Accuracy 0.3624\n",
            "Time taken for 1 epoch: 39.12955832481384 secs\n",
            "\n",
            "Epoch 33 Batch 0 Loss 0.7245 Accuracy 0.3527\n",
            "Epoch 33 Batch 50 Loss 0.8413 Accuracy 0.3699\n",
            "Epoch 33 Batch 100 Loss 0.8467 Accuracy 0.3721\n",
            "Epoch 33 Batch 150 Loss 0.8556 Accuracy 0.3714\n",
            "Epoch 33 Batch 200 Loss 0.8634 Accuracy 0.3690\n",
            "Epoch 33 Batch 250 Loss 0.8684 Accuracy 0.3689\n",
            "Epoch 33 Batch 300 Loss 0.8730 Accuracy 0.3681\n",
            "Epoch 33 Batch 350 Loss 0.8789 Accuracy 0.3676\n",
            "Epoch 33 Batch 400 Loss 0.8834 Accuracy 0.3677\n",
            "Epoch 33 Batch 450 Loss 0.8886 Accuracy 0.3673\n",
            "Epoch 33 Batch 500 Loss 0.8924 Accuracy 0.3672\n",
            "Epoch 33 Batch 550 Loss 0.8993 Accuracy 0.3666\n",
            "Epoch 33 Batch 600 Loss 0.9046 Accuracy 0.3659\n",
            "Epoch 33 Batch 650 Loss 0.9107 Accuracy 0.3654\n",
            "Epoch 33 Batch 700 Loss 0.9158 Accuracy 0.3649\n",
            "Epoch 33 Loss 0.9156 Accuracy 0.3649\n",
            "Time taken for 1 epoch: 39.12796211242676 secs\n",
            "\n",
            "Epoch 34 Batch 0 Loss 0.8041 Accuracy 0.3538\n",
            "Epoch 34 Batch 50 Loss 0.8052 Accuracy 0.3762\n",
            "Epoch 34 Batch 100 Loss 0.8143 Accuracy 0.3713\n",
            "Epoch 34 Batch 150 Loss 0.8260 Accuracy 0.3692\n",
            "Epoch 34 Batch 200 Loss 0.8409 Accuracy 0.3678\n",
            "Epoch 34 Batch 250 Loss 0.8509 Accuracy 0.3673\n",
            "Epoch 34 Batch 300 Loss 0.8569 Accuracy 0.3688\n",
            "Epoch 34 Batch 350 Loss 0.8621 Accuracy 0.3681\n",
            "Epoch 34 Batch 400 Loss 0.8650 Accuracy 0.3681\n",
            "Epoch 34 Batch 450 Loss 0.8686 Accuracy 0.3678\n",
            "Epoch 34 Batch 500 Loss 0.8734 Accuracy 0.3675\n",
            "Epoch 34 Batch 550 Loss 0.8796 Accuracy 0.3667\n",
            "Epoch 34 Batch 600 Loss 0.8851 Accuracy 0.3662\n",
            "Epoch 34 Batch 650 Loss 0.8921 Accuracy 0.3658\n",
            "Epoch 34 Batch 700 Loss 0.8965 Accuracy 0.3658\n",
            "Epoch 34 Loss 0.8966 Accuracy 0.3659\n",
            "Time taken for 1 epoch: 39.02301359176636 secs\n",
            "\n",
            "Epoch 35 Batch 0 Loss 0.8005 Accuracy 0.3962\n",
            "Epoch 35 Batch 50 Loss 0.8031 Accuracy 0.3709\n",
            "Epoch 35 Batch 100 Loss 0.8100 Accuracy 0.3726\n",
            "Epoch 35 Batch 150 Loss 0.8200 Accuracy 0.3694\n",
            "Epoch 35 Batch 200 Loss 0.8247 Accuracy 0.3689\n",
            "Epoch 35 Batch 250 Loss 0.8309 Accuracy 0.3693\n",
            "Epoch 35 Batch 300 Loss 0.8364 Accuracy 0.3701\n",
            "Epoch 35 Batch 350 Loss 0.8404 Accuracy 0.3695\n",
            "Epoch 35 Batch 400 Loss 0.8459 Accuracy 0.3694\n",
            "Epoch 35 Batch 450 Loss 0.8533 Accuracy 0.3689\n",
            "Epoch 35 Batch 500 Loss 0.8591 Accuracy 0.3682\n",
            "Epoch 35 Batch 550 Loss 0.8643 Accuracy 0.3674\n",
            "Epoch 35 Batch 600 Loss 0.8703 Accuracy 0.3670\n",
            "Epoch 35 Batch 650 Loss 0.8757 Accuracy 0.3668\n",
            "Epoch 35 Batch 700 Loss 0.8803 Accuracy 0.3668\n",
            "Saving checkpoint for epoch 35 at ./checkpoints/train/ckpt-7\n",
            "Epoch 35 Loss 0.8806 Accuracy 0.3668\n",
            "Time taken for 1 epoch: 39.42855739593506 secs\n",
            "\n",
            "Epoch 36 Batch 0 Loss 0.7887 Accuracy 0.3393\n",
            "Epoch 36 Batch 50 Loss 0.7867 Accuracy 0.3671\n",
            "Epoch 36 Batch 100 Loss 0.7954 Accuracy 0.3726\n",
            "Epoch 36 Batch 150 Loss 0.7980 Accuracy 0.3714\n",
            "Epoch 36 Batch 200 Loss 0.8080 Accuracy 0.3715\n",
            "Epoch 36 Batch 250 Loss 0.8156 Accuracy 0.3713\n",
            "Epoch 36 Batch 300 Loss 0.8241 Accuracy 0.3706\n",
            "Epoch 36 Batch 350 Loss 0.8282 Accuracy 0.3698\n",
            "Epoch 36 Batch 400 Loss 0.8343 Accuracy 0.3687\n",
            "Epoch 36 Batch 450 Loss 0.8403 Accuracy 0.3679\n",
            "Epoch 36 Batch 500 Loss 0.8450 Accuracy 0.3683\n",
            "Epoch 36 Batch 550 Loss 0.8501 Accuracy 0.3688\n",
            "Epoch 36 Batch 600 Loss 0.8560 Accuracy 0.3685\n",
            "Epoch 36 Batch 650 Loss 0.8620 Accuracy 0.3681\n",
            "Epoch 36 Batch 700 Loss 0.8671 Accuracy 0.3679\n",
            "Epoch 36 Loss 0.8674 Accuracy 0.3679\n",
            "Time taken for 1 epoch: 39.03067445755005 secs\n",
            "\n",
            "Epoch 37 Batch 0 Loss 0.7437 Accuracy 0.3791\n",
            "Epoch 37 Batch 50 Loss 0.7686 Accuracy 0.3780\n",
            "Epoch 37 Batch 100 Loss 0.7765 Accuracy 0.3794\n",
            "Epoch 37 Batch 150 Loss 0.7846 Accuracy 0.3777\n",
            "Epoch 37 Batch 200 Loss 0.7901 Accuracy 0.3775\n",
            "Epoch 37 Batch 250 Loss 0.7986 Accuracy 0.3753\n",
            "Epoch 37 Batch 300 Loss 0.8056 Accuracy 0.3755\n",
            "Epoch 37 Batch 350 Loss 0.8105 Accuracy 0.3739\n",
            "Epoch 37 Batch 400 Loss 0.8167 Accuracy 0.3736\n",
            "Epoch 37 Batch 450 Loss 0.8220 Accuracy 0.3733\n",
            "Epoch 37 Batch 500 Loss 0.8294 Accuracy 0.3726\n",
            "Epoch 37 Batch 550 Loss 0.8342 Accuracy 0.3722\n",
            "Epoch 37 Batch 600 Loss 0.8405 Accuracy 0.3721\n",
            "Epoch 37 Batch 650 Loss 0.8454 Accuracy 0.3716\n",
            "Epoch 37 Batch 700 Loss 0.8508 Accuracy 0.3707\n",
            "Epoch 37 Loss 0.8510 Accuracy 0.3707\n",
            "Time taken for 1 epoch: 38.993996143341064 secs\n",
            "\n",
            "Epoch 38 Batch 0 Loss 0.7438 Accuracy 0.3655\n",
            "Epoch 38 Batch 50 Loss 0.7711 Accuracy 0.3804\n",
            "Epoch 38 Batch 100 Loss 0.7759 Accuracy 0.3787\n",
            "Epoch 38 Batch 150 Loss 0.7832 Accuracy 0.3774\n",
            "Epoch 38 Batch 200 Loss 0.7920 Accuracy 0.3768\n",
            "Epoch 38 Batch 250 Loss 0.7941 Accuracy 0.3763\n",
            "Epoch 38 Batch 300 Loss 0.7998 Accuracy 0.3769\n",
            "Epoch 38 Batch 350 Loss 0.8035 Accuracy 0.3758\n",
            "Epoch 38 Batch 400 Loss 0.8078 Accuracy 0.3753\n",
            "Epoch 38 Batch 450 Loss 0.8116 Accuracy 0.3750\n",
            "Epoch 38 Batch 500 Loss 0.8159 Accuracy 0.3737\n",
            "Epoch 38 Batch 550 Loss 0.8206 Accuracy 0.3734\n",
            "Epoch 38 Batch 600 Loss 0.8262 Accuracy 0.3734\n",
            "Epoch 38 Batch 650 Loss 0.8312 Accuracy 0.3726\n",
            "Epoch 38 Batch 700 Loss 0.8359 Accuracy 0.3723\n",
            "Epoch 38 Loss 0.8362 Accuracy 0.3723\n",
            "Time taken for 1 epoch: 38.94206643104553 secs\n",
            "\n",
            "Epoch 39 Batch 0 Loss 0.7380 Accuracy 0.3902\n",
            "Epoch 39 Batch 50 Loss 0.7443 Accuracy 0.3765\n",
            "Epoch 39 Batch 100 Loss 0.7541 Accuracy 0.3778\n",
            "Epoch 39 Batch 150 Loss 0.7646 Accuracy 0.3768\n",
            "Epoch 39 Batch 200 Loss 0.7703 Accuracy 0.3761\n",
            "Epoch 39 Batch 250 Loss 0.7756 Accuracy 0.3765\n",
            "Epoch 39 Batch 300 Loss 0.7808 Accuracy 0.3762\n",
            "Epoch 39 Batch 350 Loss 0.7843 Accuracy 0.3760\n",
            "Epoch 39 Batch 400 Loss 0.7908 Accuracy 0.3754\n",
            "Epoch 39 Batch 450 Loss 0.7967 Accuracy 0.3750\n",
            "Epoch 39 Batch 500 Loss 0.8008 Accuracy 0.3740\n",
            "Epoch 39 Batch 550 Loss 0.8064 Accuracy 0.3731\n",
            "Epoch 39 Batch 600 Loss 0.8124 Accuracy 0.3727\n",
            "Epoch 39 Batch 650 Loss 0.8175 Accuracy 0.3725\n",
            "Epoch 39 Batch 700 Loss 0.8223 Accuracy 0.3721\n",
            "Epoch 39 Loss 0.8224 Accuracy 0.3721\n",
            "Time taken for 1 epoch: 39.00957655906677 secs\n",
            "\n",
            "Epoch 40 Batch 0 Loss 0.6655 Accuracy 0.3894\n",
            "Epoch 40 Batch 50 Loss 0.7372 Accuracy 0.3803\n",
            "Epoch 40 Batch 100 Loss 0.7425 Accuracy 0.3841\n",
            "Epoch 40 Batch 150 Loss 0.7499 Accuracy 0.3812\n",
            "Epoch 40 Batch 200 Loss 0.7567 Accuracy 0.3802\n",
            "Epoch 40 Batch 250 Loss 0.7629 Accuracy 0.3803\n",
            "Epoch 40 Batch 300 Loss 0.7686 Accuracy 0.3785\n",
            "Epoch 40 Batch 350 Loss 0.7736 Accuracy 0.3774\n",
            "Epoch 40 Batch 400 Loss 0.7781 Accuracy 0.3774\n",
            "Epoch 40 Batch 450 Loss 0.7838 Accuracy 0.3774\n",
            "Epoch 40 Batch 500 Loss 0.7890 Accuracy 0.3768\n",
            "Epoch 40 Batch 550 Loss 0.7941 Accuracy 0.3761\n",
            "Epoch 40 Batch 600 Loss 0.7999 Accuracy 0.3754\n",
            "Epoch 40 Batch 650 Loss 0.8051 Accuracy 0.3744\n",
            "Epoch 40 Batch 700 Loss 0.8105 Accuracy 0.3737\n",
            "Saving checkpoint for epoch 40 at ./checkpoints/train/ckpt-8\n",
            "Epoch 40 Loss 0.8107 Accuracy 0.3737\n",
            "Time taken for 1 epoch: 39.27730917930603 secs\n",
            "\n",
            "Epoch 41 Batch 0 Loss 0.6758 Accuracy 0.4044\n",
            "Epoch 41 Batch 50 Loss 0.7295 Accuracy 0.3814\n",
            "Epoch 41 Batch 100 Loss 0.7299 Accuracy 0.3794\n",
            "Epoch 41 Batch 150 Loss 0.7345 Accuracy 0.3770\n",
            "Epoch 41 Batch 200 Loss 0.7438 Accuracy 0.3765\n",
            "Epoch 41 Batch 250 Loss 0.7492 Accuracy 0.3773\n",
            "Epoch 41 Batch 300 Loss 0.7562 Accuracy 0.3765\n",
            "Epoch 41 Batch 350 Loss 0.7627 Accuracy 0.3768\n",
            "Epoch 41 Batch 400 Loss 0.7671 Accuracy 0.3772\n",
            "Epoch 41 Batch 450 Loss 0.7724 Accuracy 0.3771\n",
            "Epoch 41 Batch 500 Loss 0.7775 Accuracy 0.3766\n",
            "Epoch 41 Batch 550 Loss 0.7820 Accuracy 0.3762\n",
            "Epoch 41 Batch 600 Loss 0.7879 Accuracy 0.3764\n",
            "Epoch 41 Batch 650 Loss 0.7938 Accuracy 0.3760\n",
            "Epoch 41 Batch 700 Loss 0.7979 Accuracy 0.3753\n",
            "Epoch 41 Loss 0.7981 Accuracy 0.3753\n",
            "Time taken for 1 epoch: 39.01325035095215 secs\n",
            "\n",
            "Epoch 42 Batch 0 Loss 0.6476 Accuracy 0.3927\n",
            "Epoch 42 Batch 50 Loss 0.7246 Accuracy 0.3792\n",
            "Epoch 42 Batch 100 Loss 0.7296 Accuracy 0.3796\n",
            "Epoch 42 Batch 150 Loss 0.7340 Accuracy 0.3803\n",
            "Epoch 42 Batch 200 Loss 0.7389 Accuracy 0.3805\n",
            "Epoch 42 Batch 250 Loss 0.7409 Accuracy 0.3807\n",
            "Epoch 42 Batch 300 Loss 0.7455 Accuracy 0.3797\n",
            "Epoch 42 Batch 350 Loss 0.7493 Accuracy 0.3796\n",
            "Epoch 42 Batch 400 Loss 0.7540 Accuracy 0.3790\n",
            "Epoch 42 Batch 450 Loss 0.7601 Accuracy 0.3785\n",
            "Epoch 42 Batch 500 Loss 0.7661 Accuracy 0.3779\n",
            "Epoch 42 Batch 550 Loss 0.7704 Accuracy 0.3775\n",
            "Epoch 42 Batch 600 Loss 0.7765 Accuracy 0.3768\n",
            "Epoch 42 Batch 650 Loss 0.7815 Accuracy 0.3764\n",
            "Epoch 42 Batch 700 Loss 0.7859 Accuracy 0.3761\n",
            "Epoch 42 Loss 0.7864 Accuracy 0.3761\n",
            "Time taken for 1 epoch: 39.04880332946777 secs\n",
            "\n",
            "Epoch 43 Batch 0 Loss 0.6894 Accuracy 0.3997\n",
            "Epoch 43 Batch 50 Loss 0.6975 Accuracy 0.3876\n",
            "Epoch 43 Batch 100 Loss 0.7032 Accuracy 0.3848\n",
            "Epoch 43 Batch 150 Loss 0.7135 Accuracy 0.3841\n",
            "Epoch 43 Batch 200 Loss 0.7193 Accuracy 0.3822\n",
            "Epoch 43 Batch 250 Loss 0.7259 Accuracy 0.3808\n",
            "Epoch 43 Batch 300 Loss 0.7349 Accuracy 0.3803\n",
            "Epoch 43 Batch 350 Loss 0.7391 Accuracy 0.3798\n",
            "Epoch 43 Batch 400 Loss 0.7435 Accuracy 0.3796\n",
            "Epoch 43 Batch 450 Loss 0.7484 Accuracy 0.3796\n",
            "Epoch 43 Batch 500 Loss 0.7540 Accuracy 0.3792\n",
            "Epoch 43 Batch 550 Loss 0.7599 Accuracy 0.3787\n",
            "Epoch 43 Batch 600 Loss 0.7658 Accuracy 0.3782\n",
            "Epoch 43 Batch 650 Loss 0.7690 Accuracy 0.3778\n",
            "Epoch 43 Batch 700 Loss 0.7740 Accuracy 0.3772\n",
            "Epoch 43 Loss 0.7742 Accuracy 0.3773\n",
            "Time taken for 1 epoch: 39.01256513595581 secs\n",
            "\n",
            "Epoch 44 Batch 0 Loss 0.7323 Accuracy 0.3627\n",
            "Epoch 44 Batch 50 Loss 0.6853 Accuracy 0.3804\n",
            "Epoch 44 Batch 100 Loss 0.6973 Accuracy 0.3825\n",
            "Epoch 44 Batch 150 Loss 0.7027 Accuracy 0.3828\n",
            "Epoch 44 Batch 200 Loss 0.7093 Accuracy 0.3826\n",
            "Epoch 44 Batch 250 Loss 0.7167 Accuracy 0.3819\n",
            "Epoch 44 Batch 300 Loss 0.7236 Accuracy 0.3815\n",
            "Epoch 44 Batch 350 Loss 0.7295 Accuracy 0.3803\n",
            "Epoch 44 Batch 400 Loss 0.7355 Accuracy 0.3794\n",
            "Epoch 44 Batch 450 Loss 0.7387 Accuracy 0.3794\n",
            "Epoch 44 Batch 500 Loss 0.7446 Accuracy 0.3788\n",
            "Epoch 44 Batch 550 Loss 0.7490 Accuracy 0.3790\n",
            "Epoch 44 Batch 600 Loss 0.7536 Accuracy 0.3789\n",
            "Epoch 44 Batch 650 Loss 0.7580 Accuracy 0.3787\n",
            "Epoch 44 Batch 700 Loss 0.7631 Accuracy 0.3783\n",
            "Epoch 44 Loss 0.7632 Accuracy 0.3783\n",
            "Time taken for 1 epoch: 39.044596433639526 secs\n",
            "\n",
            "Epoch 45 Batch 0 Loss 0.6834 Accuracy 0.3828\n",
            "Epoch 45 Batch 50 Loss 0.6913 Accuracy 0.3880\n",
            "Epoch 45 Batch 100 Loss 0.6960 Accuracy 0.3850\n",
            "Epoch 45 Batch 150 Loss 0.7049 Accuracy 0.3835\n",
            "Epoch 45 Batch 200 Loss 0.7111 Accuracy 0.3824\n",
            "Epoch 45 Batch 250 Loss 0.7121 Accuracy 0.3825\n",
            "Epoch 45 Batch 300 Loss 0.7160 Accuracy 0.3822\n",
            "Epoch 45 Batch 350 Loss 0.7209 Accuracy 0.3820\n",
            "Epoch 45 Batch 400 Loss 0.7255 Accuracy 0.3817\n",
            "Epoch 45 Batch 450 Loss 0.7302 Accuracy 0.3817\n",
            "Epoch 45 Batch 500 Loss 0.7342 Accuracy 0.3814\n",
            "Epoch 45 Batch 550 Loss 0.7391 Accuracy 0.3811\n",
            "Epoch 45 Batch 600 Loss 0.7442 Accuracy 0.3804\n",
            "Epoch 45 Batch 650 Loss 0.7490 Accuracy 0.3803\n",
            "Epoch 45 Batch 700 Loss 0.7530 Accuracy 0.3796\n",
            "Saving checkpoint for epoch 45 at ./checkpoints/train/ckpt-9\n",
            "Epoch 45 Loss 0.7531 Accuracy 0.3796\n",
            "Time taken for 1 epoch: 39.24225902557373 secs\n",
            "\n",
            "Epoch 46 Batch 0 Loss 0.7025 Accuracy 0.4062\n",
            "Epoch 46 Batch 50 Loss 0.6834 Accuracy 0.3795\n",
            "Epoch 46 Batch 100 Loss 0.6835 Accuracy 0.3834\n",
            "Epoch 46 Batch 150 Loss 0.6871 Accuracy 0.3855\n",
            "Epoch 46 Batch 200 Loss 0.6904 Accuracy 0.3842\n",
            "Epoch 46 Batch 250 Loss 0.6952 Accuracy 0.3829\n",
            "Epoch 46 Batch 300 Loss 0.7017 Accuracy 0.3826\n",
            "Epoch 46 Batch 350 Loss 0.7075 Accuracy 0.3823\n",
            "Epoch 46 Batch 400 Loss 0.7119 Accuracy 0.3821\n",
            "Epoch 46 Batch 450 Loss 0.7166 Accuracy 0.3815\n",
            "Epoch 46 Batch 500 Loss 0.7224 Accuracy 0.3814\n",
            "Epoch 46 Batch 550 Loss 0.7275 Accuracy 0.3809\n",
            "Epoch 46 Batch 600 Loss 0.7324 Accuracy 0.3802\n",
            "Epoch 46 Batch 650 Loss 0.7374 Accuracy 0.3801\n",
            "Epoch 46 Batch 700 Loss 0.7419 Accuracy 0.3798\n",
            "Epoch 46 Loss 0.7421 Accuracy 0.3798\n",
            "Time taken for 1 epoch: 39.128079652786255 secs\n",
            "\n",
            "Epoch 47 Batch 0 Loss 0.6665 Accuracy 0.3438\n",
            "Epoch 47 Batch 50 Loss 0.6719 Accuracy 0.3879\n",
            "Epoch 47 Batch 100 Loss 0.6737 Accuracy 0.3861\n",
            "Epoch 47 Batch 150 Loss 0.6820 Accuracy 0.3855\n",
            "Epoch 47 Batch 200 Loss 0.6863 Accuracy 0.3858\n",
            "Epoch 47 Batch 250 Loss 0.6909 Accuracy 0.3840\n",
            "Epoch 47 Batch 300 Loss 0.6972 Accuracy 0.3840\n",
            "Epoch 47 Batch 350 Loss 0.7009 Accuracy 0.3840\n",
            "Epoch 47 Batch 400 Loss 0.7046 Accuracy 0.3837\n",
            "Epoch 47 Batch 450 Loss 0.7086 Accuracy 0.3836\n",
            "Epoch 47 Batch 500 Loss 0.7126 Accuracy 0.3828\n",
            "Epoch 47 Batch 550 Loss 0.7176 Accuracy 0.3826\n",
            "Epoch 47 Batch 600 Loss 0.7226 Accuracy 0.3821\n",
            "Epoch 47 Batch 650 Loss 0.7267 Accuracy 0.3814\n",
            "Epoch 47 Batch 700 Loss 0.7320 Accuracy 0.3809\n",
            "Epoch 47 Loss 0.7322 Accuracy 0.3810\n",
            "Time taken for 1 epoch: 38.964526653289795 secs\n",
            "\n",
            "Epoch 48 Batch 0 Loss 0.5736 Accuracy 0.4238\n",
            "Epoch 48 Batch 50 Loss 0.6492 Accuracy 0.3910\n",
            "Epoch 48 Batch 100 Loss 0.6603 Accuracy 0.3904\n",
            "Epoch 48 Batch 150 Loss 0.6670 Accuracy 0.3885\n",
            "Epoch 48 Batch 200 Loss 0.6719 Accuracy 0.3868\n",
            "Epoch 48 Batch 250 Loss 0.6784 Accuracy 0.3861\n",
            "Epoch 48 Batch 300 Loss 0.6824 Accuracy 0.3854\n",
            "Epoch 48 Batch 350 Loss 0.6878 Accuracy 0.3854\n",
            "Epoch 48 Batch 400 Loss 0.6935 Accuracy 0.3848\n",
            "Epoch 48 Batch 450 Loss 0.6976 Accuracy 0.3850\n",
            "Epoch 48 Batch 500 Loss 0.7037 Accuracy 0.3845\n",
            "Epoch 48 Batch 550 Loss 0.7090 Accuracy 0.3841\n",
            "Epoch 48 Batch 600 Loss 0.7141 Accuracy 0.3838\n",
            "Epoch 48 Batch 650 Loss 0.7189 Accuracy 0.3826\n",
            "Epoch 48 Batch 700 Loss 0.7236 Accuracy 0.3817\n",
            "Epoch 48 Loss 0.7236 Accuracy 0.3817\n",
            "Time taken for 1 epoch: 38.927128076553345 secs\n",
            "\n",
            "Epoch 49 Batch 0 Loss 0.6986 Accuracy 0.3850\n",
            "Epoch 49 Batch 50 Loss 0.6553 Accuracy 0.3856\n",
            "Epoch 49 Batch 100 Loss 0.6575 Accuracy 0.3878\n",
            "Epoch 49 Batch 150 Loss 0.6642 Accuracy 0.3876\n",
            "Epoch 49 Batch 200 Loss 0.6707 Accuracy 0.3869\n",
            "Epoch 49 Batch 250 Loss 0.6758 Accuracy 0.3860\n",
            "Epoch 49 Batch 300 Loss 0.6793 Accuracy 0.3850\n",
            "Epoch 49 Batch 350 Loss 0.6841 Accuracy 0.3850\n",
            "Epoch 49 Batch 400 Loss 0.6875 Accuracy 0.3845\n",
            "Epoch 49 Batch 450 Loss 0.6921 Accuracy 0.3843\n",
            "Epoch 49 Batch 500 Loss 0.6968 Accuracy 0.3835\n",
            "Epoch 49 Batch 550 Loss 0.7023 Accuracy 0.3828\n",
            "Epoch 49 Batch 600 Loss 0.7065 Accuracy 0.3826\n",
            "Epoch 49 Batch 650 Loss 0.7104 Accuracy 0.3825\n",
            "Epoch 49 Batch 700 Loss 0.7158 Accuracy 0.3820\n",
            "Epoch 49 Loss 0.7161 Accuracy 0.3819\n",
            "Time taken for 1 epoch: 39.027331829071045 secs\n",
            "\n",
            "Epoch 50 Batch 0 Loss 0.7005 Accuracy 0.3830\n",
            "Epoch 50 Batch 50 Loss 0.6420 Accuracy 0.3883\n",
            "Epoch 50 Batch 100 Loss 0.6467 Accuracy 0.3876\n",
            "Epoch 50 Batch 150 Loss 0.6506 Accuracy 0.3895\n",
            "Epoch 50 Batch 200 Loss 0.6580 Accuracy 0.3895\n",
            "Epoch 50 Batch 250 Loss 0.6622 Accuracy 0.3879\n",
            "Epoch 50 Batch 300 Loss 0.6662 Accuracy 0.3885\n",
            "Epoch 50 Batch 350 Loss 0.6723 Accuracy 0.3880\n",
            "Epoch 50 Batch 400 Loss 0.6779 Accuracy 0.3879\n",
            "Epoch 50 Batch 450 Loss 0.6822 Accuracy 0.3873\n",
            "Epoch 50 Batch 500 Loss 0.6876 Accuracy 0.3861\n",
            "Epoch 50 Batch 550 Loss 0.6916 Accuracy 0.3860\n",
            "Epoch 50 Batch 600 Loss 0.6976 Accuracy 0.3853\n",
            "Epoch 50 Batch 650 Loss 0.7024 Accuracy 0.3848\n",
            "Epoch 50 Batch 700 Loss 0.7067 Accuracy 0.3841\n",
            "Saving checkpoint for epoch 50 at ./checkpoints/train/ckpt-10\n",
            "Epoch 50 Loss 0.7068 Accuracy 0.3841\n",
            "Time taken for 1 epoch: 39.227256536483765 secs\n",
            "\n",
            "Epoch 51 Batch 0 Loss 0.5973 Accuracy 0.3396\n",
            "Epoch 51 Batch 50 Loss 0.6301 Accuracy 0.3898\n",
            "Epoch 51 Batch 100 Loss 0.6401 Accuracy 0.3897\n",
            "Epoch 51 Batch 150 Loss 0.6476 Accuracy 0.3897\n",
            "Epoch 51 Batch 200 Loss 0.6518 Accuracy 0.3887\n",
            "Epoch 51 Batch 250 Loss 0.6555 Accuracy 0.3878\n",
            "Epoch 51 Batch 300 Loss 0.6605 Accuracy 0.3872\n",
            "Epoch 51 Batch 350 Loss 0.6660 Accuracy 0.3868\n",
            "Epoch 51 Batch 400 Loss 0.6721 Accuracy 0.3861\n",
            "Epoch 51 Batch 450 Loss 0.6750 Accuracy 0.3863\n",
            "Epoch 51 Batch 500 Loss 0.6797 Accuracy 0.3859\n",
            "Epoch 51 Batch 550 Loss 0.6836 Accuracy 0.3855\n",
            "Epoch 51 Batch 600 Loss 0.6885 Accuracy 0.3852\n",
            "Epoch 51 Batch 650 Loss 0.6942 Accuracy 0.3848\n",
            "Epoch 51 Batch 700 Loss 0.6981 Accuracy 0.3844\n",
            "Epoch 51 Loss 0.6983 Accuracy 0.3845\n",
            "Time taken for 1 epoch: 39.137781620025635 secs\n",
            "\n",
            "Epoch 52 Batch 0 Loss 0.5828 Accuracy 0.4384\n",
            "Epoch 52 Batch 50 Loss 0.6208 Accuracy 0.3907\n",
            "Epoch 52 Batch 100 Loss 0.6261 Accuracy 0.3911\n",
            "Epoch 52 Batch 150 Loss 0.6313 Accuracy 0.3916\n",
            "Epoch 52 Batch 200 Loss 0.6387 Accuracy 0.3910\n",
            "Epoch 52 Batch 250 Loss 0.6435 Accuracy 0.3912\n",
            "Epoch 52 Batch 300 Loss 0.6493 Accuracy 0.3907\n",
            "Epoch 52 Batch 350 Loss 0.6559 Accuracy 0.3904\n",
            "Epoch 52 Batch 400 Loss 0.6604 Accuracy 0.3897\n",
            "Epoch 52 Batch 450 Loss 0.6644 Accuracy 0.3892\n",
            "Epoch 52 Batch 500 Loss 0.6698 Accuracy 0.3878\n",
            "Epoch 52 Batch 550 Loss 0.6750 Accuracy 0.3874\n",
            "Epoch 52 Batch 600 Loss 0.6794 Accuracy 0.3869\n",
            "Epoch 52 Batch 650 Loss 0.6851 Accuracy 0.3863\n",
            "Epoch 52 Batch 700 Loss 0.6890 Accuracy 0.3858\n",
            "Epoch 52 Loss 0.6890 Accuracy 0.3858\n",
            "Time taken for 1 epoch: 39.01344680786133 secs\n",
            "\n",
            "Epoch 53 Batch 0 Loss 0.5826 Accuracy 0.3927\n",
            "Epoch 53 Batch 50 Loss 0.6152 Accuracy 0.3956\n",
            "Epoch 53 Batch 100 Loss 0.6175 Accuracy 0.3931\n",
            "Epoch 53 Batch 150 Loss 0.6216 Accuracy 0.3925\n",
            "Epoch 53 Batch 200 Loss 0.6306 Accuracy 0.3908\n",
            "Epoch 53 Batch 250 Loss 0.6383 Accuracy 0.3900\n",
            "Epoch 53 Batch 300 Loss 0.6443 Accuracy 0.3897\n",
            "Epoch 53 Batch 350 Loss 0.6474 Accuracy 0.3901\n",
            "Epoch 53 Batch 400 Loss 0.6533 Accuracy 0.3891\n",
            "Epoch 53 Batch 450 Loss 0.6578 Accuracy 0.3889\n",
            "Epoch 53 Batch 500 Loss 0.6621 Accuracy 0.3877\n",
            "Epoch 53 Batch 550 Loss 0.6672 Accuracy 0.3874\n",
            "Epoch 53 Batch 600 Loss 0.6724 Accuracy 0.3868\n",
            "Epoch 53 Batch 650 Loss 0.6773 Accuracy 0.3864\n",
            "Epoch 53 Batch 700 Loss 0.6816 Accuracy 0.3861\n",
            "Epoch 53 Loss 0.6817 Accuracy 0.3860\n",
            "Time taken for 1 epoch: 39.04830598831177 secs\n",
            "\n",
            "Epoch 54 Batch 0 Loss 0.6996 Accuracy 0.4038\n",
            "Epoch 54 Batch 50 Loss 0.6131 Accuracy 0.3946\n",
            "Epoch 54 Batch 100 Loss 0.6133 Accuracy 0.3939\n",
            "Epoch 54 Batch 150 Loss 0.6206 Accuracy 0.3918\n",
            "Epoch 54 Batch 200 Loss 0.6260 Accuracy 0.3920\n",
            "Epoch 54 Batch 250 Loss 0.6328 Accuracy 0.3915\n",
            "Epoch 54 Batch 300 Loss 0.6379 Accuracy 0.3912\n",
            "Epoch 54 Batch 350 Loss 0.6420 Accuracy 0.3907\n",
            "Epoch 54 Batch 400 Loss 0.6467 Accuracy 0.3905\n",
            "Epoch 54 Batch 450 Loss 0.6503 Accuracy 0.3905\n",
            "Epoch 54 Batch 500 Loss 0.6551 Accuracy 0.3900\n",
            "Epoch 54 Batch 550 Loss 0.6597 Accuracy 0.3894\n",
            "Epoch 54 Batch 600 Loss 0.6639 Accuracy 0.3890\n",
            "Epoch 54 Batch 650 Loss 0.6687 Accuracy 0.3885\n",
            "Epoch 54 Batch 700 Loss 0.6735 Accuracy 0.3880\n",
            "Epoch 54 Loss 0.6734 Accuracy 0.3880\n",
            "Time taken for 1 epoch: 38.861992597579956 secs\n",
            "\n",
            "Epoch 55 Batch 0 Loss 0.6580 Accuracy 0.3385\n",
            "Epoch 55 Batch 50 Loss 0.6062 Accuracy 0.3939\n",
            "Epoch 55 Batch 100 Loss 0.6121 Accuracy 0.3925\n",
            "Epoch 55 Batch 150 Loss 0.6151 Accuracy 0.3922\n",
            "Epoch 55 Batch 200 Loss 0.6206 Accuracy 0.3901\n",
            "Epoch 55 Batch 250 Loss 0.6248 Accuracy 0.3903\n",
            "Epoch 55 Batch 300 Loss 0.6279 Accuracy 0.3907\n",
            "Epoch 55 Batch 350 Loss 0.6339 Accuracy 0.3908\n",
            "Epoch 55 Batch 400 Loss 0.6393 Accuracy 0.3907\n",
            "Epoch 55 Batch 450 Loss 0.6451 Accuracy 0.3909\n",
            "Epoch 55 Batch 500 Loss 0.6495 Accuracy 0.3904\n",
            "Epoch 55 Batch 550 Loss 0.6539 Accuracy 0.3899\n",
            "Epoch 55 Batch 600 Loss 0.6593 Accuracy 0.3890\n",
            "Epoch 55 Batch 650 Loss 0.6629 Accuracy 0.3886\n",
            "Epoch 55 Batch 700 Loss 0.6680 Accuracy 0.3878\n",
            "Saving checkpoint for epoch 55 at ./checkpoints/train/ckpt-11\n",
            "Epoch 55 Loss 0.6682 Accuracy 0.3878\n",
            "Time taken for 1 epoch: 39.27969717979431 secs\n",
            "\n",
            "Epoch 56 Batch 0 Loss 0.6511 Accuracy 0.4531\n",
            "Epoch 56 Batch 50 Loss 0.5959 Accuracy 0.4008\n",
            "Epoch 56 Batch 100 Loss 0.5997 Accuracy 0.3958\n",
            "Epoch 56 Batch 150 Loss 0.6054 Accuracy 0.3957\n",
            "Epoch 56 Batch 200 Loss 0.6132 Accuracy 0.3947\n",
            "Epoch 56 Batch 250 Loss 0.6184 Accuracy 0.3942\n",
            "Epoch 56 Batch 300 Loss 0.6235 Accuracy 0.3934\n",
            "Epoch 56 Batch 350 Loss 0.6270 Accuracy 0.3935\n",
            "Epoch 56 Batch 400 Loss 0.6328 Accuracy 0.3926\n",
            "Epoch 56 Batch 450 Loss 0.6379 Accuracy 0.3917\n",
            "Epoch 56 Batch 500 Loss 0.6419 Accuracy 0.3906\n",
            "Epoch 56 Batch 550 Loss 0.6463 Accuracy 0.3897\n",
            "Epoch 56 Batch 600 Loss 0.6488 Accuracy 0.3896\n",
            "Epoch 56 Batch 650 Loss 0.6533 Accuracy 0.3892\n",
            "Epoch 56 Batch 700 Loss 0.6576 Accuracy 0.3893\n",
            "Epoch 56 Loss 0.6579 Accuracy 0.3893\n",
            "Time taken for 1 epoch: 39.08446383476257 secs\n",
            "\n",
            "Epoch 57 Batch 0 Loss 0.5996 Accuracy 0.4399\n",
            "Epoch 57 Batch 50 Loss 0.5914 Accuracy 0.3937\n",
            "Epoch 57 Batch 100 Loss 0.5964 Accuracy 0.3948\n",
            "Epoch 57 Batch 150 Loss 0.5990 Accuracy 0.3954\n",
            "Epoch 57 Batch 200 Loss 0.6045 Accuracy 0.3944\n",
            "Epoch 57 Batch 250 Loss 0.6111 Accuracy 0.3931\n",
            "Epoch 57 Batch 300 Loss 0.6164 Accuracy 0.3926\n",
            "Epoch 57 Batch 350 Loss 0.6213 Accuracy 0.3925\n",
            "Epoch 57 Batch 400 Loss 0.6247 Accuracy 0.3919\n",
            "Epoch 57 Batch 450 Loss 0.6281 Accuracy 0.3918\n",
            "Epoch 57 Batch 500 Loss 0.6341 Accuracy 0.3912\n",
            "Epoch 57 Batch 550 Loss 0.6382 Accuracy 0.3908\n",
            "Epoch 57 Batch 600 Loss 0.6415 Accuracy 0.3905\n",
            "Epoch 57 Batch 650 Loss 0.6459 Accuracy 0.3898\n",
            "Epoch 57 Batch 700 Loss 0.6513 Accuracy 0.3893\n",
            "Epoch 57 Loss 0.6514 Accuracy 0.3893\n",
            "Time taken for 1 epoch: 39.02801156044006 secs\n",
            "\n",
            "Epoch 58 Batch 0 Loss 0.5326 Accuracy 0.3650\n",
            "Epoch 58 Batch 50 Loss 0.5855 Accuracy 0.3979\n",
            "Epoch 58 Batch 100 Loss 0.5941 Accuracy 0.3946\n",
            "Epoch 58 Batch 150 Loss 0.5967 Accuracy 0.3957\n",
            "Epoch 58 Batch 200 Loss 0.6016 Accuracy 0.3941\n",
            "Epoch 58 Batch 250 Loss 0.6058 Accuracy 0.3937\n",
            "Epoch 58 Batch 300 Loss 0.6107 Accuracy 0.3934\n",
            "Epoch 58 Batch 350 Loss 0.6153 Accuracy 0.3924\n",
            "Epoch 58 Batch 400 Loss 0.6200 Accuracy 0.3923\n",
            "Epoch 58 Batch 450 Loss 0.6240 Accuracy 0.3917\n",
            "Epoch 58 Batch 500 Loss 0.6286 Accuracy 0.3911\n",
            "Epoch 58 Batch 550 Loss 0.6334 Accuracy 0.3911\n",
            "Epoch 58 Batch 600 Loss 0.6376 Accuracy 0.3905\n",
            "Epoch 58 Batch 650 Loss 0.6418 Accuracy 0.3900\n",
            "Epoch 58 Batch 700 Loss 0.6469 Accuracy 0.3896\n",
            "Epoch 58 Loss 0.6476 Accuracy 0.3895\n",
            "Time taken for 1 epoch: 39.04852032661438 secs\n",
            "\n",
            "Epoch 59 Batch 0 Loss 0.6354 Accuracy 0.3951\n",
            "Epoch 59 Batch 50 Loss 0.5823 Accuracy 0.3949\n",
            "Epoch 59 Batch 100 Loss 0.5843 Accuracy 0.3971\n",
            "Epoch 59 Batch 150 Loss 0.5911 Accuracy 0.3942\n",
            "Epoch 59 Batch 200 Loss 0.5985 Accuracy 0.3935\n",
            "Epoch 59 Batch 250 Loss 0.6026 Accuracy 0.3941\n",
            "Epoch 59 Batch 300 Loss 0.6073 Accuracy 0.3927\n",
            "Epoch 59 Batch 350 Loss 0.6117 Accuracy 0.3932\n",
            "Epoch 59 Batch 400 Loss 0.6155 Accuracy 0.3930\n",
            "Epoch 59 Batch 450 Loss 0.6192 Accuracy 0.3922\n",
            "Epoch 59 Batch 500 Loss 0.6231 Accuracy 0.3917\n",
            "Epoch 59 Batch 550 Loss 0.6286 Accuracy 0.3909\n",
            "Epoch 59 Batch 600 Loss 0.6333 Accuracy 0.3907\n",
            "Epoch 59 Batch 650 Loss 0.6376 Accuracy 0.3903\n",
            "Epoch 59 Batch 700 Loss 0.6421 Accuracy 0.3899\n",
            "Epoch 59 Loss 0.6424 Accuracy 0.3898\n",
            "Time taken for 1 epoch: 39.182637214660645 secs\n",
            "\n",
            "Epoch 60 Batch 0 Loss 0.5266 Accuracy 0.4320\n",
            "Epoch 60 Batch 50 Loss 0.5667 Accuracy 0.3973\n",
            "Epoch 60 Batch 100 Loss 0.5747 Accuracy 0.3971\n",
            "Epoch 60 Batch 150 Loss 0.5789 Accuracy 0.3963\n",
            "Epoch 60 Batch 200 Loss 0.5862 Accuracy 0.3963\n",
            "Epoch 60 Batch 250 Loss 0.5918 Accuracy 0.3955\n",
            "Epoch 60 Batch 300 Loss 0.5964 Accuracy 0.3943\n",
            "Epoch 60 Batch 350 Loss 0.6012 Accuracy 0.3938\n",
            "Epoch 60 Batch 400 Loss 0.6063 Accuracy 0.3939\n",
            "Epoch 60 Batch 450 Loss 0.6111 Accuracy 0.3931\n",
            "Epoch 60 Batch 500 Loss 0.6162 Accuracy 0.3925\n",
            "Epoch 60 Batch 550 Loss 0.6211 Accuracy 0.3923\n",
            "Epoch 60 Batch 600 Loss 0.6259 Accuracy 0.3921\n",
            "Epoch 60 Batch 650 Loss 0.6307 Accuracy 0.3919\n",
            "Epoch 60 Batch 700 Loss 0.6348 Accuracy 0.3916\n",
            "Saving checkpoint for epoch 60 at ./checkpoints/train/ckpt-12\n",
            "Epoch 60 Loss 0.6349 Accuracy 0.3916\n",
            "Time taken for 1 epoch: 39.36555457115173 secs\n",
            "\n"
          ]
        }
      ]
    },
    {
      "cell_type": "markdown",
      "metadata": {
        "id": "QfcsSWswSdGV"
      },
      "source": [
        "## Evaluate"
      ]
    },
    {
      "cell_type": "markdown",
      "metadata": {
        "id": "y6APsFrgImLW"
      },
      "source": [
        "The following steps are used for evaluation:\n",
        "\n",
        "* Encode the input sentence using the Portuguese tokenizer (`tokenizer_pt`). Moreover, add the start and end token so the input is equivalent to what the model is trained with. This is the encoder input.\n",
        "* The decoder input is the `start token == tokenizer_en.vocab_size`.\n",
        "* Calculate the padding masks and the look ahead masks.\n",
        "* The `decoder` then outputs the predictions by looking at the `encoder output` and its own output (self-attention).\n",
        "* Select the last word and calculate the argmax of that.\n",
        "* Concatentate the predicted word to the decoder input as pass it to the decoder.\n",
        "* In this approach, the decoder predicts the next word based on the previous words it predicted.\n",
        "\n",
        "Note: The model used here has less capacity to keep the example relatively faster so the predictions maybe less right. To reproduce the results in the paper, use the entire dataset and base transformer model or transformer XL, by changing the hyperparameters above."
      ]
    },
    {
      "cell_type": "code",
      "metadata": {
        "id": "5buvMlnvyrFm"
      },
      "source": [
        "def evaluate(inp_sentence):\n",
        "  start_token = [tokenizer_pt.vocab_size]\n",
        "  end_token = [tokenizer_pt.vocab_size + 1]\n",
        "  \n",
        "  # inp sentence is portuguese, hence adding the start and end token\n",
        "  inp_sentence = start_token + tokenizer_pt.encode(inp_sentence) + end_token\n",
        "  encoder_input = tf.expand_dims(inp_sentence, 0)\n",
        "  \n",
        "  # as the target is english, the first word to the transformer should be the\n",
        "  # english start token.\n",
        "  decoder_input = [tokenizer_en.vocab_size]\n",
        "  output = tf.expand_dims(decoder_input, 0)\n",
        "    \n",
        "  for i in range(MAX_LENGTH):\n",
        "    enc_padding_mask, combined_mask, dec_padding_mask = create_masks(\n",
        "        encoder_input, output)\n",
        "  \n",
        "    # predictions.shape == (batch_size, seq_len, vocab_size)\n",
        "    predictions, attention_weights = transformer(encoder_input, \n",
        "                                                 output,\n",
        "                                                 False,\n",
        "                                                 enc_padding_mask,\n",
        "                                                 combined_mask,\n",
        "                                                 dec_padding_mask)\n",
        "    \n",
        "    # select the last word from the seq_len dimension\n",
        "    predictions = predictions[: ,-1:, :]  # (batch_size, 1, vocab_size)\n",
        "\n",
        "    predicted_id = tf.cast(tf.argmax(predictions, axis=-1), tf.int32)\n",
        "    \n",
        "    # return the result if the predicted_id is equal to the end token\n",
        "    if predicted_id == tokenizer_en.vocab_size+1:\n",
        "      return tf.squeeze(output, axis=0), attention_weights\n",
        "    \n",
        "    # concatentate the predicted_id to the output which is given to the decoder\n",
        "    # as its input.\n",
        "    output = tf.concat([output, predicted_id], axis=-1)\n",
        "\n",
        "  return tf.squeeze(output, axis=0), attention_weights"
      ],
      "execution_count": null,
      "outputs": []
    },
    {
      "cell_type": "code",
      "metadata": {
        "id": "CN-BV43FMBej"
      },
      "source": [
        "def plot_attention_weights(attention, sentence, result, layer):\n",
        "  fig = plt.figure(figsize=(16, 8))\n",
        "  \n",
        "  sentence = tokenizer_pt.encode(sentence)\n",
        "  \n",
        "  attention = tf.squeeze(attention[layer], axis=0)\n",
        "  \n",
        "  for head in range(attention.shape[0]):\n",
        "    ax = fig.add_subplot(2, 4, head+1)\n",
        "    \n",
        "    # plot the attention weights\n",
        "    ax.matshow(attention[head][:-1, :], cmap='viridis')\n",
        "\n",
        "    fontdict = {'fontsize': 10}\n",
        "    \n",
        "    ax.set_xticks(range(len(sentence)+2))\n",
        "    ax.set_yticks(range(len(result)))\n",
        "    \n",
        "    ax.set_ylim(len(result)-1.5, -0.5)\n",
        "        \n",
        "    ax.set_xticklabels(\n",
        "        ['<start>']+[tokenizer_pt.decode([i]) for i in sentence]+['<end>'], \n",
        "        fontdict=fontdict, rotation=90)\n",
        "    \n",
        "    ax.set_yticklabels([tokenizer_en.decode([i]) for i in result \n",
        "                        if i < tokenizer_en.vocab_size], \n",
        "                       fontdict=fontdict)\n",
        "    \n",
        "    ax.set_xlabel('Head {}'.format(head+1))\n",
        "  \n",
        "  plt.tight_layout()\n",
        "  plt.show()"
      ],
      "execution_count": null,
      "outputs": []
    },
    {
      "cell_type": "code",
      "metadata": {
        "id": "lU2_yG_vBGza"
      },
      "source": [
        "def translate(sentence, plot=''):\n",
        "  result, attention_weights = evaluate(sentence)\n",
        "  \n",
        "  predicted_sentence = tokenizer_en.decode([i for i in result \n",
        "                                            if i < tokenizer_en.vocab_size])  \n",
        "\n",
        "  print('Input: {}'.format(sentence))\n",
        "  print('Predicted translation: {}'.format(predicted_sentence))\n",
        "  \n",
        "  if plot:\n",
        "    plot_attention_weights(attention_weights, sentence, result, plot)"
      ],
      "execution_count": null,
      "outputs": []
    },
    {
      "cell_type": "code",
      "metadata": {
        "id": "YsxrAlvFG8SZ",
        "outputId": "62577773-d6f4-4d02-e968-8c4f7bab5923",
        "colab": {
          "base_uri": "https://localhost:8080/"
        }
      },
      "source": [
        "translate(\"este é um problema que temos que resolver.\")\n",
        "print (\"Real translation: this is a problem we have to solve .\")"
      ],
      "execution_count": null,
      "outputs": [
        {
          "output_type": "stream",
          "name": "stdout",
          "text": [
            "Input: este é um problema que temos que resolver.\n",
            "Predicted translation: this is a problem that we have to fix .\n",
            "Real translation: this is a problem we have to solve .\n"
          ]
        }
      ]
    },
    {
      "cell_type": "code",
      "metadata": {
        "id": "7EH5y_aqI4t1",
        "outputId": "18d884b9-7ee1-482e-e915-6cd76be2d935",
        "colab": {
          "base_uri": "https://localhost:8080/"
        }
      },
      "source": [
        "translate(\"os meus vizinhos ouviram sobre esta ideia.\")\n",
        "print (\"Real translation: and my neighboring homes heard about this idea .\")"
      ],
      "execution_count": null,
      "outputs": [
        {
          "output_type": "stream",
          "name": "stdout",
          "text": [
            "Input: os meus vizinhos ouviram sobre esta ideia.\n",
            "Predicted translation: my neighbors heard about this idea .\n",
            "Real translation: and my neighboring homes heard about this idea .\n"
          ]
        }
      ]
    },
    {
      "cell_type": "code",
      "metadata": {
        "id": "J-hVCTSUMlkb",
        "outputId": "4d28dec6-0a8e-450a-e883-9fb3e8189fe9",
        "colab": {
          "base_uri": "https://localhost:8080/"
        }
      },
      "source": [
        "translate(\"vou então muito rapidamente partilhar convosco algumas histórias de algumas coisas mágicas que aconteceram.\")\n",
        "print (\"Real translation: so i 'll just share with you some stories very quickly of some magical things that have happened .\")"
      ],
      "execution_count": null,
      "outputs": [
        {
          "output_type": "stream",
          "name": "stdout",
          "text": [
            "Input: vou então muito rapidamente partilhar convosco algumas histórias de algumas coisas mágicas que aconteceram.\n",
            "Predicted translation: so i 'm going to share with you a few stories of some magic things that had happened .\n",
            "Real translation: so i 'll just share with you some stories very quickly of some magical things that have happened .\n"
          ]
        }
      ]
    },
    {
      "cell_type": "markdown",
      "metadata": {
        "id": "_1MxkSZvz0jX"
      },
      "source": [
        "You can pass different layers and attention blocks of the decoder to the `plot` parameter."
      ]
    },
    {
      "cell_type": "code",
      "metadata": {
        "id": "t-kFyiOLH0xg",
        "outputId": "3378ac58-c8f0-4c8e-f1f8-7a8eb3729029",
        "colab": {
          "base_uri": "https://localhost:8080/",
          "height": 602
        }
      },
      "source": [
        "translate(\"este é o primeiro livro que eu fiz.\", plot='decoder_layer4_block2')\n",
        "print (\"Real translation: this is the first book i've ever done.\")"
      ],
      "execution_count": null,
      "outputs": [
        {
          "output_type": "stream",
          "name": "stdout",
          "text": [
            "Input: este é o primeiro livro que eu fiz.\n",
            "Predicted translation: this is the first book i did .\n"
          ]
        },
        {
          "output_type": "display_data",
          "data": {
            "image/png": "[encoded data removed]",
            "text/plain": [
              "<Figure size 1152x576 with 8 Axes>"
            ]
          },
          "metadata": {
            "needs_background": "light"
          }
        },
        {
          "output_type": "stream",
          "name": "stdout",
          "text": [
            "Real translation: this is the first book i've ever done.\n"
          ]
        }
      ]
    },
    {
      "cell_type": "markdown",
      "metadata": {
        "id": "RqQ1fIsLwkGE"
      },
      "source": [
        "## Summary\n",
        "\n",
        "In this tutorial, you learned about positional encoding, multi-head attention, the importance of masking and how to create a transformer.\n",
        "\n",
        "Try using a different dataset to train the transformer. You can also create the base transformer or transformer XL by changing the hyperparameters above. You can also use the layers defined here to create [BERT](https://arxiv.org/abs/1810.04805) and train state of the art models. Futhermore, you can implement beam search to get better predictions."
      ]
    },
    {
      "cell_type": "code",
      "source": [
        ""
      ],
      "metadata": {
        "id": "I98TU3DaSOdE"
      },
      "execution_count": null,
      "outputs": []
    }
  ]
}
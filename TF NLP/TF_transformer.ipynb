{
  "nbformat": 4,
  "nbformat_minor": 0,
  "metadata": {
    "accelerator": "GPU",
    "colab": {
      "name": "TF transformer.ipynb",
      "provenance": [],
      "collapsed_sections": [
        "s_qNSzzyaCbD"
      ]
    },
    "kernelspec": {
      "display_name": "Python 3",
      "name": "python3"
    },
    "widgets": {
      "application/vnd.jupyter.widget-state+json": {
        "3336c0bdf2064fb5a3fd41342a60852e": {
          "model_module": "@jupyter-widgets/controls",
          "model_name": "HBoxModel",
          "model_module_version": "1.5.0",
          "state": {
            "_view_name": "HBoxView",
            "_dom_classes": [],
            "_model_name": "HBoxModel",
            "_view_module": "@jupyter-widgets/controls",
            "_model_module_version": "1.5.0",
            "_view_count": null,
            "_view_module_version": "1.5.0",
            "box_style": "",
            "layout": "IPY_MODEL_4d2b50e409e44f0da0b021e0faed3426",
            "_model_module": "@jupyter-widgets/controls",
            "children": [
              "IPY_MODEL_cb956efe4daa444daad21d8f8913b05c",
              "IPY_MODEL_4192170ec7a947d1b9f3ff8d122944f0",
              "IPY_MODEL_755108442ce040ecb7ee5abcf3c739bc"
            ]
          }
        },
        "4d2b50e409e44f0da0b021e0faed3426": {
          "model_module": "@jupyter-widgets/base",
          "model_name": "LayoutModel",
          "model_module_version": "1.2.0",
          "state": {
            "_view_name": "LayoutView",
            "grid_template_rows": null,
            "right": null,
            "justify_content": null,
            "_view_module": "@jupyter-widgets/base",
            "overflow": null,
            "_model_module_version": "1.2.0",
            "_view_count": null,
            "flex_flow": null,
            "width": null,
            "min_width": null,
            "border": null,
            "align_items": null,
            "bottom": null,
            "_model_module": "@jupyter-widgets/base",
            "top": null,
            "grid_column": null,
            "overflow_y": null,
            "overflow_x": null,
            "grid_auto_flow": null,
            "grid_area": null,
            "grid_template_columns": null,
            "flex": null,
            "_model_name": "LayoutModel",
            "justify_items": null,
            "grid_row": null,
            "max_height": null,
            "align_content": null,
            "visibility": null,
            "align_self": null,
            "height": null,
            "min_height": null,
            "padding": null,
            "grid_auto_rows": null,
            "grid_gap": null,
            "max_width": null,
            "order": null,
            "_view_module_version": "1.2.0",
            "grid_template_areas": null,
            "object_position": null,
            "object_fit": null,
            "grid_auto_columns": null,
            "margin": null,
            "display": null,
            "left": null
          }
        },
        "cb956efe4daa444daad21d8f8913b05c": {
          "model_module": "@jupyter-widgets/controls",
          "model_name": "HTMLModel",
          "model_module_version": "1.5.0",
          "state": {
            "_view_name": "HTMLView",
            "style": "IPY_MODEL_9b03a9cc019c4ef0adb92f78469de167",
            "_dom_classes": [],
            "description": "",
            "_model_name": "HTMLModel",
            "placeholder": "​",
            "_view_module": "@jupyter-widgets/controls",
            "_model_module_version": "1.5.0",
            "value": "Dl Completed...: 100%",
            "_view_count": null,
            "_view_module_version": "1.5.0",
            "description_tooltip": null,
            "_model_module": "@jupyter-widgets/controls",
            "layout": "IPY_MODEL_56e96b62ec414d58b1caae4a277bb6d1"
          }
        },
        "4192170ec7a947d1b9f3ff8d122944f0": {
          "model_module": "@jupyter-widgets/controls",
          "model_name": "FloatProgressModel",
          "model_module_version": "1.5.0",
          "state": {
            "_view_name": "ProgressView",
            "style": "IPY_MODEL_d87f3111d9bb4710a7c94102caa2191e",
            "_dom_classes": [],
            "description": "",
            "_model_name": "FloatProgressModel",
            "bar_style": "success",
            "max": 1,
            "_view_module": "@jupyter-widgets/controls",
            "_model_module_version": "1.5.0",
            "value": 1,
            "_view_count": null,
            "_view_module_version": "1.5.0",
            "orientation": "horizontal",
            "min": 0,
            "description_tooltip": null,
            "_model_module": "@jupyter-widgets/controls",
            "layout": "IPY_MODEL_55fee040527745449d5a30d08f8c5f0e"
          }
        },
        "755108442ce040ecb7ee5abcf3c739bc": {
          "model_module": "@jupyter-widgets/controls",
          "model_name": "HTMLModel",
          "model_module_version": "1.5.0",
          "state": {
            "_view_name": "HTMLView",
            "style": "IPY_MODEL_ba20b25346104d3485ba6c54a751917c",
            "_dom_classes": [],
            "description": "",
            "_model_name": "HTMLModel",
            "placeholder": "​",
            "_view_module": "@jupyter-widgets/controls",
            "_model_module_version": "1.5.0",
            "value": " 1/1 [00:11&lt;00:00,  4.91s/ url]",
            "_view_count": null,
            "_view_module_version": "1.5.0",
            "description_tooltip": null,
            "_model_module": "@jupyter-widgets/controls",
            "layout": "IPY_MODEL_69f117dae8984614907b3f85f62af187"
          }
        },
        "9b03a9cc019c4ef0adb92f78469de167": {
          "model_module": "@jupyter-widgets/controls",
          "model_name": "DescriptionStyleModel",
          "model_module_version": "1.5.0",
          "state": {
            "_view_name": "StyleView",
            "_model_name": "DescriptionStyleModel",
            "description_width": "",
            "_view_module": "@jupyter-widgets/base",
            "_model_module_version": "1.5.0",
            "_view_count": null,
            "_view_module_version": "1.2.0",
            "_model_module": "@jupyter-widgets/controls"
          }
        },
        "56e96b62ec414d58b1caae4a277bb6d1": {
          "model_module": "@jupyter-widgets/base",
          "model_name": "LayoutModel",
          "model_module_version": "1.2.0",
          "state": {
            "_view_name": "LayoutView",
            "grid_template_rows": null,
            "right": null,
            "justify_content": null,
            "_view_module": "@jupyter-widgets/base",
            "overflow": null,
            "_model_module_version": "1.2.0",
            "_view_count": null,
            "flex_flow": null,
            "width": null,
            "min_width": null,
            "border": null,
            "align_items": null,
            "bottom": null,
            "_model_module": "@jupyter-widgets/base",
            "top": null,
            "grid_column": null,
            "overflow_y": null,
            "overflow_x": null,
            "grid_auto_flow": null,
            "grid_area": null,
            "grid_template_columns": null,
            "flex": null,
            "_model_name": "LayoutModel",
            "justify_items": null,
            "grid_row": null,
            "max_height": null,
            "align_content": null,
            "visibility": null,
            "align_self": null,
            "height": null,
            "min_height": null,
            "padding": null,
            "grid_auto_rows": null,
            "grid_gap": null,
            "max_width": null,
            "order": null,
            "_view_module_version": "1.2.0",
            "grid_template_areas": null,
            "object_position": null,
            "object_fit": null,
            "grid_auto_columns": null,
            "margin": null,
            "display": null,
            "left": null
          }
        },
        "d87f3111d9bb4710a7c94102caa2191e": {
          "model_module": "@jupyter-widgets/controls",
          "model_name": "ProgressStyleModel",
          "model_module_version": "1.5.0",
          "state": {
            "_view_name": "StyleView",
            "_model_name": "ProgressStyleModel",
            "description_width": "",
            "_view_module": "@jupyter-widgets/base",
            "_model_module_version": "1.5.0",
            "_view_count": null,
            "_view_module_version": "1.2.0",
            "bar_color": null,
            "_model_module": "@jupyter-widgets/controls"
          }
        },
        "55fee040527745449d5a30d08f8c5f0e": {
          "model_module": "@jupyter-widgets/base",
          "model_name": "LayoutModel",
          "model_module_version": "1.2.0",
          "state": {
            "_view_name": "LayoutView",
            "grid_template_rows": null,
            "right": null,
            "justify_content": null,
            "_view_module": "@jupyter-widgets/base",
            "overflow": null,
            "_model_module_version": "1.2.0",
            "_view_count": null,
            "flex_flow": null,
            "width": "20px",
            "min_width": null,
            "border": null,
            "align_items": null,
            "bottom": null,
            "_model_module": "@jupyter-widgets/base",
            "top": null,
            "grid_column": null,
            "overflow_y": null,
            "overflow_x": null,
            "grid_auto_flow": null,
            "grid_area": null,
            "grid_template_columns": null,
            "flex": null,
            "_model_name": "LayoutModel",
            "justify_items": null,
            "grid_row": null,
            "max_height": null,
            "align_content": null,
            "visibility": null,
            "align_self": null,
            "height": null,
            "min_height": null,
            "padding": null,
            "grid_auto_rows": null,
            "grid_gap": null,
            "max_width": null,
            "order": null,
            "_view_module_version": "1.2.0",
            "grid_template_areas": null,
            "object_position": null,
            "object_fit": null,
            "grid_auto_columns": null,
            "margin": null,
            "display": null,
            "left": null
          }
        },
        "ba20b25346104d3485ba6c54a751917c": {
          "model_module": "@jupyter-widgets/controls",
          "model_name": "DescriptionStyleModel",
          "model_module_version": "1.5.0",
          "state": {
            "_view_name": "StyleView",
            "_model_name": "DescriptionStyleModel",
            "description_width": "",
            "_view_module": "@jupyter-widgets/base",
            "_model_module_version": "1.5.0",
            "_view_count": null,
            "_view_module_version": "1.2.0",
            "_model_module": "@jupyter-widgets/controls"
          }
        },
        "69f117dae8984614907b3f85f62af187": {
          "model_module": "@jupyter-widgets/base",
          "model_name": "LayoutModel",
          "model_module_version": "1.2.0",
          "state": {
            "_view_name": "LayoutView",
            "grid_template_rows": null,
            "right": null,
            "justify_content": null,
            "_view_module": "@jupyter-widgets/base",
            "overflow": null,
            "_model_module_version": "1.2.0",
            "_view_count": null,
            "flex_flow": null,
            "width": null,
            "min_width": null,
            "border": null,
            "align_items": null,
            "bottom": null,
            "_model_module": "@jupyter-widgets/base",
            "top": null,
            "grid_column": null,
            "overflow_y": null,
            "overflow_x": null,
            "grid_auto_flow": null,
            "grid_area": null,
            "grid_template_columns": null,
            "flex": null,
            "_model_name": "LayoutModel",
            "justify_items": null,
            "grid_row": null,
            "max_height": null,
            "align_content": null,
            "visibility": null,
            "align_self": null,
            "height": null,
            "min_height": null,
            "padding": null,
            "grid_auto_rows": null,
            "grid_gap": null,
            "max_width": null,
            "order": null,
            "_view_module_version": "1.2.0",
            "grid_template_areas": null,
            "object_position": null,
            "object_fit": null,
            "grid_auto_columns": null,
            "margin": null,
            "display": null,
            "left": null
          }
        },
        "74e04657f19f4f6ab89e2376c15f7766": {
          "model_module": "@jupyter-widgets/controls",
          "model_name": "HBoxModel",
          "model_module_version": "1.5.0",
          "state": {
            "_view_name": "HBoxView",
            "_dom_classes": [],
            "_model_name": "HBoxModel",
            "_view_module": "@jupyter-widgets/controls",
            "_model_module_version": "1.5.0",
            "_view_count": null,
            "_view_module_version": "1.5.0",
            "box_style": "",
            "layout": "IPY_MODEL_4e310669e1164af59b3a77684873f126",
            "_model_module": "@jupyter-widgets/controls",
            "children": [
              "IPY_MODEL_34f40bf361bd4f469d48ac12d4419131",
              "IPY_MODEL_c6d72c7216604831bb33a397022e9476",
              "IPY_MODEL_c4144fa44931495ab651f82fb5a7c7fe"
            ]
          }
        },
        "4e310669e1164af59b3a77684873f126": {
          "model_module": "@jupyter-widgets/base",
          "model_name": "LayoutModel",
          "model_module_version": "1.2.0",
          "state": {
            "_view_name": "LayoutView",
            "grid_template_rows": null,
            "right": null,
            "justify_content": null,
            "_view_module": "@jupyter-widgets/base",
            "overflow": null,
            "_model_module_version": "1.2.0",
            "_view_count": null,
            "flex_flow": null,
            "width": null,
            "min_width": null,
            "border": null,
            "align_items": null,
            "bottom": null,
            "_model_module": "@jupyter-widgets/base",
            "top": null,
            "grid_column": null,
            "overflow_y": null,
            "overflow_x": null,
            "grid_auto_flow": null,
            "grid_area": null,
            "grid_template_columns": null,
            "flex": null,
            "_model_name": "LayoutModel",
            "justify_items": null,
            "grid_row": null,
            "max_height": null,
            "align_content": null,
            "visibility": null,
            "align_self": null,
            "height": null,
            "min_height": null,
            "padding": null,
            "grid_auto_rows": null,
            "grid_gap": null,
            "max_width": null,
            "order": null,
            "_view_module_version": "1.2.0",
            "grid_template_areas": null,
            "object_position": null,
            "object_fit": null,
            "grid_auto_columns": null,
            "margin": null,
            "display": null,
            "left": null
          }
        },
        "34f40bf361bd4f469d48ac12d4419131": {
          "model_module": "@jupyter-widgets/controls",
          "model_name": "HTMLModel",
          "model_module_version": "1.5.0",
          "state": {
            "_view_name": "HTMLView",
            "style": "IPY_MODEL_f0281a2aeb3840c481277020fe1c6698",
            "_dom_classes": [],
            "description": "",
            "_model_name": "HTMLModel",
            "placeholder": "​",
            "_view_module": "@jupyter-widgets/controls",
            "_model_module_version": "1.5.0",
            "value": "Dl Size...: 100%",
            "_view_count": null,
            "_view_module_version": "1.5.0",
            "description_tooltip": null,
            "_model_module": "@jupyter-widgets/controls",
            "layout": "IPY_MODEL_0de8e25e2656453d9c81dfe377673c04"
          }
        },
        "c6d72c7216604831bb33a397022e9476": {
          "model_module": "@jupyter-widgets/controls",
          "model_name": "FloatProgressModel",
          "model_module_version": "1.5.0",
          "state": {
            "_view_name": "ProgressView",
            "style": "IPY_MODEL_fed2a3dd7f7347d6a6edf3c2e6fff463",
            "_dom_classes": [],
            "description": "",
            "_model_name": "FloatProgressModel",
            "bar_style": "success",
            "max": 1,
            "_view_module": "@jupyter-widgets/controls",
            "_model_module_version": "1.5.0",
            "value": 1,
            "_view_count": null,
            "_view_module_version": "1.5.0",
            "orientation": "horizontal",
            "min": 0,
            "description_tooltip": null,
            "_model_module": "@jupyter-widgets/controls",
            "layout": "IPY_MODEL_ea428adb28014aea8d867b936c4410c6"
          }
        },
        "c4144fa44931495ab651f82fb5a7c7fe": {
          "model_module": "@jupyter-widgets/controls",
          "model_name": "HTMLModel",
          "model_module_version": "1.5.0",
          "state": {
            "_view_name": "HTMLView",
            "style": "IPY_MODEL_3af77f722bac4f2399b70ccc2998d764",
            "_dom_classes": [],
            "description": "",
            "_model_name": "HTMLModel",
            "placeholder": "​",
            "_view_module": "@jupyter-widgets/controls",
            "_model_module_version": "1.5.0",
            "value": " 124/124 [00:10&lt;00:00, 33.37 MiB/s]",
            "_view_count": null,
            "_view_module_version": "1.5.0",
            "description_tooltip": null,
            "_model_module": "@jupyter-widgets/controls",
            "layout": "IPY_MODEL_e9de372a517c43c48500a674301c1ed0"
          }
        },
        "f0281a2aeb3840c481277020fe1c6698": {
          "model_module": "@jupyter-widgets/controls",
          "model_name": "DescriptionStyleModel",
          "model_module_version": "1.5.0",
          "state": {
            "_view_name": "StyleView",
            "_model_name": "DescriptionStyleModel",
            "description_width": "",
            "_view_module": "@jupyter-widgets/base",
            "_model_module_version": "1.5.0",
            "_view_count": null,
            "_view_module_version": "1.2.0",
            "_model_module": "@jupyter-widgets/controls"
          }
        },
        "0de8e25e2656453d9c81dfe377673c04": {
          "model_module": "@jupyter-widgets/base",
          "model_name": "LayoutModel",
          "model_module_version": "1.2.0",
          "state": {
            "_view_name": "LayoutView",
            "grid_template_rows": null,
            "right": null,
            "justify_content": null,
            "_view_module": "@jupyter-widgets/base",
            "overflow": null,
            "_model_module_version": "1.2.0",
            "_view_count": null,
            "flex_flow": null,
            "width": null,
            "min_width": null,
            "border": null,
            "align_items": null,
            "bottom": null,
            "_model_module": "@jupyter-widgets/base",
            "top": null,
            "grid_column": null,
            "overflow_y": null,
            "overflow_x": null,
            "grid_auto_flow": null,
            "grid_area": null,
            "grid_template_columns": null,
            "flex": null,
            "_model_name": "LayoutModel",
            "justify_items": null,
            "grid_row": null,
            "max_height": null,
            "align_content": null,
            "visibility": null,
            "align_self": null,
            "height": null,
            "min_height": null,
            "padding": null,
            "grid_auto_rows": null,
            "grid_gap": null,
            "max_width": null,
            "order": null,
            "_view_module_version": "1.2.0",
            "grid_template_areas": null,
            "object_position": null,
            "object_fit": null,
            "grid_auto_columns": null,
            "margin": null,
            "display": null,
            "left": null
          }
        },
        "fed2a3dd7f7347d6a6edf3c2e6fff463": {
          "model_module": "@jupyter-widgets/controls",
          "model_name": "ProgressStyleModel",
          "model_module_version": "1.5.0",
          "state": {
            "_view_name": "StyleView",
            "_model_name": "ProgressStyleModel",
            "description_width": "",
            "_view_module": "@jupyter-widgets/base",
            "_model_module_version": "1.5.0",
            "_view_count": null,
            "_view_module_version": "1.2.0",
            "bar_color": null,
            "_model_module": "@jupyter-widgets/controls"
          }
        },
        "ea428adb28014aea8d867b936c4410c6": {
          "model_module": "@jupyter-widgets/base",
          "model_name": "LayoutModel",
          "model_module_version": "1.2.0",
          "state": {
            "_view_name": "LayoutView",
            "grid_template_rows": null,
            "right": null,
            "justify_content": null,
            "_view_module": "@jupyter-widgets/base",
            "overflow": null,
            "_model_module_version": "1.2.0",
            "_view_count": null,
            "flex_flow": null,
            "width": "20px",
            "min_width": null,
            "border": null,
            "align_items": null,
            "bottom": null,
            "_model_module": "@jupyter-widgets/base",
            "top": null,
            "grid_column": null,
            "overflow_y": null,
            "overflow_x": null,
            "grid_auto_flow": null,
            "grid_area": null,
            "grid_template_columns": null,
            "flex": null,
            "_model_name": "LayoutModel",
            "justify_items": null,
            "grid_row": null,
            "max_height": null,
            "align_content": null,
            "visibility": null,
            "align_self": null,
            "height": null,
            "min_height": null,
            "padding": null,
            "grid_auto_rows": null,
            "grid_gap": null,
            "max_width": null,
            "order": null,
            "_view_module_version": "1.2.0",
            "grid_template_areas": null,
            "object_position": null,
            "object_fit": null,
            "grid_auto_columns": null,
            "margin": null,
            "display": null,
            "left": null
          }
        },
        "3af77f722bac4f2399b70ccc2998d764": {
          "model_module": "@jupyter-widgets/controls",
          "model_name": "DescriptionStyleModel",
          "model_module_version": "1.5.0",
          "state": {
            "_view_name": "StyleView",
            "_model_name": "DescriptionStyleModel",
            "description_width": "",
            "_view_module": "@jupyter-widgets/base",
            "_model_module_version": "1.5.0",
            "_view_count": null,
            "_view_module_version": "1.2.0",
            "_model_module": "@jupyter-widgets/controls"
          }
        },
        "e9de372a517c43c48500a674301c1ed0": {
          "model_module": "@jupyter-widgets/base",
          "model_name": "LayoutModel",
          "model_module_version": "1.2.0",
          "state": {
            "_view_name": "LayoutView",
            "grid_template_rows": null,
            "right": null,
            "justify_content": null,
            "_view_module": "@jupyter-widgets/base",
            "overflow": null,
            "_model_module_version": "1.2.0",
            "_view_count": null,
            "flex_flow": null,
            "width": null,
            "min_width": null,
            "border": null,
            "align_items": null,
            "bottom": null,
            "_model_module": "@jupyter-widgets/base",
            "top": null,
            "grid_column": null,
            "overflow_y": null,
            "overflow_x": null,
            "grid_auto_flow": null,
            "grid_area": null,
            "grid_template_columns": null,
            "flex": null,
            "_model_name": "LayoutModel",
            "justify_items": null,
            "grid_row": null,
            "max_height": null,
            "align_content": null,
            "visibility": null,
            "align_self": null,
            "height": null,
            "min_height": null,
            "padding": null,
            "grid_auto_rows": null,
            "grid_gap": null,
            "max_width": null,
            "order": null,
            "_view_module_version": "1.2.0",
            "grid_template_areas": null,
            "object_position": null,
            "object_fit": null,
            "grid_auto_columns": null,
            "margin": null,
            "display": null,
            "left": null
          }
        },
        "b872e86d949940e1af6f3d327d2e22cd": {
          "model_module": "@jupyter-widgets/controls",
          "model_name": "HBoxModel",
          "model_module_version": "1.5.0",
          "state": {
            "_view_name": "HBoxView",
            "_dom_classes": [],
            "_model_name": "HBoxModel",
            "_view_module": "@jupyter-widgets/controls",
            "_model_module_version": "1.5.0",
            "_view_count": null,
            "_view_module_version": "1.5.0",
            "box_style": "",
            "layout": "IPY_MODEL_32da97b6954145c5abece4b796365d2a",
            "_model_module": "@jupyter-widgets/controls",
            "children": [
              "IPY_MODEL_97ac18d28ba1452f871e517ac2a4e056",
              "IPY_MODEL_993287dda8a24be1bcb8c61785eac6de",
              "IPY_MODEL_5aab98b6f832415e9d7619894334e42f"
            ]
          }
        },
        "32da97b6954145c5abece4b796365d2a": {
          "model_module": "@jupyter-widgets/base",
          "model_name": "LayoutModel",
          "model_module_version": "1.2.0",
          "state": {
            "_view_name": "LayoutView",
            "grid_template_rows": null,
            "right": null,
            "justify_content": null,
            "_view_module": "@jupyter-widgets/base",
            "overflow": null,
            "_model_module_version": "1.2.0",
            "_view_count": null,
            "flex_flow": null,
            "width": null,
            "min_width": null,
            "border": null,
            "align_items": null,
            "bottom": null,
            "_model_module": "@jupyter-widgets/base",
            "top": null,
            "grid_column": null,
            "overflow_y": null,
            "overflow_x": null,
            "grid_auto_flow": null,
            "grid_area": null,
            "grid_template_columns": null,
            "flex": null,
            "_model_name": "LayoutModel",
            "justify_items": null,
            "grid_row": null,
            "max_height": null,
            "align_content": null,
            "visibility": null,
            "align_self": null,
            "height": null,
            "min_height": null,
            "padding": null,
            "grid_auto_rows": null,
            "grid_gap": null,
            "max_width": null,
            "order": null,
            "_view_module_version": "1.2.0",
            "grid_template_areas": null,
            "object_position": null,
            "object_fit": null,
            "grid_auto_columns": null,
            "margin": null,
            "display": null,
            "left": null
          }
        },
        "97ac18d28ba1452f871e517ac2a4e056": {
          "model_module": "@jupyter-widgets/controls",
          "model_name": "HTMLModel",
          "model_module_version": "1.5.0",
          "state": {
            "_view_name": "HTMLView",
            "style": "IPY_MODEL_65c705232af44a1398644ca82725c9f0",
            "_dom_classes": [],
            "description": "",
            "_model_name": "HTMLModel",
            "placeholder": "​",
            "_view_module": "@jupyter-widgets/controls",
            "_model_module_version": "1.5.0",
            "value": "Extraction completed...: 100%",
            "_view_count": null,
            "_view_module_version": "1.5.0",
            "description_tooltip": null,
            "_model_module": "@jupyter-widgets/controls",
            "layout": "IPY_MODEL_cb25c9e6c3eb41378beda63f8a1b3d5e"
          }
        },
        "993287dda8a24be1bcb8c61785eac6de": {
          "model_module": "@jupyter-widgets/controls",
          "model_name": "FloatProgressModel",
          "model_module_version": "1.5.0",
          "state": {
            "_view_name": "ProgressView",
            "style": "IPY_MODEL_fd6c047aa807484f9907093c1e5feb0a",
            "_dom_classes": [],
            "description": "",
            "_model_name": "FloatProgressModel",
            "bar_style": "success",
            "max": 1,
            "_view_module": "@jupyter-widgets/controls",
            "_model_module_version": "1.5.0",
            "value": 1,
            "_view_count": null,
            "_view_module_version": "1.5.0",
            "orientation": "horizontal",
            "min": 0,
            "description_tooltip": null,
            "_model_module": "@jupyter-widgets/controls",
            "layout": "IPY_MODEL_3230e8ce56bd4c10911858d23e43245b"
          }
        },
        "5aab98b6f832415e9d7619894334e42f": {
          "model_module": "@jupyter-widgets/controls",
          "model_name": "HTMLModel",
          "model_module_version": "1.5.0",
          "state": {
            "_view_name": "HTMLView",
            "style": "IPY_MODEL_a67b9d2a01504227ab1de746a62c0593",
            "_dom_classes": [],
            "description": "",
            "_model_name": "HTMLModel",
            "placeholder": "​",
            "_view_module": "@jupyter-widgets/controls",
            "_model_module_version": "1.5.0",
            "value": " 1/1 [00:10&lt;00:00, 10.90s/ file]",
            "_view_count": null,
            "_view_module_version": "1.5.0",
            "description_tooltip": null,
            "_model_module": "@jupyter-widgets/controls",
            "layout": "IPY_MODEL_b9f5e3426a064ab9af163c642a8f3e51"
          }
        },
        "65c705232af44a1398644ca82725c9f0": {
          "model_module": "@jupyter-widgets/controls",
          "model_name": "DescriptionStyleModel",
          "model_module_version": "1.5.0",
          "state": {
            "_view_name": "StyleView",
            "_model_name": "DescriptionStyleModel",
            "description_width": "",
            "_view_module": "@jupyter-widgets/base",
            "_model_module_version": "1.5.0",
            "_view_count": null,
            "_view_module_version": "1.2.0",
            "_model_module": "@jupyter-widgets/controls"
          }
        },
        "cb25c9e6c3eb41378beda63f8a1b3d5e": {
          "model_module": "@jupyter-widgets/base",
          "model_name": "LayoutModel",
          "model_module_version": "1.2.0",
          "state": {
            "_view_name": "LayoutView",
            "grid_template_rows": null,
            "right": null,
            "justify_content": null,
            "_view_module": "@jupyter-widgets/base",
            "overflow": null,
            "_model_module_version": "1.2.0",
            "_view_count": null,
            "flex_flow": null,
            "width": null,
            "min_width": null,
            "border": null,
            "align_items": null,
            "bottom": null,
            "_model_module": "@jupyter-widgets/base",
            "top": null,
            "grid_column": null,
            "overflow_y": null,
            "overflow_x": null,
            "grid_auto_flow": null,
            "grid_area": null,
            "grid_template_columns": null,
            "flex": null,
            "_model_name": "LayoutModel",
            "justify_items": null,
            "grid_row": null,
            "max_height": null,
            "align_content": null,
            "visibility": null,
            "align_self": null,
            "height": null,
            "min_height": null,
            "padding": null,
            "grid_auto_rows": null,
            "grid_gap": null,
            "max_width": null,
            "order": null,
            "_view_module_version": "1.2.0",
            "grid_template_areas": null,
            "object_position": null,
            "object_fit": null,
            "grid_auto_columns": null,
            "margin": null,
            "display": null,
            "left": null
          }
        },
        "fd6c047aa807484f9907093c1e5feb0a": {
          "model_module": "@jupyter-widgets/controls",
          "model_name": "ProgressStyleModel",
          "model_module_version": "1.5.0",
          "state": {
            "_view_name": "StyleView",
            "_model_name": "ProgressStyleModel",
            "description_width": "",
            "_view_module": "@jupyter-widgets/base",
            "_model_module_version": "1.5.0",
            "_view_count": null,
            "_view_module_version": "1.2.0",
            "bar_color": null,
            "_model_module": "@jupyter-widgets/controls"
          }
        },
        "3230e8ce56bd4c10911858d23e43245b": {
          "model_module": "@jupyter-widgets/base",
          "model_name": "LayoutModel",
          "model_module_version": "1.2.0",
          "state": {
            "_view_name": "LayoutView",
            "grid_template_rows": null,
            "right": null,
            "justify_content": null,
            "_view_module": "@jupyter-widgets/base",
            "overflow": null,
            "_model_module_version": "1.2.0",
            "_view_count": null,
            "flex_flow": null,
            "width": "20px",
            "min_width": null,
            "border": null,
            "align_items": null,
            "bottom": null,
            "_model_module": "@jupyter-widgets/base",
            "top": null,
            "grid_column": null,
            "overflow_y": null,
            "overflow_x": null,
            "grid_auto_flow": null,
            "grid_area": null,
            "grid_template_columns": null,
            "flex": null,
            "_model_name": "LayoutModel",
            "justify_items": null,
            "grid_row": null,
            "max_height": null,
            "align_content": null,
            "visibility": null,
            "align_self": null,
            "height": null,
            "min_height": null,
            "padding": null,
            "grid_auto_rows": null,
            "grid_gap": null,
            "max_width": null,
            "order": null,
            "_view_module_version": "1.2.0",
            "grid_template_areas": null,
            "object_position": null,
            "object_fit": null,
            "grid_auto_columns": null,
            "margin": null,
            "display": null,
            "left": null
          }
        },
        "a67b9d2a01504227ab1de746a62c0593": {
          "model_module": "@jupyter-widgets/controls",
          "model_name": "DescriptionStyleModel",
          "model_module_version": "1.5.0",
          "state": {
            "_view_name": "StyleView",
            "_model_name": "DescriptionStyleModel",
            "description_width": "",
            "_view_module": "@jupyter-widgets/base",
            "_model_module_version": "1.5.0",
            "_view_count": null,
            "_view_module_version": "1.2.0",
            "_model_module": "@jupyter-widgets/controls"
          }
        },
        "b9f5e3426a064ab9af163c642a8f3e51": {
          "model_module": "@jupyter-widgets/base",
          "model_name": "LayoutModel",
          "model_module_version": "1.2.0",
          "state": {
            "_view_name": "LayoutView",
            "grid_template_rows": null,
            "right": null,
            "justify_content": null,
            "_view_module": "@jupyter-widgets/base",
            "overflow": null,
            "_model_module_version": "1.2.0",
            "_view_count": null,
            "flex_flow": null,
            "width": null,
            "min_width": null,
            "border": null,
            "align_items": null,
            "bottom": null,
            "_model_module": "@jupyter-widgets/base",
            "top": null,
            "grid_column": null,
            "overflow_y": null,
            "overflow_x": null,
            "grid_auto_flow": null,
            "grid_area": null,
            "grid_template_columns": null,
            "flex": null,
            "_model_name": "LayoutModel",
            "justify_items": null,
            "grid_row": null,
            "max_height": null,
            "align_content": null,
            "visibility": null,
            "align_self": null,
            "height": null,
            "min_height": null,
            "padding": null,
            "grid_auto_rows": null,
            "grid_gap": null,
            "max_width": null,
            "order": null,
            "_view_module_version": "1.2.0",
            "grid_template_areas": null,
            "object_position": null,
            "object_fit": null,
            "grid_auto_columns": null,
            "margin": null,
            "display": null,
            "left": null
          }
        },
        "3e5a533a45b746148cfdc42ea7e154bd": {
          "model_module": "@jupyter-widgets/controls",
          "model_name": "HBoxModel",
          "model_module_version": "1.5.0",
          "state": {
            "_view_name": "HBoxView",
            "_dom_classes": [],
            "_model_name": "HBoxModel",
            "_view_module": "@jupyter-widgets/controls",
            "_model_module_version": "1.5.0",
            "_view_count": null,
            "_view_module_version": "1.5.0",
            "box_style": "",
            "layout": "IPY_MODEL_14b7f8ac968d46129b295c2bba50b456",
            "_model_module": "@jupyter-widgets/controls",
            "children": [
              "IPY_MODEL_684f1cf0f4864352babf79ccc0a37e91",
              "IPY_MODEL_bb6ae8d680c84e51b7885e6d94907771",
              "IPY_MODEL_51953801edeb4b39ba206ee5d0d07a1d"
            ]
          }
        },
        "14b7f8ac968d46129b295c2bba50b456": {
          "model_module": "@jupyter-widgets/base",
          "model_name": "LayoutModel",
          "model_module_version": "1.2.0",
          "state": {
            "_view_name": "LayoutView",
            "grid_template_rows": null,
            "right": null,
            "justify_content": null,
            "_view_module": "@jupyter-widgets/base",
            "overflow": null,
            "_model_module_version": "1.2.0",
            "_view_count": null,
            "flex_flow": null,
            "width": null,
            "min_width": null,
            "border": null,
            "align_items": null,
            "bottom": null,
            "_model_module": "@jupyter-widgets/base",
            "top": null,
            "grid_column": null,
            "overflow_y": null,
            "overflow_x": null,
            "grid_auto_flow": null,
            "grid_area": null,
            "grid_template_columns": null,
            "flex": null,
            "_model_name": "LayoutModel",
            "justify_items": null,
            "grid_row": null,
            "max_height": null,
            "align_content": null,
            "visibility": null,
            "align_self": null,
            "height": null,
            "min_height": null,
            "padding": null,
            "grid_auto_rows": null,
            "grid_gap": null,
            "max_width": null,
            "order": null,
            "_view_module_version": "1.2.0",
            "grid_template_areas": null,
            "object_position": null,
            "object_fit": null,
            "grid_auto_columns": null,
            "margin": null,
            "display": null,
            "left": null
          }
        },
        "684f1cf0f4864352babf79ccc0a37e91": {
          "model_module": "@jupyter-widgets/controls",
          "model_name": "HTMLModel",
          "model_module_version": "1.5.0",
          "state": {
            "_view_name": "HTMLView",
            "style": "IPY_MODEL_71ab83a22c994d328625a4b4c9189399",
            "_dom_classes": [],
            "description": "",
            "_model_name": "HTMLModel",
            "placeholder": "​",
            "_view_module": "@jupyter-widgets/controls",
            "_model_module_version": "1.5.0",
            "value": "Generating splits...: 100%",
            "_view_count": null,
            "_view_module_version": "1.5.0",
            "description_tooltip": null,
            "_model_module": "@jupyter-widgets/controls",
            "layout": "IPY_MODEL_cff6ae0d11b74dd7a6e0146049ec3862"
          }
        },
        "bb6ae8d680c84e51b7885e6d94907771": {
          "model_module": "@jupyter-widgets/controls",
          "model_name": "FloatProgressModel",
          "model_module_version": "1.5.0",
          "state": {
            "_view_name": "ProgressView",
            "style": "IPY_MODEL_427c1a8aa87040bea54ae42844a764e1",
            "_dom_classes": [],
            "description": "",
            "_model_name": "FloatProgressModel",
            "bar_style": "",
            "max": 3,
            "_view_module": "@jupyter-widgets/controls",
            "_model_module_version": "1.5.0",
            "value": 3,
            "_view_count": null,
            "_view_module_version": "1.5.0",
            "orientation": "horizontal",
            "min": 0,
            "description_tooltip": null,
            "_model_module": "@jupyter-widgets/controls",
            "layout": "IPY_MODEL_94cbd0cf3e7d4ca3a61ce4349c3eb18d"
          }
        },
        "51953801edeb4b39ba206ee5d0d07a1d": {
          "model_module": "@jupyter-widgets/controls",
          "model_name": "HTMLModel",
          "model_module_version": "1.5.0",
          "state": {
            "_view_name": "HTMLView",
            "style": "IPY_MODEL_ac673b5b51684bc7a6ee77891f38067e",
            "_dom_classes": [],
            "description": "",
            "_model_name": "HTMLModel",
            "placeholder": "​",
            "_view_module": "@jupyter-widgets/controls",
            "_model_module_version": "1.5.0",
            "value": " 3/3 [00:13&lt;00:00,  3.12s/ splits]",
            "_view_count": null,
            "_view_module_version": "1.5.0",
            "description_tooltip": null,
            "_model_module": "@jupyter-widgets/controls",
            "layout": "IPY_MODEL_fba290c5cada4ce892753eb69348e5af"
          }
        },
        "71ab83a22c994d328625a4b4c9189399": {
          "model_module": "@jupyter-widgets/controls",
          "model_name": "DescriptionStyleModel",
          "model_module_version": "1.5.0",
          "state": {
            "_view_name": "StyleView",
            "_model_name": "DescriptionStyleModel",
            "description_width": "",
            "_view_module": "@jupyter-widgets/base",
            "_model_module_version": "1.5.0",
            "_view_count": null,
            "_view_module_version": "1.2.0",
            "_model_module": "@jupyter-widgets/controls"
          }
        },
        "cff6ae0d11b74dd7a6e0146049ec3862": {
          "model_module": "@jupyter-widgets/base",
          "model_name": "LayoutModel",
          "model_module_version": "1.2.0",
          "state": {
            "_view_name": "LayoutView",
            "grid_template_rows": null,
            "right": null,
            "justify_content": null,
            "_view_module": "@jupyter-widgets/base",
            "overflow": null,
            "_model_module_version": "1.2.0",
            "_view_count": null,
            "flex_flow": null,
            "width": null,
            "min_width": null,
            "border": null,
            "align_items": null,
            "bottom": null,
            "_model_module": "@jupyter-widgets/base",
            "top": null,
            "grid_column": null,
            "overflow_y": null,
            "overflow_x": null,
            "grid_auto_flow": null,
            "grid_area": null,
            "grid_template_columns": null,
            "flex": null,
            "_model_name": "LayoutModel",
            "justify_items": null,
            "grid_row": null,
            "max_height": null,
            "align_content": null,
            "visibility": null,
            "align_self": null,
            "height": null,
            "min_height": null,
            "padding": null,
            "grid_auto_rows": null,
            "grid_gap": null,
            "max_width": null,
            "order": null,
            "_view_module_version": "1.2.0",
            "grid_template_areas": null,
            "object_position": null,
            "object_fit": null,
            "grid_auto_columns": null,
            "margin": null,
            "display": null,
            "left": null
          }
        },
        "427c1a8aa87040bea54ae42844a764e1": {
          "model_module": "@jupyter-widgets/controls",
          "model_name": "ProgressStyleModel",
          "model_module_version": "1.5.0",
          "state": {
            "_view_name": "StyleView",
            "_model_name": "ProgressStyleModel",
            "description_width": "",
            "_view_module": "@jupyter-widgets/base",
            "_model_module_version": "1.5.0",
            "_view_count": null,
            "_view_module_version": "1.2.0",
            "bar_color": null,
            "_model_module": "@jupyter-widgets/controls"
          }
        },
        "94cbd0cf3e7d4ca3a61ce4349c3eb18d": {
          "model_module": "@jupyter-widgets/base",
          "model_name": "LayoutModel",
          "model_module_version": "1.2.0",
          "state": {
            "_view_name": "LayoutView",
            "grid_template_rows": null,
            "right": null,
            "justify_content": null,
            "_view_module": "@jupyter-widgets/base",
            "overflow": null,
            "_model_module_version": "1.2.0",
            "_view_count": null,
            "flex_flow": null,
            "width": null,
            "min_width": null,
            "border": null,
            "align_items": null,
            "bottom": null,
            "_model_module": "@jupyter-widgets/base",
            "top": null,
            "grid_column": null,
            "overflow_y": null,
            "overflow_x": null,
            "grid_auto_flow": null,
            "grid_area": null,
            "grid_template_columns": null,
            "flex": null,
            "_model_name": "LayoutModel",
            "justify_items": null,
            "grid_row": null,
            "max_height": null,
            "align_content": null,
            "visibility": null,
            "align_self": null,
            "height": null,
            "min_height": null,
            "padding": null,
            "grid_auto_rows": null,
            "grid_gap": null,
            "max_width": null,
            "order": null,
            "_view_module_version": "1.2.0",
            "grid_template_areas": null,
            "object_position": null,
            "object_fit": null,
            "grid_auto_columns": null,
            "margin": null,
            "display": null,
            "left": null
          }
        },
        "ac673b5b51684bc7a6ee77891f38067e": {
          "model_module": "@jupyter-widgets/controls",
          "model_name": "DescriptionStyleModel",
          "model_module_version": "1.5.0",
          "state": {
            "_view_name": "StyleView",
            "_model_name": "DescriptionStyleModel",
            "description_width": "",
            "_view_module": "@jupyter-widgets/base",
            "_model_module_version": "1.5.0",
            "_view_count": null,
            "_view_module_version": "1.2.0",
            "_model_module": "@jupyter-widgets/controls"
          }
        },
        "fba290c5cada4ce892753eb69348e5af": {
          "model_module": "@jupyter-widgets/base",
          "model_name": "LayoutModel",
          "model_module_version": "1.2.0",
          "state": {
            "_view_name": "LayoutView",
            "grid_template_rows": null,
            "right": null,
            "justify_content": null,
            "_view_module": "@jupyter-widgets/base",
            "overflow": null,
            "_model_module_version": "1.2.0",
            "_view_count": null,
            "flex_flow": null,
            "width": null,
            "min_width": null,
            "border": null,
            "align_items": null,
            "bottom": null,
            "_model_module": "@jupyter-widgets/base",
            "top": null,
            "grid_column": null,
            "overflow_y": null,
            "overflow_x": null,
            "grid_auto_flow": null,
            "grid_area": null,
            "grid_template_columns": null,
            "flex": null,
            "_model_name": "LayoutModel",
            "justify_items": null,
            "grid_row": null,
            "max_height": null,
            "align_content": null,
            "visibility": null,
            "align_self": null,
            "height": null,
            "min_height": null,
            "padding": null,
            "grid_auto_rows": null,
            "grid_gap": null,
            "max_width": null,
            "order": null,
            "_view_module_version": "1.2.0",
            "grid_template_areas": null,
            "object_position": null,
            "object_fit": null,
            "grid_auto_columns": null,
            "margin": null,
            "display": null,
            "left": null
          }
        },
        "0e2a965d943146c7a0aed97859fa5bc5": {
          "model_module": "@jupyter-widgets/controls",
          "model_name": "HBoxModel",
          "model_module_version": "1.5.0",
          "state": {
            "_view_name": "HBoxView",
            "_dom_classes": [],
            "_model_name": "HBoxModel",
            "_view_module": "@jupyter-widgets/controls",
            "_model_module_version": "1.5.0",
            "_view_count": null,
            "_view_module_version": "1.5.0",
            "box_style": "",
            "layout": "IPY_MODEL_b3334091b0404f90ae609213896c4eb3",
            "_model_module": "@jupyter-widgets/controls",
            "children": [
              "IPY_MODEL_7adf9daaab5a49eca56f320a14798a13",
              "IPY_MODEL_9fe9fed9c8a64968bd68dc2eb626cb9d",
              "IPY_MODEL_d741a61553ea4b1690334e64ba399049"
            ]
          }
        },
        "b3334091b0404f90ae609213896c4eb3": {
          "model_module": "@jupyter-widgets/base",
          "model_name": "LayoutModel",
          "model_module_version": "1.2.0",
          "state": {
            "_view_name": "LayoutView",
            "grid_template_rows": null,
            "right": null,
            "justify_content": null,
            "_view_module": "@jupyter-widgets/base",
            "overflow": null,
            "_model_module_version": "1.2.0",
            "_view_count": null,
            "flex_flow": null,
            "width": null,
            "min_width": null,
            "border": null,
            "align_items": null,
            "bottom": null,
            "_model_module": "@jupyter-widgets/base",
            "top": null,
            "grid_column": null,
            "overflow_y": null,
            "overflow_x": null,
            "grid_auto_flow": null,
            "grid_area": null,
            "grid_template_columns": null,
            "flex": null,
            "_model_name": "LayoutModel",
            "justify_items": null,
            "grid_row": null,
            "max_height": null,
            "align_content": null,
            "visibility": null,
            "align_self": null,
            "height": null,
            "min_height": null,
            "padding": null,
            "grid_auto_rows": null,
            "grid_gap": null,
            "max_width": null,
            "order": null,
            "_view_module_version": "1.2.0",
            "grid_template_areas": null,
            "object_position": null,
            "object_fit": null,
            "grid_auto_columns": null,
            "margin": null,
            "display": null,
            "left": null
          }
        },
        "7adf9daaab5a49eca56f320a14798a13": {
          "model_module": "@jupyter-widgets/controls",
          "model_name": "HTMLModel",
          "model_module_version": "1.5.0",
          "state": {
            "_view_name": "HTMLView",
            "style": "IPY_MODEL_b68feb9cb1274041aaf632ce1c435baa",
            "_dom_classes": [],
            "description": "",
            "_model_name": "HTMLModel",
            "placeholder": "​",
            "_view_module": "@jupyter-widgets/controls",
            "_model_module_version": "1.5.0",
            "value": "Generating train examples...: 100%",
            "_view_count": null,
            "_view_module_version": "1.5.0",
            "description_tooltip": null,
            "_model_module": "@jupyter-widgets/controls",
            "layout": "IPY_MODEL_f834031b549b4230aba544c420008e6e"
          }
        },
        "9fe9fed9c8a64968bd68dc2eb626cb9d": {
          "model_module": "@jupyter-widgets/controls",
          "model_name": "FloatProgressModel",
          "model_module_version": "1.5.0",
          "state": {
            "_view_name": "ProgressView",
            "style": "IPY_MODEL_dea13f6b5ee44329b90895b40b0cc59a",
            "_dom_classes": [],
            "description": "",
            "_model_name": "FloatProgressModel",
            "bar_style": "",
            "max": 51785,
            "_view_module": "@jupyter-widgets/controls",
            "_model_module_version": "1.5.0",
            "value": 51785,
            "_view_count": null,
            "_view_module_version": "1.5.0",
            "orientation": "horizontal",
            "min": 0,
            "description_tooltip": null,
            "_model_module": "@jupyter-widgets/controls",
            "layout": "IPY_MODEL_9064ca4d480544eb9ae0359c3435ded8"
          }
        },
        "d741a61553ea4b1690334e64ba399049": {
          "model_module": "@jupyter-widgets/controls",
          "model_name": "HTMLModel",
          "model_module_version": "1.5.0",
          "state": {
            "_view_name": "HTMLView",
            "style": "IPY_MODEL_62e3735b3b204e368a4500bf1e6e65b1",
            "_dom_classes": [],
            "description": "",
            "_model_name": "HTMLModel",
            "placeholder": "​",
            "_view_module": "@jupyter-widgets/controls",
            "_model_module_version": "1.5.0",
            "value": " 51574/51785 [00:11&lt;00:00, 4948.94 examples/s]",
            "_view_count": null,
            "_view_module_version": "1.5.0",
            "description_tooltip": null,
            "_model_module": "@jupyter-widgets/controls",
            "layout": "IPY_MODEL_d554ba4d48c6483cb86efb757d216f39"
          }
        },
        "b68feb9cb1274041aaf632ce1c435baa": {
          "model_module": "@jupyter-widgets/controls",
          "model_name": "DescriptionStyleModel",
          "model_module_version": "1.5.0",
          "state": {
            "_view_name": "StyleView",
            "_model_name": "DescriptionStyleModel",
            "description_width": "",
            "_view_module": "@jupyter-widgets/base",
            "_model_module_version": "1.5.0",
            "_view_count": null,
            "_view_module_version": "1.2.0",
            "_model_module": "@jupyter-widgets/controls"
          }
        },
        "f834031b549b4230aba544c420008e6e": {
          "model_module": "@jupyter-widgets/base",
          "model_name": "LayoutModel",
          "model_module_version": "1.2.0",
          "state": {
            "_view_name": "LayoutView",
            "grid_template_rows": null,
            "right": null,
            "justify_content": null,
            "_view_module": "@jupyter-widgets/base",
            "overflow": null,
            "_model_module_version": "1.2.0",
            "_view_count": null,
            "flex_flow": null,
            "width": null,
            "min_width": null,
            "border": null,
            "align_items": null,
            "bottom": null,
            "_model_module": "@jupyter-widgets/base",
            "top": null,
            "grid_column": null,
            "overflow_y": null,
            "overflow_x": null,
            "grid_auto_flow": null,
            "grid_area": null,
            "grid_template_columns": null,
            "flex": null,
            "_model_name": "LayoutModel",
            "justify_items": null,
            "grid_row": null,
            "max_height": null,
            "align_content": null,
            "visibility": null,
            "align_self": null,
            "height": null,
            "min_height": null,
            "padding": null,
            "grid_auto_rows": null,
            "grid_gap": null,
            "max_width": null,
            "order": null,
            "_view_module_version": "1.2.0",
            "grid_template_areas": null,
            "object_position": null,
            "object_fit": null,
            "grid_auto_columns": null,
            "margin": null,
            "display": null,
            "left": null
          }
        },
        "dea13f6b5ee44329b90895b40b0cc59a": {
          "model_module": "@jupyter-widgets/controls",
          "model_name": "ProgressStyleModel",
          "model_module_version": "1.5.0",
          "state": {
            "_view_name": "StyleView",
            "_model_name": "ProgressStyleModel",
            "description_width": "",
            "_view_module": "@jupyter-widgets/base",
            "_model_module_version": "1.5.0",
            "_view_count": null,
            "_view_module_version": "1.2.0",
            "bar_color": null,
            "_model_module": "@jupyter-widgets/controls"
          }
        },
        "9064ca4d480544eb9ae0359c3435ded8": {
          "model_module": "@jupyter-widgets/base",
          "model_name": "LayoutModel",
          "model_module_version": "1.2.0",
          "state": {
            "_view_name": "LayoutView",
            "grid_template_rows": null,
            "right": null,
            "justify_content": null,
            "_view_module": "@jupyter-widgets/base",
            "overflow": null,
            "_model_module_version": "1.2.0",
            "_view_count": null,
            "flex_flow": null,
            "width": null,
            "min_width": null,
            "border": null,
            "align_items": null,
            "bottom": null,
            "_model_module": "@jupyter-widgets/base",
            "top": null,
            "grid_column": null,
            "overflow_y": null,
            "overflow_x": null,
            "grid_auto_flow": null,
            "grid_area": null,
            "grid_template_columns": null,
            "flex": null,
            "_model_name": "LayoutModel",
            "justify_items": null,
            "grid_row": null,
            "max_height": null,
            "align_content": null,
            "visibility": null,
            "align_self": null,
            "height": null,
            "min_height": null,
            "padding": null,
            "grid_auto_rows": null,
            "grid_gap": null,
            "max_width": null,
            "order": null,
            "_view_module_version": "1.2.0",
            "grid_template_areas": null,
            "object_position": null,
            "object_fit": null,
            "grid_auto_columns": null,
            "margin": null,
            "display": null,
            "left": null
          }
        },
        "62e3735b3b204e368a4500bf1e6e65b1": {
          "model_module": "@jupyter-widgets/controls",
          "model_name": "DescriptionStyleModel",
          "model_module_version": "1.5.0",
          "state": {
            "_view_name": "StyleView",
            "_model_name": "DescriptionStyleModel",
            "description_width": "",
            "_view_module": "@jupyter-widgets/base",
            "_model_module_version": "1.5.0",
            "_view_count": null,
            "_view_module_version": "1.2.0",
            "_model_module": "@jupyter-widgets/controls"
          }
        },
        "d554ba4d48c6483cb86efb757d216f39": {
          "model_module": "@jupyter-widgets/base",
          "model_name": "LayoutModel",
          "model_module_version": "1.2.0",
          "state": {
            "_view_name": "LayoutView",
            "grid_template_rows": null,
            "right": null,
            "justify_content": null,
            "_view_module": "@jupyter-widgets/base",
            "overflow": null,
            "_model_module_version": "1.2.0",
            "_view_count": null,
            "flex_flow": null,
            "width": null,
            "min_width": null,
            "border": null,
            "align_items": null,
            "bottom": null,
            "_model_module": "@jupyter-widgets/base",
            "top": null,
            "grid_column": null,
            "overflow_y": null,
            "overflow_x": null,
            "grid_auto_flow": null,
            "grid_area": null,
            "grid_template_columns": null,
            "flex": null,
            "_model_name": "LayoutModel",
            "justify_items": null,
            "grid_row": null,
            "max_height": null,
            "align_content": null,
            "visibility": null,
            "align_self": null,
            "height": null,
            "min_height": null,
            "padding": null,
            "grid_auto_rows": null,
            "grid_gap": null,
            "max_width": null,
            "order": null,
            "_view_module_version": "1.2.0",
            "grid_template_areas": null,
            "object_position": null,
            "object_fit": null,
            "grid_auto_columns": null,
            "margin": null,
            "display": null,
            "left": null
          }
        },
        "b27ec72fb4f0443dbddf0fbf0d55553a": {
          "model_module": "@jupyter-widgets/controls",
          "model_name": "HBoxModel",
          "model_module_version": "1.5.0",
          "state": {
            "_view_name": "HBoxView",
            "_dom_classes": [],
            "_model_name": "HBoxModel",
            "_view_module": "@jupyter-widgets/controls",
            "_model_module_version": "1.5.0",
            "_view_count": null,
            "_view_module_version": "1.5.0",
            "box_style": "",
            "layout": "IPY_MODEL_c030961dfeec412192ed75f6cb62abc7",
            "_model_module": "@jupyter-widgets/controls",
            "children": [
              "IPY_MODEL_098228352847460fb34a8b358614d243",
              "IPY_MODEL_51a9edf8b05c4d5ab43c136227b2439f",
              "IPY_MODEL_85c8b1872e204a268354543f6b0f1791"
            ]
          }
        },
        "c030961dfeec412192ed75f6cb62abc7": {
          "model_module": "@jupyter-widgets/base",
          "model_name": "LayoutModel",
          "model_module_version": "1.2.0",
          "state": {
            "_view_name": "LayoutView",
            "grid_template_rows": null,
            "right": null,
            "justify_content": null,
            "_view_module": "@jupyter-widgets/base",
            "overflow": null,
            "_model_module_version": "1.2.0",
            "_view_count": null,
            "flex_flow": null,
            "width": null,
            "min_width": null,
            "border": null,
            "align_items": null,
            "bottom": null,
            "_model_module": "@jupyter-widgets/base",
            "top": null,
            "grid_column": null,
            "overflow_y": null,
            "overflow_x": null,
            "grid_auto_flow": null,
            "grid_area": null,
            "grid_template_columns": null,
            "flex": null,
            "_model_name": "LayoutModel",
            "justify_items": null,
            "grid_row": null,
            "max_height": null,
            "align_content": null,
            "visibility": null,
            "align_self": null,
            "height": null,
            "min_height": null,
            "padding": null,
            "grid_auto_rows": null,
            "grid_gap": null,
            "max_width": null,
            "order": null,
            "_view_module_version": "1.2.0",
            "grid_template_areas": null,
            "object_position": null,
            "object_fit": null,
            "grid_auto_columns": null,
            "margin": null,
            "display": null,
            "left": null
          }
        },
        "098228352847460fb34a8b358614d243": {
          "model_module": "@jupyter-widgets/controls",
          "model_name": "HTMLModel",
          "model_module_version": "1.5.0",
          "state": {
            "_view_name": "HTMLView",
            "style": "IPY_MODEL_1cc13d9ca0ab458e814cea1090757687",
            "_dom_classes": [],
            "description": "",
            "_model_name": "HTMLModel",
            "placeholder": "​",
            "_view_module": "@jupyter-widgets/controls",
            "_model_module_version": "1.5.0",
            "value": "Shuffling ~/tensorflow_datasets/ted_hrlr_translate/pt_to_en/1.0.0.incomplete6978JG/ted_hrlr_translate-train.tfrecord*...:  75%",
            "_view_count": null,
            "_view_module_version": "1.5.0",
            "description_tooltip": null,
            "_model_module": "@jupyter-widgets/controls",
            "layout": "IPY_MODEL_a303a00cfabe4386847814a47815e34f"
          }
        },
        "51a9edf8b05c4d5ab43c136227b2439f": {
          "model_module": "@jupyter-widgets/controls",
          "model_name": "FloatProgressModel",
          "model_module_version": "1.5.0",
          "state": {
            "_view_name": "ProgressView",
            "style": "IPY_MODEL_67ee51b7fce641b99078615990752e8c",
            "_dom_classes": [],
            "description": "",
            "_model_name": "FloatProgressModel",
            "bar_style": "",
            "max": 51785,
            "_view_module": "@jupyter-widgets/controls",
            "_model_module_version": "1.5.0",
            "value": 51785,
            "_view_count": null,
            "_view_module_version": "1.5.0",
            "orientation": "horizontal",
            "min": 0,
            "description_tooltip": null,
            "_model_module": "@jupyter-widgets/controls",
            "layout": "IPY_MODEL_c1353f9187024706955183d4858b89dc"
          }
        },
        "85c8b1872e204a268354543f6b0f1791": {
          "model_module": "@jupyter-widgets/controls",
          "model_name": "HTMLModel",
          "model_module_version": "1.5.0",
          "state": {
            "_view_name": "HTMLView",
            "style": "IPY_MODEL_9ec30984491045889d2a3c7e97558331",
            "_dom_classes": [],
            "description": "",
            "_model_name": "HTMLModel",
            "placeholder": "​",
            "_view_module": "@jupyter-widgets/controls",
            "_model_module_version": "1.5.0",
            "value": " 39052/51785 [00:00&lt;00:00, 133951.84 examples/s]",
            "_view_count": null,
            "_view_module_version": "1.5.0",
            "description_tooltip": null,
            "_model_module": "@jupyter-widgets/controls",
            "layout": "IPY_MODEL_30311e4c6e2d44d0908a5be95dd0369a"
          }
        },
        "1cc13d9ca0ab458e814cea1090757687": {
          "model_module": "@jupyter-widgets/controls",
          "model_name": "DescriptionStyleModel",
          "model_module_version": "1.5.0",
          "state": {
            "_view_name": "StyleView",
            "_model_name": "DescriptionStyleModel",
            "description_width": "",
            "_view_module": "@jupyter-widgets/base",
            "_model_module_version": "1.5.0",
            "_view_count": null,
            "_view_module_version": "1.2.0",
            "_model_module": "@jupyter-widgets/controls"
          }
        },
        "a303a00cfabe4386847814a47815e34f": {
          "model_module": "@jupyter-widgets/base",
          "model_name": "LayoutModel",
          "model_module_version": "1.2.0",
          "state": {
            "_view_name": "LayoutView",
            "grid_template_rows": null,
            "right": null,
            "justify_content": null,
            "_view_module": "@jupyter-widgets/base",
            "overflow": null,
            "_model_module_version": "1.2.0",
            "_view_count": null,
            "flex_flow": null,
            "width": null,
            "min_width": null,
            "border": null,
            "align_items": null,
            "bottom": null,
            "_model_module": "@jupyter-widgets/base",
            "top": null,
            "grid_column": null,
            "overflow_y": null,
            "overflow_x": null,
            "grid_auto_flow": null,
            "grid_area": null,
            "grid_template_columns": null,
            "flex": null,
            "_model_name": "LayoutModel",
            "justify_items": null,
            "grid_row": null,
            "max_height": null,
            "align_content": null,
            "visibility": null,
            "align_self": null,
            "height": null,
            "min_height": null,
            "padding": null,
            "grid_auto_rows": null,
            "grid_gap": null,
            "max_width": null,
            "order": null,
            "_view_module_version": "1.2.0",
            "grid_template_areas": null,
            "object_position": null,
            "object_fit": null,
            "grid_auto_columns": null,
            "margin": null,
            "display": null,
            "left": null
          }
        },
        "67ee51b7fce641b99078615990752e8c": {
          "model_module": "@jupyter-widgets/controls",
          "model_name": "ProgressStyleModel",
          "model_module_version": "1.5.0",
          "state": {
            "_view_name": "StyleView",
            "_model_name": "ProgressStyleModel",
            "description_width": "",
            "_view_module": "@jupyter-widgets/base",
            "_model_module_version": "1.5.0",
            "_view_count": null,
            "_view_module_version": "1.2.0",
            "bar_color": null,
            "_model_module": "@jupyter-widgets/controls"
          }
        },
        "c1353f9187024706955183d4858b89dc": {
          "model_module": "@jupyter-widgets/base",
          "model_name": "LayoutModel",
          "model_module_version": "1.2.0",
          "state": {
            "_view_name": "LayoutView",
            "grid_template_rows": null,
            "right": null,
            "justify_content": null,
            "_view_module": "@jupyter-widgets/base",
            "overflow": null,
            "_model_module_version": "1.2.0",
            "_view_count": null,
            "flex_flow": null,
            "width": null,
            "min_width": null,
            "border": null,
            "align_items": null,
            "bottom": null,
            "_model_module": "@jupyter-widgets/base",
            "top": null,
            "grid_column": null,
            "overflow_y": null,
            "overflow_x": null,
            "grid_auto_flow": null,
            "grid_area": null,
            "grid_template_columns": null,
            "flex": null,
            "_model_name": "LayoutModel",
            "justify_items": null,
            "grid_row": null,
            "max_height": null,
            "align_content": null,
            "visibility": null,
            "align_self": null,
            "height": null,
            "min_height": null,
            "padding": null,
            "grid_auto_rows": null,
            "grid_gap": null,
            "max_width": null,
            "order": null,
            "_view_module_version": "1.2.0",
            "grid_template_areas": null,
            "object_position": null,
            "object_fit": null,
            "grid_auto_columns": null,
            "margin": null,
            "display": null,
            "left": null
          }
        },
        "9ec30984491045889d2a3c7e97558331": {
          "model_module": "@jupyter-widgets/controls",
          "model_name": "DescriptionStyleModel",
          "model_module_version": "1.5.0",
          "state": {
            "_view_name": "StyleView",
            "_model_name": "DescriptionStyleModel",
            "description_width": "",
            "_view_module": "@jupyter-widgets/base",
            "_model_module_version": "1.5.0",
            "_view_count": null,
            "_view_module_version": "1.2.0",
            "_model_module": "@jupyter-widgets/controls"
          }
        },
        "30311e4c6e2d44d0908a5be95dd0369a": {
          "model_module": "@jupyter-widgets/base",
          "model_name": "LayoutModel",
          "model_module_version": "1.2.0",
          "state": {
            "_view_name": "LayoutView",
            "grid_template_rows": null,
            "right": null,
            "justify_content": null,
            "_view_module": "@jupyter-widgets/base",
            "overflow": null,
            "_model_module_version": "1.2.0",
            "_view_count": null,
            "flex_flow": null,
            "width": null,
            "min_width": null,
            "border": null,
            "align_items": null,
            "bottom": null,
            "_model_module": "@jupyter-widgets/base",
            "top": null,
            "grid_column": null,
            "overflow_y": null,
            "overflow_x": null,
            "grid_auto_flow": null,
            "grid_area": null,
            "grid_template_columns": null,
            "flex": null,
            "_model_name": "LayoutModel",
            "justify_items": null,
            "grid_row": null,
            "max_height": null,
            "align_content": null,
            "visibility": null,
            "align_self": null,
            "height": null,
            "min_height": null,
            "padding": null,
            "grid_auto_rows": null,
            "grid_gap": null,
            "max_width": null,
            "order": null,
            "_view_module_version": "1.2.0",
            "grid_template_areas": null,
            "object_position": null,
            "object_fit": null,
            "grid_auto_columns": null,
            "margin": null,
            "display": null,
            "left": null
          }
        },
        "80d35f829909422da3c050a8a8d8ed38": {
          "model_module": "@jupyter-widgets/controls",
          "model_name": "HBoxModel",
          "model_module_version": "1.5.0",
          "state": {
            "_view_name": "HBoxView",
            "_dom_classes": [],
            "_model_name": "HBoxModel",
            "_view_module": "@jupyter-widgets/controls",
            "_model_module_version": "1.5.0",
            "_view_count": null,
            "_view_module_version": "1.5.0",
            "box_style": "",
            "layout": "IPY_MODEL_bec1a8809fcf4c5592d7903b9a85a4bc",
            "_model_module": "@jupyter-widgets/controls",
            "children": [
              "IPY_MODEL_2dfa9216a7034a3da754ceb0a18a5acb",
              "IPY_MODEL_14b1036bc6cd408fa2a394b08ac5465e",
              "IPY_MODEL_19edb4888ece4a7684c9c5c18c3cd5fd"
            ]
          }
        },
        "bec1a8809fcf4c5592d7903b9a85a4bc": {
          "model_module": "@jupyter-widgets/base",
          "model_name": "LayoutModel",
          "model_module_version": "1.2.0",
          "state": {
            "_view_name": "LayoutView",
            "grid_template_rows": null,
            "right": null,
            "justify_content": null,
            "_view_module": "@jupyter-widgets/base",
            "overflow": null,
            "_model_module_version": "1.2.0",
            "_view_count": null,
            "flex_flow": null,
            "width": null,
            "min_width": null,
            "border": null,
            "align_items": null,
            "bottom": null,
            "_model_module": "@jupyter-widgets/base",
            "top": null,
            "grid_column": null,
            "overflow_y": null,
            "overflow_x": null,
            "grid_auto_flow": null,
            "grid_area": null,
            "grid_template_columns": null,
            "flex": null,
            "_model_name": "LayoutModel",
            "justify_items": null,
            "grid_row": null,
            "max_height": null,
            "align_content": null,
            "visibility": null,
            "align_self": null,
            "height": null,
            "min_height": null,
            "padding": null,
            "grid_auto_rows": null,
            "grid_gap": null,
            "max_width": null,
            "order": null,
            "_view_module_version": "1.2.0",
            "grid_template_areas": null,
            "object_position": null,
            "object_fit": null,
            "grid_auto_columns": null,
            "margin": null,
            "display": null,
            "left": null
          }
        },
        "2dfa9216a7034a3da754ceb0a18a5acb": {
          "model_module": "@jupyter-widgets/controls",
          "model_name": "HTMLModel",
          "model_module_version": "1.5.0",
          "state": {
            "_view_name": "HTMLView",
            "style": "IPY_MODEL_aa5735b437154331a15bb4935e1f10bc",
            "_dom_classes": [],
            "description": "",
            "_model_name": "HTMLModel",
            "placeholder": "​",
            "_view_module": "@jupyter-widgets/controls",
            "_model_module_version": "1.5.0",
            "value": "Generating validation examples...:  67%",
            "_view_count": null,
            "_view_module_version": "1.5.0",
            "description_tooltip": null,
            "_model_module": "@jupyter-widgets/controls",
            "layout": "IPY_MODEL_9041dba218e14c65bf09205f23dcd466"
          }
        },
        "14b1036bc6cd408fa2a394b08ac5465e": {
          "model_module": "@jupyter-widgets/controls",
          "model_name": "FloatProgressModel",
          "model_module_version": "1.5.0",
          "state": {
            "_view_name": "ProgressView",
            "style": "IPY_MODEL_c4a41337d7374a71a04cf1a968a45136",
            "_dom_classes": [],
            "description": "",
            "_model_name": "FloatProgressModel",
            "bar_style": "",
            "max": 1193,
            "_view_module": "@jupyter-widgets/controls",
            "_model_module_version": "1.5.0",
            "value": 1193,
            "_view_count": null,
            "_view_module_version": "1.5.0",
            "orientation": "horizontal",
            "min": 0,
            "description_tooltip": null,
            "_model_module": "@jupyter-widgets/controls",
            "layout": "IPY_MODEL_cacaf2c177d34ec88b2153e9b798e8da"
          }
        },
        "19edb4888ece4a7684c9c5c18c3cd5fd": {
          "model_module": "@jupyter-widgets/controls",
          "model_name": "HTMLModel",
          "model_module_version": "1.5.0",
          "state": {
            "_view_name": "HTMLView",
            "style": "IPY_MODEL_29948c1773994bf08ddda22d5f4aa7ed",
            "_dom_classes": [],
            "description": "",
            "_model_name": "HTMLModel",
            "placeholder": "​",
            "_view_module": "@jupyter-widgets/controls",
            "_model_module_version": "1.5.0",
            "value": " 802/1193 [00:00&lt;00:00, 4562.99 examples/s]",
            "_view_count": null,
            "_view_module_version": "1.5.0",
            "description_tooltip": null,
            "_model_module": "@jupyter-widgets/controls",
            "layout": "IPY_MODEL_c0bda76c4b0d4707bcdc07fe1ded58d4"
          }
        },
        "aa5735b437154331a15bb4935e1f10bc": {
          "model_module": "@jupyter-widgets/controls",
          "model_name": "DescriptionStyleModel",
          "model_module_version": "1.5.0",
          "state": {
            "_view_name": "StyleView",
            "_model_name": "DescriptionStyleModel",
            "description_width": "",
            "_view_module": "@jupyter-widgets/base",
            "_model_module_version": "1.5.0",
            "_view_count": null,
            "_view_module_version": "1.2.0",
            "_model_module": "@jupyter-widgets/controls"
          }
        },
        "9041dba218e14c65bf09205f23dcd466": {
          "model_module": "@jupyter-widgets/base",
          "model_name": "LayoutModel",
          "model_module_version": "1.2.0",
          "state": {
            "_view_name": "LayoutView",
            "grid_template_rows": null,
            "right": null,
            "justify_content": null,
            "_view_module": "@jupyter-widgets/base",
            "overflow": null,
            "_model_module_version": "1.2.0",
            "_view_count": null,
            "flex_flow": null,
            "width": null,
            "min_width": null,
            "border": null,
            "align_items": null,
            "bottom": null,
            "_model_module": "@jupyter-widgets/base",
            "top": null,
            "grid_column": null,
            "overflow_y": null,
            "overflow_x": null,
            "grid_auto_flow": null,
            "grid_area": null,
            "grid_template_columns": null,
            "flex": null,
            "_model_name": "LayoutModel",
            "justify_items": null,
            "grid_row": null,
            "max_height": null,
            "align_content": null,
            "visibility": null,
            "align_self": null,
            "height": null,
            "min_height": null,
            "padding": null,
            "grid_auto_rows": null,
            "grid_gap": null,
            "max_width": null,
            "order": null,
            "_view_module_version": "1.2.0",
            "grid_template_areas": null,
            "object_position": null,
            "object_fit": null,
            "grid_auto_columns": null,
            "margin": null,
            "display": null,
            "left": null
          }
        },
        "c4a41337d7374a71a04cf1a968a45136": {
          "model_module": "@jupyter-widgets/controls",
          "model_name": "ProgressStyleModel",
          "model_module_version": "1.5.0",
          "state": {
            "_view_name": "StyleView",
            "_model_name": "ProgressStyleModel",
            "description_width": "",
            "_view_module": "@jupyter-widgets/base",
            "_model_module_version": "1.5.0",
            "_view_count": null,
            "_view_module_version": "1.2.0",
            "bar_color": null,
            "_model_module": "@jupyter-widgets/controls"
          }
        },
        "cacaf2c177d34ec88b2153e9b798e8da": {
          "model_module": "@jupyter-widgets/base",
          "model_name": "LayoutModel",
          "model_module_version": "1.2.0",
          "state": {
            "_view_name": "LayoutView",
            "grid_template_rows": null,
            "right": null,
            "justify_content": null,
            "_view_module": "@jupyter-widgets/base",
            "overflow": null,
            "_model_module_version": "1.2.0",
            "_view_count": null,
            "flex_flow": null,
            "width": null,
            "min_width": null,
            "border": null,
            "align_items": null,
            "bottom": null,
            "_model_module": "@jupyter-widgets/base",
            "top": null,
            "grid_column": null,
            "overflow_y": null,
            "overflow_x": null,
            "grid_auto_flow": null,
            "grid_area": null,
            "grid_template_columns": null,
            "flex": null,
            "_model_name": "LayoutModel",
            "justify_items": null,
            "grid_row": null,
            "max_height": null,
            "align_content": null,
            "visibility": null,
            "align_self": null,
            "height": null,
            "min_height": null,
            "padding": null,
            "grid_auto_rows": null,
            "grid_gap": null,
            "max_width": null,
            "order": null,
            "_view_module_version": "1.2.0",
            "grid_template_areas": null,
            "object_position": null,
            "object_fit": null,
            "grid_auto_columns": null,
            "margin": null,
            "display": null,
            "left": null
          }
        },
        "29948c1773994bf08ddda22d5f4aa7ed": {
          "model_module": "@jupyter-widgets/controls",
          "model_name": "DescriptionStyleModel",
          "model_module_version": "1.5.0",
          "state": {
            "_view_name": "StyleView",
            "_model_name": "DescriptionStyleModel",
            "description_width": "",
            "_view_module": "@jupyter-widgets/base",
            "_model_module_version": "1.5.0",
            "_view_count": null,
            "_view_module_version": "1.2.0",
            "_model_module": "@jupyter-widgets/controls"
          }
        },
        "c0bda76c4b0d4707bcdc07fe1ded58d4": {
          "model_module": "@jupyter-widgets/base",
          "model_name": "LayoutModel",
          "model_module_version": "1.2.0",
          "state": {
            "_view_name": "LayoutView",
            "grid_template_rows": null,
            "right": null,
            "justify_content": null,
            "_view_module": "@jupyter-widgets/base",
            "overflow": null,
            "_model_module_version": "1.2.0",
            "_view_count": null,
            "flex_flow": null,
            "width": null,
            "min_width": null,
            "border": null,
            "align_items": null,
            "bottom": null,
            "_model_module": "@jupyter-widgets/base",
            "top": null,
            "grid_column": null,
            "overflow_y": null,
            "overflow_x": null,
            "grid_auto_flow": null,
            "grid_area": null,
            "grid_template_columns": null,
            "flex": null,
            "_model_name": "LayoutModel",
            "justify_items": null,
            "grid_row": null,
            "max_height": null,
            "align_content": null,
            "visibility": null,
            "align_self": null,
            "height": null,
            "min_height": null,
            "padding": null,
            "grid_auto_rows": null,
            "grid_gap": null,
            "max_width": null,
            "order": null,
            "_view_module_version": "1.2.0",
            "grid_template_areas": null,
            "object_position": null,
            "object_fit": null,
            "grid_auto_columns": null,
            "margin": null,
            "display": null,
            "left": null
          }
        },
        "15edc1777ce542f9991de5bff6ac18c0": {
          "model_module": "@jupyter-widgets/controls",
          "model_name": "HBoxModel",
          "model_module_version": "1.5.0",
          "state": {
            "_view_name": "HBoxView",
            "_dom_classes": [],
            "_model_name": "HBoxModel",
            "_view_module": "@jupyter-widgets/controls",
            "_model_module_version": "1.5.0",
            "_view_count": null,
            "_view_module_version": "1.5.0",
            "box_style": "",
            "layout": "IPY_MODEL_e2e429271fbd4576b2b9db4f7ad21b8a",
            "_model_module": "@jupyter-widgets/controls",
            "children": [
              "IPY_MODEL_9a463ca741f849a6bc1523ff5578329d",
              "IPY_MODEL_63ea4459531946dd9997e82fdc24757c",
              "IPY_MODEL_6f6e18511e5f4c96b91182312af482fc"
            ]
          }
        },
        "e2e429271fbd4576b2b9db4f7ad21b8a": {
          "model_module": "@jupyter-widgets/base",
          "model_name": "LayoutModel",
          "model_module_version": "1.2.0",
          "state": {
            "_view_name": "LayoutView",
            "grid_template_rows": null,
            "right": null,
            "justify_content": null,
            "_view_module": "@jupyter-widgets/base",
            "overflow": null,
            "_model_module_version": "1.2.0",
            "_view_count": null,
            "flex_flow": null,
            "width": null,
            "min_width": null,
            "border": null,
            "align_items": null,
            "bottom": null,
            "_model_module": "@jupyter-widgets/base",
            "top": null,
            "grid_column": null,
            "overflow_y": null,
            "overflow_x": null,
            "grid_auto_flow": null,
            "grid_area": null,
            "grid_template_columns": null,
            "flex": null,
            "_model_name": "LayoutModel",
            "justify_items": null,
            "grid_row": null,
            "max_height": null,
            "align_content": null,
            "visibility": null,
            "align_self": null,
            "height": null,
            "min_height": null,
            "padding": null,
            "grid_auto_rows": null,
            "grid_gap": null,
            "max_width": null,
            "order": null,
            "_view_module_version": "1.2.0",
            "grid_template_areas": null,
            "object_position": null,
            "object_fit": null,
            "grid_auto_columns": null,
            "margin": null,
            "display": null,
            "left": null
          }
        },
        "9a463ca741f849a6bc1523ff5578329d": {
          "model_module": "@jupyter-widgets/controls",
          "model_name": "HTMLModel",
          "model_module_version": "1.5.0",
          "state": {
            "_view_name": "HTMLView",
            "style": "IPY_MODEL_929696698ffb45788c78c97ffffc6d37",
            "_dom_classes": [],
            "description": "",
            "_model_name": "HTMLModel",
            "placeholder": "​",
            "_view_module": "@jupyter-widgets/controls",
            "_model_module_version": "1.5.0",
            "value": "Shuffling ~/tensorflow_datasets/ted_hrlr_translate/pt_to_en/1.0.0.incomplete6978JG/ted_hrlr_translate-validation.tfrecord*...:   0%",
            "_view_count": null,
            "_view_module_version": "1.5.0",
            "description_tooltip": null,
            "_model_module": "@jupyter-widgets/controls",
            "layout": "IPY_MODEL_c170c96589734fb0b6f3f0d2dc4a8573"
          }
        },
        "63ea4459531946dd9997e82fdc24757c": {
          "model_module": "@jupyter-widgets/controls",
          "model_name": "FloatProgressModel",
          "model_module_version": "1.5.0",
          "state": {
            "_view_name": "ProgressView",
            "style": "IPY_MODEL_f3d955664e534a20bb8916c138361fee",
            "_dom_classes": [],
            "description": "",
            "_model_name": "FloatProgressModel",
            "bar_style": "",
            "max": 1193,
            "_view_module": "@jupyter-widgets/controls",
            "_model_module_version": "1.5.0",
            "value": 1193,
            "_view_count": null,
            "_view_module_version": "1.5.0",
            "orientation": "horizontal",
            "min": 0,
            "description_tooltip": null,
            "_model_module": "@jupyter-widgets/controls",
            "layout": "IPY_MODEL_7cbd60506c79447c9d467a6ac8376057"
          }
        },
        "6f6e18511e5f4c96b91182312af482fc": {
          "model_module": "@jupyter-widgets/controls",
          "model_name": "HTMLModel",
          "model_module_version": "1.5.0",
          "state": {
            "_view_name": "HTMLView",
            "style": "IPY_MODEL_0fdaae59c5264e288255e9da673fed3d",
            "_dom_classes": [],
            "description": "",
            "_model_name": "HTMLModel",
            "placeholder": "​",
            "_view_module": "@jupyter-widgets/controls",
            "_model_module_version": "1.5.0",
            "value": " 1/1193 [00:00&lt;02:04,  9.56 examples/s]",
            "_view_count": null,
            "_view_module_version": "1.5.0",
            "description_tooltip": null,
            "_model_module": "@jupyter-widgets/controls",
            "layout": "IPY_MODEL_7c9b55a8b86e470f83ea0fcb788056c8"
          }
        },
        "929696698ffb45788c78c97ffffc6d37": {
          "model_module": "@jupyter-widgets/controls",
          "model_name": "DescriptionStyleModel",
          "model_module_version": "1.5.0",
          "state": {
            "_view_name": "StyleView",
            "_model_name": "DescriptionStyleModel",
            "description_width": "",
            "_view_module": "@jupyter-widgets/base",
            "_model_module_version": "1.5.0",
            "_view_count": null,
            "_view_module_version": "1.2.0",
            "_model_module": "@jupyter-widgets/controls"
          }
        },
        "c170c96589734fb0b6f3f0d2dc4a8573": {
          "model_module": "@jupyter-widgets/base",
          "model_name": "LayoutModel",
          "model_module_version": "1.2.0",
          "state": {
            "_view_name": "LayoutView",
            "grid_template_rows": null,
            "right": null,
            "justify_content": null,
            "_view_module": "@jupyter-widgets/base",
            "overflow": null,
            "_model_module_version": "1.2.0",
            "_view_count": null,
            "flex_flow": null,
            "width": null,
            "min_width": null,
            "border": null,
            "align_items": null,
            "bottom": null,
            "_model_module": "@jupyter-widgets/base",
            "top": null,
            "grid_column": null,
            "overflow_y": null,
            "overflow_x": null,
            "grid_auto_flow": null,
            "grid_area": null,
            "grid_template_columns": null,
            "flex": null,
            "_model_name": "LayoutModel",
            "justify_items": null,
            "grid_row": null,
            "max_height": null,
            "align_content": null,
            "visibility": null,
            "align_self": null,
            "height": null,
            "min_height": null,
            "padding": null,
            "grid_auto_rows": null,
            "grid_gap": null,
            "max_width": null,
            "order": null,
            "_view_module_version": "1.2.0",
            "grid_template_areas": null,
            "object_position": null,
            "object_fit": null,
            "grid_auto_columns": null,
            "margin": null,
            "display": null,
            "left": null
          }
        },
        "f3d955664e534a20bb8916c138361fee": {
          "model_module": "@jupyter-widgets/controls",
          "model_name": "ProgressStyleModel",
          "model_module_version": "1.5.0",
          "state": {
            "_view_name": "StyleView",
            "_model_name": "ProgressStyleModel",
            "description_width": "",
            "_view_module": "@jupyter-widgets/base",
            "_model_module_version": "1.5.0",
            "_view_count": null,
            "_view_module_version": "1.2.0",
            "bar_color": null,
            "_model_module": "@jupyter-widgets/controls"
          }
        },
        "7cbd60506c79447c9d467a6ac8376057": {
          "model_module": "@jupyter-widgets/base",
          "model_name": "LayoutModel",
          "model_module_version": "1.2.0",
          "state": {
            "_view_name": "LayoutView",
            "grid_template_rows": null,
            "right": null,
            "justify_content": null,
            "_view_module": "@jupyter-widgets/base",
            "overflow": null,
            "_model_module_version": "1.2.0",
            "_view_count": null,
            "flex_flow": null,
            "width": null,
            "min_width": null,
            "border": null,
            "align_items": null,
            "bottom": null,
            "_model_module": "@jupyter-widgets/base",
            "top": null,
            "grid_column": null,
            "overflow_y": null,
            "overflow_x": null,
            "grid_auto_flow": null,
            "grid_area": null,
            "grid_template_columns": null,
            "flex": null,
            "_model_name": "LayoutModel",
            "justify_items": null,
            "grid_row": null,
            "max_height": null,
            "align_content": null,
            "visibility": null,
            "align_self": null,
            "height": null,
            "min_height": null,
            "padding": null,
            "grid_auto_rows": null,
            "grid_gap": null,
            "max_width": null,
            "order": null,
            "_view_module_version": "1.2.0",
            "grid_template_areas": null,
            "object_position": null,
            "object_fit": null,
            "grid_auto_columns": null,
            "margin": null,
            "display": null,
            "left": null
          }
        },
        "0fdaae59c5264e288255e9da673fed3d": {
          "model_module": "@jupyter-widgets/controls",
          "model_name": "DescriptionStyleModel",
          "model_module_version": "1.5.0",
          "state": {
            "_view_name": "StyleView",
            "_model_name": "DescriptionStyleModel",
            "description_width": "",
            "_view_module": "@jupyter-widgets/base",
            "_model_module_version": "1.5.0",
            "_view_count": null,
            "_view_module_version": "1.2.0",
            "_model_module": "@jupyter-widgets/controls"
          }
        },
        "7c9b55a8b86e470f83ea0fcb788056c8": {
          "model_module": "@jupyter-widgets/base",
          "model_name": "LayoutModel",
          "model_module_version": "1.2.0",
          "state": {
            "_view_name": "LayoutView",
            "grid_template_rows": null,
            "right": null,
            "justify_content": null,
            "_view_module": "@jupyter-widgets/base",
            "overflow": null,
            "_model_module_version": "1.2.0",
            "_view_count": null,
            "flex_flow": null,
            "width": null,
            "min_width": null,
            "border": null,
            "align_items": null,
            "bottom": null,
            "_model_module": "@jupyter-widgets/base",
            "top": null,
            "grid_column": null,
            "overflow_y": null,
            "overflow_x": null,
            "grid_auto_flow": null,
            "grid_area": null,
            "grid_template_columns": null,
            "flex": null,
            "_model_name": "LayoutModel",
            "justify_items": null,
            "grid_row": null,
            "max_height": null,
            "align_content": null,
            "visibility": null,
            "align_self": null,
            "height": null,
            "min_height": null,
            "padding": null,
            "grid_auto_rows": null,
            "grid_gap": null,
            "max_width": null,
            "order": null,
            "_view_module_version": "1.2.0",
            "grid_template_areas": null,
            "object_position": null,
            "object_fit": null,
            "grid_auto_columns": null,
            "margin": null,
            "display": null,
            "left": null
          }
        },
        "95c66fe2eaea4667a7d5501caff48340": {
          "model_module": "@jupyter-widgets/controls",
          "model_name": "HBoxModel",
          "model_module_version": "1.5.0",
          "state": {
            "_view_name": "HBoxView",
            "_dom_classes": [],
            "_model_name": "HBoxModel",
            "_view_module": "@jupyter-widgets/controls",
            "_model_module_version": "1.5.0",
            "_view_count": null,
            "_view_module_version": "1.5.0",
            "box_style": "",
            "layout": "IPY_MODEL_83f5431f3f0242a7b41e6398ce91cba2",
            "_model_module": "@jupyter-widgets/controls",
            "children": [
              "IPY_MODEL_eeeca01c5ce2492b81a58bec1cb9a5f7",
              "IPY_MODEL_a6fcde89955840b3951fe2ba40b8aff7",
              "IPY_MODEL_58314d09584d44dca8cde388a6d54696"
            ]
          }
        },
        "83f5431f3f0242a7b41e6398ce91cba2": {
          "model_module": "@jupyter-widgets/base",
          "model_name": "LayoutModel",
          "model_module_version": "1.2.0",
          "state": {
            "_view_name": "LayoutView",
            "grid_template_rows": null,
            "right": null,
            "justify_content": null,
            "_view_module": "@jupyter-widgets/base",
            "overflow": null,
            "_model_module_version": "1.2.0",
            "_view_count": null,
            "flex_flow": null,
            "width": null,
            "min_width": null,
            "border": null,
            "align_items": null,
            "bottom": null,
            "_model_module": "@jupyter-widgets/base",
            "top": null,
            "grid_column": null,
            "overflow_y": null,
            "overflow_x": null,
            "grid_auto_flow": null,
            "grid_area": null,
            "grid_template_columns": null,
            "flex": null,
            "_model_name": "LayoutModel",
            "justify_items": null,
            "grid_row": null,
            "max_height": null,
            "align_content": null,
            "visibility": null,
            "align_self": null,
            "height": null,
            "min_height": null,
            "padding": null,
            "grid_auto_rows": null,
            "grid_gap": null,
            "max_width": null,
            "order": null,
            "_view_module_version": "1.2.0",
            "grid_template_areas": null,
            "object_position": null,
            "object_fit": null,
            "grid_auto_columns": null,
            "margin": null,
            "display": null,
            "left": null
          }
        },
        "eeeca01c5ce2492b81a58bec1cb9a5f7": {
          "model_module": "@jupyter-widgets/controls",
          "model_name": "HTMLModel",
          "model_module_version": "1.5.0",
          "state": {
            "_view_name": "HTMLView",
            "style": "IPY_MODEL_16ffb502ea0d4d61b0a5493775b17509",
            "_dom_classes": [],
            "description": "",
            "_model_name": "HTMLModel",
            "placeholder": "​",
            "_view_module": "@jupyter-widgets/controls",
            "_model_module_version": "1.5.0",
            "value": "Generating test examples...:  98%",
            "_view_count": null,
            "_view_module_version": "1.5.0",
            "description_tooltip": null,
            "_model_module": "@jupyter-widgets/controls",
            "layout": "IPY_MODEL_5283d5b9c4d54edcb78e9d5a9a54d581"
          }
        },
        "a6fcde89955840b3951fe2ba40b8aff7": {
          "model_module": "@jupyter-widgets/controls",
          "model_name": "FloatProgressModel",
          "model_module_version": "1.5.0",
          "state": {
            "_view_name": "ProgressView",
            "style": "IPY_MODEL_58570b950633461faa06d9be789be4ab",
            "_dom_classes": [],
            "description": "",
            "_model_name": "FloatProgressModel",
            "bar_style": "",
            "max": 1803,
            "_view_module": "@jupyter-widgets/controls",
            "_model_module_version": "1.5.0",
            "value": 1803,
            "_view_count": null,
            "_view_module_version": "1.5.0",
            "orientation": "horizontal",
            "min": 0,
            "description_tooltip": null,
            "_model_module": "@jupyter-widgets/controls",
            "layout": "IPY_MODEL_30b052050916434a936b39327ef83383"
          }
        },
        "58314d09584d44dca8cde388a6d54696": {
          "model_module": "@jupyter-widgets/controls",
          "model_name": "HTMLModel",
          "model_module_version": "1.5.0",
          "state": {
            "_view_name": "HTMLView",
            "style": "IPY_MODEL_0e04ad8284524c4faf37ec4ef763155c",
            "_dom_classes": [],
            "description": "",
            "_model_name": "HTMLModel",
            "placeholder": "​",
            "_view_module": "@jupyter-widgets/controls",
            "_model_module_version": "1.5.0",
            "value": " 1771/1803 [00:00&lt;00:00, 3945.67 examples/s]",
            "_view_count": null,
            "_view_module_version": "1.5.0",
            "description_tooltip": null,
            "_model_module": "@jupyter-widgets/controls",
            "layout": "IPY_MODEL_891164898c2d4109b9be97a830c2ee68"
          }
        },
        "16ffb502ea0d4d61b0a5493775b17509": {
          "model_module": "@jupyter-widgets/controls",
          "model_name": "DescriptionStyleModel",
          "model_module_version": "1.5.0",
          "state": {
            "_view_name": "StyleView",
            "_model_name": "DescriptionStyleModel",
            "description_width": "",
            "_view_module": "@jupyter-widgets/base",
            "_model_module_version": "1.5.0",
            "_view_count": null,
            "_view_module_version": "1.2.0",
            "_model_module": "@jupyter-widgets/controls"
          }
        },
        "5283d5b9c4d54edcb78e9d5a9a54d581": {
          "model_module": "@jupyter-widgets/base",
          "model_name": "LayoutModel",
          "model_module_version": "1.2.0",
          "state": {
            "_view_name": "LayoutView",
            "grid_template_rows": null,
            "right": null,
            "justify_content": null,
            "_view_module": "@jupyter-widgets/base",
            "overflow": null,
            "_model_module_version": "1.2.0",
            "_view_count": null,
            "flex_flow": null,
            "width": null,
            "min_width": null,
            "border": null,
            "align_items": null,
            "bottom": null,
            "_model_module": "@jupyter-widgets/base",
            "top": null,
            "grid_column": null,
            "overflow_y": null,
            "overflow_x": null,
            "grid_auto_flow": null,
            "grid_area": null,
            "grid_template_columns": null,
            "flex": null,
            "_model_name": "LayoutModel",
            "justify_items": null,
            "grid_row": null,
            "max_height": null,
            "align_content": null,
            "visibility": null,
            "align_self": null,
            "height": null,
            "min_height": null,
            "padding": null,
            "grid_auto_rows": null,
            "grid_gap": null,
            "max_width": null,
            "order": null,
            "_view_module_version": "1.2.0",
            "grid_template_areas": null,
            "object_position": null,
            "object_fit": null,
            "grid_auto_columns": null,
            "margin": null,
            "display": null,
            "left": null
          }
        },
        "58570b950633461faa06d9be789be4ab": {
          "model_module": "@jupyter-widgets/controls",
          "model_name": "ProgressStyleModel",
          "model_module_version": "1.5.0",
          "state": {
            "_view_name": "StyleView",
            "_model_name": "ProgressStyleModel",
            "description_width": "",
            "_view_module": "@jupyter-widgets/base",
            "_model_module_version": "1.5.0",
            "_view_count": null,
            "_view_module_version": "1.2.0",
            "bar_color": null,
            "_model_module": "@jupyter-widgets/controls"
          }
        },
        "30b052050916434a936b39327ef83383": {
          "model_module": "@jupyter-widgets/base",
          "model_name": "LayoutModel",
          "model_module_version": "1.2.0",
          "state": {
            "_view_name": "LayoutView",
            "grid_template_rows": null,
            "right": null,
            "justify_content": null,
            "_view_module": "@jupyter-widgets/base",
            "overflow": null,
            "_model_module_version": "1.2.0",
            "_view_count": null,
            "flex_flow": null,
            "width": null,
            "min_width": null,
            "border": null,
            "align_items": null,
            "bottom": null,
            "_model_module": "@jupyter-widgets/base",
            "top": null,
            "grid_column": null,
            "overflow_y": null,
            "overflow_x": null,
            "grid_auto_flow": null,
            "grid_area": null,
            "grid_template_columns": null,
            "flex": null,
            "_model_name": "LayoutModel",
            "justify_items": null,
            "grid_row": null,
            "max_height": null,
            "align_content": null,
            "visibility": null,
            "align_self": null,
            "height": null,
            "min_height": null,
            "padding": null,
            "grid_auto_rows": null,
            "grid_gap": null,
            "max_width": null,
            "order": null,
            "_view_module_version": "1.2.0",
            "grid_template_areas": null,
            "object_position": null,
            "object_fit": null,
            "grid_auto_columns": null,
            "margin": null,
            "display": null,
            "left": null
          }
        },
        "0e04ad8284524c4faf37ec4ef763155c": {
          "model_module": "@jupyter-widgets/controls",
          "model_name": "DescriptionStyleModel",
          "model_module_version": "1.5.0",
          "state": {
            "_view_name": "StyleView",
            "_model_name": "DescriptionStyleModel",
            "description_width": "",
            "_view_module": "@jupyter-widgets/base",
            "_model_module_version": "1.5.0",
            "_view_count": null,
            "_view_module_version": "1.2.0",
            "_model_module": "@jupyter-widgets/controls"
          }
        },
        "891164898c2d4109b9be97a830c2ee68": {
          "model_module": "@jupyter-widgets/base",
          "model_name": "LayoutModel",
          "model_module_version": "1.2.0",
          "state": {
            "_view_name": "LayoutView",
            "grid_template_rows": null,
            "right": null,
            "justify_content": null,
            "_view_module": "@jupyter-widgets/base",
            "overflow": null,
            "_model_module_version": "1.2.0",
            "_view_count": null,
            "flex_flow": null,
            "width": null,
            "min_width": null,
            "border": null,
            "align_items": null,
            "bottom": null,
            "_model_module": "@jupyter-widgets/base",
            "top": null,
            "grid_column": null,
            "overflow_y": null,
            "overflow_x": null,
            "grid_auto_flow": null,
            "grid_area": null,
            "grid_template_columns": null,
            "flex": null,
            "_model_name": "LayoutModel",
            "justify_items": null,
            "grid_row": null,
            "max_height": null,
            "align_content": null,
            "visibility": null,
            "align_self": null,
            "height": null,
            "min_height": null,
            "padding": null,
            "grid_auto_rows": null,
            "grid_gap": null,
            "max_width": null,
            "order": null,
            "_view_module_version": "1.2.0",
            "grid_template_areas": null,
            "object_position": null,
            "object_fit": null,
            "grid_auto_columns": null,
            "margin": null,
            "display": null,
            "left": null
          }
        },
        "1e944be39a044861925860bdbca87f92": {
          "model_module": "@jupyter-widgets/controls",
          "model_name": "HBoxModel",
          "model_module_version": "1.5.0",
          "state": {
            "_view_name": "HBoxView",
            "_dom_classes": [],
            "_model_name": "HBoxModel",
            "_view_module": "@jupyter-widgets/controls",
            "_model_module_version": "1.5.0",
            "_view_count": null,
            "_view_module_version": "1.5.0",
            "box_style": "",
            "layout": "IPY_MODEL_4e6bca6b676a4318aa442530d5e0acc0",
            "_model_module": "@jupyter-widgets/controls",
            "children": [
              "IPY_MODEL_eff1a1b26e9e431cb9cddfb00856004a",
              "IPY_MODEL_7d48372e6f0d4b2eb71536390242220f",
              "IPY_MODEL_b08d59d9fc524110a252c4aed09ea8b8"
            ]
          }
        },
        "4e6bca6b676a4318aa442530d5e0acc0": {
          "model_module": "@jupyter-widgets/base",
          "model_name": "LayoutModel",
          "model_module_version": "1.2.0",
          "state": {
            "_view_name": "LayoutView",
            "grid_template_rows": null,
            "right": null,
            "justify_content": null,
            "_view_module": "@jupyter-widgets/base",
            "overflow": null,
            "_model_module_version": "1.2.0",
            "_view_count": null,
            "flex_flow": null,
            "width": null,
            "min_width": null,
            "border": null,
            "align_items": null,
            "bottom": null,
            "_model_module": "@jupyter-widgets/base",
            "top": null,
            "grid_column": null,
            "overflow_y": null,
            "overflow_x": null,
            "grid_auto_flow": null,
            "grid_area": null,
            "grid_template_columns": null,
            "flex": null,
            "_model_name": "LayoutModel",
            "justify_items": null,
            "grid_row": null,
            "max_height": null,
            "align_content": null,
            "visibility": null,
            "align_self": null,
            "height": null,
            "min_height": null,
            "padding": null,
            "grid_auto_rows": null,
            "grid_gap": null,
            "max_width": null,
            "order": null,
            "_view_module_version": "1.2.0",
            "grid_template_areas": null,
            "object_position": null,
            "object_fit": null,
            "grid_auto_columns": null,
            "margin": null,
            "display": null,
            "left": null
          }
        },
        "eff1a1b26e9e431cb9cddfb00856004a": {
          "model_module": "@jupyter-widgets/controls",
          "model_name": "HTMLModel",
          "model_module_version": "1.5.0",
          "state": {
            "_view_name": "HTMLView",
            "style": "IPY_MODEL_a7302f96bfe340dda5ad01badc194d97",
            "_dom_classes": [],
            "description": "",
            "_model_name": "HTMLModel",
            "placeholder": "​",
            "_view_module": "@jupyter-widgets/controls",
            "_model_module_version": "1.5.0",
            "value": "Shuffling ~/tensorflow_datasets/ted_hrlr_translate/pt_to_en/1.0.0.incomplete6978JG/ted_hrlr_translate-test.tfrecord*...:   0%",
            "_view_count": null,
            "_view_module_version": "1.5.0",
            "description_tooltip": null,
            "_model_module": "@jupyter-widgets/controls",
            "layout": "IPY_MODEL_d3a2d8d78d5e4d14901f6af1cc54a3b1"
          }
        },
        "7d48372e6f0d4b2eb71536390242220f": {
          "model_module": "@jupyter-widgets/controls",
          "model_name": "FloatProgressModel",
          "model_module_version": "1.5.0",
          "state": {
            "_view_name": "ProgressView",
            "style": "IPY_MODEL_295874443bda42c684acb070290b6d5b",
            "_dom_classes": [],
            "description": "",
            "_model_name": "FloatProgressModel",
            "bar_style": "",
            "max": 1803,
            "_view_module": "@jupyter-widgets/controls",
            "_model_module_version": "1.5.0",
            "value": 1803,
            "_view_count": null,
            "_view_module_version": "1.5.0",
            "orientation": "horizontal",
            "min": 0,
            "description_tooltip": null,
            "_model_module": "@jupyter-widgets/controls",
            "layout": "IPY_MODEL_07ac3dd4316842688bf8cbdebb03e3ce"
          }
        },
        "b08d59d9fc524110a252c4aed09ea8b8": {
          "model_module": "@jupyter-widgets/controls",
          "model_name": "HTMLModel",
          "model_module_version": "1.5.0",
          "state": {
            "_view_name": "HTMLView",
            "style": "IPY_MODEL_f24945b7ac8740e7b5d4f84cfdf29878",
            "_dom_classes": [],
            "description": "",
            "_model_name": "HTMLModel",
            "placeholder": "​",
            "_view_module": "@jupyter-widgets/controls",
            "_model_module_version": "1.5.0",
            "value": " 0/1803 [00:00&lt;?, ? examples/s]",
            "_view_count": null,
            "_view_module_version": "1.5.0",
            "description_tooltip": null,
            "_model_module": "@jupyter-widgets/controls",
            "layout": "IPY_MODEL_12b03f1c53384e5a8fd7c49591f6cc96"
          }
        },
        "a7302f96bfe340dda5ad01badc194d97": {
          "model_module": "@jupyter-widgets/controls",
          "model_name": "DescriptionStyleModel",
          "model_module_version": "1.5.0",
          "state": {
            "_view_name": "StyleView",
            "_model_name": "DescriptionStyleModel",
            "description_width": "",
            "_view_module": "@jupyter-widgets/base",
            "_model_module_version": "1.5.0",
            "_view_count": null,
            "_view_module_version": "1.2.0",
            "_model_module": "@jupyter-widgets/controls"
          }
        },
        "d3a2d8d78d5e4d14901f6af1cc54a3b1": {
          "model_module": "@jupyter-widgets/base",
          "model_name": "LayoutModel",
          "model_module_version": "1.2.0",
          "state": {
            "_view_name": "LayoutView",
            "grid_template_rows": null,
            "right": null,
            "justify_content": null,
            "_view_module": "@jupyter-widgets/base",
            "overflow": null,
            "_model_module_version": "1.2.0",
            "_view_count": null,
            "flex_flow": null,
            "width": null,
            "min_width": null,
            "border": null,
            "align_items": null,
            "bottom": null,
            "_model_module": "@jupyter-widgets/base",
            "top": null,
            "grid_column": null,
            "overflow_y": null,
            "overflow_x": null,
            "grid_auto_flow": null,
            "grid_area": null,
            "grid_template_columns": null,
            "flex": null,
            "_model_name": "LayoutModel",
            "justify_items": null,
            "grid_row": null,
            "max_height": null,
            "align_content": null,
            "visibility": null,
            "align_self": null,
            "height": null,
            "min_height": null,
            "padding": null,
            "grid_auto_rows": null,
            "grid_gap": null,
            "max_width": null,
            "order": null,
            "_view_module_version": "1.2.0",
            "grid_template_areas": null,
            "object_position": null,
            "object_fit": null,
            "grid_auto_columns": null,
            "margin": null,
            "display": null,
            "left": null
          }
        },
        "295874443bda42c684acb070290b6d5b": {
          "model_module": "@jupyter-widgets/controls",
          "model_name": "ProgressStyleModel",
          "model_module_version": "1.5.0",
          "state": {
            "_view_name": "StyleView",
            "_model_name": "ProgressStyleModel",
            "description_width": "",
            "_view_module": "@jupyter-widgets/base",
            "_model_module_version": "1.5.0",
            "_view_count": null,
            "_view_module_version": "1.2.0",
            "bar_color": null,
            "_model_module": "@jupyter-widgets/controls"
          }
        },
        "07ac3dd4316842688bf8cbdebb03e3ce": {
          "model_module": "@jupyter-widgets/base",
          "model_name": "LayoutModel",
          "model_module_version": "1.2.0",
          "state": {
            "_view_name": "LayoutView",
            "grid_template_rows": null,
            "right": null,
            "justify_content": null,
            "_view_module": "@jupyter-widgets/base",
            "overflow": null,
            "_model_module_version": "1.2.0",
            "_view_count": null,
            "flex_flow": null,
            "width": null,
            "min_width": null,
            "border": null,
            "align_items": null,
            "bottom": null,
            "_model_module": "@jupyter-widgets/base",
            "top": null,
            "grid_column": null,
            "overflow_y": null,
            "overflow_x": null,
            "grid_auto_flow": null,
            "grid_area": null,
            "grid_template_columns": null,
            "flex": null,
            "_model_name": "LayoutModel",
            "justify_items": null,
            "grid_row": null,
            "max_height": null,
            "align_content": null,
            "visibility": null,
            "align_self": null,
            "height": null,
            "min_height": null,
            "padding": null,
            "grid_auto_rows": null,
            "grid_gap": null,
            "max_width": null,
            "order": null,
            "_view_module_version": "1.2.0",
            "grid_template_areas": null,
            "object_position": null,
            "object_fit": null,
            "grid_auto_columns": null,
            "margin": null,
            "display": null,
            "left": null
          }
        },
        "f24945b7ac8740e7b5d4f84cfdf29878": {
          "model_module": "@jupyter-widgets/controls",
          "model_name": "DescriptionStyleModel",
          "model_module_version": "1.5.0",
          "state": {
            "_view_name": "StyleView",
            "_model_name": "DescriptionStyleModel",
            "description_width": "",
            "_view_module": "@jupyter-widgets/base",
            "_model_module_version": "1.5.0",
            "_view_count": null,
            "_view_module_version": "1.2.0",
            "_model_module": "@jupyter-widgets/controls"
          }
        },
        "12b03f1c53384e5a8fd7c49591f6cc96": {
          "model_module": "@jupyter-widgets/base",
          "model_name": "LayoutModel",
          "model_module_version": "1.2.0",
          "state": {
            "_view_name": "LayoutView",
            "grid_template_rows": null,
            "right": null,
            "justify_content": null,
            "_view_module": "@jupyter-widgets/base",
            "overflow": null,
            "_model_module_version": "1.2.0",
            "_view_count": null,
            "flex_flow": null,
            "width": null,
            "min_width": null,
            "border": null,
            "align_items": null,
            "bottom": null,
            "_model_module": "@jupyter-widgets/base",
            "top": null,
            "grid_column": null,
            "overflow_y": null,
            "overflow_x": null,
            "grid_auto_flow": null,
            "grid_area": null,
            "grid_template_columns": null,
            "flex": null,
            "_model_name": "LayoutModel",
            "justify_items": null,
            "grid_row": null,
            "max_height": null,
            "align_content": null,
            "visibility": null,
            "align_self": null,
            "height": null,
            "min_height": null,
            "padding": null,
            "grid_auto_rows": null,
            "grid_gap": null,
            "max_width": null,
            "order": null,
            "_view_module_version": "1.2.0",
            "grid_template_areas": null,
            "object_position": null,
            "object_fit": null,
            "grid_auto_columns": null,
            "margin": null,
            "display": null,
            "left": null
          }
        }
      }
    }
  },
  "cells": [
    {
      "cell_type": "markdown",
      "metadata": {
        "id": "s_qNSzzyaCbD"
      },
      "source": [
        "##### Copyright 2019 The TensorFlow Authors."
      ]
    },
    {
      "cell_type": "code",
      "metadata": {
        "cellView": "form",
        "id": "jmjh290raIky"
      },
      "source": [
        "#@title Licensed under the Apache License, Version 2.0 (the \"License\");\n",
        "# you may not use this file except in compliance with the License.\n",
        "# You may obtain a copy of the License at\n",
        "#\n",
        "# https://www.apache.org/licenses/LICENSE-2.0\n",
        "#\n",
        "# Unless required by applicable law or agreed to in writing, software\n",
        "# distributed under the License is distributed on an \"AS IS\" BASIS,\n",
        "# WITHOUT WARRANTIES OR CONDITIONS OF ANY KIND, either express or implied.\n",
        "# See the License for the specific language governing permissions and\n",
        "# limitations under the License."
      ],
      "execution_count": null,
      "outputs": []
    },
    {
      "cell_type": "markdown",
      "metadata": {
        "id": "J0Qjg6vuaHNt"
      },
      "source": [
        "# Transformer model for language understanding"
      ]
    },
    {
      "cell_type": "markdown",
      "metadata": {
        "id": "M-f8TnGpE_ex"
      },
      "source": [
        "This tutorial trains a <a href=\"https://arxiv.org/abs/1706.03762\" class=\"external\">Transformer model</a> to translate Portuguese to English. This is an advanced example that assumes knowledge of [text generation](text_generation.ipynb) and [attention](nmt_with_attention.ipynb).\n",
        "\n",
        "The core idea behind the Transformer model is *self-attention*—the ability to attend to different positions of the input sequence to compute a representation of that sequence. Transformer creates stacks of self-attention layers and is explained below in the sections *Scaled dot product attention* and *Multi-head attention*.\n",
        "\n",
        "A transformer model handles variable-sized input using stacks of self-attention layers instead of [RNNs](text_classification_rnn.ipynb) or [CNNs](../images/intro_to_cnns.ipynb). This general architecture has a number of advantages:\n",
        "\n",
        "* It make no assumptions about the temporal/spatial relationships across the data. This is ideal for processing a set of objects (for example, [StarCraft units](https://deepmind.com/blog/alphastar-mastering-real-time-strategy-game-starcraft-ii/#block-8)).\n",
        "* Layer outputs can be calculated in parallel, instead of a series like an RNN.\n",
        "* Distant items can affect each other's output without passing through many RNN-steps, or convolution layers (see [Scene Memory Transformer](https://arxiv.org/pdf/1903.03878.pdf) for example).\n",
        "* It can learn long-range dependencies. This is a challenge in many sequence tasks.\n",
        "\n",
        "The downsides of this architecture are:\n",
        "\n",
        "* For a time-series, the output for a time-step is calculated from the *entire history* instead of only the inputs and current hidden-state. This _may_ be less efficient.   \n",
        "* If the input *does* have a  temporal/spatial relationship, like text, some positional encoding must be added or the model will effectively see a bag of words. \n",
        "\n",
        "After training the model in this notebook, you will be able to input a Portuguese sentence and return the English translation.\n",
        "\n",
        "<img src=\"https://www.tensorflow.org/images/tutorials/transformer/attention_map_portuguese.png\" width=\"800\" alt=\"Attention heatmap\">"
      ]
    },
    {
      "cell_type": "code",
      "metadata": {
        "id": "XFG0NDRu5mYQ",
        "outputId": "e7d3afd6-3eae-448e-de5b-e1c271193078",
        "colab": {
          "base_uri": "https://localhost:8080/"
        }
      },
      "source": [
        "!pip install -q tfds-nightly\n",
        "\n",
        "# Pin matplotlib version to 3.2.2 since in the latest version\n",
        "# transformer.ipynb fails with the following error:\n",
        "# https://stackoverflow.com/questions/62953704/valueerror-the-number-of-fixedlocator-locations-5-usually-from-a-call-to-set\n",
        "!pip install matplotlib==3.2.2"
      ],
      "execution_count": null,
      "outputs": [
        {
          "output_type": "stream",
          "name": "stdout",
          "text": [
            "\u001b[K     |████████████████████████████████| 4.2 MB 14.9 MB/s \n",
            "\u001b[?25hRequirement already satisfied: matplotlib==3.2.2 in /usr/local/lib/python3.7/dist-packages (3.2.2)\n",
            "Requirement already satisfied: kiwisolver>=1.0.1 in /usr/local/lib/python3.7/dist-packages (from matplotlib==3.2.2) (1.3.2)\n",
            "Requirement already satisfied: python-dateutil>=2.1 in /usr/local/lib/python3.7/dist-packages (from matplotlib==3.2.2) (2.8.2)\n",
            "Requirement already satisfied: pyparsing!=2.0.4,!=2.1.2,!=2.1.6,>=2.0.1 in /usr/local/lib/python3.7/dist-packages (from matplotlib==3.2.2) (3.0.7)\n",
            "Requirement already satisfied: numpy>=1.11 in /usr/local/lib/python3.7/dist-packages (from matplotlib==3.2.2) (1.21.5)\n",
            "Requirement already satisfied: cycler>=0.10 in /usr/local/lib/python3.7/dist-packages (from matplotlib==3.2.2) (0.11.0)\n",
            "Requirement already satisfied: six>=1.5 in /usr/local/lib/python3.7/dist-packages (from python-dateutil>=2.1->matplotlib==3.2.2) (1.15.0)\n"
          ]
        }
      ]
    },
    {
      "cell_type": "code",
      "metadata": {
        "id": "JjJJyJTZYebt"
      },
      "source": [
        "import tensorflow_datasets as tfds\n",
        "import tensorflow as tf\n",
        "\n",
        "import time\n",
        "import numpy as np\n",
        "import matplotlib.pyplot as plt"
      ],
      "execution_count": null,
      "outputs": []
    },
    {
      "cell_type": "markdown",
      "metadata": {
        "id": "fd1NWMxjfsDd"
      },
      "source": [
        "## Setup input pipeline"
      ]
    },
    {
      "cell_type": "markdown",
      "metadata": {
        "id": "t4_Qt8W1hJE_"
      },
      "source": [
        "Use [TFDS](https://www.tensorflow.org/datasets) to load the [Portugese-English translation dataset](https://github.com/neulab/word-embeddings-for-nmt) from the [TED Talks Open Translation Project](https://www.ted.com/participate/translate).\n",
        "\n",
        "This dataset contains approximately 50000 training examples, 1100 validation examples, and 2000 test examples."
      ]
    },
    {
      "cell_type": "code",
      "metadata": {
        "id": "8q9t4FmN96eN",
        "outputId": "1cc6a495-7a69-4dda-f494-75bf02e8cbb2",
        "colab": {
          "base_uri": "https://localhost:8080/",
          "height": 148,
          "referenced_widgets": [
            "3336c0bdf2064fb5a3fd41342a60852e",
            "4d2b50e409e44f0da0b021e0faed3426",
            "cb956efe4daa444daad21d8f8913b05c",
            "4192170ec7a947d1b9f3ff8d122944f0",
            "755108442ce040ecb7ee5abcf3c739bc",
            "9b03a9cc019c4ef0adb92f78469de167",
            "56e96b62ec414d58b1caae4a277bb6d1",
            "d87f3111d9bb4710a7c94102caa2191e",
            "55fee040527745449d5a30d08f8c5f0e",
            "ba20b25346104d3485ba6c54a751917c",
            "69f117dae8984614907b3f85f62af187",
            "74e04657f19f4f6ab89e2376c15f7766",
            "4e310669e1164af59b3a77684873f126",
            "34f40bf361bd4f469d48ac12d4419131",
            "c6d72c7216604831bb33a397022e9476",
            "c4144fa44931495ab651f82fb5a7c7fe",
            "f0281a2aeb3840c481277020fe1c6698",
            "0de8e25e2656453d9c81dfe377673c04",
            "fed2a3dd7f7347d6a6edf3c2e6fff463",
            "ea428adb28014aea8d867b936c4410c6",
            "3af77f722bac4f2399b70ccc2998d764",
            "e9de372a517c43c48500a674301c1ed0",
            "b872e86d949940e1af6f3d327d2e22cd",
            "32da97b6954145c5abece4b796365d2a",
            "97ac18d28ba1452f871e517ac2a4e056",
            "993287dda8a24be1bcb8c61785eac6de",
            "5aab98b6f832415e9d7619894334e42f",
            "65c705232af44a1398644ca82725c9f0",
            "cb25c9e6c3eb41378beda63f8a1b3d5e",
            "fd6c047aa807484f9907093c1e5feb0a",
            "3230e8ce56bd4c10911858d23e43245b",
            "a67b9d2a01504227ab1de746a62c0593",
            "b9f5e3426a064ab9af163c642a8f3e51",
            "3e5a533a45b746148cfdc42ea7e154bd",
            "14b7f8ac968d46129b295c2bba50b456",
            "684f1cf0f4864352babf79ccc0a37e91",
            "bb6ae8d680c84e51b7885e6d94907771",
            "51953801edeb4b39ba206ee5d0d07a1d",
            "71ab83a22c994d328625a4b4c9189399",
            "cff6ae0d11b74dd7a6e0146049ec3862",
            "427c1a8aa87040bea54ae42844a764e1",
            "94cbd0cf3e7d4ca3a61ce4349c3eb18d",
            "ac673b5b51684bc7a6ee77891f38067e",
            "fba290c5cada4ce892753eb69348e5af",
            "0e2a965d943146c7a0aed97859fa5bc5",
            "b3334091b0404f90ae609213896c4eb3",
            "7adf9daaab5a49eca56f320a14798a13",
            "9fe9fed9c8a64968bd68dc2eb626cb9d",
            "d741a61553ea4b1690334e64ba399049",
            "b68feb9cb1274041aaf632ce1c435baa",
            "f834031b549b4230aba544c420008e6e",
            "dea13f6b5ee44329b90895b40b0cc59a",
            "9064ca4d480544eb9ae0359c3435ded8",
            "62e3735b3b204e368a4500bf1e6e65b1",
            "d554ba4d48c6483cb86efb757d216f39",
            "b27ec72fb4f0443dbddf0fbf0d55553a",
            "c030961dfeec412192ed75f6cb62abc7",
            "098228352847460fb34a8b358614d243",
            "51a9edf8b05c4d5ab43c136227b2439f",
            "85c8b1872e204a268354543f6b0f1791",
            "1cc13d9ca0ab458e814cea1090757687",
            "a303a00cfabe4386847814a47815e34f",
            "67ee51b7fce641b99078615990752e8c",
            "c1353f9187024706955183d4858b89dc",
            "9ec30984491045889d2a3c7e97558331",
            "30311e4c6e2d44d0908a5be95dd0369a",
            "80d35f829909422da3c050a8a8d8ed38",
            "bec1a8809fcf4c5592d7903b9a85a4bc",
            "2dfa9216a7034a3da754ceb0a18a5acb",
            "14b1036bc6cd408fa2a394b08ac5465e",
            "19edb4888ece4a7684c9c5c18c3cd5fd",
            "aa5735b437154331a15bb4935e1f10bc",
            "9041dba218e14c65bf09205f23dcd466",
            "c4a41337d7374a71a04cf1a968a45136",
            "cacaf2c177d34ec88b2153e9b798e8da",
            "29948c1773994bf08ddda22d5f4aa7ed",
            "c0bda76c4b0d4707bcdc07fe1ded58d4",
            "15edc1777ce542f9991de5bff6ac18c0",
            "e2e429271fbd4576b2b9db4f7ad21b8a",
            "9a463ca741f849a6bc1523ff5578329d",
            "63ea4459531946dd9997e82fdc24757c",
            "6f6e18511e5f4c96b91182312af482fc",
            "929696698ffb45788c78c97ffffc6d37",
            "c170c96589734fb0b6f3f0d2dc4a8573",
            "f3d955664e534a20bb8916c138361fee",
            "7cbd60506c79447c9d467a6ac8376057",
            "0fdaae59c5264e288255e9da673fed3d",
            "7c9b55a8b86e470f83ea0fcb788056c8",
            "95c66fe2eaea4667a7d5501caff48340",
            "83f5431f3f0242a7b41e6398ce91cba2",
            "eeeca01c5ce2492b81a58bec1cb9a5f7",
            "a6fcde89955840b3951fe2ba40b8aff7",
            "58314d09584d44dca8cde388a6d54696",
            "16ffb502ea0d4d61b0a5493775b17509",
            "5283d5b9c4d54edcb78e9d5a9a54d581",
            "58570b950633461faa06d9be789be4ab",
            "30b052050916434a936b39327ef83383",
            "0e04ad8284524c4faf37ec4ef763155c",
            "891164898c2d4109b9be97a830c2ee68",
            "1e944be39a044861925860bdbca87f92",
            "4e6bca6b676a4318aa442530d5e0acc0",
            "eff1a1b26e9e431cb9cddfb00856004a",
            "7d48372e6f0d4b2eb71536390242220f",
            "b08d59d9fc524110a252c4aed09ea8b8",
            "a7302f96bfe340dda5ad01badc194d97",
            "d3a2d8d78d5e4d14901f6af1cc54a3b1",
            "295874443bda42c684acb070290b6d5b",
            "07ac3dd4316842688bf8cbdebb03e3ce",
            "f24945b7ac8740e7b5d4f84cfdf29878",
            "12b03f1c53384e5a8fd7c49591f6cc96"
          ]
        }
      },
      "source": [
        "examples, metadata = tfds.load('ted_hrlr_translate/pt_to_en', with_info=True,\n",
        "                               as_supervised=True)\n",
        "train_examples, val_examples = examples['train'], examples['validation']"
      ],
      "execution_count": null,
      "outputs": [
        {
          "output_type": "stream",
          "name": "stdout",
          "text": [
            "\u001b[1mDownloading and preparing dataset 124.94 MiB (download: 124.94 MiB, generated: Unknown size, total: 124.94 MiB) to ~/tensorflow_datasets/ted_hrlr_translate/pt_to_en/1.0.0...\u001b[0m\n"
          ]
        },
        {
          "output_type": "display_data",
          "data": {
            "application/vnd.jupyter.widget-view+json": {
              "model_id": "3336c0bdf2064fb5a3fd41342a60852e",
              "version_minor": 0,
              "version_major": 2
            },
            "text/plain": [
              "Dl Completed...: 0 url [00:00, ? url/s]"
            ]
          },
          "metadata": {}
        },
        {
          "output_type": "display_data",
          "data": {
            "application/vnd.jupyter.widget-view+json": {
              "model_id": "74e04657f19f4f6ab89e2376c15f7766",
              "version_minor": 0,
              "version_major": 2
            },
            "text/plain": [
              "Dl Size...: 0 MiB [00:00, ? MiB/s]"
            ]
          },
          "metadata": {}
        },
        {
          "output_type": "display_data",
          "data": {
            "application/vnd.jupyter.widget-view+json": {
              "model_id": "b872e86d949940e1af6f3d327d2e22cd",
              "version_minor": 0,
              "version_major": 2
            },
            "text/plain": [
              "Extraction completed...: 0 file [00:00, ? file/s]"
            ]
          },
          "metadata": {}
        },
        {
          "output_type": "display_data",
          "data": {
            "application/vnd.jupyter.widget-view+json": {
              "model_id": "3e5a533a45b746148cfdc42ea7e154bd",
              "version_minor": 0,
              "version_major": 2
            },
            "text/plain": [
              "Generating splits...:   0%|          | 0/3 [00:00<?, ? splits/s]"
            ]
          },
          "metadata": {}
        },
        {
          "output_type": "display_data",
          "data": {
            "application/vnd.jupyter.widget-view+json": {
              "model_id": "0e2a965d943146c7a0aed97859fa5bc5",
              "version_minor": 0,
              "version_major": 2
            },
            "text/plain": [
              "Generating train examples...:   0%|          | 0/51785 [00:00<?, ? examples/s]"
            ]
          },
          "metadata": {}
        },
        {
          "output_type": "display_data",
          "data": {
            "application/vnd.jupyter.widget-view+json": {
              "model_id": "b27ec72fb4f0443dbddf0fbf0d55553a",
              "version_minor": 0,
              "version_major": 2
            },
            "text/plain": [
              "Shuffling ~/tensorflow_datasets/ted_hrlr_translate/pt_to_en/1.0.0.incomplete6978JG/ted_hrlr_translate-train.tf…"
            ]
          },
          "metadata": {}
        },
        {
          "output_type": "display_data",
          "data": {
            "application/vnd.jupyter.widget-view+json": {
              "model_id": "80d35f829909422da3c050a8a8d8ed38",
              "version_minor": 0,
              "version_major": 2
            },
            "text/plain": [
              "Generating validation examples...:   0%|          | 0/1193 [00:00<?, ? examples/s]"
            ]
          },
          "metadata": {}
        },
        {
          "output_type": "display_data",
          "data": {
            "application/vnd.jupyter.widget-view+json": {
              "model_id": "15edc1777ce542f9991de5bff6ac18c0",
              "version_minor": 0,
              "version_major": 2
            },
            "text/plain": [
              "Shuffling ~/tensorflow_datasets/ted_hrlr_translate/pt_to_en/1.0.0.incomplete6978JG/ted_hrlr_translate-validati…"
            ]
          },
          "metadata": {}
        },
        {
          "output_type": "display_data",
          "data": {
            "application/vnd.jupyter.widget-view+json": {
              "model_id": "95c66fe2eaea4667a7d5501caff48340",
              "version_minor": 0,
              "version_major": 2
            },
            "text/plain": [
              "Generating test examples...:   0%|          | 0/1803 [00:00<?, ? examples/s]"
            ]
          },
          "metadata": {}
        },
        {
          "output_type": "display_data",
          "data": {
            "application/vnd.jupyter.widget-view+json": {
              "model_id": "1e944be39a044861925860bdbca87f92",
              "version_minor": 0,
              "version_major": 2
            },
            "text/plain": [
              "Shuffling ~/tensorflow_datasets/ted_hrlr_translate/pt_to_en/1.0.0.incomplete6978JG/ted_hrlr_translate-test.tfr…"
            ]
          },
          "metadata": {}
        },
        {
          "output_type": "stream",
          "name": "stdout",
          "text": [
            "\u001b[1mDataset ted_hrlr_translate downloaded and prepared to ~/tensorflow_datasets/ted_hrlr_translate/pt_to_en/1.0.0. Subsequent calls will reuse this data.\u001b[0m\n"
          ]
        }
      ]
    },
    {
      "cell_type": "markdown",
      "metadata": {
        "id": "RCEKotqosGfq"
      },
      "source": [
        "Create a custom subwords tokenizer from the training dataset. "
      ]
    },
    {
      "cell_type": "code",
      "metadata": {
        "id": "KVBg5Q8tBk5z"
      },
      "source": [
        "tokenizer_en = tfds.deprecated.text.SubwordTextEncoder.build_from_corpus(\n",
        "    (en.numpy() for pt, en in train_examples), target_vocab_size=2**13)\n",
        "\n",
        "tokenizer_pt = tfds.deprecated.text.SubwordTextEncoder.build_from_corpus(\n",
        "    (pt.numpy() for pt, en in train_examples), target_vocab_size=2**13)"
      ],
      "execution_count": null,
      "outputs": []
    },
    {
      "cell_type": "code",
      "metadata": {
        "id": "4DYWukNFkGQN",
        "outputId": "78f95274-b0e6-4f5b-cfe5-5dad0ffbf1d7",
        "colab": {
          "base_uri": "https://localhost:8080/"
        }
      },
      "source": [
        "sample_string = 'Transformer is awesome.'\n",
        "\n",
        "tokenized_string = tokenizer_en.encode(sample_string)\n",
        "print ('Tokenized string is {}'.format(tokenized_string))\n",
        "\n",
        "original_string = tokenizer_en.decode(tokenized_string)\n",
        "print ('The original string: {}'.format(original_string))\n",
        "\n",
        "assert original_string == sample_string"
      ],
      "execution_count": null,
      "outputs": [
        {
          "output_type": "stream",
          "name": "stdout",
          "text": [
            "Tokenized string is [7915, 1248, 7946, 7194, 13, 2799, 7877]\n",
            "The original string: Transformer is awesome.\n"
          ]
        }
      ]
    },
    {
      "cell_type": "markdown",
      "metadata": {
        "id": "o9KJWJjrsZ4Y"
      },
      "source": [
        "The tokenizer encodes the string by breaking it into subwords if the word is not in its dictionary."
      ]
    },
    {
      "cell_type": "code",
      "metadata": {
        "id": "bf2ntBxjkqK6",
        "outputId": "13d5bebe-6829-4e18-ea97-7c7237800577",
        "colab": {
          "base_uri": "https://localhost:8080/"
        }
      },
      "source": [
        "for ts in tokenized_string:\n",
        "  print ('{} ----> {}'.format(ts, tokenizer_en.decode([ts])))"
      ],
      "execution_count": null,
      "outputs": [
        {
          "output_type": "stream",
          "name": "stdout",
          "text": [
            "7915 ----> T\n",
            "1248 ----> ran\n",
            "7946 ----> s\n",
            "7194 ----> former \n",
            "13 ----> is \n",
            "2799 ----> awesome\n",
            "7877 ----> .\n"
          ]
        }
      ]
    },
    {
      "cell_type": "code",
      "metadata": {
        "id": "bcRp7VcQ5m6g"
      },
      "source": [
        "BUFFER_SIZE = 20000\n",
        "BATCH_SIZE = 64"
      ],
      "execution_count": null,
      "outputs": []
    },
    {
      "cell_type": "markdown",
      "metadata": {
        "id": "kGi4PoVakxdc"
      },
      "source": [
        "Add a start and end token to the input and target. "
      ]
    },
    {
      "cell_type": "code",
      "metadata": {
        "id": "UZwnPr4R055s"
      },
      "source": [
        "def encode(lang1, lang2):\n",
        "  lang1 = [tokenizer_pt.vocab_size] + tokenizer_pt.encode(\n",
        "      lang1.numpy()) + [tokenizer_pt.vocab_size+1]\n",
        "\n",
        "  lang2 = [tokenizer_en.vocab_size] + tokenizer_en.encode(\n",
        "      lang2.numpy()) + [tokenizer_en.vocab_size+1]\n",
        "  \n",
        "  return lang1, lang2"
      ],
      "execution_count": null,
      "outputs": []
    },
    {
      "cell_type": "markdown",
      "metadata": {
        "id": "Tx1sFbR-9fRs"
      },
      "source": [
        "You want to use `Dataset.map` to apply this function to each element of the dataset.  `Dataset.map` runs in graph mode.\n",
        "\n",
        "* Graph tensors do not have a value. \n",
        "* In graph mode you can only use TensorFlow Ops and functions. \n",
        "\n",
        "So you can't `.map` this function directly: You need to wrap it in a `tf.py_function`. The `tf.py_function` will pass regular tensors (with a value and a `.numpy()` method to access it), to the wrapped python function."
      ]
    },
    {
      "cell_type": "code",
      "metadata": {
        "id": "Mah1cS-P70Iz"
      },
      "source": [
        "def tf_encode(pt, en):\n",
        "  result_pt, result_en = tf.py_function(encode, [pt, en], [tf.int64, tf.int64])\n",
        "  result_pt.set_shape([None])\n",
        "  result_en.set_shape([None])\n",
        "\n",
        "  return result_pt, result_en"
      ],
      "execution_count": null,
      "outputs": []
    },
    {
      "cell_type": "markdown",
      "metadata": {
        "id": "6JrGp5Gek6Ql"
      },
      "source": [
        "Note: To keep this example small and relatively fast, drop examples with a length of over 40 tokens."
      ]
    },
    {
      "cell_type": "code",
      "metadata": {
        "id": "2QEgbjntk6Yf"
      },
      "source": [
        "MAX_LENGTH = 40"
      ],
      "execution_count": null,
      "outputs": []
    },
    {
      "cell_type": "code",
      "metadata": {
        "id": "c081xPGv1CPI"
      },
      "source": [
        "def filter_max_length(x, y, max_length=MAX_LENGTH):\n",
        "  return tf.logical_and(tf.size(x) <= max_length,\n",
        "                        tf.size(y) <= max_length)"
      ],
      "execution_count": null,
      "outputs": []
    },
    {
      "cell_type": "code",
      "metadata": {
        "id": "9mk9AZdZ5bcS"
      },
      "source": [
        "train_dataset = train_examples.map(tf_encode)\n",
        "train_dataset = train_dataset.filter(filter_max_length)\n",
        "# cache the dataset to memory to get a speedup while reading from it.\n",
        "train_dataset = train_dataset.cache()\n",
        "train_dataset = train_dataset.shuffle(BUFFER_SIZE).padded_batch(BATCH_SIZE)\n",
        "train_dataset = train_dataset.prefetch(tf.data.experimental.AUTOTUNE)\n",
        "\n",
        "\n",
        "val_dataset = val_examples.map(tf_encode)\n",
        "val_dataset = val_dataset.filter(filter_max_length).padded_batch(BATCH_SIZE)"
      ],
      "execution_count": null,
      "outputs": []
    },
    {
      "cell_type": "code",
      "metadata": {
        "id": "_fXvfYVfQr2n",
        "outputId": "ae1d9c1c-0a46-4e14-d2d1-e835ff0cbde2",
        "colab": {
          "base_uri": "https://localhost:8080/"
        }
      },
      "source": [
        "pt_batch, en_batch = next(iter(val_dataset))\n",
        "pt_batch, en_batch"
      ],
      "execution_count": null,
      "outputs": [
        {
          "output_type": "execute_result",
          "data": {
            "text/plain": [
              "(<tf.Tensor: shape=(64, 38), dtype=int64, numpy=\n",
              " array([[8214,  342, 3032, ...,    0,    0,    0],\n",
              "        [8214,   95,  198, ...,    0,    0,    0],\n",
              "        [8214, 4479, 7990, ...,    0,    0,    0],\n",
              "        ...,\n",
              "        [8214,  584,   12, ...,    0,    0,    0],\n",
              "        [8214,   59, 1548, ...,    0,    0,    0],\n",
              "        [8214,  118,   34, ...,    0,    0,    0]])>,\n",
              " <tf.Tensor: shape=(64, 40), dtype=int64, numpy=\n",
              " array([[8087,   98,   25, ...,    0,    0,    0],\n",
              "        [8087,   12,   20, ...,    0,    0,    0],\n",
              "        [8087,   12, 5453, ...,    0,    0,    0],\n",
              "        ...,\n",
              "        [8087,   18, 2059, ...,    0,    0,    0],\n",
              "        [8087,   16, 1436, ...,    0,    0,    0],\n",
              "        [8087,   15,   57, ...,    0,    0,    0]])>)"
            ]
          },
          "metadata": {},
          "execution_count": 14
        }
      ]
    },
    {
      "cell_type": "markdown",
      "metadata": {
        "id": "nBQuibYA4n0n"
      },
      "source": [
        "## Positional encoding\n",
        "\n",
        "Since this model doesn't contain any recurrence or convolution, positional encoding is added to give the model some information about the relative position of the words in the sentence. \n",
        "\n",
        "The positional encoding vector is added to the embedding vector. Embeddings represent a token in a d-dimensional space where tokens with similar meaning will be closer to each other. But the embeddings do not encode the relative position of words in a sentence. So after adding the positional encoding, words will be closer to each other based on the *similarity of their meaning and their position in the sentence*, in the d-dimensional space.\n",
        "\n",
        "See the notebook on [positional encoding](https://github.com/tensorflow/examples/blob/master/community/en/position_encoding.ipynb) to learn more about it. The formula for calculating the positional encoding is as follows:\n",
        "\n",
        "$$\\Large{PE_{(pos, 2i)} = sin(pos / 10000^{2i / d_{model}})} $$\n",
        "$$\\Large{PE_{(pos, 2i+1)} = cos(pos / 10000^{2i / d_{model}})} $$"
      ]
    },
    {
      "cell_type": "code",
      "metadata": {
        "id": "WhIOZjMNKujn"
      },
      "source": [
        "def get_angles(pos, i, d_model):\n",
        "  angle_rates = 1 / np.power(10000, (2 * (i//2)) / np.float32(d_model))\n",
        "  return pos * angle_rates"
      ],
      "execution_count": null,
      "outputs": []
    },
    {
      "cell_type": "code",
      "metadata": {
        "id": "1Rz82wEs5biZ"
      },
      "source": [
        "def positional_encoding(position, d_model):\n",
        "  angle_rads = get_angles(np.arange(position)[:, np.newaxis],\n",
        "                          np.arange(d_model)[np.newaxis, :],\n",
        "                          d_model)\n",
        "  \n",
        "  # apply sin to even indices in the array; 2i\n",
        "  angle_rads[:, 0::2] = np.sin(angle_rads[:, 0::2])\n",
        "  \n",
        "  # apply cos to odd indices in the array; 2i+1\n",
        "  angle_rads[:, 1::2] = np.cos(angle_rads[:, 1::2])\n",
        "    \n",
        "  pos_encoding = angle_rads[np.newaxis, ...]\n",
        "    \n",
        "  return tf.cast(pos_encoding, dtype=tf.float32)"
      ],
      "execution_count": null,
      "outputs": []
    },
    {
      "cell_type": "code",
      "metadata": {
        "id": "1kLCla68EloE",
        "outputId": "77471792-a85f-42e9-e38e-89d4ae623019",
        "colab": {
          "base_uri": "https://localhost:8080/",
          "height": 300
        }
      },
      "source": [
        "pos_encoding = positional_encoding(50, 512)\n",
        "print (pos_encoding.shape)\n",
        "\n",
        "plt.pcolormesh(pos_encoding[0], cmap='RdBu')\n",
        "plt.xlabel('Depth')\n",
        "plt.xlim((0, 512))\n",
        "plt.ylabel('Position')\n",
        "plt.colorbar()\n",
        "plt.show()"
      ],
      "execution_count": null,
      "outputs": [
        {
          "output_type": "stream",
          "name": "stdout",
          "text": [
            "(1, 50, 512)\n"
          ]
        },
        {
          "output_type": "display_data",
          "data": {
            "image/png": "[encoded data removed]",
            "text/plain": [
              "<Figure size 432x288 with 2 Axes>"
            ]
          },
          "metadata": {
            "needs_background": "light"
          }
        }
      ]
    },
    {
      "cell_type": "markdown",
      "metadata": {
        "id": "a_b4ou4TYqUN"
      },
      "source": [
        "## Masking"
      ]
    },
    {
      "cell_type": "markdown",
      "metadata": {
        "id": "s42Uydjkv0hF"
      },
      "source": [
        "Mask all the pad tokens in the batch of sequence. It ensures that the model does not treat padding as the input. The mask indicates where pad value `0` is present: it outputs a `1` at those locations, and a `0` otherwise."
      ]
    },
    {
      "cell_type": "code",
      "metadata": {
        "id": "U2i8-e1s8ti9"
      },
      "source": [
        "def create_padding_mask(seq):\n",
        "  seq = tf.cast(tf.math.equal(seq, 0), tf.float32)\n",
        "  \n",
        "  # add extra dimensions to add the padding\n",
        "  # to the attention logits.\n",
        "  return seq[:, tf.newaxis, tf.newaxis, :]  # (batch_size, 1, 1, seq_len)"
      ],
      "execution_count": null,
      "outputs": []
    },
    {
      "cell_type": "code",
      "metadata": {
        "id": "A7BYeBCNvi7n",
        "outputId": "704c192d-6988-4546-f65e-d07c056e200a",
        "colab": {
          "base_uri": "https://localhost:8080/"
        }
      },
      "source": [
        "x = tf.constant([[7, 6, 0, 0, 1], [1, 2, 3, 0, 0], [0, 0, 0, 4, 5]])\n",
        "create_padding_mask(x)"
      ],
      "execution_count": null,
      "outputs": [
        {
          "output_type": "execute_result",
          "data": {
            "text/plain": [
              "<tf.Tensor: shape=(3, 1, 1, 5), dtype=float32, numpy=\n",
              "array([[[[0., 0., 1., 1., 0.]]],\n",
              "\n",
              "\n",
              "       [[[0., 0., 0., 1., 1.]]],\n",
              "\n",
              "\n",
              "       [[[1., 1., 1., 0., 0.]]]], dtype=float32)>"
            ]
          },
          "metadata": {},
          "execution_count": 19
        }
      ]
    },
    {
      "cell_type": "markdown",
      "metadata": {
        "id": "Z0hzukDBgVom"
      },
      "source": [
        "The look-ahead mask is used to mask the future tokens in a sequence. In other words, the mask indicates which entries should not be used.\n",
        "\n",
        "This means that to predict the third word, only the first and second word will be used. Similarly to predict the fourth word, only the first, second and the third word will be used and so on."
      ]
    },
    {
      "cell_type": "code",
      "metadata": {
        "id": "dVxS8OPI9uI0"
      },
      "source": [
        "def create_look_ahead_mask(size):\n",
        "  mask = 1 - tf.linalg.band_part(tf.ones((size, size)), -1, 0)\n",
        "  return mask  # (seq_len, seq_len)"
      ],
      "execution_count": null,
      "outputs": []
    },
    {
      "cell_type": "code",
      "metadata": {
        "id": "yxKGuXxaBeeE",
        "outputId": "0593c183-b361-4821-f041-a74c2f16b2de",
        "colab": {
          "base_uri": "https://localhost:8080/"
        }
      },
      "source": [
        "x = tf.random.uniform((1, 3))\n",
        "temp = create_look_ahead_mask(x.shape[1])\n",
        "temp"
      ],
      "execution_count": null,
      "outputs": [
        {
          "output_type": "execute_result",
          "data": {
            "text/plain": [
              "<tf.Tensor: shape=(3, 3), dtype=float32, numpy=\n",
              "array([[0., 1., 1.],\n",
              "       [0., 0., 1.],\n",
              "       [0., 0., 0.]], dtype=float32)>"
            ]
          },
          "metadata": {},
          "execution_count": 21
        }
      ]
    },
    {
      "cell_type": "markdown",
      "metadata": {
        "id": "xluDl5cXYy4y"
      },
      "source": [
        "## Scaled dot product attention"
      ]
    },
    {
      "cell_type": "markdown",
      "metadata": {
        "id": "vsxEE_-Wa1gF"
      },
      "source": [
        "<img src=\"https://www.tensorflow.org/images/tutorials/transformer/scaled_attention.png\" width=\"500\" alt=\"scaled_dot_product_attention\">\n",
        "\n",
        "The attention function used by the transformer takes three inputs: Q (query), K (key), V (value). The equation used to calculate the attention weights is:\n",
        "\n",
        "$$\\Large{Attention(Q, K, V) = softmax_k(\\frac{QK^T}{\\sqrt{d_k}}) V} $$\n",
        "\n",
        "The dot-product attention is scaled by a factor of square root of the depth. This is done because for large values of depth, the dot product grows large in magnitude pushing the softmax function where it has small gradients resulting in a very hard softmax. \n",
        "\n",
        "For example, consider that `Q` and `K` have a mean of 0 and variance of 1. Their matrix multiplication will have a mean of 0 and variance of `dk`. Hence, *square root of `dk`* is used for scaling (and not any other number) because the matmul of `Q` and `K` should have a mean of 0 and variance of 1, and you get a gentler softmax.\n",
        "\n",
        "The mask is multiplied with -1e9 (close to negative infinity). This is done because the mask is summed with the scaled matrix multiplication of Q and K and is applied immediately before a softmax. The goal is to zero out these cells, and large negative inputs to softmax are near zero in the output."
      ]
    },
    {
      "cell_type": "code",
      "metadata": {
        "id": "LazzUq3bJ5SH"
      },
      "source": [
        "def scaled_dot_product_attention(q, k, v, mask):\n",
        "  \"\"\"Calculate the attention weights.\n",
        "  q, k, v must have matching leading dimensions.\n",
        "  k, v must have matching penultimate dimension, i.e.: seq_len_k = seq_len_v.\n",
        "  The mask has different shapes depending on its type(padding or look ahead) \n",
        "  but it must be broadcastable for addition.\n",
        "  \n",
        "  Args:\n",
        "    q: query shape == (..., seq_len_q, depth)\n",
        "    k: key shape == (..., seq_len_k, depth)\n",
        "    v: value shape == (..., seq_len_v, depth_v)\n",
        "    mask: Float tensor with shape broadcastable \n",
        "          to (..., seq_len_q, seq_len_k). Defaults to None.\n",
        "    \n",
        "  Returns:\n",
        "    output, attention_weights\n",
        "  \"\"\"\n",
        "\n",
        "  matmul_qk = tf.matmul(q, k, transpose_b=True)  # (..., seq_len_q, seq_len_k)\n",
        "  \n",
        "  # scale matmul_qk\n",
        "  dk = tf.cast(tf.shape(k)[-1], tf.float32)\n",
        "  scaled_attention_logits = matmul_qk / tf.math.sqrt(dk)\n",
        "\n",
        "  # add the mask to the scaled tensor.\n",
        "  if mask is not None:\n",
        "    scaled_attention_logits += (mask * -1e9)  \n",
        "\n",
        "  # softmax is normalized on the last axis (seq_len_k) so that the scores\n",
        "  # add up to 1.\n",
        "  attention_weights = tf.nn.softmax(scaled_attention_logits, axis=-1)  # (..., seq_len_q, seq_len_k)\n",
        "\n",
        "  output = tf.matmul(attention_weights, v)  # (..., seq_len_q, depth_v)\n",
        "\n",
        "  return output, attention_weights"
      ],
      "execution_count": null,
      "outputs": []
    },
    {
      "cell_type": "markdown",
      "metadata": {
        "id": "FiqETnhCkoXh"
      },
      "source": [
        "As the softmax normalization is done on K, its values decide the amount of importance given to Q.\n",
        "\n",
        "The output represents the multiplication of the attention weights and the V (value) vector. This ensures that the words you want to focus on are kept as-is and the irrelevant words are flushed out."
      ]
    },
    {
      "cell_type": "code",
      "metadata": {
        "id": "n90YjClyInFy"
      },
      "source": [
        "def print_out(q, k, v):\n",
        "  temp_out, temp_attn = scaled_dot_product_attention(\n",
        "      q, k, v, None)\n",
        "  print ('Attention weights are:')\n",
        "  print (temp_attn)\n",
        "  print ('Output is:')\n",
        "  print (temp_out)"
      ],
      "execution_count": null,
      "outputs": []
    },
    {
      "cell_type": "code",
      "metadata": {
        "id": "yAzUAf2DPlNt",
        "outputId": "cf861f23-c787-4ea4-c139-799486c0bd88",
        "colab": {
          "base_uri": "https://localhost:8080/"
        }
      },
      "source": [
        "np.set_printoptions(suppress=True)\n",
        "\n",
        "temp_k = tf.constant([[10,0,0],\n",
        "                      [0,10,0],\n",
        "                      [0,0,10],\n",
        "                      [0,0,10]], dtype=tf.float32)  # (4, 3)\n",
        "\n",
        "temp_v = tf.constant([[   1,0],\n",
        "                      [  10,0],\n",
        "                      [ 100,5],\n",
        "                      [1000,6]], dtype=tf.float32)  # (4, 2)\n",
        "\n",
        "# This `query` aligns with the second `key`,\n",
        "# so the second `value` is returned.\n",
        "temp_q = tf.constant([[0, 10, 0]], dtype=tf.float32)  # (1, 3)\n",
        "print_out(temp_q, temp_k, temp_v)"
      ],
      "execution_count": null,
      "outputs": [
        {
          "output_type": "stream",
          "name": "stdout",
          "text": [
            "Attention weights are:\n",
            "tf.Tensor([[0. 1. 0. 0.]], shape=(1, 4), dtype=float32)\n",
            "Output is:\n",
            "tf.Tensor([[10.  0.]], shape=(1, 2), dtype=float32)\n"
          ]
        }
      ]
    },
    {
      "cell_type": "code",
      "metadata": {
        "id": "zg6k-fGhgXra",
        "outputId": "ed936226-510a-4a5e-b69c-0cd405b20da1",
        "colab": {
          "base_uri": "https://localhost:8080/"
        }
      },
      "source": [
        "# This query aligns with a repeated key (third and fourth), \n",
        "# so all associated values get averaged.\n",
        "temp_q = tf.constant([[0, 0, 10]], dtype=tf.float32)  # (1, 3)\n",
        "print_out(temp_q, temp_k, temp_v)"
      ],
      "execution_count": null,
      "outputs": [
        {
          "output_type": "stream",
          "name": "stdout",
          "text": [
            "Attention weights are:\n",
            "tf.Tensor([[0.  0.  0.5 0.5]], shape=(1, 4), dtype=float32)\n",
            "Output is:\n",
            "tf.Tensor([[550.    5.5]], shape=(1, 2), dtype=float32)\n"
          ]
        }
      ]
    },
    {
      "cell_type": "code",
      "metadata": {
        "id": "UAq3YOzUgXhb",
        "outputId": "3c3d8e7f-8178-49d9-e823-0461b219ecc8",
        "colab": {
          "base_uri": "https://localhost:8080/"
        }
      },
      "source": [
        "# This query aligns equally with the first and second key, \n",
        "# so their values get averaged.\n",
        "temp_q = tf.constant([[10, 10, 0]], dtype=tf.float32)  # (1, 3)\n",
        "print_out(temp_q, temp_k, temp_v)"
      ],
      "execution_count": null,
      "outputs": [
        {
          "output_type": "stream",
          "name": "stdout",
          "text": [
            "Attention weights are:\n",
            "tf.Tensor([[0.5 0.5 0.  0. ]], shape=(1, 4), dtype=float32)\n",
            "Output is:\n",
            "tf.Tensor([[5.5 0. ]], shape=(1, 2), dtype=float32)\n"
          ]
        }
      ]
    },
    {
      "cell_type": "markdown",
      "metadata": {
        "id": "aOz-4_XIhaTP"
      },
      "source": [
        "Pass all the queries together."
      ]
    },
    {
      "cell_type": "code",
      "metadata": {
        "id": "6dlU8Tm-hYrF",
        "outputId": "db836391-1b5a-4818-e75a-bbe544acb3f4",
        "colab": {
          "base_uri": "https://localhost:8080/"
        }
      },
      "source": [
        "temp_q = tf.constant([[0, 0, 10], [0, 10, 0], [10, 10, 0]], dtype=tf.float32)  # (3, 3)\n",
        "print_out(temp_q, temp_k, temp_v)"
      ],
      "execution_count": null,
      "outputs": [
        {
          "output_type": "stream",
          "name": "stdout",
          "text": [
            "Attention weights are:\n",
            "tf.Tensor(\n",
            "[[0.  0.  0.5 0.5]\n",
            " [0.  1.  0.  0. ]\n",
            " [0.5 0.5 0.  0. ]], shape=(3, 4), dtype=float32)\n",
            "Output is:\n",
            "tf.Tensor(\n",
            "[[550.    5.5]\n",
            " [ 10.    0. ]\n",
            " [  5.5   0. ]], shape=(3, 2), dtype=float32)\n"
          ]
        }
      ]
    },
    {
      "cell_type": "markdown",
      "metadata": {
        "id": "kmzGPEy64qmA"
      },
      "source": [
        "## Multi-head attention"
      ]
    },
    {
      "cell_type": "markdown",
      "metadata": {
        "id": "fz5BMC8Kaoqo"
      },
      "source": [
        "<img src=\"https://www.tensorflow.org/images/tutorials/transformer/multi_head_attention.png\" width=\"500\" alt=\"multi-head attention\">\n",
        "\n",
        "\n",
        "Multi-head attention consists of four parts:\n",
        "*    Linear layers and split into heads.\n",
        "*    Scaled dot-product attention.\n",
        "*    Concatenation of heads.\n",
        "*    Final linear layer."
      ]
    },
    {
      "cell_type": "markdown",
      "metadata": {
        "id": "JPmbr6F1C-v_"
      },
      "source": [
        "Each multi-head attention block gets three inputs; Q (query), K (key), V (value). These are put through linear (Dense) layers and split up into multiple heads. \n",
        "\n",
        "The `scaled_dot_product_attention` defined above is applied to each head (broadcasted for efficiency). An appropriate mask must be used in the attention step.  The attention output for each head is then concatenated (using `tf.transpose`, and `tf.reshape`) and put through a final `Dense` layer.\n",
        "\n",
        "Instead of one single attention head, Q, K, and V are split into multiple heads because it allows the model to jointly attend to information at different positions from different representational spaces. After the split each head has a reduced dimensionality, so the total computation cost is the same as a single head attention with full dimensionality."
      ]
    },
    {
      "cell_type": "code",
      "metadata": {
        "id": "BSV3PPKsYecw"
      },
      "source": [
        "class MultiHeadAttention(tf.keras.layers.Layer):\n",
        "  def __init__(self, d_model, num_heads):\n",
        "    super(MultiHeadAttention, self).__init__()\n",
        "    self.num_heads = num_heads\n",
        "    self.d_model = d_model\n",
        "    \n",
        "    assert d_model % self.num_heads == 0\n",
        "    \n",
        "    self.depth = d_model // self.num_heads\n",
        "    \n",
        "    self.wq = tf.keras.layers.Dense(d_model)\n",
        "    self.wk = tf.keras.layers.Dense(d_model)\n",
        "    self.wv = tf.keras.layers.Dense(d_model)\n",
        "    \n",
        "    self.dense = tf.keras.layers.Dense(d_model)\n",
        "        \n",
        "  def split_heads(self, x, batch_size):\n",
        "    \"\"\"Split the last dimension into (num_heads, depth).\n",
        "    Transpose the result such that the shape is (batch_size, num_heads, seq_len, depth)\n",
        "    \"\"\"\n",
        "    x = tf.reshape(x, (batch_size, -1, self.num_heads, self.depth))\n",
        "    return tf.transpose(x, perm=[0, 2, 1, 3])\n",
        "    \n",
        "  def call(self, v, k, q, mask):\n",
        "    batch_size = tf.shape(q)[0]\n",
        "    \n",
        "    q = self.wq(q)  # (batch_size, seq_len, d_model)\n",
        "    k = self.wk(k)  # (batch_size, seq_len, d_model)\n",
        "    v = self.wv(v)  # (batch_size, seq_len, d_model)\n",
        "    \n",
        "    q = self.split_heads(q, batch_size)  # (batch_size, num_heads, seq_len_q, depth)\n",
        "    k = self.split_heads(k, batch_size)  # (batch_size, num_heads, seq_len_k, depth)\n",
        "    v = self.split_heads(v, batch_size)  # (batch_size, num_heads, seq_len_v, depth)\n",
        "    \n",
        "    # scaled_attention.shape == (batch_size, num_heads, seq_len_q, depth)\n",
        "    # attention_weights.shape == (batch_size, num_heads, seq_len_q, seq_len_k)\n",
        "    scaled_attention, attention_weights = scaled_dot_product_attention(\n",
        "        q, k, v, mask)\n",
        "    \n",
        "    scaled_attention = tf.transpose(scaled_attention, perm=[0, 2, 1, 3])  # (batch_size, seq_len_q, num_heads, depth)\n",
        "\n",
        "    concat_attention = tf.reshape(scaled_attention, \n",
        "                                  (batch_size, -1, self.d_model))  # (batch_size, seq_len_q, d_model)\n",
        "\n",
        "    output = self.dense(concat_attention)  # (batch_size, seq_len_q, d_model)\n",
        "        \n",
        "    return output, attention_weights"
      ],
      "execution_count": null,
      "outputs": []
    },
    {
      "cell_type": "markdown",
      "metadata": {
        "id": "0D8FJue5lDyZ"
      },
      "source": [
        "Create a `MultiHeadAttention` layer to try out. At each location in the sequence, `y`, the `MultiHeadAttention` runs all 8 attention heads across all other locations in the sequence, returning a new vector of the same length at each location."
      ]
    },
    {
      "cell_type": "code",
      "metadata": {
        "id": "Hu94p-_-2_BX",
        "outputId": "3c05caa6-e8cf-41cd-c9d3-1be05e074720",
        "colab": {
          "base_uri": "https://localhost:8080/"
        }
      },
      "source": [
        "temp_mha = MultiHeadAttention(d_model=512, num_heads=8)\n",
        "y = tf.random.uniform((1, 60, 512))  # (batch_size, encoder_sequence, d_model)\n",
        "out, attn = temp_mha(y, k=y, q=y, mask=None)\n",
        "out.shape, attn.shape"
      ],
      "execution_count": null,
      "outputs": [
        {
          "output_type": "execute_result",
          "data": {
            "text/plain": [
              "(TensorShape([1, 60, 512]), TensorShape([1, 8, 60, 60]))"
            ]
          },
          "metadata": {},
          "execution_count": 29
        }
      ]
    },
    {
      "cell_type": "markdown",
      "metadata": {
        "id": "RdDqGayx67vv"
      },
      "source": [
        "## Point wise feed forward network"
      ]
    },
    {
      "cell_type": "markdown",
      "metadata": {
        "id": "gBqzJXGfHK3X"
      },
      "source": [
        "Point wise feed forward network consists of two fully-connected layers with a ReLU activation in between."
      ]
    },
    {
      "cell_type": "code",
      "metadata": {
        "id": "ET7xLt0yCT6Z"
      },
      "source": [
        "def point_wise_feed_forward_network(d_model, dff):\n",
        "  return tf.keras.Sequential([\n",
        "      tf.keras.layers.Dense(dff, activation='relu'),  # (batch_size, seq_len, dff)\n",
        "      tf.keras.layers.Dense(d_model)  # (batch_size, seq_len, d_model)\n",
        "  ])"
      ],
      "execution_count": null,
      "outputs": []
    },
    {
      "cell_type": "code",
      "metadata": {
        "id": "mytb1lPyOHLB",
        "outputId": "28a08060-2739-4674-b753-bc6af0213d8a",
        "colab": {
          "base_uri": "https://localhost:8080/"
        }
      },
      "source": [
        "sample_ffn = point_wise_feed_forward_network(512, 2048)\n",
        "sample_ffn(tf.random.uniform((64, 50, 512))).shape"
      ],
      "execution_count": null,
      "outputs": [
        {
          "output_type": "execute_result",
          "data": {
            "text/plain": [
              "TensorShape([64, 50, 512])"
            ]
          },
          "metadata": {},
          "execution_count": 31
        }
      ]
    },
    {
      "cell_type": "markdown",
      "metadata": {
        "id": "7e7hKcxn6-zd"
      },
      "source": [
        "## Encoder and decoder"
      ]
    },
    {
      "cell_type": "markdown",
      "metadata": {
        "id": "yScbC0MUH8dS"
      },
      "source": [
        "<img src=\"https://www.tensorflow.org/images/tutorials/transformer/transformer.png\" width=\"600\" alt=\"transformer\">"
      ]
    },
    {
      "cell_type": "markdown",
      "metadata": {
        "id": "MfYJG-Kvgwy2"
      },
      "source": [
        "The transformer model follows the same general pattern as a standard [sequence to sequence with attention model](nmt_with_attention.ipynb). \n",
        "\n",
        "* The input sentence is passed through `N` encoder layers that generates an output for each word/token in the sequence.\n",
        "* The decoder attends on the encoder's output and its own input (self-attention) to predict the next word. "
      ]
    },
    {
      "cell_type": "markdown",
      "metadata": {
        "id": "QFv-FNYUmvpn"
      },
      "source": [
        "### Encoder layer\n",
        "\n",
        "Each encoder layer consists of sublayers:\n",
        "\n",
        "1.   Multi-head attention (with padding mask) \n",
        "2.    Point wise feed forward networks. \n",
        "\n",
        "Each of these sublayers has a residual connection around it followed by a layer normalization. Residual connections help in avoiding the vanishing gradient problem in deep networks.\n",
        "\n",
        "The output of each sublayer is `LayerNorm(x + Sublayer(x))`. The normalization is done on the `d_model` (last) axis. There are N encoder layers in the transformer."
      ]
    },
    {
      "cell_type": "code",
      "metadata": {
        "id": "ncyS-Ms3i2x_"
      },
      "source": [
        "class EncoderLayer(tf.keras.layers.Layer):\n",
        "  def __init__(self, d_model, num_heads, dff, rate=0.1):\n",
        "    super(EncoderLayer, self).__init__()\n",
        "\n",
        "    self.mha = MultiHeadAttention(d_model, num_heads)\n",
        "    self.ffn = point_wise_feed_forward_network(d_model, dff)\n",
        "\n",
        "    self.layernorm1 = tf.keras.layers.LayerNormalization(epsilon=1e-6)\n",
        "    self.layernorm2 = tf.keras.layers.LayerNormalization(epsilon=1e-6)\n",
        "    \n",
        "    self.dropout1 = tf.keras.layers.Dropout(rate)\n",
        "    self.dropout2 = tf.keras.layers.Dropout(rate)\n",
        "    \n",
        "  def call(self, x, training, mask):\n",
        "\n",
        "    attn_output, _ = self.mha(x, x, x, mask)  # (batch_size, input_seq_len, d_model)\n",
        "    attn_output = self.dropout1(attn_output, training=training)\n",
        "    out1 = self.layernorm1(x + attn_output)  # (batch_size, input_seq_len, d_model)\n",
        "    \n",
        "    ffn_output = self.ffn(out1)  # (batch_size, input_seq_len, d_model)\n",
        "    ffn_output = self.dropout2(ffn_output, training=training)\n",
        "    out2 = self.layernorm2(out1 + ffn_output)  # (batch_size, input_seq_len, d_model)\n",
        "    \n",
        "    return out2"
      ],
      "execution_count": null,
      "outputs": []
    },
    {
      "cell_type": "code",
      "metadata": {
        "id": "AzZRXdO0mI48",
        "outputId": "0669bf18-8689-4e4d-b0db-7f482fce35bf",
        "colab": {
          "base_uri": "https://localhost:8080/"
        }
      },
      "source": [
        "sample_encoder_layer = EncoderLayer(512, 8, 2048)\n",
        "\n",
        "sample_encoder_layer_output = sample_encoder_layer(\n",
        "    tf.random.uniform((64, 43, 512)), False, None)\n",
        "\n",
        "sample_encoder_layer_output.shape  # (batch_size, input_seq_len, d_model)"
      ],
      "execution_count": null,
      "outputs": [
        {
          "output_type": "execute_result",
          "data": {
            "text/plain": [
              "TensorShape([64, 43, 512])"
            ]
          },
          "metadata": {},
          "execution_count": 33
        }
      ]
    },
    {
      "cell_type": "markdown",
      "metadata": {
        "id": "6LO_48Owmx_o"
      },
      "source": [
        "### Decoder layer\n",
        "\n",
        "Each decoder layer consists of sublayers:\n",
        "\n",
        "1.   Masked multi-head attention (with look ahead mask and padding mask)\n",
        "2.   Multi-head attention (with padding mask). V (value) and K (key) receive the *encoder output* as inputs. Q (query) receives the *output from the masked multi-head attention sublayer.*\n",
        "3.   Point wise feed forward networks\n",
        "\n",
        "Each of these sublayers has a residual connection around it followed by a layer normalization. The output of each sublayer is `LayerNorm(x + Sublayer(x))`. The normalization is done on the `d_model` (last) axis.\n",
        "\n",
        "There are N decoder layers in the transformer.\n",
        "\n",
        "As Q receives the output from decoder's first attention block, and K receives the encoder output, the attention weights represent the importance given to the decoder's input based on the encoder's output. In other words, the decoder predicts the next word by looking at the encoder output and self-attending to its own output. See the demonstration above in the scaled dot product attention section."
      ]
    },
    {
      "cell_type": "code",
      "metadata": {
        "id": "9SoX0-vd1hue"
      },
      "source": [
        "class DecoderLayer(tf.keras.layers.Layer):\n",
        "  def __init__(self, d_model, num_heads, dff, rate=0.1):\n",
        "    super(DecoderLayer, self).__init__()\n",
        "\n",
        "    self.mha1 = MultiHeadAttention(d_model, num_heads)\n",
        "    self.mha2 = MultiHeadAttention(d_model, num_heads)\n",
        "\n",
        "    self.ffn = point_wise_feed_forward_network(d_model, dff)\n",
        " \n",
        "    self.layernorm1 = tf.keras.layers.LayerNormalization(epsilon=1e-6)\n",
        "    self.layernorm2 = tf.keras.layers.LayerNormalization(epsilon=1e-6)\n",
        "    self.layernorm3 = tf.keras.layers.LayerNormalization(epsilon=1e-6)\n",
        "    \n",
        "    self.dropout1 = tf.keras.layers.Dropout(rate)\n",
        "    self.dropout2 = tf.keras.layers.Dropout(rate)\n",
        "    self.dropout3 = tf.keras.layers.Dropout(rate)\n",
        "    \n",
        "    \n",
        "  def call(self, x, enc_output, training, \n",
        "           look_ahead_mask, padding_mask):\n",
        "    # enc_output.shape == (batch_size, input_seq_len, d_model)\n",
        "\n",
        "    attn1, attn_weights_block1 = self.mha1(x, x, x, look_ahead_mask)  # (batch_size, target_seq_len, d_model)\n",
        "    attn1 = self.dropout1(attn1, training=training)\n",
        "    out1 = self.layernorm1(attn1 + x)\n",
        "    \n",
        "    attn2, attn_weights_block2 = self.mha2(\n",
        "        enc_output, enc_output, out1, padding_mask)  # (batch_size, target_seq_len, d_model)\n",
        "    attn2 = self.dropout2(attn2, training=training)\n",
        "    out2 = self.layernorm2(attn2 + out1)  # (batch_size, target_seq_len, d_model)\n",
        "    \n",
        "    ffn_output = self.ffn(out2)  # (batch_size, target_seq_len, d_model)\n",
        "    ffn_output = self.dropout3(ffn_output, training=training)\n",
        "    out3 = self.layernorm3(ffn_output + out2)  # (batch_size, target_seq_len, d_model)\n",
        "    \n",
        "    return out3, attn_weights_block1, attn_weights_block2"
      ],
      "execution_count": null,
      "outputs": []
    },
    {
      "cell_type": "code",
      "metadata": {
        "id": "Ne2Bqx8k71l0",
        "outputId": "0debca74-e080-48cd-86c9-bd89ab283798",
        "colab": {
          "base_uri": "https://localhost:8080/"
        }
      },
      "source": [
        "sample_decoder_layer = DecoderLayer(512, 8, 2048)\n",
        "\n",
        "sample_decoder_layer_output, _, _ = sample_decoder_layer(\n",
        "    tf.random.uniform((64, 50, 512)), sample_encoder_layer_output, \n",
        "    False, None, None)\n",
        "\n",
        "sample_decoder_layer_output.shape  # (batch_size, target_seq_len, d_model)"
      ],
      "execution_count": null,
      "outputs": [
        {
          "output_type": "execute_result",
          "data": {
            "text/plain": [
              "TensorShape([64, 50, 512])"
            ]
          },
          "metadata": {},
          "execution_count": 35
        }
      ]
    },
    {
      "cell_type": "markdown",
      "metadata": {
        "id": "SE1H51Ajm0q1"
      },
      "source": [
        "### Encoder\n",
        "\n",
        "The `Encoder` consists of:\n",
        "1.   Input Embedding\n",
        "2.   Positional Encoding\n",
        "3.   N encoder layers\n",
        "\n",
        "The input is put through an embedding which is summed with the positional encoding. The output of this summation is the input to the encoder layers. The output of the encoder is the input to the decoder."
      ]
    },
    {
      "cell_type": "code",
      "metadata": {
        "id": "jpEox7gJ8FCI"
      },
      "source": [
        "class Encoder(tf.keras.layers.Layer):\n",
        "  def __init__(self, num_layers, d_model, num_heads, dff, input_vocab_size,\n",
        "               maximum_position_encoding, rate=0.1):\n",
        "    super(Encoder, self).__init__()\n",
        "\n",
        "    self.d_model = d_model\n",
        "    self.num_layers = num_layers\n",
        "    \n",
        "    self.embedding = tf.keras.layers.Embedding(input_vocab_size, d_model)\n",
        "    self.pos_encoding = positional_encoding(maximum_position_encoding, \n",
        "                                            self.d_model)\n",
        "    \n",
        "    \n",
        "    self.enc_layers = [EncoderLayer(d_model, num_heads, dff, rate) \n",
        "                       for _ in range(num_layers)]\n",
        "  \n",
        "    self.dropout = tf.keras.layers.Dropout(rate)\n",
        "        \n",
        "  def call(self, x, training, mask):\n",
        "\n",
        "    seq_len = tf.shape(x)[1]\n",
        "    \n",
        "    # adding embedding and position encoding.\n",
        "    x = self.embedding(x)  # (batch_size, input_seq_len, d_model)\n",
        "    x *= tf.math.sqrt(tf.cast(self.d_model, tf.float32))\n",
        "    x += self.pos_encoding[:, :seq_len, :]\n",
        "\n",
        "    x = self.dropout(x, training=training)\n",
        "    \n",
        "    for i in range(self.num_layers):\n",
        "      x = self.enc_layers[i](x, training, mask)\n",
        "    \n",
        "    return x  # (batch_size, input_seq_len, d_model)"
      ],
      "execution_count": null,
      "outputs": []
    },
    {
      "cell_type": "code",
      "metadata": {
        "id": "8QG9nueFQKXx",
        "outputId": "04492d33-1466-46a9-885c-784eb7f4189a",
        "colab": {
          "base_uri": "https://localhost:8080/"
        }
      },
      "source": [
        "sample_encoder = Encoder(num_layers=2, d_model=512, num_heads=8, \n",
        "                         dff=2048, input_vocab_size=8500,\n",
        "                         maximum_position_encoding=10000)\n",
        "temp_input = tf.random.uniform((64, 62), dtype=tf.int64, minval=0, maxval=200)\n",
        "\n",
        "sample_encoder_output = sample_encoder(temp_input, training=False, mask=None)\n",
        "\n",
        "print (sample_encoder_output.shape)  # (batch_size, input_seq_len, d_model)"
      ],
      "execution_count": null,
      "outputs": [
        {
          "output_type": "stream",
          "name": "stdout",
          "text": [
            "(64, 62, 512)\n"
          ]
        }
      ]
    },
    {
      "cell_type": "markdown",
      "metadata": {
        "id": "p-uO6ls8m2O5"
      },
      "source": [
        "### Decoder"
      ]
    },
    {
      "cell_type": "markdown",
      "metadata": {
        "id": "ZtT7PKzrXkNr"
      },
      "source": [
        " The `Decoder` consists of:\n",
        "1.   Output Embedding\n",
        "2.   Positional Encoding\n",
        "3.   N decoder layers\n",
        "\n",
        "The target is put through an embedding which is summed with the positional encoding. The output of this summation is the input to the decoder layers. The output of the decoder is the input to the final linear layer."
      ]
    },
    {
      "cell_type": "code",
      "metadata": {
        "id": "d5_d5-PLQXwY"
      },
      "source": [
        "class Decoder(tf.keras.layers.Layer):\n",
        "  def __init__(self, num_layers, d_model, num_heads, dff, target_vocab_size,\n",
        "               maximum_position_encoding, rate=0.1):\n",
        "    super(Decoder, self).__init__()\n",
        "\n",
        "    self.d_model = d_model\n",
        "    self.num_layers = num_layers\n",
        "    \n",
        "    self.embedding = tf.keras.layers.Embedding(target_vocab_size, d_model)\n",
        "    self.pos_encoding = positional_encoding(maximum_position_encoding, d_model)\n",
        "    \n",
        "    self.dec_layers = [DecoderLayer(d_model, num_heads, dff, rate) \n",
        "                       for _ in range(num_layers)]\n",
        "    self.dropout = tf.keras.layers.Dropout(rate)\n",
        "    \n",
        "  def call(self, x, enc_output, training, \n",
        "           look_ahead_mask, padding_mask):\n",
        "\n",
        "    seq_len = tf.shape(x)[1]\n",
        "    attention_weights = {}\n",
        "    \n",
        "    x = self.embedding(x)  # (batch_size, target_seq_len, d_model)\n",
        "    x *= tf.math.sqrt(tf.cast(self.d_model, tf.float32))\n",
        "    x += self.pos_encoding[:, :seq_len, :]\n",
        "    \n",
        "    x = self.dropout(x, training=training)\n",
        "\n",
        "    for i in range(self.num_layers):\n",
        "      x, block1, block2 = self.dec_layers[i](x, enc_output, training,\n",
        "                                             look_ahead_mask, padding_mask)\n",
        "      \n",
        "      attention_weights['decoder_layer{}_block1'.format(i+1)] = block1\n",
        "      attention_weights['decoder_layer{}_block2'.format(i+1)] = block2\n",
        "    \n",
        "    # x.shape == (batch_size, target_seq_len, d_model)\n",
        "    return x, attention_weights"
      ],
      "execution_count": null,
      "outputs": []
    },
    {
      "cell_type": "code",
      "metadata": {
        "id": "a1jXoAMRZyvu",
        "outputId": "02a23327-6da2-45cf-a016-59b03cb0bcdd",
        "colab": {
          "base_uri": "https://localhost:8080/"
        }
      },
      "source": [
        "sample_decoder = Decoder(num_layers=2, d_model=512, num_heads=8, \n",
        "                         dff=2048, target_vocab_size=8000,\n",
        "                         maximum_position_encoding=5000)\n",
        "temp_input = tf.random.uniform((64, 26), dtype=tf.int64, minval=0, maxval=200)\n",
        "\n",
        "output, attn = sample_decoder(temp_input, \n",
        "                              enc_output=sample_encoder_output, \n",
        "                              training=False,\n",
        "                              look_ahead_mask=None, \n",
        "                              padding_mask=None)\n",
        "\n",
        "output.shape, attn['decoder_layer2_block2'].shape"
      ],
      "execution_count": null,
      "outputs": [
        {
          "output_type": "execute_result",
          "data": {
            "text/plain": [
              "(TensorShape([64, 26, 512]), TensorShape([64, 8, 26, 62]))"
            ]
          },
          "metadata": {},
          "execution_count": 39
        }
      ]
    },
    {
      "cell_type": "markdown",
      "metadata": {
        "id": "y54xnJnuYgJ7"
      },
      "source": [
        "## Create the Transformer"
      ]
    },
    {
      "cell_type": "markdown",
      "metadata": {
        "id": "uERO1y54cOKq"
      },
      "source": [
        "Transformer consists of the encoder, decoder and a final linear layer. The output of the decoder is the input to the linear layer and its output is returned."
      ]
    },
    {
      "cell_type": "code",
      "metadata": {
        "id": "PED3bIpOYkBu"
      },
      "source": [
        "class Transformer(tf.keras.Model):\n",
        "  def __init__(self, num_layers, d_model, num_heads, dff, input_vocab_size, \n",
        "               target_vocab_size, pe_input, pe_target, rate=0.1):\n",
        "    super(Transformer, self).__init__()\n",
        "\n",
        "    self.encoder = Encoder(num_layers, d_model, num_heads, dff, \n",
        "                           input_vocab_size, pe_input, rate)\n",
        "\n",
        "    self.decoder = Decoder(num_layers, d_model, num_heads, dff, \n",
        "                           target_vocab_size, pe_target, rate)\n",
        "\n",
        "    self.final_layer = tf.keras.layers.Dense(target_vocab_size)\n",
        "    \n",
        "  def call(self, inp, tar, training, enc_padding_mask, \n",
        "           look_ahead_mask, dec_padding_mask):\n",
        "\n",
        "    enc_output = self.encoder(inp, training, enc_padding_mask)  # (batch_size, inp_seq_len, d_model)\n",
        "    \n",
        "    # dec_output.shape == (batch_size, tar_seq_len, d_model)\n",
        "    dec_output, attention_weights = self.decoder(\n",
        "        tar, enc_output, training, look_ahead_mask, dec_padding_mask)\n",
        "    \n",
        "    final_output = self.final_layer(dec_output)  # (batch_size, tar_seq_len, target_vocab_size)\n",
        "    \n",
        "    return final_output, attention_weights"
      ],
      "execution_count": null,
      "outputs": []
    },
    {
      "cell_type": "code",
      "metadata": {
        "id": "tJ4fbQcIkHW1",
        "outputId": "8807b60f-805e-45fa-ebad-41bdb37247d5",
        "colab": {
          "base_uri": "https://localhost:8080/"
        }
      },
      "source": [
        "sample_transformer = Transformer(\n",
        "    num_layers=2, d_model=512, num_heads=8, dff=2048, \n",
        "    input_vocab_size=8500, target_vocab_size=8000, \n",
        "    pe_input=10000, pe_target=6000)\n",
        "\n",
        "temp_input = tf.random.uniform((64, 38), dtype=tf.int64, minval=0, maxval=200)\n",
        "temp_target = tf.random.uniform((64, 36), dtype=tf.int64, minval=0, maxval=200)\n",
        "\n",
        "fn_out, _ = sample_transformer(temp_input, temp_target, training=False, \n",
        "                               enc_padding_mask=None, \n",
        "                               look_ahead_mask=None,\n",
        "                               dec_padding_mask=None)\n",
        "\n",
        "fn_out.shape  # (batch_size, tar_seq_len, target_vocab_size)"
      ],
      "execution_count": null,
      "outputs": [
        {
          "output_type": "execute_result",
          "data": {
            "text/plain": [
              "TensorShape([64, 36, 8000])"
            ]
          },
          "metadata": {},
          "execution_count": 41
        }
      ]
    },
    {
      "cell_type": "markdown",
      "metadata": {
        "id": "wsINyf1VEQLC"
      },
      "source": [
        "## Set hyperparameters"
      ]
    },
    {
      "cell_type": "markdown",
      "metadata": {
        "id": "zVjWCxFNcgbt"
      },
      "source": [
        "To keep this example small and relatively fast, the values for *num_layers, d_model, and dff* have been reduced. \n",
        "\n",
        "The values used in the base model of transformer were; *num_layers=6*, *d_model = 512*, *dff = 2048*. See the [paper](https://arxiv.org/abs/1706.03762) for all the other versions of the transformer.\n",
        "\n",
        "Note: By changing the values below, you can get the model that achieved state of the art on many tasks."
      ]
    },
    {
      "cell_type": "code",
      "metadata": {
        "id": "lnJn5SLA2ahP"
      },
      "source": [
        "num_layers = 4\n",
        "d_model = 128\n",
        "dff = 512\n",
        "num_heads = 8\n",
        "\n",
        "input_vocab_size = tokenizer_pt.vocab_size + 2\n",
        "target_vocab_size = tokenizer_en.vocab_size + 2\n",
        "dropout_rate = 0.1"
      ],
      "execution_count": null,
      "outputs": []
    },
    {
      "cell_type": "markdown",
      "metadata": {
        "id": "xYEGhEOtzn5W"
      },
      "source": [
        "## Optimizer"
      ]
    },
    {
      "cell_type": "markdown",
      "metadata": {
        "id": "GOmWW--yP3zx"
      },
      "source": [
        "Use the Adam optimizer with a custom learning rate scheduler according to the formula in the [paper](https://arxiv.org/abs/1706.03762).\n",
        "\n",
        "$$\\Large{lrate = d_{model}^{-0.5} * min(step{\\_}num^{-0.5}, step{\\_}num * warmup{\\_}steps^{-1.5})}$$\n"
      ]
    },
    {
      "cell_type": "code",
      "metadata": {
        "id": "iYQdOO1axwEI"
      },
      "source": [
        "class CustomSchedule(tf.keras.optimizers.schedules.LearningRateSchedule):\n",
        "  def __init__(self, d_model, warmup_steps=4000):\n",
        "    super(CustomSchedule, self).__init__()\n",
        "    \n",
        "    self.d_model = d_model\n",
        "    self.d_model = tf.cast(self.d_model, tf.float32)\n",
        "\n",
        "    self.warmup_steps = warmup_steps\n",
        "    \n",
        "  def __call__(self, step):\n",
        "    arg1 = tf.math.rsqrt(step)\n",
        "    arg2 = step * (self.warmup_steps ** -1.5)\n",
        "    \n",
        "    return tf.math.rsqrt(self.d_model) * tf.math.minimum(arg1, arg2)"
      ],
      "execution_count": null,
      "outputs": []
    },
    {
      "cell_type": "code",
      "metadata": {
        "id": "7r4scdulztRx"
      },
      "source": [
        "learning_rate = CustomSchedule(d_model)\n",
        "\n",
        "optimizer = tf.keras.optimizers.Adam(learning_rate, beta_1=0.9, beta_2=0.98, \n",
        "                                     epsilon=1e-9)"
      ],
      "execution_count": null,
      "outputs": []
    },
    {
      "cell_type": "code",
      "metadata": {
        "id": "f33ZCgvHpPdG",
        "outputId": "a8295d31-00e4-462d-abe3-639dc1201204",
        "colab": {
          "base_uri": "https://localhost:8080/",
          "height": 296
        }
      },
      "source": [
        "temp_learning_rate_schedule = CustomSchedule(d_model)\n",
        "\n",
        "plt.plot(temp_learning_rate_schedule(tf.range(40000, dtype=tf.float32)))\n",
        "plt.ylabel(\"Learning Rate\")\n",
        "plt.xlabel(\"Train Step\")"
      ],
      "execution_count": null,
      "outputs": [
        {
          "output_type": "execute_result",
          "data": {
            "text/plain": [
              "Text(0.5, 0, 'Train Step')"
            ]
          },
          "metadata": {},
          "execution_count": 45
        },
        {
          "output_type": "display_data",
          "data": {
            "image/png": "[encoded data removed]",
            "text/plain": [
              "<Figure size 432x288 with 1 Axes>"
            ]
          },
          "metadata": {
            "needs_background": "light"
          }
        }
      ]
    },
    {
      "cell_type": "markdown",
      "metadata": {
        "id": "YgkDE7hzo8r5"
      },
      "source": [
        "## Loss and metrics"
      ]
    },
    {
      "cell_type": "markdown",
      "metadata": {
        "id": "oxGJtoDuYIHL"
      },
      "source": [
        "Since the target sequences are padded, it is important to apply a padding mask when calculating the loss."
      ]
    },
    {
      "cell_type": "code",
      "metadata": {
        "id": "MlhsJMm0TW_B"
      },
      "source": [
        "loss_object = tf.keras.losses.SparseCategoricalCrossentropy(\n",
        "    from_logits=True, reduction='none')"
      ],
      "execution_count": null,
      "outputs": []
    },
    {
      "cell_type": "code",
      "metadata": {
        "id": "67oqVHiT0Eiu"
      },
      "source": [
        "def loss_function(real, pred):\n",
        "  mask = tf.math.logical_not(tf.math.equal(real, 0))\n",
        "  loss_ = loss_object(real, pred)\n",
        "\n",
        "  mask = tf.cast(mask, dtype=loss_.dtype)\n",
        "  loss_ *= mask\n",
        "  \n",
        "  return tf.reduce_sum(loss_)/tf.reduce_sum(mask)"
      ],
      "execution_count": null,
      "outputs": []
    },
    {
      "cell_type": "code",
      "metadata": {
        "id": "phlyxMnm-Tpx"
      },
      "source": [
        "train_loss = tf.keras.metrics.Mean(name='train_loss')\n",
        "train_accuracy = tf.keras.metrics.SparseCategoricalAccuracy(\n",
        "    name='train_accuracy')"
      ],
      "execution_count": null,
      "outputs": []
    },
    {
      "cell_type": "markdown",
      "metadata": {
        "id": "aeHumfr7zmMa"
      },
      "source": [
        "## Training and checkpointing"
      ]
    },
    {
      "cell_type": "code",
      "metadata": {
        "id": "UiysUa--4tOU"
      },
      "source": [
        "transformer = Transformer(num_layers, d_model, num_heads, dff,\n",
        "                          input_vocab_size, target_vocab_size, \n",
        "                          pe_input=input_vocab_size, \n",
        "                          pe_target=target_vocab_size,\n",
        "                          rate=dropout_rate)"
      ],
      "execution_count": null,
      "outputs": []
    },
    {
      "cell_type": "code",
      "metadata": {
        "id": "ZOJUSB1T8GjM"
      },
      "source": [
        "def create_masks(inp, tar):\n",
        "  # Encoder padding mask\n",
        "  enc_padding_mask = create_padding_mask(inp)\n",
        "  \n",
        "  # Used in the 2nd attention block in the decoder.\n",
        "  # This padding mask is used to mask the encoder outputs.\n",
        "  dec_padding_mask = create_padding_mask(inp)\n",
        "  \n",
        "  # Used in the 1st attention block in the decoder.\n",
        "  # It is used to pad and mask future tokens in the input received by \n",
        "  # the decoder.\n",
        "  look_ahead_mask = create_look_ahead_mask(tf.shape(tar)[1])\n",
        "  dec_target_padding_mask = create_padding_mask(tar)\n",
        "  combined_mask = tf.maximum(dec_target_padding_mask, look_ahead_mask)\n",
        "  \n",
        "  return enc_padding_mask, combined_mask, dec_padding_mask"
      ],
      "execution_count": null,
      "outputs": []
    },
    {
      "cell_type": "markdown",
      "metadata": {
        "id": "Fzuf06YZp66w"
      },
      "source": [
        "Create the checkpoint path and the checkpoint manager. This will be used to save checkpoints every `n` epochs."
      ]
    },
    {
      "cell_type": "code",
      "metadata": {
        "id": "hNhuYfllndLZ"
      },
      "source": [
        "checkpoint_path = \"./checkpoints/train\"\n",
        "\n",
        "ckpt = tf.train.Checkpoint(transformer=transformer,\n",
        "                           optimizer=optimizer)\n",
        "\n",
        "ckpt_manager = tf.train.CheckpointManager(ckpt, checkpoint_path, max_to_keep=5)\n",
        "\n",
        "# if a checkpoint exists, restore the latest checkpoint.\n",
        "if ckpt_manager.latest_checkpoint:\n",
        "  ckpt.restore(ckpt_manager.latest_checkpoint)\n",
        "  print ('Latest checkpoint restored!!')"
      ],
      "execution_count": null,
      "outputs": []
    },
    {
      "cell_type": "markdown",
      "metadata": {
        "id": "0Di_Yaa1gf9r"
      },
      "source": [
        "The target is divided into tar_inp and tar_real. tar_inp is passed as an input to the decoder. `tar_real` is that same input shifted by 1: At each location in `tar_input`, `tar_real` contains the  next token that should be predicted.\n",
        "\n",
        "For example, `sentence` = \"SOS A lion in the jungle is sleeping EOS\"\n",
        "\n",
        "`tar_inp` =  \"SOS A lion in the jungle is sleeping\"\n",
        "\n",
        "`tar_real` = \"A lion in the jungle is sleeping EOS\"\n",
        "\n",
        "The transformer is an auto-regressive model: it makes predictions one part at a time, and uses its output so far to decide what to do next. \n",
        "\n",
        "During training this example uses teacher-forcing (like in the [text generation tutorial](./text_generation.ipynb)). Teacher forcing is passing the true output to the next time step regardless of what the model predicts at the current time step.\n",
        "\n",
        "As the transformer predicts each word, *self-attention* allows it to look at the previous words in the input sequence to better predict the next word.\n",
        "\n",
        "To prevent the model from peeking at the expected output the model uses a look-ahead mask."
      ]
    },
    {
      "cell_type": "code",
      "metadata": {
        "id": "LKpoA6q1sJFj"
      },
      "source": [
        "EPOCHS = 60"
      ],
      "execution_count": null,
      "outputs": []
    },
    {
      "cell_type": "code",
      "metadata": {
        "id": "iJwmp9OE29oj"
      },
      "source": [
        "# The @tf.function trace-compiles train_step into a TF graph for faster\n",
        "# execution. The function specializes to the precise shape of the argument\n",
        "# tensors. To avoid re-tracing due to the variable sequence lengths or variable\n",
        "# batch sizes (the last batch is smaller), use input_signature to specify\n",
        "# more generic shapes.\n",
        "\n",
        "train_step_signature = [\n",
        "    tf.TensorSpec(shape=(None, None), dtype=tf.int64),\n",
        "    tf.TensorSpec(shape=(None, None), dtype=tf.int64),\n",
        "]\n",
        "\n",
        "@tf.function(input_signature=train_step_signature)\n",
        "def train_step(inp, tar):\n",
        "  tar_inp = tar[:, :-1]\n",
        "  tar_real = tar[:, 1:]\n",
        "  \n",
        "  enc_padding_mask, combined_mask, dec_padding_mask = create_masks(inp, tar_inp)\n",
        "  \n",
        "  with tf.GradientTape() as tape:\n",
        "    predictions, _ = transformer(inp, tar_inp, \n",
        "                                 True, \n",
        "                                 enc_padding_mask, \n",
        "                                 combined_mask, \n",
        "                                 dec_padding_mask)\n",
        "    loss = loss_function(tar_real, predictions)\n",
        "\n",
        "  gradients = tape.gradient(loss, transformer.trainable_variables)    \n",
        "  optimizer.apply_gradients(zip(gradients, transformer.trainable_variables))\n",
        "  \n",
        "  train_loss(loss)\n",
        "  train_accuracy(tar_real, predictions)"
      ],
      "execution_count": null,
      "outputs": []
    },
    {
      "cell_type": "markdown",
      "metadata": {
        "id": "qM2PDWGDJ_8V"
      },
      "source": [
        "Portuguese is used as the input language and English is the target language."
      ]
    },
    {
      "cell_type": "code",
      "metadata": {
        "id": "bbvmaKNiznHZ",
        "outputId": "c3fa31a7-a3b7-4a5a-9f56-1a91f3e9aaad",
        "colab": {
          "base_uri": "https://localhost:8080/"
        }
      },
      "source": [
        "for epoch in range(EPOCHS):\n",
        "  start = time.time()\n",
        "  \n",
        "  train_loss.reset_states()\n",
        "  train_accuracy.reset_states()\n",
        "  \n",
        "  # inp -> portuguese, tar -> english\n",
        "  for (batch, (inp, tar)) in enumerate(train_dataset):\n",
        "    train_step(inp, tar)\n",
        "    \n",
        "    if batch % 50 == 0:\n",
        "      print ('Epoch {} Batch {} Loss {:.4f} Accuracy {:.4f}'.format(\n",
        "          epoch + 1, batch, train_loss.result(), train_accuracy.result()))\n",
        "      \n",
        "  if (epoch + 1) % 5 == 0:\n",
        "    ckpt_save_path = ckpt_manager.save()\n",
        "    print ('Saving checkpoint for epoch {} at {}'.format(epoch+1,\n",
        "                                                         ckpt_save_path))\n",
        "    \n",
        "  print ('Epoch {} Loss {:.4f} Accuracy {:.4f}'.format(epoch + 1, \n",
        "                                                train_loss.result(), \n",
        "                                                train_accuracy.result()))\n",
        "\n",
        "  print ('Time taken for 1 epoch: {} secs\\n'.format(time.time() - start))"
      ],
      "execution_count": null,
      "outputs": [
        {
          "output_type": "stream",
          "name": "stdout",
          "text": [
            "Epoch 1 Batch 0 Loss 9.0210 Accuracy 0.0000\n",
            "Epoch 1 Batch 50 Loss 8.9635 Accuracy 0.0002\n",
            "Epoch 1 Batch 100 Loss 8.8739 Accuracy 0.0099\n",
            "Epoch 1 Batch 150 Loss 8.7726 Accuracy 0.0145\n",
            "Epoch 1 Batch 200 Loss 8.6482 Accuracy 0.0167\n",
            "Epoch 1 Batch 250 Loss 8.4948 Accuracy 0.0194\n",
            "Epoch 1 Batch 300 Loss 8.3187 Accuracy 0.0243\n",
            "Epoch 1 Batch 350 Loss 8.1317 Accuracy 0.0281\n",
            "Epoch 1 Batch 400 Loss 7.9512 Accuracy 0.0311\n",
            "Epoch 1 Batch 450 Loss 7.7860 Accuracy 0.0341\n",
            "Epoch 1 Batch 500 Loss 7.6411 Accuracy 0.0373\n",
            "Epoch 1 Batch 550 Loss 7.5082 Accuracy 0.0409\n",
            "Epoch 1 Batch 600 Loss 7.3809 Accuracy 0.0447\n",
            "Epoch 1 Batch 650 Loss 7.2593 Accuracy 0.0483\n",
            "Epoch 1 Batch 700 Loss 7.1426 Accuracy 0.0519\n",
            "Epoch 1 Loss 7.1382 Accuracy 0.0520\n",
            "Time taken for 1 epoch: 102.65581727027893 secs\n",
            "\n",
            "Epoch 2 Batch 0 Loss 5.5566 Accuracy 0.1042\n",
            "Epoch 2 Batch 50 Loss 5.4744 Accuracy 0.1046\n",
            "Epoch 2 Batch 100 Loss 5.4146 Accuracy 0.1073\n",
            "Epoch 2 Batch 150 Loss 5.3702 Accuracy 0.1091\n",
            "Epoch 2 Batch 200 Loss 5.3285 Accuracy 0.1108\n",
            "Epoch 2 Batch 250 Loss 5.2885 Accuracy 0.1125\n",
            "Epoch 2 Batch 300 Loss 5.2511 Accuracy 0.1141\n",
            "Epoch 2 Batch 350 Loss 5.2112 Accuracy 0.1158\n",
            "Epoch 2 Batch 400 Loss 5.1723 Accuracy 0.1174\n",
            "Epoch 2 Batch 450 Loss 5.1385 Accuracy 0.1194\n",
            "Epoch 2 Batch 500 Loss 5.1091 Accuracy 0.1208\n",
            "Epoch 2 Batch 550 Loss 5.0834 Accuracy 0.1222\n",
            "Epoch 2 Batch 600 Loss 5.0593 Accuracy 0.1234\n",
            "Epoch 2 Batch 650 Loss 5.0356 Accuracy 0.1245\n",
            "Epoch 2 Batch 700 Loss 5.0099 Accuracy 0.1255\n",
            "Epoch 2 Loss 5.0088 Accuracy 0.1255\n",
            "Time taken for 1 epoch: 41.02994465827942 secs\n",
            "\n",
            "Epoch 3 Batch 0 Loss 4.5026 Accuracy 0.1406\n",
            "Epoch 3 Batch 50 Loss 4.6089 Accuracy 0.1438\n",
            "Epoch 3 Batch 100 Loss 4.6052 Accuracy 0.1435\n",
            "Epoch 3 Batch 150 Loss 4.5880 Accuracy 0.1435\n",
            "Epoch 3 Batch 200 Loss 4.5833 Accuracy 0.1439\n",
            "Epoch 3 Batch 250 Loss 4.5641 Accuracy 0.1446\n",
            "Epoch 3 Batch 300 Loss 4.5531 Accuracy 0.1457\n",
            "Epoch 3 Batch 350 Loss 4.5446 Accuracy 0.1464\n",
            "Epoch 3 Batch 400 Loss 4.5317 Accuracy 0.1470\n",
            "Epoch 3 Batch 450 Loss 4.5186 Accuracy 0.1475\n",
            "Epoch 3 Batch 500 Loss 4.5052 Accuracy 0.1479\n",
            "Epoch 3 Batch 550 Loss 4.4911 Accuracy 0.1487\n",
            "Epoch 3 Batch 600 Loss 4.4796 Accuracy 0.1493\n",
            "Epoch 3 Batch 650 Loss 4.4653 Accuracy 0.1501\n",
            "Epoch 3 Batch 700 Loss 4.4519 Accuracy 0.1510\n",
            "Epoch 3 Loss 4.4511 Accuracy 0.1510\n",
            "Time taken for 1 epoch: 40.97749996185303 secs\n",
            "\n",
            "Epoch 4 Batch 0 Loss 4.1142 Accuracy 0.1715\n",
            "Epoch 4 Batch 50 Loss 4.1557 Accuracy 0.1653\n",
            "Epoch 4 Batch 100 Loss 4.1335 Accuracy 0.1658\n",
            "Epoch 4 Batch 150 Loss 4.1132 Accuracy 0.1669\n",
            "Epoch 4 Batch 200 Loss 4.0977 Accuracy 0.1688\n",
            "Epoch 4 Batch 250 Loss 4.0874 Accuracy 0.1698\n",
            "Epoch 4 Batch 300 Loss 4.0763 Accuracy 0.1708\n",
            "Epoch 4 Batch 350 Loss 4.0599 Accuracy 0.1719\n",
            "Epoch 4 Batch 400 Loss 4.0439 Accuracy 0.1733\n",
            "Epoch 4 Batch 450 Loss 4.0266 Accuracy 0.1742\n",
            "Epoch 4 Batch 500 Loss 4.0101 Accuracy 0.1752\n",
            "Epoch 4 Batch 550 Loss 3.9945 Accuracy 0.1759\n",
            "Epoch 4 Batch 600 Loss 3.9800 Accuracy 0.1770\n",
            "Epoch 4 Batch 650 Loss 3.9634 Accuracy 0.1782\n",
            "Epoch 4 Batch 700 Loss 3.9488 Accuracy 0.1790\n",
            "Epoch 4 Loss 3.9486 Accuracy 0.1790\n",
            "Time taken for 1 epoch: 41.087289333343506 secs\n",
            "\n",
            "Epoch 5 Batch 0 Loss 3.6300 Accuracy 0.2292\n",
            "Epoch 5 Batch 50 Loss 3.6162 Accuracy 0.1970\n",
            "Epoch 5 Batch 100 Loss 3.5984 Accuracy 0.1973\n",
            "Epoch 5 Batch 150 Loss 3.5900 Accuracy 0.1977\n",
            "Epoch 5 Batch 200 Loss 3.5833 Accuracy 0.1988\n",
            "Epoch 5 Batch 250 Loss 3.5741 Accuracy 0.1999\n",
            "Epoch 5 Batch 300 Loss 3.5610 Accuracy 0.2006\n",
            "Epoch 5 Batch 350 Loss 3.5495 Accuracy 0.2015\n",
            "Epoch 5 Batch 400 Loss 3.5414 Accuracy 0.2022\n",
            "Epoch 5 Batch 450 Loss 3.5314 Accuracy 0.2030\n",
            "Epoch 5 Batch 500 Loss 3.5201 Accuracy 0.2035\n",
            "Epoch 5 Batch 550 Loss 3.5085 Accuracy 0.2041\n",
            "Epoch 5 Batch 600 Loss 3.5008 Accuracy 0.2048\n",
            "Epoch 5 Batch 650 Loss 3.4895 Accuracy 0.2056\n",
            "Epoch 5 Batch 700 Loss 3.4792 Accuracy 0.2064\n",
            "Saving checkpoint for epoch 5 at ./checkpoints/train/ckpt-1\n",
            "Epoch 5 Loss 3.4787 Accuracy 0.2064\n",
            "Time taken for 1 epoch: 41.48352527618408 secs\n",
            "\n",
            "Epoch 6 Batch 0 Loss 3.0060 Accuracy 0.2277\n",
            "Epoch 6 Batch 50 Loss 3.1636 Accuracy 0.2199\n",
            "Epoch 6 Batch 100 Loss 3.1642 Accuracy 0.2201\n",
            "Epoch 6 Batch 150 Loss 3.1552 Accuracy 0.2205\n",
            "Epoch 6 Batch 200 Loss 3.1467 Accuracy 0.2219\n",
            "Epoch 6 Batch 250 Loss 3.1408 Accuracy 0.2223\n",
            "Epoch 6 Batch 300 Loss 3.1336 Accuracy 0.2229\n",
            "Epoch 6 Batch 350 Loss 3.1244 Accuracy 0.2232\n",
            "Epoch 6 Batch 400 Loss 3.1208 Accuracy 0.2233\n",
            "Epoch 6 Batch 450 Loss 3.1179 Accuracy 0.2240\n",
            "Epoch 6 Batch 500 Loss 3.1151 Accuracy 0.2245\n",
            "Epoch 6 Batch 550 Loss 3.1086 Accuracy 0.2250\n",
            "Epoch 6 Batch 600 Loss 3.1031 Accuracy 0.2255\n",
            "Epoch 6 Batch 650 Loss 3.0964 Accuracy 0.2257\n",
            "Epoch 6 Batch 700 Loss 3.0883 Accuracy 0.2260\n",
            "Epoch 6 Loss 3.0878 Accuracy 0.2261\n",
            "Time taken for 1 epoch: 41.512704372406006 secs\n",
            "\n",
            "Epoch 7 Batch 0 Loss 2.6395 Accuracy 0.2410\n",
            "Epoch 7 Batch 50 Loss 2.7815 Accuracy 0.2389\n",
            "Epoch 7 Batch 100 Loss 2.7823 Accuracy 0.2402\n",
            "Epoch 7 Batch 150 Loss 2.7756 Accuracy 0.2402\n",
            "Epoch 7 Batch 200 Loss 2.7656 Accuracy 0.2416\n",
            "Epoch 7 Batch 250 Loss 2.7611 Accuracy 0.2422\n",
            "Epoch 7 Batch 300 Loss 2.7571 Accuracy 0.2422\n",
            "Epoch 7 Batch 350 Loss 2.7526 Accuracy 0.2433\n",
            "Epoch 7 Batch 400 Loss 2.7462 Accuracy 0.2436\n",
            "Epoch 7 Batch 450 Loss 2.7390 Accuracy 0.2439\n",
            "Epoch 7 Batch 500 Loss 2.7347 Accuracy 0.2441\n",
            "Epoch 7 Batch 550 Loss 2.7267 Accuracy 0.2448\n",
            "Epoch 7 Batch 600 Loss 2.7202 Accuracy 0.2455\n",
            "Epoch 7 Batch 650 Loss 2.7160 Accuracy 0.2461\n",
            "Epoch 7 Batch 700 Loss 2.7091 Accuracy 0.2466\n",
            "Epoch 7 Loss 2.7087 Accuracy 0.2466\n",
            "Time taken for 1 epoch: 41.2429039478302 secs\n",
            "\n",
            "Epoch 8 Batch 0 Loss 2.4113 Accuracy 0.2678\n",
            "Epoch 8 Batch 50 Loss 2.3887 Accuracy 0.2659\n",
            "Epoch 8 Batch 100 Loss 2.3925 Accuracy 0.2642\n",
            "Epoch 8 Batch 150 Loss 2.4048 Accuracy 0.2638\n",
            "Epoch 8 Batch 200 Loss 2.4030 Accuracy 0.2631\n",
            "Epoch 8 Batch 250 Loss 2.4105 Accuracy 0.2634\n",
            "Epoch 8 Batch 300 Loss 2.4063 Accuracy 0.2633\n",
            "Epoch 8 Batch 350 Loss 2.4063 Accuracy 0.2635\n",
            "Epoch 8 Batch 400 Loss 2.3991 Accuracy 0.2639\n",
            "Epoch 8 Batch 450 Loss 2.3954 Accuracy 0.2640\n",
            "Epoch 8 Batch 500 Loss 2.3948 Accuracy 0.2641\n",
            "Epoch 8 Batch 550 Loss 2.3950 Accuracy 0.2641\n",
            "Epoch 8 Batch 600 Loss 2.3913 Accuracy 0.2643\n",
            "Epoch 8 Batch 650 Loss 2.3907 Accuracy 0.2643\n",
            "Epoch 8 Batch 700 Loss 2.3865 Accuracy 0.2647\n",
            "Epoch 8 Loss 2.3862 Accuracy 0.2647\n",
            "Time taken for 1 epoch: 41.32785987854004 secs\n",
            "\n",
            "Epoch 9 Batch 0 Loss 2.3951 Accuracy 0.2576\n",
            "Epoch 9 Batch 50 Loss 2.1377 Accuracy 0.2815\n",
            "Epoch 9 Batch 100 Loss 2.1432 Accuracy 0.2804\n",
            "Epoch 9 Batch 150 Loss 2.1407 Accuracy 0.2803\n",
            "Epoch 9 Batch 200 Loss 2.1472 Accuracy 0.2792\n",
            "Epoch 9 Batch 250 Loss 2.1509 Accuracy 0.2780\n",
            "Epoch 9 Batch 300 Loss 2.1460 Accuracy 0.2787\n",
            "Epoch 9 Batch 350 Loss 2.1477 Accuracy 0.2796\n",
            "Epoch 9 Batch 400 Loss 2.1473 Accuracy 0.2791\n",
            "Epoch 9 Batch 450 Loss 2.1470 Accuracy 0.2795\n",
            "Epoch 9 Batch 500 Loss 2.1464 Accuracy 0.2790\n",
            "Epoch 9 Batch 550 Loss 2.1506 Accuracy 0.2791\n",
            "Epoch 9 Batch 600 Loss 2.1506 Accuracy 0.2791\n",
            "Epoch 9 Batch 650 Loss 2.1537 Accuracy 0.2788\n",
            "Epoch 9 Batch 700 Loss 2.1540 Accuracy 0.2790\n",
            "Epoch 9 Loss 2.1543 Accuracy 0.2790\n",
            "Time taken for 1 epoch: 41.24676728248596 secs\n",
            "\n",
            "Epoch 10 Batch 0 Loss 1.8533 Accuracy 0.2873\n",
            "Epoch 10 Batch 50 Loss 1.9233 Accuracy 0.2973\n",
            "Epoch 10 Batch 100 Loss 1.9303 Accuracy 0.2928\n",
            "Epoch 10 Batch 150 Loss 1.9314 Accuracy 0.2909\n",
            "Epoch 10 Batch 200 Loss 1.9362 Accuracy 0.2908\n",
            "Epoch 10 Batch 250 Loss 1.9462 Accuracy 0.2903\n",
            "Epoch 10 Batch 300 Loss 1.9546 Accuracy 0.2904\n",
            "Epoch 10 Batch 350 Loss 1.9595 Accuracy 0.2898\n",
            "Epoch 10 Batch 400 Loss 1.9650 Accuracy 0.2891\n",
            "Epoch 10 Batch 450 Loss 1.9634 Accuracy 0.2896\n",
            "Epoch 10 Batch 500 Loss 1.9625 Accuracy 0.2899\n",
            "Epoch 10 Batch 550 Loss 1.9657 Accuracy 0.2896\n",
            "Epoch 10 Batch 600 Loss 1.9712 Accuracy 0.2895\n",
            "Epoch 10 Batch 650 Loss 1.9750 Accuracy 0.2892\n",
            "Epoch 10 Batch 700 Loss 1.9765 Accuracy 0.2895\n",
            "Saving checkpoint for epoch 10 at ./checkpoints/train/ckpt-2\n",
            "Epoch 10 Loss 1.9765 Accuracy 0.2895\n",
            "Time taken for 1 epoch: 41.49538564682007 secs\n",
            "\n",
            "Epoch 11 Batch 0 Loss 1.7999 Accuracy 0.3055\n",
            "Epoch 11 Batch 50 Loss 1.7704 Accuracy 0.2983\n",
            "Epoch 11 Batch 100 Loss 1.7805 Accuracy 0.3012\n",
            "Epoch 11 Batch 150 Loss 1.7920 Accuracy 0.3016\n",
            "Epoch 11 Batch 200 Loss 1.7976 Accuracy 0.3008\n",
            "Epoch 11 Batch 250 Loss 1.8001 Accuracy 0.2998\n",
            "Epoch 11 Batch 300 Loss 1.8033 Accuracy 0.3000\n",
            "Epoch 11 Batch 350 Loss 1.8063 Accuracy 0.2995\n",
            "Epoch 11 Batch 400 Loss 1.8107 Accuracy 0.2998\n",
            "Epoch 11 Batch 450 Loss 1.8155 Accuracy 0.2991\n",
            "Epoch 11 Batch 500 Loss 1.8191 Accuracy 0.2989\n",
            "Epoch 11 Batch 550 Loss 1.8225 Accuracy 0.2986\n",
            "Epoch 11 Batch 600 Loss 1.8257 Accuracy 0.2987\n",
            "Epoch 11 Batch 650 Loss 1.8298 Accuracy 0.2986\n",
            "Epoch 11 Batch 700 Loss 1.8308 Accuracy 0.2987\n",
            "Epoch 11 Loss 1.8312 Accuracy 0.2986\n",
            "Time taken for 1 epoch: 41.15860152244568 secs\n",
            "\n",
            "Epoch 12 Batch 0 Loss 1.7924 Accuracy 0.3026\n",
            "Epoch 12 Batch 50 Loss 1.6610 Accuracy 0.3094\n",
            "Epoch 12 Batch 100 Loss 1.6651 Accuracy 0.3095\n",
            "Epoch 12 Batch 150 Loss 1.6689 Accuracy 0.3096\n",
            "Epoch 12 Batch 200 Loss 1.6707 Accuracy 0.3098\n",
            "Epoch 12 Batch 250 Loss 1.6778 Accuracy 0.3088\n",
            "Epoch 12 Batch 300 Loss 1.6858 Accuracy 0.3074\n",
            "Epoch 12 Batch 350 Loss 1.6907 Accuracy 0.3074\n",
            "Epoch 12 Batch 400 Loss 1.6943 Accuracy 0.3072\n",
            "Epoch 12 Batch 450 Loss 1.6987 Accuracy 0.3070\n",
            "Epoch 12 Batch 500 Loss 1.7018 Accuracy 0.3070\n",
            "Epoch 12 Batch 550 Loss 1.7041 Accuracy 0.3073\n",
            "Epoch 12 Batch 600 Loss 1.7075 Accuracy 0.3074\n",
            "Epoch 12 Batch 650 Loss 1.7114 Accuracy 0.3071\n",
            "Epoch 12 Batch 700 Loss 1.7158 Accuracy 0.3065\n",
            "Epoch 12 Loss 1.7156 Accuracy 0.3065\n",
            "Time taken for 1 epoch: 41.133331298828125 secs\n",
            "\n",
            "Epoch 13 Batch 0 Loss 1.3546 Accuracy 0.3263\n",
            "Epoch 13 Batch 50 Loss 1.5309 Accuracy 0.3208\n",
            "Epoch 13 Batch 100 Loss 1.5406 Accuracy 0.3175\n",
            "Epoch 13 Batch 150 Loss 1.5524 Accuracy 0.3172\n",
            "Epoch 13 Batch 200 Loss 1.5666 Accuracy 0.3167\n",
            "Epoch 13 Batch 250 Loss 1.5695 Accuracy 0.3155\n",
            "Epoch 13 Batch 300 Loss 1.5715 Accuracy 0.3145\n",
            "Epoch 13 Batch 350 Loss 1.5757 Accuracy 0.3149\n",
            "Epoch 13 Batch 400 Loss 1.5820 Accuracy 0.3139\n",
            "Epoch 13 Batch 450 Loss 1.5895 Accuracy 0.3137\n",
            "Epoch 13 Batch 500 Loss 1.5932 Accuracy 0.3137\n",
            "Epoch 13 Batch 550 Loss 1.5993 Accuracy 0.3134\n",
            "Epoch 13 Batch 600 Loss 1.6045 Accuracy 0.3134\n",
            "Epoch 13 Batch 650 Loss 1.6093 Accuracy 0.3134\n",
            "Epoch 13 Batch 700 Loss 1.6163 Accuracy 0.3133\n",
            "Epoch 13 Loss 1.6163 Accuracy 0.3133\n",
            "Time taken for 1 epoch: 41.227130651474 secs\n",
            "\n",
            "Epoch 14 Batch 0 Loss 1.4197 Accuracy 0.3454\n",
            "Epoch 14 Batch 50 Loss 1.4421 Accuracy 0.3237\n",
            "Epoch 14 Batch 100 Loss 1.4546 Accuracy 0.3253\n",
            "Epoch 14 Batch 150 Loss 1.4632 Accuracy 0.3237\n",
            "Epoch 14 Batch 200 Loss 1.4747 Accuracy 0.3214\n",
            "Epoch 14 Batch 250 Loss 1.4873 Accuracy 0.3206\n",
            "Epoch 14 Batch 300 Loss 1.4936 Accuracy 0.3205\n",
            "Epoch 14 Batch 350 Loss 1.4960 Accuracy 0.3202\n",
            "Epoch 14 Batch 400 Loss 1.4995 Accuracy 0.3204\n",
            "Epoch 14 Batch 450 Loss 1.5032 Accuracy 0.3198\n",
            "Epoch 14 Batch 500 Loss 1.5085 Accuracy 0.3195\n",
            "Epoch 14 Batch 550 Loss 1.5138 Accuracy 0.3194\n",
            "Epoch 14 Batch 600 Loss 1.5187 Accuracy 0.3193\n",
            "Epoch 14 Batch 650 Loss 1.5252 Accuracy 0.3194\n",
            "Epoch 14 Batch 700 Loss 1.5311 Accuracy 0.3192\n",
            "Epoch 14 Loss 1.5315 Accuracy 0.3192\n",
            "Time taken for 1 epoch: 41.275232791900635 secs\n",
            "\n",
            "Epoch 15 Batch 0 Loss 1.2912 Accuracy 0.3433\n",
            "Epoch 15 Batch 50 Loss 1.3690 Accuracy 0.3302\n",
            "Epoch 15 Batch 100 Loss 1.3693 Accuracy 0.3271\n",
            "Epoch 15 Batch 150 Loss 1.3833 Accuracy 0.3254\n",
            "Epoch 15 Batch 200 Loss 1.3908 Accuracy 0.3244\n",
            "Epoch 15 Batch 250 Loss 1.3972 Accuracy 0.3246\n",
            "Epoch 15 Batch 300 Loss 1.4091 Accuracy 0.3243\n",
            "Epoch 15 Batch 350 Loss 1.4152 Accuracy 0.3244\n",
            "Epoch 15 Batch 400 Loss 1.4226 Accuracy 0.3243\n",
            "Epoch 15 Batch 450 Loss 1.4275 Accuracy 0.3245\n",
            "Epoch 15 Batch 500 Loss 1.4335 Accuracy 0.3246\n",
            "Epoch 15 Batch 550 Loss 1.4388 Accuracy 0.3245\n",
            "Epoch 15 Batch 600 Loss 1.4443 Accuracy 0.3241\n",
            "Epoch 15 Batch 650 Loss 1.4482 Accuracy 0.3238\n",
            "Epoch 15 Batch 700 Loss 1.4544 Accuracy 0.3235\n",
            "Saving checkpoint for epoch 15 at ./checkpoints/train/ckpt-3\n",
            "Epoch 15 Loss 1.4545 Accuracy 0.3235\n",
            "Time taken for 1 epoch: 41.444610357284546 secs\n",
            "\n",
            "Epoch 16 Batch 0 Loss 1.1208 Accuracy 0.3413\n",
            "Epoch 16 Batch 50 Loss 1.3018 Accuracy 0.3338\n",
            "Epoch 16 Batch 100 Loss 1.3093 Accuracy 0.3339\n",
            "Epoch 16 Batch 150 Loss 1.3196 Accuracy 0.3322\n",
            "Epoch 16 Batch 200 Loss 1.3290 Accuracy 0.3323\n",
            "Epoch 16 Batch 250 Loss 1.3375 Accuracy 0.3316\n",
            "Epoch 16 Batch 300 Loss 1.3412 Accuracy 0.3315\n",
            "Epoch 16 Batch 350 Loss 1.3482 Accuracy 0.3308\n",
            "Epoch 16 Batch 400 Loss 1.3524 Accuracy 0.3305\n",
            "Epoch 16 Batch 450 Loss 1.3559 Accuracy 0.3305\n",
            "Epoch 16 Batch 500 Loss 1.3636 Accuracy 0.3298\n",
            "Epoch 16 Batch 550 Loss 1.3695 Accuracy 0.3294\n",
            "Epoch 16 Batch 600 Loss 1.3771 Accuracy 0.3294\n",
            "Epoch 16 Batch 650 Loss 1.3819 Accuracy 0.3293\n",
            "Epoch 16 Batch 700 Loss 1.3869 Accuracy 0.3290\n",
            "Epoch 16 Loss 1.3874 Accuracy 0.3289\n",
            "Time taken for 1 epoch: 41.00241041183472 secs\n",
            "\n",
            "Epoch 17 Batch 0 Loss 1.2502 Accuracy 0.3169\n",
            "Epoch 17 Batch 50 Loss 1.2471 Accuracy 0.3352\n",
            "Epoch 17 Batch 100 Loss 1.2451 Accuracy 0.3369\n",
            "Epoch 17 Batch 150 Loss 1.2573 Accuracy 0.3358\n",
            "Epoch 17 Batch 200 Loss 1.2657 Accuracy 0.3370\n",
            "Epoch 17 Batch 250 Loss 1.2736 Accuracy 0.3362\n",
            "Epoch 17 Batch 300 Loss 1.2808 Accuracy 0.3353\n",
            "Epoch 17 Batch 350 Loss 1.2875 Accuracy 0.3352\n",
            "Epoch 17 Batch 400 Loss 1.2932 Accuracy 0.3348\n",
            "Epoch 17 Batch 450 Loss 1.2989 Accuracy 0.3345\n",
            "Epoch 17 Batch 500 Loss 1.3054 Accuracy 0.3343\n",
            "Epoch 17 Batch 550 Loss 1.3105 Accuracy 0.3336\n",
            "Epoch 17 Batch 600 Loss 1.3131 Accuracy 0.3335\n",
            "Epoch 17 Batch 650 Loss 1.3195 Accuracy 0.3331\n",
            "Epoch 17 Batch 700 Loss 1.3263 Accuracy 0.3328\n",
            "Epoch 17 Loss 1.3266 Accuracy 0.3328\n",
            "Time taken for 1 epoch: 41.02745079994202 secs\n",
            "\n",
            "Epoch 18 Batch 0 Loss 1.2752 Accuracy 0.3157\n",
            "Epoch 18 Batch 50 Loss 1.1951 Accuracy 0.3376\n",
            "Epoch 18 Batch 100 Loss 1.2027 Accuracy 0.3418\n",
            "Epoch 18 Batch 150 Loss 1.2155 Accuracy 0.3399\n",
            "Epoch 18 Batch 200 Loss 1.2188 Accuracy 0.3392\n",
            "Epoch 18 Batch 250 Loss 1.2234 Accuracy 0.3389\n",
            "Epoch 18 Batch 300 Loss 1.2311 Accuracy 0.3386\n",
            "Epoch 18 Batch 350 Loss 1.2376 Accuracy 0.3387\n",
            "Epoch 18 Batch 400 Loss 1.2392 Accuracy 0.3388\n",
            "Epoch 18 Batch 450 Loss 1.2457 Accuracy 0.3382\n",
            "Epoch 18 Batch 500 Loss 1.2514 Accuracy 0.3379\n",
            "Epoch 18 Batch 550 Loss 1.2580 Accuracy 0.3371\n",
            "Epoch 18 Batch 600 Loss 1.2630 Accuracy 0.3369\n",
            "Epoch 18 Batch 650 Loss 1.2689 Accuracy 0.3366\n",
            "Epoch 18 Batch 700 Loss 1.2749 Accuracy 0.3364\n",
            "Epoch 18 Loss 1.2754 Accuracy 0.3365\n",
            "Time taken for 1 epoch: 41.06286096572876 secs\n",
            "\n",
            "Epoch 19 Batch 0 Loss 0.9601 Accuracy 0.3898\n",
            "Epoch 19 Batch 50 Loss 1.1358 Accuracy 0.3499\n",
            "Epoch 19 Batch 100 Loss 1.1447 Accuracy 0.3471\n",
            "Epoch 19 Batch 150 Loss 1.1593 Accuracy 0.3462\n",
            "Epoch 19 Batch 200 Loss 1.1657 Accuracy 0.3440\n",
            "Epoch 19 Batch 250 Loss 1.1748 Accuracy 0.3427\n",
            "Epoch 19 Batch 300 Loss 1.1833 Accuracy 0.3426\n",
            "Epoch 19 Batch 350 Loss 1.1872 Accuracy 0.3422\n",
            "Epoch 19 Batch 400 Loss 1.1915 Accuracy 0.3419\n",
            "Epoch 19 Batch 450 Loss 1.1969 Accuracy 0.3418\n",
            "Epoch 19 Batch 500 Loss 1.2029 Accuracy 0.3420\n",
            "Epoch 19 Batch 550 Loss 1.2091 Accuracy 0.3412\n",
            "Epoch 19 Batch 600 Loss 1.2148 Accuracy 0.3405\n",
            "Epoch 19 Batch 650 Loss 1.2206 Accuracy 0.3402\n",
            "Epoch 19 Batch 700 Loss 1.2252 Accuracy 0.3403\n",
            "Epoch 19 Loss 1.2254 Accuracy 0.3402\n",
            "Time taken for 1 epoch: 41.091275691986084 secs\n",
            "\n",
            "Epoch 20 Batch 0 Loss 1.0318 Accuracy 0.3659\n",
            "Epoch 20 Batch 50 Loss 1.0859 Accuracy 0.3509\n",
            "Epoch 20 Batch 100 Loss 1.1039 Accuracy 0.3497\n",
            "Epoch 20 Batch 150 Loss 1.1101 Accuracy 0.3477\n",
            "Epoch 20 Batch 200 Loss 1.1179 Accuracy 0.3473\n",
            "Epoch 20 Batch 250 Loss 1.1278 Accuracy 0.3470\n",
            "Epoch 20 Batch 300 Loss 1.1376 Accuracy 0.3468\n",
            "Epoch 20 Batch 350 Loss 1.1445 Accuracy 0.3472\n",
            "Epoch 20 Batch 400 Loss 1.1506 Accuracy 0.3462\n",
            "Epoch 20 Batch 450 Loss 1.1549 Accuracy 0.3458\n",
            "Epoch 20 Batch 500 Loss 1.1614 Accuracy 0.3455\n",
            "Epoch 20 Batch 550 Loss 1.1653 Accuracy 0.3447\n",
            "Epoch 20 Batch 600 Loss 1.1701 Accuracy 0.3444\n",
            "Epoch 20 Batch 650 Loss 1.1758 Accuracy 0.3439\n",
            "Epoch 20 Batch 700 Loss 1.1814 Accuracy 0.3433\n",
            "Saving checkpoint for epoch 20 at ./checkpoints/train/ckpt-4\n",
            "Epoch 20 Loss 1.1818 Accuracy 0.3433\n",
            "Time taken for 1 epoch: 41.40330743789673 secs\n",
            "\n",
            "Epoch 21 Batch 0 Loss 1.1264 Accuracy 0.3625\n",
            "Epoch 21 Batch 50 Loss 1.0483 Accuracy 0.3529\n",
            "Epoch 21 Batch 100 Loss 1.0657 Accuracy 0.3519\n",
            "Epoch 21 Batch 150 Loss 1.0765 Accuracy 0.3521\n",
            "Epoch 21 Batch 200 Loss 1.0818 Accuracy 0.3516\n",
            "Epoch 21 Batch 250 Loss 1.0885 Accuracy 0.3507\n",
            "Epoch 21 Batch 300 Loss 1.0944 Accuracy 0.3505\n",
            "Epoch 21 Batch 350 Loss 1.0982 Accuracy 0.3501\n",
            "Epoch 21 Batch 400 Loss 1.1031 Accuracy 0.3495\n",
            "Epoch 21 Batch 450 Loss 1.1077 Accuracy 0.3488\n",
            "Epoch 21 Batch 500 Loss 1.1147 Accuracy 0.3482\n",
            "Epoch 21 Batch 550 Loss 1.1216 Accuracy 0.3475\n",
            "Epoch 21 Batch 600 Loss 1.1278 Accuracy 0.3469\n",
            "Epoch 21 Batch 650 Loss 1.1334 Accuracy 0.3467\n",
            "Epoch 21 Batch 700 Loss 1.1395 Accuracy 0.3468\n",
            "Epoch 21 Loss 1.1399 Accuracy 0.3468\n",
            "Time taken for 1 epoch: 41.28374242782593 secs\n",
            "\n",
            "Epoch 22 Batch 0 Loss 1.0149 Accuracy 0.3389\n",
            "Epoch 22 Batch 50 Loss 1.0161 Accuracy 0.3542\n",
            "Epoch 22 Batch 100 Loss 1.0246 Accuracy 0.3565\n",
            "Epoch 22 Batch 150 Loss 1.0333 Accuracy 0.3554\n",
            "Epoch 22 Batch 200 Loss 1.0434 Accuracy 0.3548\n",
            "Epoch 22 Batch 250 Loss 1.0508 Accuracy 0.3545\n",
            "Epoch 22 Batch 300 Loss 1.0567 Accuracy 0.3542\n",
            "Epoch 22 Batch 350 Loss 1.0636 Accuracy 0.3540\n",
            "Epoch 22 Batch 400 Loss 1.0686 Accuracy 0.3541\n",
            "Epoch 22 Batch 450 Loss 1.0731 Accuracy 0.3540\n",
            "Epoch 22 Batch 500 Loss 1.0788 Accuracy 0.3533\n",
            "Epoch 22 Batch 550 Loss 1.0839 Accuracy 0.3522\n",
            "Epoch 22 Batch 600 Loss 1.0907 Accuracy 0.3516\n",
            "Epoch 22 Batch 650 Loss 1.0967 Accuracy 0.3508\n",
            "Epoch 22 Batch 700 Loss 1.1029 Accuracy 0.3499\n",
            "Epoch 22 Loss 1.1029 Accuracy 0.3499\n",
            "Time taken for 1 epoch: 41.047033071517944 secs\n",
            "\n",
            "Epoch 23 Batch 0 Loss 0.9983 Accuracy 0.3672\n",
            "Epoch 23 Batch 50 Loss 0.9883 Accuracy 0.3566\n",
            "Epoch 23 Batch 100 Loss 0.9893 Accuracy 0.3576\n",
            "Epoch 23 Batch 150 Loss 0.9976 Accuracy 0.3566\n",
            "Epoch 23 Batch 200 Loss 1.0085 Accuracy 0.3555\n",
            "Epoch 23 Batch 250 Loss 1.0180 Accuracy 0.3551\n",
            "Epoch 23 Batch 300 Loss 1.0242 Accuracy 0.3555\n",
            "Epoch 23 Batch 350 Loss 1.0287 Accuracy 0.3556\n",
            "Epoch 23 Batch 400 Loss 1.0343 Accuracy 0.3555\n",
            "Epoch 23 Batch 450 Loss 1.0407 Accuracy 0.3548\n",
            "Epoch 23 Batch 500 Loss 1.0464 Accuracy 0.3545\n",
            "Epoch 23 Batch 550 Loss 1.0526 Accuracy 0.3540\n",
            "Epoch 23 Batch 600 Loss 1.0584 Accuracy 0.3541\n",
            "Epoch 23 Batch 650 Loss 1.0631 Accuracy 0.3535\n",
            "Epoch 23 Batch 700 Loss 1.0674 Accuracy 0.3530\n",
            "Epoch 23 Loss 1.0679 Accuracy 0.3530\n",
            "Time taken for 1 epoch: 41.052966833114624 secs\n",
            "\n",
            "Epoch 24 Batch 0 Loss 1.0445 Accuracy 0.3359\n",
            "Epoch 24 Batch 50 Loss 0.9548 Accuracy 0.3605\n",
            "Epoch 24 Batch 100 Loss 0.9605 Accuracy 0.3613\n",
            "Epoch 24 Batch 150 Loss 0.9713 Accuracy 0.3578\n",
            "Epoch 24 Batch 200 Loss 0.9782 Accuracy 0.3572\n",
            "Epoch 24 Batch 250 Loss 0.9837 Accuracy 0.3566\n",
            "Epoch 24 Batch 300 Loss 0.9902 Accuracy 0.3573\n",
            "Epoch 24 Batch 350 Loss 0.9957 Accuracy 0.3576\n",
            "Epoch 24 Batch 400 Loss 1.0021 Accuracy 0.3571\n",
            "Epoch 24 Batch 450 Loss 1.0080 Accuracy 0.3576\n",
            "Epoch 24 Batch 500 Loss 1.0155 Accuracy 0.3570\n",
            "Epoch 24 Batch 550 Loss 1.0222 Accuracy 0.3560\n",
            "Epoch 24 Batch 600 Loss 1.0270 Accuracy 0.3552\n",
            "Epoch 24 Batch 650 Loss 1.0320 Accuracy 0.3551\n",
            "Epoch 24 Batch 700 Loss 1.0371 Accuracy 0.3548\n",
            "Epoch 24 Loss 1.0373 Accuracy 0.3548\n",
            "Time taken for 1 epoch: 41.04488801956177 secs\n",
            "\n",
            "Epoch 25 Batch 0 Loss 0.8582 Accuracy 0.3676\n",
            "Epoch 25 Batch 50 Loss 0.9341 Accuracy 0.3587\n",
            "Epoch 25 Batch 100 Loss 0.9366 Accuracy 0.3628\n",
            "Epoch 25 Batch 150 Loss 0.9432 Accuracy 0.3620\n",
            "Epoch 25 Batch 200 Loss 0.9477 Accuracy 0.3602\n",
            "Epoch 25 Batch 250 Loss 0.9508 Accuracy 0.3607\n",
            "Epoch 25 Batch 300 Loss 0.9589 Accuracy 0.3595\n",
            "Epoch 25 Batch 350 Loss 0.9688 Accuracy 0.3591\n",
            "Epoch 25 Batch 400 Loss 0.9743 Accuracy 0.3587\n",
            "Epoch 25 Batch 450 Loss 0.9804 Accuracy 0.3585\n",
            "Epoch 25 Batch 500 Loss 0.9862 Accuracy 0.3583\n",
            "Epoch 25 Batch 550 Loss 0.9897 Accuracy 0.3583\n",
            "Epoch 25 Batch 600 Loss 0.9939 Accuracy 0.3583\n",
            "Epoch 25 Batch 650 Loss 0.9998 Accuracy 0.3579\n",
            "Epoch 25 Batch 700 Loss 1.0050 Accuracy 0.3571\n",
            "Saving checkpoint for epoch 25 at ./checkpoints/train/ckpt-5\n",
            "Epoch 25 Loss 1.0050 Accuracy 0.3570\n",
            "Time taken for 1 epoch: 41.291300773620605 secs\n",
            "\n",
            "Epoch 26 Batch 0 Loss 0.8556 Accuracy 0.3205\n",
            "Epoch 26 Batch 50 Loss 0.8949 Accuracy 0.3642\n",
            "Epoch 26 Batch 100 Loss 0.9064 Accuracy 0.3637\n",
            "Epoch 26 Batch 150 Loss 0.9147 Accuracy 0.3642\n",
            "Epoch 26 Batch 200 Loss 0.9223 Accuracy 0.3635\n",
            "Epoch 26 Batch 250 Loss 0.9315 Accuracy 0.3631\n",
            "Epoch 26 Batch 300 Loss 0.9357 Accuracy 0.3616\n",
            "Epoch 26 Batch 350 Loss 0.9396 Accuracy 0.3623\n",
            "Epoch 26 Batch 400 Loss 0.9437 Accuracy 0.3621\n",
            "Epoch 26 Batch 450 Loss 0.9513 Accuracy 0.3621\n",
            "Epoch 26 Batch 500 Loss 0.9571 Accuracy 0.3615\n",
            "Epoch 26 Batch 550 Loss 0.9638 Accuracy 0.3608\n",
            "Epoch 26 Batch 600 Loss 0.9698 Accuracy 0.3601\n",
            "Epoch 26 Batch 650 Loss 0.9741 Accuracy 0.3598\n",
            "Epoch 26 Batch 700 Loss 0.9794 Accuracy 0.3593\n",
            "Epoch 26 Loss 0.9796 Accuracy 0.3594\n",
            "Time taken for 1 epoch: 41.1023645401001 secs\n",
            "\n",
            "Epoch 27 Batch 0 Loss 0.8643 Accuracy 0.3524\n",
            "Epoch 27 Batch 50 Loss 0.8719 Accuracy 0.3708\n",
            "Epoch 27 Batch 100 Loss 0.8761 Accuracy 0.3692\n",
            "Epoch 27 Batch 150 Loss 0.8888 Accuracy 0.3663\n",
            "Epoch 27 Batch 200 Loss 0.8937 Accuracy 0.3658\n",
            "Epoch 27 Batch 250 Loss 0.9028 Accuracy 0.3655\n",
            "Epoch 27 Batch 300 Loss 0.9073 Accuracy 0.3647\n",
            "Epoch 27 Batch 350 Loss 0.9121 Accuracy 0.3644\n",
            "Epoch 27 Batch 400 Loss 0.9203 Accuracy 0.3637\n",
            "Epoch 27 Batch 450 Loss 0.9260 Accuracy 0.3635\n",
            "Epoch 27 Batch 500 Loss 0.9333 Accuracy 0.3633\n",
            "Epoch 27 Batch 550 Loss 0.9384 Accuracy 0.3625\n",
            "Epoch 27 Batch 600 Loss 0.9429 Accuracy 0.3620\n",
            "Epoch 27 Batch 650 Loss 0.9487 Accuracy 0.3613\n",
            "Epoch 27 Batch 700 Loss 0.9541 Accuracy 0.3613\n",
            "Epoch 27 Loss 0.9540 Accuracy 0.3614\n",
            "Time taken for 1 epoch: 41.04169845581055 secs\n",
            "\n",
            "Epoch 28 Batch 0 Loss 0.8441 Accuracy 0.3421\n",
            "Epoch 28 Batch 50 Loss 0.8505 Accuracy 0.3647\n",
            "Epoch 28 Batch 100 Loss 0.8555 Accuracy 0.3687\n",
            "Epoch 28 Batch 150 Loss 0.8657 Accuracy 0.3668\n",
            "Epoch 28 Batch 200 Loss 0.8761 Accuracy 0.3658\n",
            "Epoch 28 Batch 250 Loss 0.8834 Accuracy 0.3667\n",
            "Epoch 28 Batch 300 Loss 0.8886 Accuracy 0.3669\n",
            "Epoch 28 Batch 350 Loss 0.8930 Accuracy 0.3663\n",
            "Epoch 28 Batch 400 Loss 0.8985 Accuracy 0.3656\n",
            "Epoch 28 Batch 450 Loss 0.9024 Accuracy 0.3655\n",
            "Epoch 28 Batch 500 Loss 0.9058 Accuracy 0.3650\n",
            "Epoch 28 Batch 550 Loss 0.9111 Accuracy 0.3646\n",
            "Epoch 28 Batch 600 Loss 0.9178 Accuracy 0.3645\n",
            "Epoch 28 Batch 650 Loss 0.9229 Accuracy 0.3638\n",
            "Epoch 28 Batch 700 Loss 0.9299 Accuracy 0.3633\n",
            "Epoch 28 Loss 0.9298 Accuracy 0.3633\n",
            "Time taken for 1 epoch: 41.01592946052551 secs\n",
            "\n",
            "Epoch 29 Batch 0 Loss 0.7427 Accuracy 0.4045\n",
            "Epoch 29 Batch 50 Loss 0.8317 Accuracy 0.3702\n",
            "Epoch 29 Batch 100 Loss 0.8339 Accuracy 0.3693\n",
            "Epoch 29 Batch 150 Loss 0.8406 Accuracy 0.3698\n",
            "Epoch 29 Batch 200 Loss 0.8492 Accuracy 0.3690\n",
            "Epoch 29 Batch 250 Loss 0.8549 Accuracy 0.3696\n",
            "Epoch 29 Batch 300 Loss 0.8592 Accuracy 0.3693\n",
            "Epoch 29 Batch 350 Loss 0.8649 Accuracy 0.3685\n",
            "Epoch 29 Batch 400 Loss 0.8711 Accuracy 0.3688\n",
            "Epoch 29 Batch 450 Loss 0.8775 Accuracy 0.3686\n",
            "Epoch 29 Batch 500 Loss 0.8847 Accuracy 0.3678\n",
            "Epoch 29 Batch 550 Loss 0.8898 Accuracy 0.3672\n",
            "Epoch 29 Batch 600 Loss 0.8958 Accuracy 0.3667\n",
            "Epoch 29 Batch 650 Loss 0.9025 Accuracy 0.3659\n",
            "Epoch 29 Batch 700 Loss 0.9074 Accuracy 0.3654\n",
            "Epoch 29 Loss 0.9075 Accuracy 0.3654\n",
            "Time taken for 1 epoch: 41.23681139945984 secs\n",
            "\n",
            "Epoch 30 Batch 0 Loss 0.6728 Accuracy 0.3478\n",
            "Epoch 30 Batch 50 Loss 0.8154 Accuracy 0.3712\n",
            "Epoch 30 Batch 100 Loss 0.8202 Accuracy 0.3688\n",
            "Epoch 30 Batch 150 Loss 0.8210 Accuracy 0.3721\n",
            "Epoch 30 Batch 200 Loss 0.8276 Accuracy 0.3721\n",
            "Epoch 30 Batch 250 Loss 0.8362 Accuracy 0.3717\n",
            "Epoch 30 Batch 300 Loss 0.8420 Accuracy 0.3709\n",
            "Epoch 30 Batch 350 Loss 0.8461 Accuracy 0.3699\n",
            "Epoch 30 Batch 400 Loss 0.8514 Accuracy 0.3707\n",
            "Epoch 30 Batch 450 Loss 0.8571 Accuracy 0.3710\n",
            "Epoch 30 Batch 500 Loss 0.8607 Accuracy 0.3702\n",
            "Epoch 30 Batch 550 Loss 0.8666 Accuracy 0.3696\n",
            "Epoch 30 Batch 600 Loss 0.8721 Accuracy 0.3692\n",
            "Epoch 30 Batch 650 Loss 0.8779 Accuracy 0.3686\n",
            "Epoch 30 Batch 700 Loss 0.8833 Accuracy 0.3680\n",
            "Saving checkpoint for epoch 30 at ./checkpoints/train/ckpt-6\n",
            "Epoch 30 Loss 0.8836 Accuracy 0.3680\n",
            "Time taken for 1 epoch: 41.315938234329224 secs\n",
            "\n",
            "Epoch 31 Batch 0 Loss 0.7963 Accuracy 0.3964\n",
            "Epoch 31 Batch 50 Loss 0.7888 Accuracy 0.3772\n",
            "Epoch 31 Batch 100 Loss 0.7979 Accuracy 0.3768\n",
            "Epoch 31 Batch 150 Loss 0.8033 Accuracy 0.3767\n",
            "Epoch 31 Batch 200 Loss 0.8076 Accuracy 0.3742\n",
            "Epoch 31 Batch 250 Loss 0.8139 Accuracy 0.3734\n",
            "Epoch 31 Batch 300 Loss 0.8201 Accuracy 0.3743\n",
            "Epoch 31 Batch 350 Loss 0.8275 Accuracy 0.3739\n",
            "Epoch 31 Batch 400 Loss 0.8322 Accuracy 0.3732\n",
            "Epoch 31 Batch 450 Loss 0.8372 Accuracy 0.3728\n",
            "Epoch 31 Batch 500 Loss 0.8422 Accuracy 0.3719\n",
            "Epoch 31 Batch 550 Loss 0.8463 Accuracy 0.3717\n",
            "Epoch 31 Batch 600 Loss 0.8512 Accuracy 0.3712\n",
            "Epoch 31 Batch 650 Loss 0.8579 Accuracy 0.3708\n",
            "Epoch 31 Batch 700 Loss 0.8638 Accuracy 0.3703\n",
            "Epoch 31 Loss 0.8638 Accuracy 0.3703\n",
            "Time taken for 1 epoch: 40.86146926879883 secs\n",
            "\n",
            "Epoch 32 Batch 0 Loss 0.7036 Accuracy 0.3642\n",
            "Epoch 32 Batch 50 Loss 0.7821 Accuracy 0.3762\n",
            "Epoch 32 Batch 100 Loss 0.7791 Accuracy 0.3731\n",
            "Epoch 32 Batch 150 Loss 0.7857 Accuracy 0.3753\n",
            "Epoch 32 Batch 200 Loss 0.7897 Accuracy 0.3746\n",
            "Epoch 32 Batch 250 Loss 0.7964 Accuracy 0.3749\n",
            "Epoch 32 Batch 300 Loss 0.8004 Accuracy 0.3746\n",
            "Epoch 32 Batch 350 Loss 0.8066 Accuracy 0.3744\n",
            "Epoch 32 Batch 400 Loss 0.8127 Accuracy 0.3741\n",
            "Epoch 32 Batch 450 Loss 0.8177 Accuracy 0.3738\n",
            "Epoch 32 Batch 500 Loss 0.8235 Accuracy 0.3734\n",
            "Epoch 32 Batch 550 Loss 0.8291 Accuracy 0.3730\n",
            "Epoch 32 Batch 600 Loss 0.8352 Accuracy 0.3723\n",
            "Epoch 32 Batch 650 Loss 0.8401 Accuracy 0.3716\n",
            "Epoch 32 Batch 700 Loss 0.8449 Accuracy 0.3710\n",
            "Epoch 32 Loss 0.8450 Accuracy 0.3709\n",
            "Time taken for 1 epoch: 41.090232849121094 secs\n",
            "\n",
            "Epoch 33 Batch 0 Loss 0.7006 Accuracy 0.3868\n",
            "Epoch 33 Batch 50 Loss 0.7642 Accuracy 0.3802\n",
            "Epoch 33 Batch 100 Loss 0.7625 Accuracy 0.3811\n",
            "Epoch 33 Batch 150 Loss 0.7643 Accuracy 0.3779\n",
            "Epoch 33 Batch 200 Loss 0.7713 Accuracy 0.3774\n",
            "Epoch 33 Batch 250 Loss 0.7777 Accuracy 0.3759\n",
            "Epoch 33 Batch 300 Loss 0.7862 Accuracy 0.3746\n",
            "Epoch 33 Batch 350 Loss 0.7917 Accuracy 0.3744\n",
            "Epoch 33 Batch 400 Loss 0.7963 Accuracy 0.3736\n",
            "Epoch 33 Batch 450 Loss 0.8019 Accuracy 0.3735\n",
            "Epoch 33 Batch 500 Loss 0.8058 Accuracy 0.3734\n",
            "Epoch 33 Batch 550 Loss 0.8108 Accuracy 0.3731\n",
            "Epoch 33 Batch 600 Loss 0.8154 Accuracy 0.3728\n",
            "Epoch 33 Batch 650 Loss 0.8219 Accuracy 0.3727\n",
            "Epoch 33 Batch 700 Loss 0.8271 Accuracy 0.3722\n",
            "Epoch 33 Loss 0.8269 Accuracy 0.3723\n",
            "Time taken for 1 epoch: 41.08441162109375 secs\n",
            "\n",
            "Epoch 34 Batch 0 Loss 0.7803 Accuracy 0.3573\n",
            "Epoch 34 Batch 50 Loss 0.7298 Accuracy 0.3740\n",
            "Epoch 34 Batch 100 Loss 0.7407 Accuracy 0.3761\n",
            "Epoch 34 Batch 150 Loss 0.7455 Accuracy 0.3762\n",
            "Epoch 34 Batch 200 Loss 0.7529 Accuracy 0.3770\n",
            "Epoch 34 Batch 250 Loss 0.7608 Accuracy 0.3779\n",
            "Epoch 34 Batch 300 Loss 0.7665 Accuracy 0.3779\n",
            "Epoch 34 Batch 350 Loss 0.7706 Accuracy 0.3782\n",
            "Epoch 34 Batch 400 Loss 0.7752 Accuracy 0.3773\n",
            "Epoch 34 Batch 450 Loss 0.7825 Accuracy 0.3769\n",
            "Epoch 34 Batch 500 Loss 0.7882 Accuracy 0.3764\n",
            "Epoch 34 Batch 550 Loss 0.7932 Accuracy 0.3754\n",
            "Epoch 34 Batch 600 Loss 0.7989 Accuracy 0.3747\n",
            "Epoch 34 Batch 650 Loss 0.8036 Accuracy 0.3742\n",
            "Epoch 34 Batch 700 Loss 0.8092 Accuracy 0.3739\n",
            "Epoch 34 Loss 0.8092 Accuracy 0.3739\n",
            "Time taken for 1 epoch: 40.946117639541626 secs\n",
            "\n",
            "Epoch 35 Batch 0 Loss 0.7545 Accuracy 0.3994\n",
            "Epoch 35 Batch 50 Loss 0.7378 Accuracy 0.3795\n",
            "Epoch 35 Batch 100 Loss 0.7325 Accuracy 0.3807\n",
            "Epoch 35 Batch 150 Loss 0.7371 Accuracy 0.3808\n",
            "Epoch 35 Batch 200 Loss 0.7441 Accuracy 0.3808\n",
            "Epoch 35 Batch 250 Loss 0.7528 Accuracy 0.3799\n",
            "Epoch 35 Batch 300 Loss 0.7578 Accuracy 0.3800\n",
            "Epoch 35 Batch 350 Loss 0.7620 Accuracy 0.3803\n",
            "Epoch 35 Batch 400 Loss 0.7648 Accuracy 0.3791\n",
            "Epoch 35 Batch 450 Loss 0.7699 Accuracy 0.3785\n",
            "Epoch 35 Batch 500 Loss 0.7759 Accuracy 0.3782\n",
            "Epoch 35 Batch 550 Loss 0.7806 Accuracy 0.3781\n",
            "Epoch 35 Batch 600 Loss 0.7844 Accuracy 0.3774\n",
            "Epoch 35 Batch 650 Loss 0.7894 Accuracy 0.3771\n",
            "Epoch 35 Batch 700 Loss 0.7933 Accuracy 0.3765\n",
            "Saving checkpoint for epoch 35 at ./checkpoints/train/ckpt-7\n",
            "Epoch 35 Loss 0.7934 Accuracy 0.3765\n",
            "Time taken for 1 epoch: 41.32462167739868 secs\n",
            "\n",
            "Epoch 36 Batch 0 Loss 0.6165 Accuracy 0.3898\n",
            "Epoch 36 Batch 50 Loss 0.6963 Accuracy 0.3841\n",
            "Epoch 36 Batch 100 Loss 0.7141 Accuracy 0.3848\n",
            "Epoch 36 Batch 150 Loss 0.7262 Accuracy 0.3818\n",
            "Epoch 36 Batch 200 Loss 0.7300 Accuracy 0.3819\n",
            "Epoch 36 Batch 250 Loss 0.7366 Accuracy 0.3812\n",
            "Epoch 36 Batch 300 Loss 0.7421 Accuracy 0.3819\n",
            "Epoch 36 Batch 350 Loss 0.7456 Accuracy 0.3814\n",
            "Epoch 36 Batch 400 Loss 0.7500 Accuracy 0.3804\n",
            "Epoch 36 Batch 450 Loss 0.7537 Accuracy 0.3808\n",
            "Epoch 36 Batch 500 Loss 0.7585 Accuracy 0.3806\n",
            "Epoch 36 Batch 550 Loss 0.7635 Accuracy 0.3795\n",
            "Epoch 36 Batch 600 Loss 0.7690 Accuracy 0.3791\n",
            "Epoch 36 Batch 650 Loss 0.7736 Accuracy 0.3782\n",
            "Epoch 36 Batch 700 Loss 0.7774 Accuracy 0.3778\n",
            "Epoch 36 Loss 0.7775 Accuracy 0.3778\n",
            "Time taken for 1 epoch: 41.21244168281555 secs\n",
            "\n",
            "Epoch 37 Batch 0 Loss 0.6823 Accuracy 0.3714\n",
            "Epoch 37 Batch 50 Loss 0.6889 Accuracy 0.3876\n",
            "Epoch 37 Batch 100 Loss 0.7028 Accuracy 0.3854\n",
            "Epoch 37 Batch 150 Loss 0.7084 Accuracy 0.3836\n",
            "Epoch 37 Batch 200 Loss 0.7136 Accuracy 0.3831\n",
            "Epoch 37 Batch 250 Loss 0.7213 Accuracy 0.3831\n",
            "Epoch 37 Batch 300 Loss 0.7261 Accuracy 0.3822\n",
            "Epoch 37 Batch 350 Loss 0.7318 Accuracy 0.3823\n",
            "Epoch 37 Batch 400 Loss 0.7358 Accuracy 0.3821\n",
            "Epoch 37 Batch 450 Loss 0.7408 Accuracy 0.3818\n",
            "Epoch 37 Batch 500 Loss 0.7450 Accuracy 0.3809\n",
            "Epoch 37 Batch 550 Loss 0.7492 Accuracy 0.3800\n",
            "Epoch 37 Batch 600 Loss 0.7534 Accuracy 0.3798\n",
            "Epoch 37 Batch 650 Loss 0.7574 Accuracy 0.3797\n",
            "Epoch 37 Batch 700 Loss 0.7626 Accuracy 0.3793\n",
            "Epoch 37 Loss 0.7629 Accuracy 0.3792\n",
            "Time taken for 1 epoch: 40.84788727760315 secs\n",
            "\n",
            "Epoch 38 Batch 0 Loss 0.6428 Accuracy 0.3939\n",
            "Epoch 38 Batch 50 Loss 0.6807 Accuracy 0.3819\n",
            "Epoch 38 Batch 100 Loss 0.6899 Accuracy 0.3836\n",
            "Epoch 38 Batch 150 Loss 0.6956 Accuracy 0.3827\n",
            "Epoch 38 Batch 200 Loss 0.7034 Accuracy 0.3818\n",
            "Epoch 38 Batch 250 Loss 0.7079 Accuracy 0.3821\n",
            "Epoch 38 Batch 300 Loss 0.7133 Accuracy 0.3816\n",
            "Epoch 38 Batch 350 Loss 0.7170 Accuracy 0.3821\n",
            "Epoch 38 Batch 400 Loss 0.7222 Accuracy 0.3822\n",
            "Epoch 38 Batch 450 Loss 0.7270 Accuracy 0.3819\n",
            "Epoch 38 Batch 500 Loss 0.7323 Accuracy 0.3813\n",
            "Epoch 38 Batch 550 Loss 0.7365 Accuracy 0.3812\n",
            "Epoch 38 Batch 600 Loss 0.7405 Accuracy 0.3803\n",
            "Epoch 38 Batch 650 Loss 0.7460 Accuracy 0.3798\n",
            "Epoch 38 Batch 700 Loss 0.7516 Accuracy 0.3794\n",
            "Epoch 38 Loss 0.7515 Accuracy 0.3794\n",
            "Time taken for 1 epoch: 40.87303042411804 secs\n",
            "\n",
            "Epoch 39 Batch 0 Loss 0.6653 Accuracy 0.3269\n",
            "Epoch 39 Batch 50 Loss 0.6760 Accuracy 0.3864\n",
            "Epoch 39 Batch 100 Loss 0.6794 Accuracy 0.3889\n",
            "Epoch 39 Batch 150 Loss 0.6842 Accuracy 0.3868\n",
            "Epoch 39 Batch 200 Loss 0.6888 Accuracy 0.3865\n",
            "Epoch 39 Batch 250 Loss 0.6925 Accuracy 0.3861\n",
            "Epoch 39 Batch 300 Loss 0.6977 Accuracy 0.3857\n",
            "Epoch 39 Batch 350 Loss 0.7019 Accuracy 0.3844\n",
            "Epoch 39 Batch 400 Loss 0.7068 Accuracy 0.3846\n",
            "Epoch 39 Batch 450 Loss 0.7109 Accuracy 0.3839\n",
            "Epoch 39 Batch 500 Loss 0.7161 Accuracy 0.3833\n",
            "Epoch 39 Batch 550 Loss 0.7208 Accuracy 0.3824\n",
            "Epoch 39 Batch 600 Loss 0.7262 Accuracy 0.3820\n",
            "Epoch 39 Batch 650 Loss 0.7305 Accuracy 0.3811\n",
            "Epoch 39 Batch 700 Loss 0.7354 Accuracy 0.3810\n",
            "Epoch 39 Loss 0.7354 Accuracy 0.3810\n",
            "Time taken for 1 epoch: 40.86869812011719 secs\n",
            "\n",
            "Epoch 40 Batch 0 Loss 0.6612 Accuracy 0.3958\n",
            "Epoch 40 Batch 50 Loss 0.6606 Accuracy 0.3888\n",
            "Epoch 40 Batch 100 Loss 0.6667 Accuracy 0.3850\n",
            "Epoch 40 Batch 150 Loss 0.6677 Accuracy 0.3857\n",
            "Epoch 40 Batch 200 Loss 0.6755 Accuracy 0.3858\n",
            "Epoch 40 Batch 250 Loss 0.6806 Accuracy 0.3860\n",
            "Epoch 40 Batch 300 Loss 0.6858 Accuracy 0.3859\n",
            "Epoch 40 Batch 350 Loss 0.6903 Accuracy 0.3853\n",
            "Epoch 40 Batch 400 Loss 0.6931 Accuracy 0.3855\n",
            "Epoch 40 Batch 450 Loss 0.6983 Accuracy 0.3852\n",
            "Epoch 40 Batch 500 Loss 0.7027 Accuracy 0.3847\n",
            "Epoch 40 Batch 550 Loss 0.7072 Accuracy 0.3844\n",
            "Epoch 40 Batch 600 Loss 0.7122 Accuracy 0.3839\n",
            "Epoch 40 Batch 650 Loss 0.7183 Accuracy 0.3831\n",
            "Epoch 40 Batch 700 Loss 0.7224 Accuracy 0.3826\n",
            "Saving checkpoint for epoch 40 at ./checkpoints/train/ckpt-8\n",
            "Epoch 40 Loss 0.7227 Accuracy 0.3826\n",
            "Time taken for 1 epoch: 41.25832676887512 secs\n",
            "\n",
            "Epoch 41 Batch 0 Loss 0.6087 Accuracy 0.4250\n",
            "Epoch 41 Batch 50 Loss 0.6485 Accuracy 0.3929\n",
            "Epoch 41 Batch 100 Loss 0.6547 Accuracy 0.3899\n",
            "Epoch 41 Batch 150 Loss 0.6584 Accuracy 0.3886\n",
            "Epoch 41 Batch 200 Loss 0.6628 Accuracy 0.3877\n",
            "Epoch 41 Batch 250 Loss 0.6679 Accuracy 0.3882\n",
            "Epoch 41 Batch 300 Loss 0.6712 Accuracy 0.3886\n",
            "Epoch 41 Batch 350 Loss 0.6768 Accuracy 0.3876\n",
            "Epoch 41 Batch 400 Loss 0.6817 Accuracy 0.3873\n",
            "Epoch 41 Batch 450 Loss 0.6857 Accuracy 0.3865\n",
            "Epoch 41 Batch 500 Loss 0.6912 Accuracy 0.3858\n",
            "Epoch 41 Batch 550 Loss 0.6961 Accuracy 0.3858\n",
            "Epoch 41 Batch 600 Loss 0.7016 Accuracy 0.3852\n",
            "Epoch 41 Batch 650 Loss 0.7060 Accuracy 0.3844\n",
            "Epoch 41 Batch 700 Loss 0.7100 Accuracy 0.3839\n",
            "Epoch 41 Loss 0.7098 Accuracy 0.3840\n",
            "Time taken for 1 epoch: 41.06121110916138 secs\n",
            "\n",
            "Epoch 42 Batch 0 Loss 0.6775 Accuracy 0.3822\n",
            "Epoch 42 Batch 50 Loss 0.6364 Accuracy 0.3886\n",
            "Epoch 42 Batch 100 Loss 0.6399 Accuracy 0.3865\n",
            "Epoch 42 Batch 150 Loss 0.6471 Accuracy 0.3898\n",
            "Epoch 42 Batch 200 Loss 0.6523 Accuracy 0.3893\n",
            "Epoch 42 Batch 250 Loss 0.6589 Accuracy 0.3892\n",
            "Epoch 42 Batch 300 Loss 0.6632 Accuracy 0.3885\n",
            "Epoch 42 Batch 350 Loss 0.6670 Accuracy 0.3877\n",
            "Epoch 42 Batch 400 Loss 0.6713 Accuracy 0.3878\n",
            "Epoch 42 Batch 450 Loss 0.6758 Accuracy 0.3869\n",
            "Epoch 42 Batch 500 Loss 0.6802 Accuracy 0.3868\n",
            "Epoch 42 Batch 550 Loss 0.6862 Accuracy 0.3866\n",
            "Epoch 42 Batch 600 Loss 0.6904 Accuracy 0.3860\n",
            "Epoch 42 Batch 650 Loss 0.6951 Accuracy 0.3854\n",
            "Epoch 42 Batch 700 Loss 0.7003 Accuracy 0.3847\n",
            "Epoch 42 Loss 0.7004 Accuracy 0.3847\n",
            "Time taken for 1 epoch: 40.9684739112854 secs\n",
            "\n",
            "Epoch 43 Batch 0 Loss 0.5792 Accuracy 0.4028\n",
            "Epoch 43 Batch 50 Loss 0.6180 Accuracy 0.3881\n",
            "Epoch 43 Batch 100 Loss 0.6237 Accuracy 0.3924\n",
            "Epoch 43 Batch 150 Loss 0.6320 Accuracy 0.3941\n",
            "Epoch 43 Batch 200 Loss 0.6411 Accuracy 0.3930\n",
            "Epoch 43 Batch 250 Loss 0.6475 Accuracy 0.3926\n",
            "Epoch 43 Batch 300 Loss 0.6538 Accuracy 0.3915\n",
            "Epoch 43 Batch 350 Loss 0.6581 Accuracy 0.3910\n",
            "Epoch 43 Batch 400 Loss 0.6628 Accuracy 0.3897\n",
            "Epoch 43 Batch 450 Loss 0.6664 Accuracy 0.3888\n",
            "Epoch 43 Batch 500 Loss 0.6699 Accuracy 0.3882\n",
            "Epoch 43 Batch 550 Loss 0.6740 Accuracy 0.3877\n",
            "Epoch 43 Batch 600 Loss 0.6786 Accuracy 0.3870\n",
            "Epoch 43 Batch 650 Loss 0.6832 Accuracy 0.3863\n",
            "Epoch 43 Batch 700 Loss 0.6870 Accuracy 0.3858\n",
            "Epoch 43 Loss 0.6873 Accuracy 0.3859\n",
            "Time taken for 1 epoch: 40.86273503303528 secs\n",
            "\n",
            "Epoch 44 Batch 0 Loss 0.6512 Accuracy 0.3816\n",
            "Epoch 44 Batch 50 Loss 0.6217 Accuracy 0.3905\n",
            "Epoch 44 Batch 100 Loss 0.6197 Accuracy 0.3917\n",
            "Epoch 44 Batch 150 Loss 0.6277 Accuracy 0.3905\n",
            "Epoch 44 Batch 200 Loss 0.6322 Accuracy 0.3883\n",
            "Epoch 44 Batch 250 Loss 0.6368 Accuracy 0.3882\n",
            "Epoch 44 Batch 300 Loss 0.6420 Accuracy 0.3877\n",
            "Epoch 44 Batch 350 Loss 0.6457 Accuracy 0.3870\n",
            "Epoch 44 Batch 400 Loss 0.6495 Accuracy 0.3879\n",
            "Epoch 44 Batch 450 Loss 0.6545 Accuracy 0.3884\n",
            "Epoch 44 Batch 500 Loss 0.6592 Accuracy 0.3878\n",
            "Epoch 44 Batch 550 Loss 0.6626 Accuracy 0.3878\n",
            "Epoch 44 Batch 600 Loss 0.6681 Accuracy 0.3877\n",
            "Epoch 44 Batch 650 Loss 0.6729 Accuracy 0.3872\n",
            "Epoch 44 Batch 700 Loss 0.6784 Accuracy 0.3864\n",
            "Epoch 44 Loss 0.6787 Accuracy 0.3864\n",
            "Time taken for 1 epoch: 41.11745262145996 secs\n",
            "\n",
            "Epoch 45 Batch 0 Loss 0.5981 Accuracy 0.4030\n",
            "Epoch 45 Batch 50 Loss 0.6012 Accuracy 0.3988\n",
            "Epoch 45 Batch 100 Loss 0.6084 Accuracy 0.3951\n",
            "Epoch 45 Batch 150 Loss 0.6127 Accuracy 0.3934\n",
            "Epoch 45 Batch 200 Loss 0.6175 Accuracy 0.3916\n",
            "Epoch 45 Batch 250 Loss 0.6267 Accuracy 0.3902\n",
            "Epoch 45 Batch 300 Loss 0.6303 Accuracy 0.3900\n",
            "Epoch 45 Batch 350 Loss 0.6341 Accuracy 0.3900\n",
            "Epoch 45 Batch 400 Loss 0.6402 Accuracy 0.3894\n",
            "Epoch 45 Batch 450 Loss 0.6456 Accuracy 0.3895\n",
            "Epoch 45 Batch 500 Loss 0.6491 Accuracy 0.3891\n",
            "Epoch 45 Batch 550 Loss 0.6537 Accuracy 0.3894\n",
            "Epoch 45 Batch 600 Loss 0.6585 Accuracy 0.3889\n",
            "Epoch 45 Batch 650 Loss 0.6628 Accuracy 0.3888\n",
            "Epoch 45 Batch 700 Loss 0.6675 Accuracy 0.3888\n",
            "Saving checkpoint for epoch 45 at ./checkpoints/train/ckpt-9\n",
            "Epoch 45 Loss 0.6675 Accuracy 0.3888\n",
            "Time taken for 1 epoch: 41.182658672332764 secs\n",
            "\n",
            "Epoch 46 Batch 0 Loss 0.6072 Accuracy 0.3970\n",
            "Epoch 46 Batch 50 Loss 0.5839 Accuracy 0.3956\n",
            "Epoch 46 Batch 100 Loss 0.5881 Accuracy 0.3945\n",
            "Epoch 46 Batch 150 Loss 0.5991 Accuracy 0.3943\n",
            "Epoch 46 Batch 200 Loss 0.6075 Accuracy 0.3931\n",
            "Epoch 46 Batch 250 Loss 0.6130 Accuracy 0.3931\n",
            "Epoch 46 Batch 300 Loss 0.6178 Accuracy 0.3920\n",
            "Epoch 46 Batch 350 Loss 0.6222 Accuracy 0.3913\n",
            "Epoch 46 Batch 400 Loss 0.6287 Accuracy 0.3908\n",
            "Epoch 46 Batch 450 Loss 0.6328 Accuracy 0.3908\n",
            "Epoch 46 Batch 500 Loss 0.6387 Accuracy 0.3896\n",
            "Epoch 46 Batch 550 Loss 0.6442 Accuracy 0.3895\n",
            "Epoch 46 Batch 600 Loss 0.6495 Accuracy 0.3894\n",
            "Epoch 46 Batch 650 Loss 0.6539 Accuracy 0.3888\n",
            "Epoch 46 Batch 700 Loss 0.6583 Accuracy 0.3882\n",
            "Epoch 46 Loss 0.6587 Accuracy 0.3882\n",
            "Time taken for 1 epoch: 40.89191222190857 secs\n",
            "\n",
            "Epoch 47 Batch 0 Loss 0.6114 Accuracy 0.3889\n",
            "Epoch 47 Batch 50 Loss 0.5778 Accuracy 0.3963\n",
            "Epoch 47 Batch 100 Loss 0.5881 Accuracy 0.3924\n",
            "Epoch 47 Batch 150 Loss 0.5953 Accuracy 0.3940\n",
            "Epoch 47 Batch 200 Loss 0.6001 Accuracy 0.3932\n",
            "Epoch 47 Batch 250 Loss 0.6056 Accuracy 0.3924\n",
            "Epoch 47 Batch 300 Loss 0.6114 Accuracy 0.3916\n",
            "Epoch 47 Batch 350 Loss 0.6164 Accuracy 0.3909\n",
            "Epoch 47 Batch 400 Loss 0.6200 Accuracy 0.3914\n",
            "Epoch 47 Batch 450 Loss 0.6246 Accuracy 0.3917\n",
            "Epoch 47 Batch 500 Loss 0.6286 Accuracy 0.3910\n",
            "Epoch 47 Batch 550 Loss 0.6330 Accuracy 0.3908\n",
            "Epoch 47 Batch 600 Loss 0.6383 Accuracy 0.3907\n",
            "Epoch 47 Batch 650 Loss 0.6427 Accuracy 0.3903\n",
            "Epoch 47 Batch 700 Loss 0.6470 Accuracy 0.3900\n",
            "Epoch 47 Loss 0.6472 Accuracy 0.3900\n",
            "Time taken for 1 epoch: 40.811548471450806 secs\n",
            "\n",
            "Epoch 48 Batch 0 Loss 0.5786 Accuracy 0.4079\n",
            "Epoch 48 Batch 50 Loss 0.5785 Accuracy 0.3969\n",
            "Epoch 48 Batch 100 Loss 0.5824 Accuracy 0.3968\n",
            "Epoch 48 Batch 150 Loss 0.5852 Accuracy 0.3958\n",
            "Epoch 48 Batch 200 Loss 0.5900 Accuracy 0.3935\n",
            "Epoch 48 Batch 250 Loss 0.5962 Accuracy 0.3938\n",
            "Epoch 48 Batch 300 Loss 0.6001 Accuracy 0.3951\n",
            "Epoch 48 Batch 350 Loss 0.6042 Accuracy 0.3950\n",
            "Epoch 48 Batch 400 Loss 0.6087 Accuracy 0.3958\n",
            "Epoch 48 Batch 450 Loss 0.6130 Accuracy 0.3952\n",
            "Epoch 48 Batch 500 Loss 0.6173 Accuracy 0.3940\n",
            "Epoch 48 Batch 550 Loss 0.6221 Accuracy 0.3932\n",
            "Epoch 48 Batch 600 Loss 0.6267 Accuracy 0.3927\n",
            "Epoch 48 Batch 650 Loss 0.6314 Accuracy 0.3920\n",
            "Epoch 48 Batch 700 Loss 0.6361 Accuracy 0.3913\n",
            "Epoch 48 Loss 0.6362 Accuracy 0.3913\n",
            "Time taken for 1 epoch: 40.96327519416809 secs\n",
            "\n",
            "Epoch 49 Batch 0 Loss 0.5887 Accuracy 0.3932\n",
            "Epoch 49 Batch 50 Loss 0.5706 Accuracy 0.3970\n",
            "Epoch 49 Batch 100 Loss 0.5726 Accuracy 0.3963\n",
            "Epoch 49 Batch 150 Loss 0.5799 Accuracy 0.3958\n",
            "Epoch 49 Batch 200 Loss 0.5856 Accuracy 0.3947\n",
            "Epoch 49 Batch 250 Loss 0.5917 Accuracy 0.3945\n",
            "Epoch 49 Batch 300 Loss 0.5964 Accuracy 0.3940\n",
            "Epoch 49 Batch 350 Loss 0.6001 Accuracy 0.3941\n",
            "Epoch 49 Batch 400 Loss 0.6048 Accuracy 0.3940\n",
            "Epoch 49 Batch 450 Loss 0.6106 Accuracy 0.3934\n",
            "Epoch 49 Batch 500 Loss 0.6131 Accuracy 0.3932\n",
            "Epoch 49 Batch 550 Loss 0.6167 Accuracy 0.3930\n",
            "Epoch 49 Batch 600 Loss 0.6216 Accuracy 0.3926\n",
            "Epoch 49 Batch 650 Loss 0.6248 Accuracy 0.3922\n",
            "Epoch 49 Batch 700 Loss 0.6291 Accuracy 0.3918\n",
            "Epoch 49 Loss 0.6293 Accuracy 0.3918\n",
            "Time taken for 1 epoch: 40.94372534751892 secs\n",
            "\n",
            "Epoch 50 Batch 0 Loss 0.5733 Accuracy 0.3972\n",
            "Epoch 50 Batch 50 Loss 0.5654 Accuracy 0.3986\n",
            "Epoch 50 Batch 100 Loss 0.5613 Accuracy 0.3993\n",
            "Epoch 50 Batch 150 Loss 0.5691 Accuracy 0.3984\n",
            "Epoch 50 Batch 200 Loss 0.5779 Accuracy 0.3977\n",
            "Epoch 50 Batch 250 Loss 0.5811 Accuracy 0.3962\n",
            "Epoch 50 Batch 300 Loss 0.5865 Accuracy 0.3962\n",
            "Epoch 50 Batch 350 Loss 0.5903 Accuracy 0.3963\n",
            "Epoch 50 Batch 400 Loss 0.5949 Accuracy 0.3965\n",
            "Epoch 50 Batch 450 Loss 0.5994 Accuracy 0.3955\n",
            "Epoch 50 Batch 500 Loss 0.6040 Accuracy 0.3949\n",
            "Epoch 50 Batch 550 Loss 0.6092 Accuracy 0.3945\n",
            "Epoch 50 Batch 600 Loss 0.6136 Accuracy 0.3938\n",
            "Epoch 50 Batch 650 Loss 0.6180 Accuracy 0.3936\n",
            "Epoch 50 Batch 700 Loss 0.6223 Accuracy 0.3931\n",
            "Saving checkpoint for epoch 50 at ./checkpoints/train/ckpt-10\n",
            "Epoch 50 Loss 0.6225 Accuracy 0.3931\n",
            "Time taken for 1 epoch: 41.09530973434448 secs\n",
            "\n",
            "Epoch 51 Batch 0 Loss 0.5326 Accuracy 0.4362\n",
            "Epoch 51 Batch 50 Loss 0.5358 Accuracy 0.4098\n",
            "Epoch 51 Batch 100 Loss 0.5460 Accuracy 0.4080\n",
            "Epoch 51 Batch 150 Loss 0.5560 Accuracy 0.4066\n",
            "Epoch 51 Batch 200 Loss 0.5647 Accuracy 0.4024\n",
            "Epoch 51 Batch 250 Loss 0.5705 Accuracy 0.3998\n",
            "Epoch 51 Batch 300 Loss 0.5767 Accuracy 0.3985\n",
            "Epoch 51 Batch 350 Loss 0.5813 Accuracy 0.3982\n",
            "Epoch 51 Batch 400 Loss 0.5849 Accuracy 0.3984\n",
            "Epoch 51 Batch 450 Loss 0.5872 Accuracy 0.3988\n",
            "Epoch 51 Batch 500 Loss 0.5917 Accuracy 0.3980\n",
            "Epoch 51 Batch 550 Loss 0.5965 Accuracy 0.3969\n",
            "Epoch 51 Batch 600 Loss 0.6013 Accuracy 0.3964\n",
            "Epoch 51 Batch 650 Loss 0.6055 Accuracy 0.3958\n",
            "Epoch 51 Batch 700 Loss 0.6110 Accuracy 0.3950\n",
            "Epoch 51 Loss 0.6110 Accuracy 0.3950\n",
            "Time taken for 1 epoch: 40.8938364982605 secs\n",
            "\n",
            "Epoch 52 Batch 0 Loss 0.5202 Accuracy 0.4233\n",
            "Epoch 52 Batch 50 Loss 0.5451 Accuracy 0.3923\n",
            "Epoch 52 Batch 100 Loss 0.5519 Accuracy 0.3983\n",
            "Epoch 52 Batch 150 Loss 0.5587 Accuracy 0.3949\n",
            "Epoch 52 Batch 200 Loss 0.5656 Accuracy 0.3950\n",
            "Epoch 52 Batch 250 Loss 0.5692 Accuracy 0.3943\n",
            "Epoch 52 Batch 300 Loss 0.5749 Accuracy 0.3960\n",
            "Epoch 52 Batch 350 Loss 0.5771 Accuracy 0.3962\n",
            "Epoch 52 Batch 400 Loss 0.5818 Accuracy 0.3960\n",
            "Epoch 52 Batch 450 Loss 0.5848 Accuracy 0.3959\n",
            "Epoch 52 Batch 500 Loss 0.5887 Accuracy 0.3951\n",
            "Epoch 52 Batch 550 Loss 0.5925 Accuracy 0.3948\n",
            "Epoch 52 Batch 600 Loss 0.5964 Accuracy 0.3945\n",
            "Epoch 52 Batch 650 Loss 0.6002 Accuracy 0.3942\n",
            "Epoch 52 Batch 700 Loss 0.6051 Accuracy 0.3937\n",
            "Epoch 52 Loss 0.6051 Accuracy 0.3938\n",
            "Time taken for 1 epoch: 41.049668312072754 secs\n",
            "\n",
            "Epoch 53 Batch 0 Loss 0.5448 Accuracy 0.4109\n",
            "Epoch 53 Batch 50 Loss 0.5378 Accuracy 0.4011\n",
            "Epoch 53 Batch 100 Loss 0.5454 Accuracy 0.4000\n",
            "Epoch 53 Batch 150 Loss 0.5486 Accuracy 0.3999\n",
            "Epoch 53 Batch 200 Loss 0.5512 Accuracy 0.3990\n",
            "Epoch 53 Batch 250 Loss 0.5549 Accuracy 0.3988\n",
            "Epoch 53 Batch 300 Loss 0.5611 Accuracy 0.3975\n",
            "Epoch 53 Batch 350 Loss 0.5646 Accuracy 0.3976\n",
            "Epoch 53 Batch 400 Loss 0.5681 Accuracy 0.3977\n",
            "Epoch 53 Batch 450 Loss 0.5735 Accuracy 0.3971\n",
            "Epoch 53 Batch 500 Loss 0.5776 Accuracy 0.3968\n",
            "Epoch 53 Batch 550 Loss 0.5825 Accuracy 0.3962\n",
            "Epoch 53 Batch 600 Loss 0.5865 Accuracy 0.3955\n",
            "Epoch 53 Batch 650 Loss 0.5914 Accuracy 0.3953\n",
            "Epoch 53 Batch 700 Loss 0.5962 Accuracy 0.3947\n",
            "Epoch 53 Loss 0.5965 Accuracy 0.3947\n",
            "Time taken for 1 epoch: 40.97614765167236 secs\n",
            "\n",
            "Epoch 54 Batch 0 Loss 0.5301 Accuracy 0.3991\n",
            "Epoch 54 Batch 50 Loss 0.5164 Accuracy 0.4017\n",
            "Epoch 54 Batch 100 Loss 0.5298 Accuracy 0.4015\n",
            "Epoch 54 Batch 150 Loss 0.5369 Accuracy 0.4004\n",
            "Epoch 54 Batch 200 Loss 0.5428 Accuracy 0.3998\n",
            "Epoch 54 Batch 250 Loss 0.5488 Accuracy 0.3996\n",
            "Epoch 54 Batch 300 Loss 0.5521 Accuracy 0.4000\n",
            "Epoch 54 Batch 350 Loss 0.5580 Accuracy 0.4003\n",
            "Epoch 54 Batch 400 Loss 0.5633 Accuracy 0.3996\n",
            "Epoch 54 Batch 450 Loss 0.5666 Accuracy 0.3991\n",
            "Epoch 54 Batch 500 Loss 0.5716 Accuracy 0.3983\n",
            "Epoch 54 Batch 550 Loss 0.5768 Accuracy 0.3981\n",
            "Epoch 54 Batch 600 Loss 0.5816 Accuracy 0.3978\n",
            "Epoch 54 Batch 650 Loss 0.5854 Accuracy 0.3979\n",
            "Epoch 54 Batch 700 Loss 0.5895 Accuracy 0.3972\n",
            "Epoch 54 Loss 0.5895 Accuracy 0.3973\n",
            "Time taken for 1 epoch: 40.896703481674194 secs\n",
            "\n",
            "Epoch 55 Batch 0 Loss 0.5559 Accuracy 0.3522\n",
            "Epoch 55 Batch 50 Loss 0.5231 Accuracy 0.3977\n",
            "Epoch 55 Batch 100 Loss 0.5361 Accuracy 0.3996\n",
            "Epoch 55 Batch 150 Loss 0.5418 Accuracy 0.3999\n",
            "Epoch 55 Batch 200 Loss 0.5460 Accuracy 0.3998\n",
            "Epoch 55 Batch 250 Loss 0.5514 Accuracy 0.3993\n",
            "Epoch 55 Batch 300 Loss 0.5541 Accuracy 0.4003\n",
            "Epoch 55 Batch 350 Loss 0.5582 Accuracy 0.3999\n",
            "Epoch 55 Batch 400 Loss 0.5614 Accuracy 0.4003\n",
            "Epoch 55 Batch 450 Loss 0.5653 Accuracy 0.4005\n",
            "Epoch 55 Batch 500 Loss 0.5678 Accuracy 0.4002\n",
            "Epoch 55 Batch 550 Loss 0.5719 Accuracy 0.3997\n",
            "Epoch 55 Batch 600 Loss 0.5760 Accuracy 0.3991\n",
            "Epoch 55 Batch 650 Loss 0.5798 Accuracy 0.3987\n",
            "Epoch 55 Batch 700 Loss 0.5830 Accuracy 0.3981\n",
            "Saving checkpoint for epoch 55 at ./checkpoints/train/ckpt-11\n",
            "Epoch 55 Loss 0.5833 Accuracy 0.3980\n",
            "Time taken for 1 epoch: 41.192174673080444 secs\n",
            "\n",
            "Epoch 56 Batch 0 Loss 0.5340 Accuracy 0.4100\n",
            "Epoch 56 Batch 50 Loss 0.5147 Accuracy 0.4053\n",
            "Epoch 56 Batch 100 Loss 0.5182 Accuracy 0.4028\n",
            "Epoch 56 Batch 150 Loss 0.5254 Accuracy 0.4046\n",
            "Epoch 56 Batch 200 Loss 0.5318 Accuracy 0.4030\n",
            "Epoch 56 Batch 250 Loss 0.5382 Accuracy 0.4020\n",
            "Epoch 56 Batch 300 Loss 0.5433 Accuracy 0.4018\n",
            "Epoch 56 Batch 350 Loss 0.5459 Accuracy 0.4011\n",
            "Epoch 56 Batch 400 Loss 0.5507 Accuracy 0.4011\n",
            "Epoch 56 Batch 450 Loss 0.5555 Accuracy 0.4000\n",
            "Epoch 56 Batch 500 Loss 0.5600 Accuracy 0.4005\n",
            "Epoch 56 Batch 550 Loss 0.5629 Accuracy 0.4008\n",
            "Epoch 56 Batch 600 Loss 0.5669 Accuracy 0.4001\n",
            "Epoch 56 Batch 650 Loss 0.5712 Accuracy 0.3995\n",
            "Epoch 56 Batch 700 Loss 0.5751 Accuracy 0.3986\n",
            "Epoch 56 Loss 0.5753 Accuracy 0.3986\n",
            "Time taken for 1 epoch: 41.02845096588135 secs\n",
            "\n",
            "Epoch 57 Batch 0 Loss 0.4669 Accuracy 0.3890\n",
            "Epoch 57 Batch 50 Loss 0.5033 Accuracy 0.4054\n",
            "Epoch 57 Batch 100 Loss 0.5123 Accuracy 0.4066\n",
            "Epoch 57 Batch 150 Loss 0.5190 Accuracy 0.4052\n",
            "Epoch 57 Batch 200 Loss 0.5236 Accuracy 0.4035\n",
            "Epoch 57 Batch 250 Loss 0.5306 Accuracy 0.4032\n",
            "Epoch 57 Batch 300 Loss 0.5349 Accuracy 0.4017\n",
            "Epoch 57 Batch 350 Loss 0.5400 Accuracy 0.4009\n",
            "Epoch 57 Batch 400 Loss 0.5438 Accuracy 0.4007\n",
            "Epoch 57 Batch 450 Loss 0.5475 Accuracy 0.4013\n",
            "Epoch 57 Batch 500 Loss 0.5511 Accuracy 0.4009\n",
            "Epoch 57 Batch 550 Loss 0.5548 Accuracy 0.4001\n",
            "Epoch 57 Batch 600 Loss 0.5587 Accuracy 0.3997\n",
            "Epoch 57 Batch 650 Loss 0.5637 Accuracy 0.3992\n",
            "Epoch 57 Batch 700 Loss 0.5682 Accuracy 0.3988\n",
            "Epoch 57 Loss 0.5683 Accuracy 0.3988\n",
            "Time taken for 1 epoch: 40.8746120929718 secs\n",
            "\n",
            "Epoch 58 Batch 0 Loss 0.4848 Accuracy 0.4071\n",
            "Epoch 58 Batch 50 Loss 0.4992 Accuracy 0.4089\n",
            "Epoch 58 Batch 100 Loss 0.5083 Accuracy 0.4067\n",
            "Epoch 58 Batch 150 Loss 0.5120 Accuracy 0.4057\n",
            "Epoch 58 Batch 200 Loss 0.5183 Accuracy 0.4050\n",
            "Epoch 58 Batch 250 Loss 0.5259 Accuracy 0.4043\n",
            "Epoch 58 Batch 300 Loss 0.5290 Accuracy 0.4037\n",
            "Epoch 58 Batch 350 Loss 0.5329 Accuracy 0.4030\n",
            "Epoch 58 Batch 400 Loss 0.5368 Accuracy 0.4022\n",
            "Epoch 58 Batch 450 Loss 0.5413 Accuracy 0.4011\n",
            "Epoch 58 Batch 500 Loss 0.5460 Accuracy 0.4009\n",
            "Epoch 58 Batch 550 Loss 0.5500 Accuracy 0.3998\n",
            "Epoch 58 Batch 600 Loss 0.5541 Accuracy 0.3995\n",
            "Epoch 58 Batch 650 Loss 0.5583 Accuracy 0.3993\n",
            "Epoch 58 Batch 700 Loss 0.5629 Accuracy 0.3986\n",
            "Epoch 58 Loss 0.5629 Accuracy 0.3986\n",
            "Time taken for 1 epoch: 41.010432720184326 secs\n",
            "\n",
            "Epoch 59 Batch 0 Loss 0.5316 Accuracy 0.4124\n",
            "Epoch 59 Batch 50 Loss 0.5061 Accuracy 0.4034\n",
            "Epoch 59 Batch 100 Loss 0.5088 Accuracy 0.4035\n",
            "Epoch 59 Batch 150 Loss 0.5147 Accuracy 0.4025\n",
            "Epoch 59 Batch 200 Loss 0.5177 Accuracy 0.4010\n",
            "Epoch 59 Batch 250 Loss 0.5217 Accuracy 0.4007\n",
            "Epoch 59 Batch 300 Loss 0.5250 Accuracy 0.4015\n",
            "Epoch 59 Batch 350 Loss 0.5287 Accuracy 0.4018\n",
            "Epoch 59 Batch 400 Loss 0.5323 Accuracy 0.4016\n",
            "Epoch 59 Batch 450 Loss 0.5355 Accuracy 0.4011\n",
            "Epoch 59 Batch 500 Loss 0.5399 Accuracy 0.4002\n",
            "Epoch 59 Batch 550 Loss 0.5435 Accuracy 0.4002\n",
            "Epoch 59 Batch 600 Loss 0.5473 Accuracy 0.4004\n",
            "Epoch 59 Batch 650 Loss 0.5517 Accuracy 0.4003\n",
            "Epoch 59 Batch 700 Loss 0.5554 Accuracy 0.4000\n",
            "Epoch 59 Loss 0.5556 Accuracy 0.4000\n",
            "Time taken for 1 epoch: 40.99967169761658 secs\n",
            "\n",
            "Epoch 60 Batch 0 Loss 0.5381 Accuracy 0.4054\n",
            "Epoch 60 Batch 50 Loss 0.4888 Accuracy 0.4026\n",
            "Epoch 60 Batch 100 Loss 0.4971 Accuracy 0.4059\n",
            "Epoch 60 Batch 150 Loss 0.5035 Accuracy 0.4061\n",
            "Epoch 60 Batch 200 Loss 0.5074 Accuracy 0.4048\n",
            "Epoch 60 Batch 250 Loss 0.5124 Accuracy 0.4050\n",
            "Epoch 60 Batch 300 Loss 0.5169 Accuracy 0.4040\n",
            "Epoch 60 Batch 350 Loss 0.5186 Accuracy 0.4038\n",
            "Epoch 60 Batch 400 Loss 0.5225 Accuracy 0.4036\n",
            "Epoch 60 Batch 450 Loss 0.5270 Accuracy 0.4028\n",
            "Epoch 60 Batch 500 Loss 0.5327 Accuracy 0.4019\n",
            "Epoch 60 Batch 550 Loss 0.5375 Accuracy 0.4012\n",
            "Epoch 60 Batch 600 Loss 0.5418 Accuracy 0.4014\n",
            "Epoch 60 Batch 650 Loss 0.5461 Accuracy 0.4011\n",
            "Epoch 60 Batch 700 Loss 0.5501 Accuracy 0.4010\n",
            "Saving checkpoint for epoch 60 at ./checkpoints/train/ckpt-12\n",
            "Epoch 60 Loss 0.5501 Accuracy 0.4010\n",
            "Time taken for 1 epoch: 41.32001090049744 secs\n",
            "\n"
          ]
        }
      ]
    },
    {
      "cell_type": "markdown",
      "metadata": {
        "id": "QfcsSWswSdGV"
      },
      "source": [
        "## Evaluate"
      ]
    },
    {
      "cell_type": "markdown",
      "metadata": {
        "id": "y6APsFrgImLW"
      },
      "source": [
        "The following steps are used for evaluation:\n",
        "\n",
        "* Encode the input sentence using the Portuguese tokenizer (`tokenizer_pt`). Moreover, add the start and end token so the input is equivalent to what the model is trained with. This is the encoder input.\n",
        "* The decoder input is the `start token == tokenizer_en.vocab_size`.\n",
        "* Calculate the padding masks and the look ahead masks.\n",
        "* The `decoder` then outputs the predictions by looking at the `encoder output` and its own output (self-attention).\n",
        "* Select the last word and calculate the argmax of that.\n",
        "* Concatentate the predicted word to the decoder input as pass it to the decoder.\n",
        "* In this approach, the decoder predicts the next word based on the previous words it predicted.\n",
        "\n",
        "Note: The model used here has less capacity to keep the example relatively faster so the predictions maybe less right. To reproduce the results in the paper, use the entire dataset and base transformer model or transformer XL, by changing the hyperparameters above."
      ]
    },
    {
      "cell_type": "code",
      "metadata": {
        "id": "5buvMlnvyrFm"
      },
      "source": [
        "def evaluate(inp_sentence):\n",
        "  start_token = [tokenizer_pt.vocab_size]\n",
        "  end_token = [tokenizer_pt.vocab_size + 1]\n",
        "  \n",
        "  # inp sentence is portuguese, hence adding the start and end token\n",
        "  inp_sentence = start_token + tokenizer_pt.encode(inp_sentence) + end_token\n",
        "  encoder_input = tf.expand_dims(inp_sentence, 0)\n",
        "  \n",
        "  # as the target is english, the first word to the transformer should be the\n",
        "  # english start token.\n",
        "  decoder_input = [tokenizer_en.vocab_size]\n",
        "  output = tf.expand_dims(decoder_input, 0)\n",
        "    \n",
        "  for i in range(MAX_LENGTH):\n",
        "    enc_padding_mask, combined_mask, dec_padding_mask = create_masks(\n",
        "        encoder_input, output)\n",
        "  \n",
        "    # predictions.shape == (batch_size, seq_len, vocab_size)\n",
        "    predictions, attention_weights = transformer(encoder_input, \n",
        "                                                 output,\n",
        "                                                 False,\n",
        "                                                 enc_padding_mask,\n",
        "                                                 combined_mask,\n",
        "                                                 dec_padding_mask)\n",
        "    \n",
        "    # select the last word from the seq_len dimension\n",
        "    predictions = predictions[: ,-1:, :]  # (batch_size, 1, vocab_size)\n",
        "\n",
        "    predicted_id = tf.cast(tf.argmax(predictions, axis=-1), tf.int32)\n",
        "    \n",
        "    # return the result if the predicted_id is equal to the end token\n",
        "    if predicted_id == tokenizer_en.vocab_size+1:\n",
        "      return tf.squeeze(output, axis=0), attention_weights\n",
        "    \n",
        "    # concatentate the predicted_id to the output which is given to the decoder\n",
        "    # as its input.\n",
        "    output = tf.concat([output, predicted_id], axis=-1)\n",
        "\n",
        "  return tf.squeeze(output, axis=0), attention_weights"
      ],
      "execution_count": null,
      "outputs": []
    },
    {
      "cell_type": "code",
      "metadata": {
        "id": "CN-BV43FMBej"
      },
      "source": [
        "def plot_attention_weights(attention, sentence, result, layer):\n",
        "  fig = plt.figure(figsize=(16, 8))\n",
        "  \n",
        "  sentence = tokenizer_pt.encode(sentence)\n",
        "  \n",
        "  attention = tf.squeeze(attention[layer], axis=0)\n",
        "  \n",
        "  for head in range(attention.shape[0]):\n",
        "    ax = fig.add_subplot(2, 4, head+1)\n",
        "    \n",
        "    # plot the attention weights\n",
        "    ax.matshow(attention[head][:-1, :], cmap='viridis')\n",
        "\n",
        "    fontdict = {'fontsize': 10}\n",
        "    \n",
        "    ax.set_xticks(range(len(sentence)+2))\n",
        "    ax.set_yticks(range(len(result)))\n",
        "    \n",
        "    ax.set_ylim(len(result)-1.5, -0.5)\n",
        "        \n",
        "    ax.set_xticklabels(\n",
        "        ['<start>']+[tokenizer_pt.decode([i]) for i in sentence]+['<end>'], \n",
        "        fontdict=fontdict, rotation=90)\n",
        "    \n",
        "    ax.set_yticklabels([tokenizer_en.decode([i]) for i in result \n",
        "                        if i < tokenizer_en.vocab_size], \n",
        "                       fontdict=fontdict)\n",
        "    \n",
        "    ax.set_xlabel('Head {}'.format(head+1))\n",
        "  \n",
        "  plt.tight_layout()\n",
        "  plt.show()"
      ],
      "execution_count": null,
      "outputs": []
    },
    {
      "cell_type": "code",
      "metadata": {
        "id": "lU2_yG_vBGza"
      },
      "source": [
        "def translate(sentence, plot=''):\n",
        "  result, attention_weights = evaluate(sentence)\n",
        "  \n",
        "  predicted_sentence = tokenizer_en.decode([i for i in result \n",
        "                                            if i < tokenizer_en.vocab_size])  \n",
        "\n",
        "  print('Input: {}'.format(sentence))\n",
        "  print('Predicted translation: {}'.format(predicted_sentence))\n",
        "  \n",
        "  if plot:\n",
        "    plot_attention_weights(attention_weights, sentence, result, plot)"
      ],
      "execution_count": null,
      "outputs": []
    },
    {
      "cell_type": "code",
      "metadata": {
        "id": "YsxrAlvFG8SZ",
        "outputId": "e9e92ecc-fc04-4886-f9d2-f7ce24c2a815",
        "colab": {
          "base_uri": "https://localhost:8080/"
        }
      },
      "source": [
        "translate(\"este é um problema que temos que resolver.\")\n",
        "print (\"Real translation: this is a problem we have to solve .\")"
      ],
      "execution_count": null,
      "outputs": [
        {
          "output_type": "stream",
          "name": "stdout",
          "text": [
            "Input: este é um problema que temos que resolver.\n",
            "Predicted translation: this is a problem that we have to solve it .\n",
            "Real translation: this is a problem we have to solve .\n"
          ]
        }
      ]
    },
    {
      "cell_type": "code",
      "metadata": {
        "id": "7EH5y_aqI4t1",
        "outputId": "e890515c-86d7-4a9f-c8e2-adf7a6c7d348",
        "colab": {
          "base_uri": "https://localhost:8080/"
        }
      },
      "source": [
        "translate(\"os meus vizinhos ouviram sobre esta ideia.\")\n",
        "print (\"Real translation: and my neighboring homes heard about this idea .\")"
      ],
      "execution_count": null,
      "outputs": [
        {
          "output_type": "stream",
          "name": "stdout",
          "text": [
            "Input: os meus vizinhos ouviram sobre esta ideia.\n",
            "Predicted translation: my neighbors heard about this idea of this idea .\n",
            "Real translation: and my neighboring homes heard about this idea .\n"
          ]
        }
      ]
    },
    {
      "cell_type": "code",
      "metadata": {
        "id": "J-hVCTSUMlkb",
        "outputId": "4ead9969-34d1-40f5-e966-8c50daaaa844",
        "colab": {
          "base_uri": "https://localhost:8080/"
        }
      },
      "source": [
        "translate(\"vou então muito rapidamente partilhar convosco algumas histórias de algumas coisas mágicas que aconteceram.\")\n",
        "print (\"Real translation: so i 'll just share with you some stories very quickly of some magical things that have happened .\")"
      ],
      "execution_count": null,
      "outputs": [
        {
          "output_type": "stream",
          "name": "stdout",
          "text": [
            "Input: vou então muito rapidamente partilhar convosco algumas histórias de algumas coisas mágicas que aconteceram.\n",
            "Predicted translation: so i 'm very quickly going to share with you some magic stories that had happening .\n",
            "Real translation: so i 'll just share with you some stories very quickly of some magical things that have happened .\n"
          ]
        }
      ]
    },
    {
      "cell_type": "markdown",
      "metadata": {
        "id": "_1MxkSZvz0jX"
      },
      "source": [
        "You can pass different layers and attention blocks of the decoder to the `plot` parameter."
      ]
    },
    {
      "cell_type": "code",
      "metadata": {
        "id": "t-kFyiOLH0xg",
        "outputId": "62463f2d-654d-41a6-d5eb-c3529bf665d9",
        "colab": {
          "base_uri": "https://localhost:8080/",
          "height": 599
        }
      },
      "source": [
        "translate(\"este é o primeiro livro que eu fiz.\", plot='decoder_layer4_block2')\n",
        "print (\"Real translation: this is the first book i've ever done.\")"
      ],
      "execution_count": null,
      "outputs": [
        {
          "output_type": "stream",
          "name": "stdout",
          "text": [
            "Input: este é o primeiro livro que eu fiz.\n",
            "Predicted translation: this is the first book i did .\n"
          ]
        },
        {
          "output_type": "display_data",
          "data": {
            "image/png": "[encoded data removed]",
            "text/plain": [
              "<Figure size 1152x576 with 8 Axes>"
            ]
          },
          "metadata": {
            "needs_background": "light"
          }
        },
        {
          "output_type": "stream",
          "name": "stdout",
          "text": [
            "Real translation: this is the first book i've ever done.\n"
          ]
        }
      ]
    },
    {
      "cell_type": "markdown",
      "metadata": {
        "id": "RqQ1fIsLwkGE"
      },
      "source": [
        "## Summary\n",
        "\n",
        "In this tutorial, you learned about positional encoding, multi-head attention, the importance of masking and how to create a transformer.\n",
        "\n",
        "Try using a different dataset to train the transformer. You can also create the base transformer or transformer XL by changing the hyperparameters above. You can also use the layers defined here to create [BERT](https://arxiv.org/abs/1810.04805) and train state of the art models. Futhermore, you can implement beam search to get better predictions."
      ]
    }
  ]
}
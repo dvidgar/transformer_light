{
 "cells": [
  {
   "cell_type": "markdown",
   "metadata": {
    "id": "d7v2dPqfZFIV"
   },
   "source": [
    "#### Libraries Imported and Setup"
   ]
  },
  {
   "cell_type": "code",
   "execution_count": 1,
   "metadata": {
    "id": "3bQIxfD9Ep0y"
   },
   "outputs": [],
   "source": [
    "import torch\n",
    "from torch import nn\n",
    "from torch import functional as F\n",
    "from torch import optim\n",
    "import torchvision\n",
    "import torchvision.transforms as transforms\n",
    "from torch.utils.data import DataLoader\n",
    "from tqdm import tqdm\n",
    "import math\n",
    "import matplotlib.pyplot as plt\n",
    "%matplotlib inline"
   ]
  },
  {
   "cell_type": "code",
   "execution_count": 2,
   "metadata": {
    "colab": {
     "base_uri": "https://localhost:8080/"
    },
    "id": "YS7R221iUMI0",
    "outputId": "21d2364b-11c4-42d6-fc31-9e38234089ac"
   },
   "outputs": [
    {
     "name": "stdout",
     "output_type": "stream",
     "text": [
      "GPU:  NVIDIA GeForce RTX 3090\n"
     ]
    }
   ],
   "source": [
    "if torch.cuda.is_available():    \n",
    "    device = torch.device(\"cuda\")\n",
    "    print('GPU: ', torch.cuda.get_device_name(0))\n",
    "\n",
    "else:\n",
    "    device = torch.device(\"cpu\")\n",
    "    print('No GPU available')"
   ]
  },
  {
   "cell_type": "markdown",
   "metadata": {
    "id": "LFc5EfTgZIBk"
   },
   "source": [
    "#### Model Architecture"
   ]
  },
  {
   "cell_type": "markdown",
   "metadata": {
    "id": "_75W0devEPY7"
   },
   "source": [
    "##### Vision Transformer Model"
   ]
  },
  {
   "cell_type": "code",
   "execution_count": 3,
   "metadata": {
    "id": "idmPOFlDIGDZ"
   },
   "outputs": [],
   "source": [
    "class Attention(nn.Module):\n",
    "    '''\n",
    "    Attention Module used to perform self-attention operation allowing the model to attend\n",
    "    information from different representation subspaces on an input sequence of embeddings.\n",
    "    The sequence of operations is as follows :-\n",
    "\n",
    "    Input -> Query, Key, Value -> ReshapeHeads -> Query.TransposedKey -> Softmax -> Dropout\n",
    "    -> AttentionScores.Value -> ReshapeHeadsBack -> Output\n",
    "\n",
    "    Args:\n",
    "        embed_dim: Dimension size of the hidden embedding\n",
    "        heads: Number of parallel attention heads (Default=8)\n",
    "        activation: Optional activation function to be applied to the input while\n",
    "                    transforming to query, key and value matrixes (Default=None)\n",
    "        dropout: Dropout value for the layer on attention_scores (Default=0.1)\n",
    "\n",
    "    Methods:\n",
    "        _reshape_heads(inp) :- \n",
    "        Changes the input sequence embeddings to reduced dimension according to the number\n",
    "        of attention heads to parallelize attention operation\n",
    "        (batch_size, seq_len, embed_dim) -> (batch_size * heads, seq_len, reduced_dim)\n",
    "\n",
    "        _reshape_heads_back(inp) :-\n",
    "        Changes the reduced dimension due to parallel attention heads back to the original\n",
    "        embedding size\n",
    "        (batch_size * heads, seq_len, reduced_dim) -> (batch_size, seq_len, embed_dim)\n",
    "\n",
    "        forward(inp) :-\n",
    "        Performs the self-attention operation on the input sequence embedding.\n",
    "        Returns the output of self-attention as well as atttention scores\n",
    "        (batch_size, seq_len, embed_dim) -> (batch_size, seq_len, embed_dim), (batch_size * heads, seq_len, seq_len)\n",
    "\n",
    "    Examples:\n",
    "        >>> attention = Attention(embed_dim, heads, activation, dropout)\n",
    "        >>> out, weights = attention(inp)\n",
    "    '''\n",
    "    def __init__(self, embed_dim, heads=8, activation=None, dropout=0.1):\n",
    "        super(Attention, self).__init__()\n",
    "        self.heads = heads\n",
    "        self.embed_dim = embed_dim\n",
    "        self.query = nn.Linear(embed_dim, embed_dim)\n",
    "        self.key = nn.Linear(embed_dim, embed_dim)\n",
    "        self.value = nn.Linear(embed_dim, embed_dim)\n",
    "        self.softmax = nn.Softmax(dim=-1)\n",
    "        if activation == 'relu':\n",
    "            self.activation = nn.ReLU()\n",
    "        else:\n",
    "            self.activation = nn.Identity()\n",
    "        self.dropout = nn.Dropout(dropout)\n",
    "    \n",
    "    def forward(self, inp):\n",
    "        # inp: (batch_size, seq_len, embed_dim)\n",
    "        batch_size, seq_len, embed_dim = inp.size()\n",
    "        assert embed_dim == self.embed_dim\n",
    "\n",
    "        query = self.activation(self.query(inp))\n",
    "        key   = self.activation(self.key(inp))\n",
    "        value = self.activation(self.value(inp))\n",
    "\n",
    "        # output of _reshape_heads(): (batch_size * heads, seq_len, reduced_dim) | reduced_dim = embed_dim // heads\n",
    "        query = self._reshape_heads(query)\n",
    "        key   = self._reshape_heads(key)\n",
    "        value = self._reshape_heads(value)\n",
    "\n",
    "        # attention_scores: (batch_size * heads, seq_len, seq_len) | Softmaxed along the last dimension\n",
    "        attention_scores = self.softmax(torch.matmul(query, key.transpose(1, 2)))\n",
    "\n",
    "        # out: (batch_size * heads, seq_len, reduced_dim)\n",
    "        out = torch.matmul(self.dropout(attention_scores), value)\n",
    "        \n",
    "        # output of _reshape_heads_back(): (batch_size, seq_len, embed_size)\n",
    "        out = self._reshape_heads_back(out)\n",
    "\n",
    "        return out, attention_scores\n",
    "\n",
    "    def _reshape_heads(self, inp):\n",
    "        # inp: (batch_size, seq_len, embed_dim)\n",
    "        batch_size, seq_len, embed_dim = inp.size()\n",
    "\n",
    "        reduced_dim = self.embed_dim // self.heads\n",
    "        assert reduced_dim * self.heads == self.embed_dim\n",
    "        out = inp.reshape(batch_size, seq_len, self.heads, reduced_dim)\n",
    "        out = out.permute(0, 2, 1, 3)\n",
    "        out = out.reshape(-1, seq_len, reduced_dim)\n",
    "\n",
    "        # out: (batch_size * heads, seq_len, reduced_dim)\n",
    "        return out\n",
    "\n",
    "    def _reshape_heads_back(self, inp):\n",
    "        # inp: (batch_size * heads, seq_len, reduced_dim) | reduced_dim = embed_dim // heads\n",
    "        batch_size_mul_heads, seq_len, reduced_dim = inp.size()\n",
    "        batch_size = batch_size_mul_heads // self.heads\n",
    "\n",
    "        out = inp.reshape(batch_size, self.heads, seq_len, reduced_dim)\n",
    "        out = out.permute(0, 2, 1, 3)\n",
    "        out = out.reshape(batch_size, seq_len, self.embed_dim)\n",
    "\n",
    "        # out: (batch_size, seq_len, embed_dim)\n",
    "        return out"
   ]
  },
  {
   "cell_type": "code",
   "execution_count": 4,
   "metadata": {
    "id": "XYemII1gElcK"
   },
   "outputs": [],
   "source": [
    "# Check if Dropout should be used after second Linear Layer\n",
    "class FeedForward(nn.Module):\n",
    "    '''\n",
    "    FeedForward Network with two sequential linear layers with GELU activation function\n",
    "    ,applied to the output of self attention operation. The sequence of operations is as\n",
    "    follows :-\n",
    "    \n",
    "    Input -> FC1 -> GELU -> Dropout -> FC2 -> Output\n",
    "\n",
    "    Args:\n",
    "        embed_dim: Dimension size of the hidden embedding\n",
    "        forward_expansion: The scale used to transform the input embedding to a higher dimension\n",
    "                           and then scaled back to capture richer information (Default=1)\n",
    "        dropout: Dropout value for the layer on attention_scores (Default=0.1)\n",
    "\n",
    "    Methods:\n",
    "        forward(inp) :-\n",
    "        Applies the sequence of operations mentioned above.\n",
    "        (batch_size, seq_len, embed_dim) -> (batch_size, seq_len, embed_dim)\n",
    "\n",
    "    Examples:\n",
    "        >>> FF = FeedForward(8, 1)\n",
    "        >>> out = FF(inp)\n",
    "    '''\n",
    "    def __init__(self, embed_dim, forward_expansion=1, dropout=0.1):\n",
    "        super(FeedForward, self).__init__()\n",
    "        self.embed_dim = embed_dim\n",
    "        self.fc1 = nn.Linear(embed_dim, embed_dim * forward_expansion)\n",
    "        self.activation = nn.GELU()\n",
    "        self.fc2 = nn.Linear(embed_dim * forward_expansion, embed_dim)\n",
    "        self.dropout = nn.Dropout(dropout)\n",
    "\n",
    "    def forward(self, inp):\n",
    "        # inp: (batch_size, seq_len, embed_dim)\n",
    "        batch_size, seq_len, embed_dim = inp.size()\n",
    "        assert embed_dim == self.embed_dim\n",
    "\n",
    "        out = self.dropout(self.activation(self.fc1(inp)))\n",
    "        # out = self.dropout(self.fc2(out))\n",
    "        out = self.fc2(out)\n",
    "\n",
    "        # out: (batch_size, seq_len, embed_dim)\n",
    "        return out "
   ]
  },
  {
   "cell_type": "code",
   "execution_count": 5,
   "metadata": {
    "id": "uMrCi7DNGvCc"
   },
   "outputs": [],
   "source": [
    "class TransformerBlock(nn.Module):\n",
    "    '''\n",
    "    Transformer Block combines both the attention module and the feed forward module with layer\n",
    "    normalization, dropout and residual connections. The sequence of operations is as follows :-\n",
    "    \n",
    "    Input -> LayerNorm1 -> Attention -> Residual -> LayerNorm2 -> FeedForward -> Output\n",
    "      |                                   |  |                                      |\n",
    "      |-------------Addition--------------|  |---------------Addition---------------|\n",
    "\n",
    "    Args:\n",
    "        embed_dim: Dimension size of the hidden embedding\n",
    "        heads: Number of parallel attention heads (Default=8)\n",
    "        activation: Optional activation function to be applied to the input while\n",
    "                    transforming to query, key and value matrixes (Default=None)\n",
    "        forward_expansion: The scale used to transform the input embedding to a higher dimension\n",
    "                           and then scaled back to capture richer information (Default=1)\n",
    "        dropout: Dropout value for the layer on attention_scores (Default=0.1)\n",
    "    \n",
    "    Methods:\n",
    "        forward(inp) :-\n",
    "        Applies the sequence of operations mentioned above.\n",
    "        (batch_size, seq_len, embed_dim) -> (batch_size, seq_len, embed_dim)\n",
    "\n",
    "    Examples:\n",
    "        >>> TB = TransformerBlock(embed_dim, heads, activation, forward_expansion, dropout)\n",
    "        >>> out = TB(inp)\n",
    "    '''\n",
    "    def __init__(self, embed_dim, heads=8, activation=None, forward_expansion=1, dropout=0.1):\n",
    "        super(TransformerBlock, self).__init__()\n",
    "        self.embed_dim = embed_dim\n",
    "        self.norm1 = nn.LayerNorm(embed_dim)\n",
    "        self.attention = Attention(embed_dim, heads, activation, dropout)\n",
    "        self.norm2 = nn.LayerNorm(embed_dim)\n",
    "        self.feed_forward = FeedForward(embed_dim, forward_expansion, dropout)\n",
    "\n",
    "    def forward(self, inp):\n",
    "        # inp: (batch_size, seq_len, embed_dim)\n",
    "        batch_size, seq_len, embed_dim = inp.size()\n",
    "        assert embed_dim == self.embed_dim\n",
    "\n",
    "        res = inp\n",
    "        out = self.norm1(inp)\n",
    "        out, _ = self.attention(out)\n",
    "        out = out + res\n",
    "        \n",
    "        res = out\n",
    "        out = self.norm2(out)\n",
    "        out = self.feed_forward(out)\n",
    "        out = out + res\n",
    "\n",
    "        # out: (batch_size, seq_len, embed_dim)\n",
    "        return out"
   ]
  },
  {
   "cell_type": "code",
   "execution_count": 6,
   "metadata": {
    "id": "kcBcReoPJ4NC"
   },
   "outputs": [],
   "source": [
    "class Transformer(nn.Module):\n",
    "    '''\n",
    "    Transformer combines multiple layers of Transformer Blocks in a sequential manner. The sequence\n",
    "    of the operations is as follows -\n",
    "\n",
    "    Input -> TB1 -> TB2 -> .......... -> TBn (n being the number of layers) -> Output\n",
    "\n",
    "    Args:\n",
    "        embed_dim: Dimension size of the hidden embedding\n",
    "        layers: Number of Transformer Blocks in the Transformer\n",
    "        heads: Number of parallel attention heads (Default=8)\n",
    "        activation: Optional activation function to be applied to the input while\n",
    "                    transforming to query, key and value matrixes (Default=None)\n",
    "        forward_expansion: The scale used to transform the input embedding to a higher dimension\n",
    "                           and then scaled back to capture richer information (Default=1)\n",
    "        dropout: Dropout value for the layer on attention_scores (Default=0.1)\n",
    "    \n",
    "    Methods:\n",
    "        forward(inp) :-\n",
    "        Applies the sequence of operations mentioned above.\n",
    "        (batch_size, seq_len, embed_dim) -> (batch_size, seq_len, embed_dim)\n",
    "\n",
    "    Examples:\n",
    "        >>> transformer = Transformer(embed_dim, layers, heads, activation, forward_expansion, dropout)\n",
    "        >>> out = transformer(inp)\n",
    "    '''\n",
    "    def __init__(self, embed_dim, layers, heads=8, activation=None, forward_expansion=1, dropout=0.1):\n",
    "        super(Transformer, self).__init__()\n",
    "        self.embed_dim = embed_dim\n",
    "        self.trans_blocks = nn.ModuleList(\n",
    "            [TransformerBlock(embed_dim, heads, activation, forward_expansion, dropout) for i in range(layers)]\n",
    "        )\n",
    "\n",
    "    def forward(self, inp):\n",
    "        # inp: (batch_size, seq_len, embed_dim)\n",
    "\n",
    "        out = inp\n",
    "        for block in self.trans_blocks:\n",
    "            out = block(out)\n",
    "\n",
    "        # out: (batch_size, seq_len, embed_dim)\n",
    "        return out"
   ]
  },
  {
   "cell_type": "code",
   "execution_count": 7,
   "metadata": {
    "id": "XRN2k5-kLWYG"
   },
   "outputs": [],
   "source": [
    "# Not Exactly Same as Paper\n",
    "class ClassificationHead(nn.Module):\n",
    "    '''\n",
    "    Classification Head attached to the first sequence token which is used as the arbitrary \n",
    "    classification token and used to optimize the transformer model by applying Cross-Entropy \n",
    "    loss. The sequence of operations is as follows :-\n",
    "\n",
    "    Input -> FC1 -> GELU -> Dropout -> FC2 -> Output\n",
    "\n",
    "    Args:\n",
    "        embed_dim: Dimension size of the hidden embedding\n",
    "        classes: Number of classification classes in the dataset\n",
    "        dropout: Dropout value for the layer on attention_scores (Default=0.1)\n",
    "\n",
    "    Methods:\n",
    "        forward(inp) :-\n",
    "        Applies the sequence of operations mentioned above.\n",
    "        (batch_size, embed_dim) -> (batch_size, classes)\n",
    "\n",
    "    Examples:\n",
    "        >>> CH = ClassificationHead(embed_dim, classes, dropout)\n",
    "        >>> out = CH(inp)\n",
    "    '''\n",
    "    def __init__(self, embed_dim, classes, dropout=0.1):\n",
    "        super(ClassificationHead, self).__init__()\n",
    "        self.embed_dim = embed_dim\n",
    "        self.classes = classes\n",
    "        self.fc1 = nn.Linear(embed_dim, embed_dim // 2)\n",
    "        self.activation = nn.GELU()\n",
    "        self.fc2 = nn.Linear(embed_dim // 2, classes)\n",
    "        self.softmax = nn.Softmax(dim=-1)\n",
    "        self.dropout = nn.Dropout(dropout)\n",
    "    \n",
    "    def forward(self, inp):\n",
    "        # inp: (batch_size, embed_dim)\n",
    "        batch_size, embed_dim = inp.size()\n",
    "        assert embed_dim == self.embed_dim\n",
    "\n",
    "        out = self.dropout(self.activation(self.fc1(inp)))\n",
    "        # out = self.softmax(self.fc2(out))\n",
    "        out = self.fc2(out)\n",
    "\n",
    "        # out: (batch_size, classes) \n",
    "        return out"
   ]
  },
  {
   "cell_type": "code",
   "execution_count": 8,
   "metadata": {
    "id": "M-8nXI7gPxIs"
   },
   "outputs": [],
   "source": [
    "class VisionTransformer(nn.Module):\n",
    "    '''\n",
    "    Vision Transformer is the complete end to end model architecture which combines all the above modules\n",
    "    in a sequential manner. The sequence of the operations is as follows -\n",
    "\n",
    "    Input -> CreatePatches -> ClassToken, PatchToEmbed , PositionEmbed -> Transformer -> ClassificationHead -> Output\n",
    "                                   |            | |                |\n",
    "                                   |---Concat---| |----Addition----|\n",
    "    \n",
    "    Args:\n",
    "        patch_size: Length of square patch size \n",
    "        max_len: Max length of learnable positional embedding\n",
    "        embed_dim: Dimension size of the hidden embedding\n",
    "        classes: Number of classes in the dataset\n",
    "        layers: Number of Transformer Blocks in the Transformer\n",
    "        channels: Number of channels in the input (Default=3)\n",
    "        heads: Number of parallel attention heads (Default=8)\n",
    "        activation: Optional activation function to be applied to the input while\n",
    "                    transforming to query, key and value matrixes (Default=None)\n",
    "        forward_expansion: The scale used to transform the input embedding to a higher dimension\n",
    "                           and then scaled back to capture richer information (Default=1)\n",
    "        dropout: Dropout value for the layer on attention_scores (Default=0.1)\n",
    "    \n",
    "    Methods:\n",
    "        forward(inp) :-\n",
    "        Applies the sequence of operations mentioned above.\n",
    "        It outputs the classification output as well as the sequence output of the transformer\n",
    "        (batch_size, channels, width, height) -> (batch_size, classes), (batch_size, seq_len+1, embed_dim)\n",
    "    \n",
    "    Examples:\n",
    "        >>> ViT = VisionTransformer(atch_size, max_len, embed_dim, classes, layers, channels, heads, activation, forward_expansion, dropout)\n",
    "        >>> class_out, hidden_seq = ViT(inp)\n",
    "    '''\n",
    "    def __init__(self, patch_size, max_len, embed_dim, classes, layers, channels=3, heads=8, activation=None, forward_expansion=1, dropout=0.1):\n",
    "        super(VisionTransformer, self).__init__()\n",
    "        self.name = 'VisionTransformer'\n",
    "        self.patch_size = patch_size\n",
    "        self.embed_dim = embed_dim\n",
    "        self.channels = channels\n",
    "        self.patch_to_embed = nn.Linear(patch_size * patch_size * channels, embed_dim)\n",
    "        self.position_embed = nn.Parameter(torch.randn((max_len, embed_dim)))\n",
    "        self.transformer = Transformer(embed_dim, layers, heads, activation, forward_expansion, dropout)\n",
    "        self.classification_head = ClassificationHead(embed_dim, classes)\n",
    "        self.class_token = nn.Parameter(torch.zeros(1, 1, embed_dim))\n",
    "\n",
    "    def forward(self, inp):\n",
    "        # inp: (batch_size, channels, width, height)\n",
    "        batch_size, channels, width, height = inp.size()\n",
    "        assert channels == self.channels\n",
    "\n",
    "        out = inp.unfold(2, self.patch_size, self.patch_size).unfold(3, self.patch_size, self.patch_size).contiguous()\n",
    "        out = out.view(batch_size, channels, -1, self.patch_size, self.patch_size)\n",
    "        out = out.permute(0, 2, 3, 4, 1)\n",
    "        # out: (batch_size, seq_len, patch_size, patch_size, channels) | seq_len would be (width*height)/(patch_size**2)\n",
    "        batch_size, seq_len, patch_size, _, channels = out.size()\n",
    "        \n",
    "        out = out.reshape(batch_size, seq_len, -1)\n",
    "        out = self.patch_to_embed(out)\n",
    "        # out: (batch_size, seq_len, embed_dim)\n",
    "\n",
    "        class_token = self.class_token.expand(batch_size, -1, -1)\n",
    "        out = torch.cat([class_token, out], dim=1)\n",
    "        # out: (batch_size, seq_len+1, embed_dim)\n",
    "\n",
    "        position_embed = self.position_embed[:seq_len+1]\n",
    "        position_embed = position_embed.unsqueeze(0).expand(batch_size, seq_len+1, self.embed_dim)\n",
    "        out = out + position_embed\n",
    "        # out: (batch_size, seq_len+1, embed_dim) | Added Positional Embeddings\n",
    "\n",
    "        out = self.transformer(out)\n",
    "        # out: (batch_size, seq_len+1, embed_dim) \n",
    "        class_token = out[:, 0]\n",
    "        # class_token: (batch_size, embed_dim)\n",
    "\n",
    "        class_out = self.classification_head(class_token)\n",
    "        # class_out: (batch_size, classes)\n",
    "        \n",
    "        return class_out, out"
   ]
  },
  {
   "cell_type": "code",
   "execution_count": 9,
   "metadata": {
    "id": "hJPR42t1S9li"
   },
   "outputs": [],
   "source": [
    "import torch\n",
    "import torch.nn as nn\n",
    "from torchvision.models import resnet34\n",
    "\n",
    "class ResNetFeatures(nn.Module):\n",
    "    '''\n",
    "    ResNetFeatures outputs the lower level features from pretrained ResNet34 till the intial 5 layers \n",
    "    (conv1, bn1, relu, maxpool, layer1(3 conv layers)) to be used in the hybrid architecture to be \n",
    "    able to kickstart the learining faster. The sequence of operations is as follows :-\n",
    "\n",
    "    Input -> conv1 -> bn1 -> relu -> maxpool -> layer1 -> Output\n",
    "\n",
    "    Args:\n",
    "        No arguments required\n",
    "    \n",
    "    Methods:\n",
    "        forward(inp) :-\n",
    "        Applies the sequence of operations mentioned above.\n",
    "        (batch_size, 3, 224, 224) -> (batch_size, 64, 56, 56)\n",
    "    \n",
    "    Examples:\n",
    "        >>> resnet_features = ResNetFeatures()\n",
    "        >>> out = resnet_features(inp)\n",
    "    '''\n",
    "    def __init__(self):\n",
    "        super(ResNetFeatures, self).__init__()\n",
    "        layers = list(resnet34(pretrained=True).children())[:5] #all layer expect last layer\n",
    "        self.feature_extractor = nn.Sequential(*layers)\n",
    "        \n",
    "    def forward(self, inp):\n",
    "        # inp: (batch_size, 3, 224, 224)\n",
    "\n",
    "        out = self.feature_extractor(inp)\n",
    "\n",
    "        # out: (batch_size, 64, 56, 56)\n",
    "        return out"
   ]
  },
  {
   "cell_type": "markdown",
   "metadata": {
    "id": "BsEV_yqAETZA"
   },
   "source": [
    "##### ResNet Models"
   ]
  },
  {
   "cell_type": "code",
   "execution_count": 10,
   "metadata": {
    "id": "eUMIU5BMjmeD"
   },
   "outputs": [],
   "source": [
    "class ResidualBlockSmall(nn.Module):\n",
    "    '''\n",
    "    ResidualBlockSmall implements the smaller block of the Residual Networks. It optionally also downsamples\n",
    "    the input according to the stride to match the output while adding the residual. The sequence of operations\n",
    "    is as follows :-\n",
    "\n",
    "    Input -> Conv1 -> BNorm1 -> ReLU -> Conv2 -> BNorm2 -> ReLU -> Output\n",
    "      |                                                              |\n",
    "      |-----------------Residual_Downsample (Optional)---------------|\n",
    "\n",
    "    Args:\n",
    "        input_channels: Number of input channels\n",
    "        out_channels: Number of output channels\n",
    "        residual_downsample: Residual Downsample dependent on if either height, width or channels change\n",
    "        stride: Stride value for the convolutional layers (Default=1)\n",
    "\n",
    "    Methods:\n",
    "        forward(inp) :-\n",
    "        Applies the sequence of operations mentioned above.\n",
    "        (batch_size, input_channels, height, width) -> (batch_size, out_channels, height, width)\n",
    "    \n",
    "    Examples:\n",
    "        >>> RBS = ResidualBlockSmall(input_channels, out_channels, residual_downsample, stride)\n",
    "        >>> out = RBS(inp)\n",
    "    '''\n",
    "    def __init__(self, input_channels, out_channels, residual_downsample=None, stride=1):\n",
    "        super(ResidualBlockSmall, self).__init__()\n",
    "        self.conv1 = nn.Conv2d(input_channels, out_channels, kernel_size=3, stride=stride, padding=1)\n",
    "        self.bnorm1 = nn.BatchNorm2d(out_channels)\n",
    "        self.conv2 = nn.Conv2d(out_channels, out_channels, kernel_size=3, stride=1, padding=1)\n",
    "        self.bnorm2 = nn.BatchNorm2d(out_channels)\n",
    "        self.activation = nn.ReLU()\n",
    "        self.residual_downsample = residual_downsample\n",
    "    \n",
    "    def forward(self, inp):\n",
    "        # inp: (batch_size, input_channels, height, width)\n",
    "\n",
    "        res = inp\n",
    "        out = self.activation(self.bnorm1(self.conv1(inp)))\n",
    "        out = self.activation(self.bnorm2(self.conv2(out)))\n",
    "        \n",
    "        if self.residual_downsample is not None:\n",
    "            res = self.residual_downsample(res)\n",
    "\n",
    "        out = self.activation(out + res)\n",
    "\n",
    "        # out: (batch_size, out_channels, height, width) | height, width depending on stride\n",
    "        return out"
   ]
  },
  {
   "cell_type": "code",
   "execution_count": 11,
   "metadata": {
    "id": "KvBRaEPVktZd"
   },
   "outputs": [],
   "source": [
    "class ResNetSmall(nn.Module):\n",
    "    '''\n",
    "    ResNetSmall consists of layers of the smaller residual block defined above (ResidualBlockSmall).\n",
    "    The layers are the residual blocks. The sequence of operations is as follows :-\n",
    "\n",
    "    Input -> Conv1 -> BNorm1 -> ReLU -> MaxPool -> Layer1 -> Layer2 -> Layer3 -> Layer4 -> AvgPool -> FC\n",
    "\n",
    "    Args:\n",
    "        layers: A four value array containing number of conv layers in each residual block\n",
    "        input_channels: number of input channels\n",
    "        classes: Number of classes in the dataset\n",
    "    \n",
    "    Methods:\n",
    "        _layer(num_layers (Number of conv layers)\n",
    "               ,input_channels (Number of input channels)\n",
    "               ,output_channels (Number of output channels)\n",
    "               ,stride (Stride value for conv layer)) :-\n",
    "        Returns the sequential wrapper with all the layers in the residual block constructed according\n",
    "        to the parameters.\n",
    "\n",
    "        forward(inp) :-\n",
    "        Applies the sequence of operations mentioned above.\n",
    "        (batch_size, input_channels, height, width) -> (batch_size, classes)\n",
    "\n",
    "    Examples:\n",
    "        >>> resnet = ResNetSmall(layers, input_channels, classes)\n",
    "        >>> out = resnet(inp)\n",
    "    '''\n",
    "    def __init__(self, layers, input_channels, classes):\n",
    "        super(ResNetSmall, self).__init__()\n",
    "        self.name = 'ResNet'\n",
    "        self.conv1 = nn.Conv2d(input_channels, 64, kernel_size=7, stride=2, padding=3)\n",
    "        self.bnorm1 = nn.BatchNorm2d(64)\n",
    "        self.activation = nn.ReLU()\n",
    "        self.maxpool = nn.MaxPool2d(kernel_size=3, stride=2, padding=1)\n",
    "\n",
    "        self.layer1 = self._layer(layers[0], input_channels=64, output_channels=64, stride=1)\n",
    "        self.layer2 = self._layer(layers[1], input_channels=64, output_channels=128, stride=2)\n",
    "        self.layer3 = self._layer(layers[2], input_channels=128, output_channels=256, stride=2)\n",
    "        self.layer4 = self._layer(layers[3], input_channels=256, output_channels=512, stride=2)\n",
    "\n",
    "        self.avppool = nn.AdaptiveAvgPool2d((1, 1))\n",
    "        self.fc = nn.Linear(512, classes)\n",
    "\n",
    "    def forward(self, inp):\n",
    "        # inp: (batch_size, input_channels, height, width)\n",
    "\n",
    "        out = self.activation(self.bnorm1(self.conv1(inp)))\n",
    "        out = self.maxpool(out)\n",
    "        out = self.layer1(out)\n",
    "        out = self.layer2(out)\n",
    "        out = self.layer3(out)\n",
    "        out = self.layer4(out)\n",
    "\n",
    "        out = self.avppool(out)\n",
    "        out = out.reshape(out.shape[0], -1)\n",
    "        out = self.fc(out)\n",
    "\n",
    "        # out: (batch_size, classes)\n",
    "        return out\n",
    "\n",
    "    def _layer(self, num_layers, input_channels, output_channels, stride):\n",
    "        residual_downsample = None\n",
    "        layers = []\n",
    "\n",
    "        if stride != 1:\n",
    "            residual_downsample = nn.Sequential(\n",
    "                nn.Conv2d(input_channels, output_channels, kernel_size=1, stride=stride),\n",
    "                nn.BatchNorm2d(output_channels * 4)\n",
    "            )\n",
    "        \n",
    "        layers.append(ResidualBlockSmall(input_channels, output_channels, residual_downsample, stride))\n",
    "\n",
    "        for i in range(num_layers - 1):\n",
    "            layers.append(ResidualBlockSmall(output_channels, output_channels))\n",
    "\n",
    "        return nn.Sequential(*layers)"
   ]
  },
  {
   "cell_type": "code",
   "execution_count": 12,
   "metadata": {
    "id": "vQxpId2jEV_R"
   },
   "outputs": [],
   "source": [
    "class ResidualBlockLarge(nn.Module):\n",
    "    '''\n",
    "    ResidualBlockLarge implements the larger block of the Residual Networks. It optionally also downsamples\n",
    "    the input according to the stride or output channels to match the output while adding the residual. The \n",
    "    sequence of operations is as follows :-\n",
    "\n",
    "    Input -> Conv1 -> BNorm1 -> ReLU -> Conv2 -> BNorm2 -> ReLU -> Conv3 -> BNorm3 -> ReLU -> Output\n",
    "      |                                                                                          |\n",
    "      |-----------------------------Residual_Downsample (Optional)-------------------------------|\n",
    "\n",
    "    Args:\n",
    "        input_channels: Number of input channels\n",
    "        out_channels: Number of output channels\n",
    "        residual_downsample: Residual Downsample dependent on if either height, width or channels change\n",
    "        stride: Stride value for the convolutional layers (Default=1)\n",
    "        expansion: Expansion of the input channels during convolutions (Default=4)\n",
    "\n",
    "    Methods:\n",
    "        forward(inp) :-\n",
    "        Applies the sequence of operations mentioned above.\n",
    "        (batch_size, input_channels, height, width) -> (batch_size, out_channels * expansion, height, width)\n",
    "    \n",
    "    Examples:\n",
    "        >>> RBL = ResidualBlockLarge(input_channels, out_channels, residual_downsample, stride, expansion)\n",
    "        >>> out = RBL(inp)\n",
    "    '''\n",
    "    def __init__(self, input_channels, out_channels, residual_downsample=None, stride=1, expansion=4):\n",
    "        super(ResidualBlockLarge, self).__init__()\n",
    "        self.expansion = expansion\n",
    "        self.conv1 = nn.Conv2d(input_channels, out_channels, kernel_size=1, stride=1, padding=0)\n",
    "        self.bnorm1 = nn.BatchNorm2d(out_channels)\n",
    "        self.conv2 = nn.Conv2d(out_channels, out_channels, kernel_size=3, stride=stride, padding=1)\n",
    "        self.bnorm2 = nn.BatchNorm2d(out_channels)\n",
    "        self.conv3 = nn.Conv2d(out_channels, out_channels * expansion, kernel_size=1, stride=1, padding=0)\n",
    "        self.bnorm3 = nn.BatchNorm2d(out_channels * expansion)\n",
    "        self.activation = nn.ReLU()\n",
    "        self.residual_downsample = residual_downsample\n",
    "    \n",
    "    def forward(self, inp):\n",
    "        # inp: (batch_size, input_channels, height, width)\n",
    "\n",
    "        res = inp\n",
    "        out = self.activation(self.bnorm1(self.conv1(inp)))\n",
    "        out = self.activation(self.bnorm2(self.conv2(out)))\n",
    "        out = self.activation(self.bnorm3(self.conv3(out)))\n",
    "        \n",
    "        if self.residual_downsample is not None:\n",
    "            res = self.residual_downsample(res)\n",
    "\n",
    "        out = self.activation(out + res)\n",
    "\n",
    "        # out: (batch_size, out_channels * expansion, height, width) | height, width depending on stride\n",
    "        return out"
   ]
  },
  {
   "cell_type": "code",
   "execution_count": 13,
   "metadata": {
    "id": "6ss--kZkSGNU"
   },
   "outputs": [],
   "source": [
    "class ResNetLarge(nn.Module):\n",
    "    '''\n",
    "    ResNetLarge consists of layers of the larger residual block defined above (ResidualBlockLarger).\n",
    "    The layers are the residual blocks. The sequence of operations is as follows :-\n",
    "\n",
    "    Input -> Conv1 -> BNorm1 -> ReLU -> MaxPool -> Layer1 -> Layer2 -> Layer3 -> Layer4 -> AvgPool -> FC\n",
    "\n",
    "    Args:\n",
    "        layers: A four value array containing number of conv layers in each residual block\n",
    "        input_channels: number of input channels\n",
    "        classes: Number of classes in the dataset\n",
    "    \n",
    "    Methods:\n",
    "        _layer(num_layers (Number of conv layers)\n",
    "               ,input_channels (Number of input channels)\n",
    "               ,output_channels (Number of output channels)\n",
    "               ,stride (Stride value for conv layer)) :-\n",
    "        Returns the sequential wrapper with all the layers in the residual block constructed according\n",
    "        to the parameters.\n",
    "\n",
    "        forward(inp) :-\n",
    "        Applies the sequence of operations mentioned above.\n",
    "        (batch_size, input_channels, height, width) -> (batch_size, classes)\n",
    "\n",
    "    Examples:\n",
    "        >>> resnet = ResNetLarge(layers, input_channels, classes)\n",
    "        >>> out = resnet(inp)\n",
    "    '''\n",
    "    def __init__(self, layers, input_channels, classes):\n",
    "        super(ResNetLarge, self).__init__()\n",
    "        self.name = 'ResNet'\n",
    "        self.conv1 = nn.Conv2d(input_channels, 64, kernel_size=7, stride=2, padding=3)\n",
    "        self.bnorm1 = nn.BatchNorm2d(64)\n",
    "        self.activation = nn.ReLU()\n",
    "        self.maxpool = nn.MaxPool2d(kernel_size=3, stride=2, padding=1)\n",
    "\n",
    "        self.layer1 = self._layer(layers[0], input_channels=64, output_channels=64, stride=1)\n",
    "        self.layer2 = self._layer(layers[1], input_channels=256, output_channels=128, stride=2)\n",
    "        self.layer3 = self._layer(layers[2], input_channels=512, output_channels=256, stride=2)\n",
    "        self.layer4 = self._layer(layers[3], input_channels=1024, output_channels=512, stride=2)\n",
    "\n",
    "        self.avppool = nn.AdaptiveAvgPool2d((1, 1))\n",
    "        self.fc = nn.Linear(2048, classes)\n",
    "\n",
    "    def forward(self, inp):\n",
    "        # inp: (batch_size, input_channels, height, width)\n",
    "\n",
    "        out = self.activation(self.bnorm1(self.conv1(inp)))\n",
    "        out = self.maxpool(out)\n",
    "        out = self.layer1(out)\n",
    "        out = self.layer2(out)\n",
    "        out = self.layer3(out)\n",
    "        out = self.layer4(out)\n",
    "\n",
    "        out = self.avppool(out)\n",
    "        out = out.reshape(out.shape[0], -1)\n",
    "        out = self.fc(out)\n",
    "\n",
    "        # out: (batch_size, classes)\n",
    "        return out\n",
    "\n",
    "    def _layer(self, num_layers, input_channels, output_channels, stride):\n",
    "        residual_downsample = None\n",
    "        layers = []\n",
    "\n",
    "        # Checks if there would be potential mismatch in any of height, width or channels between input and output. \n",
    "        # 4 is the value of the expansion for large ResNets\n",
    "        if stride != 1 or input_channels != output_channels * 4:\n",
    "            residual_downsample = nn.Sequential(\n",
    "                nn.Conv2d(input_channels, output_channels * 4, kernel_size=1, stride=stride),\n",
    "                nn.BatchNorm2d(output_channels * 4)\n",
    "            )\n",
    "        \n",
    "        layers.append(ResidualBlockLarge(input_channels, output_channels, residual_downsample, stride))\n",
    "\n",
    "        for i in range(num_layers - 1):\n",
    "            layers.append(ResidualBlockLarge(output_channels * 4, output_channels))\n",
    "\n",
    "        return nn.Sequential(*layers)"
   ]
  },
  {
   "cell_type": "code",
   "execution_count": 14,
   "metadata": {
    "id": "4piMb4xwl3MX"
   },
   "outputs": [],
   "source": [
    "def ResNet34(input_channels, classes):\n",
    "    '''\n",
    "    Initalization of ResNet34 using the layers as mentioned in the paper and using ResNetSmall module.\n",
    "\n",
    "    Args:\n",
    "        input_channels: Number of input channels\n",
    "        classes: Number of classes in the dataset\n",
    "    \n",
    "    Output:\n",
    "        ResNetSmall Object\n",
    "    '''\n",
    "    return ResNetSmall([3, 4, 6, 3], input_channels, classes)"
   ]
  },
  {
   "cell_type": "code",
   "execution_count": 15,
   "metadata": {
    "id": "GeceF_RUaVO4"
   },
   "outputs": [],
   "source": [
    "def ResNet50(input_channels, classes):\n",
    "    '''\n",
    "    Initalization of ResNet50 using the layers as mentioned in the paper and using ResNetLarge module.\n",
    "    \n",
    "    Args:\n",
    "        input_channels: Number of input channels\n",
    "        classes: Number of classes in the dataset\n",
    "    \n",
    "    Output:\n",
    "        ResNetLarge Object\n",
    "    '''\n",
    "    return ResNetLarge([3, 4, 6, 3], input_channels, classes)"
   ]
  },
  {
   "cell_type": "markdown",
   "metadata": {
    "id": "bGS4bmCRWmIg"
   },
   "source": [
    "#### Data Loading Functions"
   ]
  },
  {
   "cell_type": "code",
   "execution_count": 16,
   "metadata": {
    "id": "60fXexWWWlpJ"
   },
   "outputs": [],
   "source": [
    "def CIFAR100DataLoader(split, batch_size=8, num_workers=2, shuffle=True, size='32', normalize='standard'):\n",
    "    '''\n",
    "    A wrapper function that creates a DataLoader for CIFAR100 dataset loaded from torchvision using \n",
    "    the parameters supplied and applies the required data augmentations.\n",
    "\n",
    "    Args:\n",
    "        split: A string to decide if train or test data to be used (Values: 'train', 'test')\n",
    "        batch_size: Batch size to used for loading data (Default=8)\n",
    "        num_workers: Number of parallel workers used to load data (Default=2)\n",
    "        shuffle: Boolean value to decide if data should be randomized (Default=True)\n",
    "        size: A string to decide the size of the input images (Default='32') (Values: '32','224')\n",
    "        normalize: A string to decide the normalization to applied to the input images\n",
    "                   (Default='standard') (Values: 'standard', 'imagenet')\n",
    "    \n",
    "    Output:\n",
    "        DataLoader Object\n",
    "    '''\n",
    "    if normalize == 'imagenet':\n",
    "        mean = [0.485, 0.456, 0.406]\n",
    "        std = [0.229, 0.224, 0.225]\n",
    "    elif normalize == 'standard':\n",
    "        mean = [0.5, 0.5, 0.5]\n",
    "        std =  [0.5, 0.5, 0.5]\n",
    "\n",
    "    if split == 'train':\n",
    "        if size == '224':\n",
    "            train_transform = transforms.Compose([\n",
    "                transforms.RandomResizedCrop((224,224), scale=(0.8, 1.0)),\n",
    "                transforms.ToTensor(),\n",
    "                transforms.Normalize(mean, std)\n",
    "            ])\n",
    "        elif size == '32':\n",
    "            train_transform = transforms.Compose([\n",
    "                transforms.RandomCrop(32, padding=4),\n",
    "                transforms.RandomHorizontalFlip(),\n",
    "                transforms.RandomRotation(15),\n",
    "                transforms.ToTensor(),\n",
    "                transforms.Normalize(mean, std)\n",
    "            ])\n",
    "        \n",
    "        cifar100 = torchvision.datasets.CIFAR100(root='./data', train=True, download=True, transform=train_transform)\n",
    "        dataloader = DataLoader(cifar100, batch_size=batch_size, num_workers=num_workers, shuffle=shuffle)\n",
    "    \n",
    "    elif split == 'test':\n",
    "        if size == '224':\n",
    "            test_transform = transforms.Compose([\n",
    "                transforms.Resize((224, 224)),\n",
    "                transforms.ToTensor(),\n",
    "                transforms.Normalize(mean, std)\n",
    "            ])\n",
    "\n",
    "        elif size == '32':\n",
    "            test_transform = transforms.Compose([\n",
    "                transforms.ToTensor(),\n",
    "                transforms.Normalize(mean, std)\n",
    "            ])\n",
    "\n",
    "        cifar100 = torchvision.datasets.CIFAR100(root='./data', train=False, download=True, transform=test_transform)\n",
    "        dataloader = DataLoader(cifar100, batch_size=batch_size, num_workers=num_workers, shuffle=shuffle)\n",
    "\n",
    "    return dataloader"
   ]
  },
  {
   "cell_type": "code",
   "execution_count": 17,
   "metadata": {
    "id": "RtYCa72d0RJ6"
   },
   "outputs": [],
   "source": [
    "def CIFAR10DataLoader(split, batch_size=8, num_workers=2, shuffle=True, size='32', normalize='standard'):\n",
    "    '''\n",
    "    A wrapper function that creates a DataLoader for CIFAR10 dataset loaded from torchvision using \n",
    "    the parameters supplied and applies the required data augmentations.\n",
    "\n",
    "    Args:\n",
    "        split: A string to decide if train or test data to be used (Values: 'train', 'test')\n",
    "        batch_size: Batch size to used for loading data (Default=8)\n",
    "        num_workers: Number of parallel workers used to load data (Default=2)\n",
    "        shuffle: Boolean value to decide if data should be randomized (Default=True)\n",
    "        size: A string to decide the size of the input images (Default='32') (Values: '32','224')\n",
    "        normalize: A string to decide the normalization to applied to the input images\n",
    "                   (Default='standard') (Values: 'standard', 'imagenet')\n",
    "    \n",
    "    Output:\n",
    "        DataLoader Object\n",
    "    '''\n",
    "    if normalize == 'imagenet':\n",
    "        mean = [0.485, 0.456, 0.406]\n",
    "        std = [0.229, 0.224, 0.225]\n",
    "    elif normalize == 'standard':\n",
    "        mean = [0.5, 0.5, 0.5]\n",
    "        std =  [0.5, 0.5, 0.5]\n",
    "\n",
    "    if split == 'train':\n",
    "        if size == '224':\n",
    "            train_transform = transforms.Compose([\n",
    "                transforms.RandomResizedCrop((224,224), scale=(0.5, 1.0)),\n",
    "                transforms.ToTensor(),\n",
    "                transforms.Normalize(mean, std)\n",
    "            ])\n",
    "        elif size == '32':\n",
    "            train_transform = transforms.Compose([\n",
    "                transforms.Resize((48, 48)),\n",
    "                transforms.RandomCrop(32),\n",
    "                transforms.RandomHorizontalFlip(),\n",
    "                transforms.RandomRotation(15),\n",
    "                transforms.ToTensor(),\n",
    "                transforms.Normalize(mean, std)\n",
    "            ])\n",
    "        \n",
    "        cifar10 = torchvision.datasets.CIFAR10(root='./data', train=True, download=True, transform=train_transform)\n",
    "        dataloader = DataLoader(cifar10, batch_size=batch_size, num_workers=num_workers, shuffle=shuffle)\n",
    "    \n",
    "    elif split == 'test':\n",
    "        if size == '224':\n",
    "            test_transform = transforms.Compose([\n",
    "                transforms.Resize((224, 224)),\n",
    "                transforms.ToTensor(),\n",
    "                transforms.Normalize(mean, std)\n",
    "            ])\n",
    "        elif size == '32':\n",
    "            test_transform = transforms.Compose([\n",
    "                transforms.ToTensor(),\n",
    "                transforms.Normalize(mean, std)\n",
    "            ])\n",
    "\n",
    "        cifar10 = torchvision.datasets.CIFAR10(root='./data', train=False, download=True, transform=test_transform)\n",
    "        dataloader = DataLoader(cifar10, batch_size=batch_size, num_workers=num_workers, shuffle=shuffle)\n",
    "\n",
    "    return dataloader"
   ]
  },
  {
   "cell_type": "markdown",
   "metadata": {
    "id": "UB_YjSG0aLJR"
   },
   "source": [
    "#### Training and Evaluation Functions"
   ]
  },
  {
   "cell_type": "code",
   "execution_count": 19,
   "metadata": {
    "id": "Byfz7zrEaKxq"
   },
   "outputs": [],
   "source": [
    "# Initializations of all the constants used in the training and testing process\n",
    "\n",
    "lr = 0.003\n",
    "batch_size = 256\n",
    "num_workers = 2\n",
    "shuffle = True\n",
    "patch_size = 4\n",
    "image_sz = 32\n",
    "max_len = 100 # All sequences must be less than 1000 including class token\n",
    "embed_dim = 512\n",
    "classes = 10\n",
    "layers = 12\n",
    "channels = 3\n",
    "resnet_features_channels = 64\n",
    "heads = 16\n",
    "epochs = 100"
   ]
  },
  {
   "cell_type": "code",
   "execution_count": 20,
   "metadata": {
    "id": "d89pJGwZaUBs"
   },
   "outputs": [],
   "source": [
    "def train(model, dataloader, criterion, optimizer, scheduler, resnet_features=None):\n",
    "    '''\n",
    "    Function used to train the model over a single epoch and update it according to the\n",
    "    calculated gradients.\n",
    "\n",
    "    Args:\n",
    "        model: Model supplied to the function\n",
    "        dataloader: DataLoader supplied to the function\n",
    "        criterion: Criterion used to calculate loss\n",
    "        optimizer: Optimizer used update the model\n",
    "        scheduler: Scheduler used to update the learing rate for faster convergence \n",
    "                   (Commented out due to poor results)\n",
    "        resnet_features: Model to get Resnet Features for the hybrid architecture (Default=None)\n",
    "\n",
    "    Output:\n",
    "        running_loss: Training Loss (Float)\n",
    "        running_accuracy: Training Accuracy (Float)\n",
    "    '''\n",
    "    running_loss = 0.0\n",
    "    running_accuracy = 0.0\n",
    "\n",
    "    for data, target in tqdm(dataloader):\n",
    "        data = data.to(device)\n",
    "        target = target.to(device)\n",
    "\n",
    "        if model.name == 'VisionTransformer':\n",
    "            with torch.no_grad():\n",
    "                if resnet_features != None:\n",
    "                    data = resnet_features(data)\n",
    "            output, _ = model(data)\n",
    "        elif model.name == 'ResNet':\n",
    "            output = model(data)\n",
    "        loss = criterion(output, target)\n",
    "        \n",
    "        optimizer.zero_grad()\n",
    "        loss.backward()\n",
    "        optimizer.step()\n",
    "        # scheduler.step()\n",
    "\n",
    "        acc = (output.argmax(dim=1) == target).float().mean()\n",
    "        running_accuracy += acc / len(dataloader)\n",
    "        running_loss += loss.item() / len(dataloader)\n",
    "\n",
    "    return running_loss, running_accuracy"
   ]
  },
  {
   "cell_type": "code",
   "execution_count": 21,
   "metadata": {
    "id": "dXAFKy14EIyU"
   },
   "outputs": [],
   "source": [
    "def evaluation(model, dataloader, criterion, resnet_features=None):\n",
    "    '''\n",
    "    Function used to evaluate the model on the test dataset.\n",
    "\n",
    "    Args:\n",
    "        model: Model supplied to the function\n",
    "        dataloader: DataLoader supplied to the function\n",
    "        criterion: Criterion used to calculate loss\n",
    "        resnet_features: Model to get Resnet Features for the hybrid architecture (Default=None)\n",
    "    \n",
    "    Output:\n",
    "        test_loss: Testing Loss (Float)\n",
    "        test_accuracy: Testing Accuracy (Float)\n",
    "    '''\n",
    "    with torch.no_grad():\n",
    "        test_accuracy = 0.0\n",
    "        test_loss = 0.0\n",
    "        for data, target in tqdm(dataloader):\n",
    "            data = data.to(device)\n",
    "            target = target.to(device)\n",
    "\n",
    "            if model.name == 'VisionTransformer':\n",
    "                if resnet_features != None:\n",
    "                    data = resnet_features(data)\n",
    "                output, _ = model(data)\n",
    "            elif model.name == 'ResNet':\n",
    "                output = model(data)\n",
    "            loss = criterion(output, target)\n",
    "\n",
    "            acc = (output.argmax(dim=1) == target).float().mean()\n",
    "            test_accuracy += acc / len(dataloader)\n",
    "            test_loss += loss.item() / len(dataloader)\n",
    "\n",
    "    return test_loss, test_accuracy"
   ]
  },
  {
   "cell_type": "markdown",
   "metadata": {
    "id": "P1NNc-FxvJU7"
   },
   "source": [
    "#### Model Initialization"
   ]
  },
  {
   "cell_type": "markdown",
   "metadata": {
    "id": "94FIkGknvMUW"
   },
   "source": [
    "Run either one the following subcells according to the models selected to train and test"
   ]
  },
  {
   "cell_type": "markdown",
   "metadata": {
    "id": "ofAkCvMzfN3R"
   },
   "source": [
    "##### Model - Vision Transformer"
   ]
  },
  {
   "cell_type": "markdown",
   "metadata": {
    "id": "rVBkOJnnvWzH"
   },
   "source": [
    "Recommended Values for the following Architecture\n",
    "\n",
    "- patch_size = 4\n",
    "- max_len = 100\n",
    "- embed_dim = 512\n",
    "- classes = According to Dataset\n",
    "- layers = 12\n",
    "- channels = 3\n",
    "- heads = 16"
   ]
  },
  {
   "cell_type": "code",
   "execution_count": 22,
   "metadata": {
    "id": "WG_wT7pXe5q9"
   },
   "outputs": [],
   "source": [
    "# Vision Transformer Architecture\n",
    "\n",
    "model = VisionTransformer(\n",
    "    patch_size=patch_size,\n",
    "    max_len=max_len,\n",
    "    embed_dim=embed_dim,\n",
    "    classes=classes,\n",
    "    layers=layers,\n",
    "    channels=channels,\n",
    "    heads=heads).to(device)\n",
    "\n",
    "resnet_features = None"
   ]
  },
  {
   "cell_type": "code",
   "execution_count": 23,
   "metadata": {
    "colab": {
     "base_uri": "https://localhost:8080/"
    },
    "id": "ztCbAJmAIfm6",
    "outputId": "b4bd5261-de0b-46cc-ac63-cac133719d77"
   },
   "outputs": [
    {
     "data": {
      "text/plain": [
       "15994634"
      ]
     },
     "execution_count": 23,
     "metadata": {},
     "output_type": "execute_result"
    }
   ],
   "source": [
    "sum(p.numel() for p in model.parameters() if p.requires_grad)"
   ]
  },
  {
   "cell_type": "markdown",
   "metadata": {
    "id": "-AtT5cLKvtxC"
   },
   "source": [
    "Recommended Values for the following Architecture\n",
    "\n",
    "- patch_size = 7\n",
    "- max_len = 100\n",
    "- embed_dim = 512\n",
    "- classes = According to Dataset\n",
    "- layers = 12\n",
    "- channels = 64 (Resnet Features Channels)\n",
    "- heads = 16"
   ]
  },
  {
   "cell_type": "code",
   "execution_count": null,
   "metadata": {
    "id": "MrWmtB8QVT50"
   },
   "outputs": [],
   "source": [
    "# Hybrid Vision Transformer Architecture\n",
    "\n",
    "model = VisionTransformer(\n",
    "    patch_size=patch_size,\n",
    "    max_len=max_len,\n",
    "    embed_dim=embed_dim,\n",
    "    classes=classes,\n",
    "    layers=layers,\n",
    "    channels=resnet_features_channels,\n",
    "    heads=heads).to(device)\n",
    "\n",
    "resnet_features = ResNetFeatures().to(device).eval()"
   ]
  },
  {
   "cell_type": "code",
   "execution_count": null,
   "metadata": {
    "colab": {
     "base_uri": "https://localhost:8080/"
    },
    "id": "ZSgvVWK8IPh7",
    "outputId": "881b8639-de08-4971-fd2a-3747f88f297e"
   },
   "outputs": [
    {
     "data": {
      "text/plain": [
       "16494346"
      ]
     },
     "execution_count": 32,
     "metadata": {},
     "output_type": "execute_result"
    }
   ],
   "source": [
    "sum(p.numel() for p in model.parameters() if p.requires_grad)"
   ]
  },
  {
   "cell_type": "markdown",
   "metadata": {
    "id": "Lq_fd2gjfRqD"
   },
   "source": [
    "##### Model - ResNet50 or ResNet34"
   ]
  },
  {
   "cell_type": "markdown",
   "metadata": {
    "id": "MduGlJkPwEmp"
   },
   "source": [
    "Recommended Values for the following Architecture\n",
    "\n",
    "- input_channels = 3\n",
    "- classes = According to Dataset\n"
   ]
  },
  {
   "cell_type": "code",
   "execution_count": null,
   "metadata": {
    "id": "NJhrjCYhmjII"
   },
   "outputs": [],
   "source": [
    "# ResNet34 Architecture\n",
    "\n",
    "model = ResNet34(\n",
    "    input_channels=3,\n",
    "    classes=classes).to(device)\n",
    "\n",
    "resnet_features = None"
   ]
  },
  {
   "cell_type": "markdown",
   "metadata": {
    "id": "JQzAinFRwMcw"
   },
   "source": [
    "Recommended Values for the following Architecture\n",
    "\n",
    "- input_channels = 3\n",
    "- classes = According to Dataset\n"
   ]
  },
  {
   "cell_type": "code",
   "execution_count": null,
   "metadata": {
    "id": "nztkBOLRe6pO"
   },
   "outputs": [],
   "source": [
    "# ResNet50 Architecture\n",
    "\n",
    "model = ResNet50(\n",
    "    input_channels=3,\n",
    "    classes=classes).to(device)\n",
    "\n",
    "resnet_features = None"
   ]
  },
  {
   "cell_type": "markdown",
   "metadata": {
    "id": "s0x9qE4HhUhR"
   },
   "source": [
    "#### Model Training and Evaluation"
   ]
  },
  {
   "cell_type": "markdown",
   "metadata": {
    "id": "WPVinX5pw46Q"
   },
   "source": [
    "##### CIFAR10 Dataset"
   ]
  },
  {
   "cell_type": "code",
   "execution_count": 25,
   "metadata": {
    "colab": {
     "base_uri": "https://localhost:8080/",
     "height": 1000,
     "referenced_widgets": [
      "7953e7734f2f4bec86a7116780df69e7",
      "bb5eb479eb7d42879e6807bc0a4abf1b",
      "5d3739a396814fa9b2dadd90ada9b8a5",
      "12ac60ab6beb4e91959c8d98bb018254",
      "d5694f64915e4d72b886d6bc36ccd856",
      "40bd7f0e5bfe4b959df0ba5103e98f79",
      "3adb4db217884408865bacd17f4fd6b6",
      "83063d744d884060a8622d7a18970467",
      "79eb18521b99496cbb9b08f27c9f5184",
      "87852f1ddd6c4c88b3f8d8371c3d0b96",
      "473a4b0e31d249bdaf0181688fed009f"
     ]
    },
    "id": "vA4SFPwTwxcf",
    "outputId": "ef26fdc6-e7e9-4b21-c772-adef123c204b"
   },
   "outputs": [
    {
     "name": "stdout",
     "output_type": "stream",
     "text": [
      "Files already downloaded and verified\n",
      "Files already downloaded and verified\n"
     ]
    },
    {
     "name": "stderr",
     "output_type": "stream",
     "text": [
      "100%|█████████████████████████████████████████| 196/196 [00:47<00:00,  4.09it/s]\n"
     ]
    },
    {
     "name": "stdout",
     "output_type": "stream",
     "text": [
      "Epoch : 1 - acc: 0.3052 - loss : 1.8734\n",
      "\n"
     ]
    },
    {
     "name": "stderr",
     "output_type": "stream",
     "text": [
      "100%|███████████████████████████████████████████| 40/40 [00:03<00:00, 10.56it/s]\n"
     ]
    },
    {
     "name": "stdout",
     "output_type": "stream",
     "text": [
      "test acc: 0.3732 - test loss : 1.7129\n",
      "\n"
     ]
    },
    {
     "name": "stderr",
     "output_type": "stream",
     "text": [
      "100%|█████████████████████████████████████████| 196/196 [00:48<00:00,  4.06it/s]\n"
     ]
    },
    {
     "name": "stdout",
     "output_type": "stream",
     "text": [
      "Epoch : 2 - acc: 0.3621 - loss : 1.7309\n",
      "\n"
     ]
    },
    {
     "name": "stderr",
     "output_type": "stream",
     "text": [
      "100%|███████████████████████████████████████████| 40/40 [00:03<00:00, 10.88it/s]\n"
     ]
    },
    {
     "name": "stdout",
     "output_type": "stream",
     "text": [
      "test acc: 0.4023 - test loss : 1.6411\n",
      "\n"
     ]
    },
    {
     "name": "stderr",
     "output_type": "stream",
     "text": [
      "100%|█████████████████████████████████████████| 196/196 [00:48<00:00,  4.07it/s]\n"
     ]
    },
    {
     "name": "stdout",
     "output_type": "stream",
     "text": [
      "Epoch : 5 - acc: 0.4315 - loss : 1.5637\n",
      "\n"
     ]
    },
    {
     "name": "stderr",
     "output_type": "stream",
     "text": [
      "100%|███████████████████████████████████████████| 40/40 [00:03<00:00, 10.56it/s]\n"
     ]
    },
    {
     "name": "stdout",
     "output_type": "stream",
     "text": [
      "test acc: 0.4572 - test loss : 1.5130\n",
      "\n"
     ]
    },
    {
     "name": "stderr",
     "output_type": "stream",
     "text": [
      "100%|█████████████████████████████████████████| 196/196 [00:48<00:00,  4.07it/s]\n"
     ]
    },
    {
     "name": "stdout",
     "output_type": "stream",
     "text": [
      "Epoch : 6 - acc: 0.4421 - loss : 1.5308\n",
      "\n"
     ]
    },
    {
     "name": "stderr",
     "output_type": "stream",
     "text": [
      "100%|███████████████████████████████████████████| 40/40 [00:03<00:00, 10.65it/s]\n"
     ]
    },
    {
     "name": "stdout",
     "output_type": "stream",
     "text": [
      "test acc: 0.4771 - test loss : 1.4490\n",
      "\n"
     ]
    },
    {
     "name": "stderr",
     "output_type": "stream",
     "text": [
      "100%|█████████████████████████████████████████| 196/196 [00:48<00:00,  4.06it/s]\n"
     ]
    },
    {
     "name": "stdout",
     "output_type": "stream",
     "text": [
      "Epoch : 7 - acc: 0.4572 - loss : 1.4980\n",
      "\n"
     ]
    },
    {
     "name": "stderr",
     "output_type": "stream",
     "text": [
      "100%|███████████████████████████████████████████| 40/40 [00:03<00:00, 10.90it/s]\n"
     ]
    },
    {
     "name": "stdout",
     "output_type": "stream",
     "text": [
      "test acc: 0.4780 - test loss : 1.4519\n",
      "\n"
     ]
    },
    {
     "name": "stderr",
     "output_type": "stream",
     "text": [
      "100%|█████████████████████████████████████████| 196/196 [00:48<00:00,  4.04it/s]\n"
     ]
    },
    {
     "name": "stdout",
     "output_type": "stream",
     "text": [
      "Epoch : 8 - acc: 0.4684 - loss : 1.4677\n",
      "\n"
     ]
    },
    {
     "name": "stderr",
     "output_type": "stream",
     "text": [
      "100%|███████████████████████████████████████████| 40/40 [00:03<00:00, 10.57it/s]\n"
     ]
    },
    {
     "name": "stdout",
     "output_type": "stream",
     "text": [
      "test acc: 0.4864 - test loss : 1.4206\n",
      "\n"
     ]
    },
    {
     "name": "stderr",
     "output_type": "stream",
     "text": [
      "100%|█████████████████████████████████████████| 196/196 [00:48<00:00,  4.06it/s]\n"
     ]
    },
    {
     "name": "stdout",
     "output_type": "stream",
     "text": [
      "Epoch : 9 - acc: 0.4775 - loss : 1.4433\n",
      "\n"
     ]
    },
    {
     "name": "stderr",
     "output_type": "stream",
     "text": [
      "100%|███████████████████████████████████████████| 40/40 [00:03<00:00, 10.40it/s]\n"
     ]
    },
    {
     "name": "stdout",
     "output_type": "stream",
     "text": [
      "test acc: 0.4748 - test loss : 1.4568\n",
      "\n"
     ]
    },
    {
     "name": "stderr",
     "output_type": "stream",
     "text": [
      "100%|█████████████████████████████████████████| 196/196 [00:48<00:00,  4.05it/s]\n"
     ]
    },
    {
     "name": "stdout",
     "output_type": "stream",
     "text": [
      "Epoch : 10 - acc: 0.4888 - loss : 1.4186\n",
      "\n"
     ]
    },
    {
     "name": "stderr",
     "output_type": "stream",
     "text": [
      "100%|███████████████████████████████████████████| 40/40 [00:03<00:00, 10.78it/s]\n"
     ]
    },
    {
     "name": "stdout",
     "output_type": "stream",
     "text": [
      "test acc: 0.4938 - test loss : 1.4063\n",
      "\n"
     ]
    },
    {
     "name": "stderr",
     "output_type": "stream",
     "text": [
      "100%|█████████████████████████████████████████| 196/196 [00:48<00:00,  4.05it/s]\n"
     ]
    },
    {
     "name": "stdout",
     "output_type": "stream",
     "text": [
      "Epoch : 11 - acc: 0.4966 - loss : 1.3969\n",
      "\n"
     ]
    },
    {
     "name": "stderr",
     "output_type": "stream",
     "text": [
      "100%|███████████████████████████████████████████| 40/40 [00:03<00:00, 10.51it/s]\n"
     ]
    },
    {
     "name": "stdout",
     "output_type": "stream",
     "text": [
      "test acc: 0.5024 - test loss : 1.3764\n",
      "\n"
     ]
    },
    {
     "name": "stderr",
     "output_type": "stream",
     "text": [
      "100%|█████████████████████████████████████████| 196/196 [00:48<00:00,  4.07it/s]\n"
     ]
    },
    {
     "name": "stdout",
     "output_type": "stream",
     "text": [
      "Epoch : 12 - acc: 0.5004 - loss : 1.3883\n",
      "\n"
     ]
    },
    {
     "name": "stderr",
     "output_type": "stream",
     "text": [
      "100%|███████████████████████████████████████████| 40/40 [00:03<00:00, 10.51it/s]\n"
     ]
    },
    {
     "name": "stdout",
     "output_type": "stream",
     "text": [
      "test acc: 0.5166 - test loss : 1.3316\n",
      "\n"
     ]
    },
    {
     "name": "stderr",
     "output_type": "stream",
     "text": [
      "100%|█████████████████████████████████████████| 196/196 [00:48<00:00,  4.05it/s]\n"
     ]
    },
    {
     "name": "stdout",
     "output_type": "stream",
     "text": [
      "Epoch : 13 - acc: 0.5106 - loss : 1.3637\n",
      "\n"
     ]
    },
    {
     "name": "stderr",
     "output_type": "stream",
     "text": [
      "100%|███████████████████████████████████████████| 40/40 [00:03<00:00, 10.74it/s]\n"
     ]
    },
    {
     "name": "stdout",
     "output_type": "stream",
     "text": [
      "test acc: 0.5101 - test loss : 1.3758\n",
      "\n"
     ]
    },
    {
     "name": "stderr",
     "output_type": "stream",
     "text": [
      "100%|█████████████████████████████████████████| 196/196 [00:48<00:00,  4.06it/s]\n"
     ]
    },
    {
     "name": "stdout",
     "output_type": "stream",
     "text": [
      "Epoch : 14 - acc: 0.5148 - loss : 1.3503\n",
      "\n"
     ]
    },
    {
     "name": "stderr",
     "output_type": "stream",
     "text": [
      "100%|███████████████████████████████████████████| 40/40 [00:03<00:00, 10.66it/s]\n"
     ]
    },
    {
     "name": "stdout",
     "output_type": "stream",
     "text": [
      "test acc: 0.5097 - test loss : 1.3787\n",
      "\n"
     ]
    },
    {
     "name": "stderr",
     "output_type": "stream",
     "text": [
      "100%|█████████████████████████████████████████| 196/196 [00:48<00:00,  4.04it/s]\n"
     ]
    },
    {
     "name": "stdout",
     "output_type": "stream",
     "text": [
      "Epoch : 15 - acc: 0.5236 - loss : 1.3296\n",
      "\n"
     ]
    },
    {
     "name": "stderr",
     "output_type": "stream",
     "text": [
      "100%|███████████████████████████████████████████| 40/40 [00:03<00:00, 10.66it/s]\n"
     ]
    },
    {
     "name": "stdout",
     "output_type": "stream",
     "text": [
      "test acc: 0.5277 - test loss : 1.3128\n",
      "\n"
     ]
    },
    {
     "name": "stderr",
     "output_type": "stream",
     "text": [
      "100%|█████████████████████████████████████████| 196/196 [00:48<00:00,  4.05it/s]\n"
     ]
    },
    {
     "name": "stdout",
     "output_type": "stream",
     "text": [
      "Epoch : 16 - acc: 0.5251 - loss : 1.3155\n",
      "\n"
     ]
    },
    {
     "name": "stderr",
     "output_type": "stream",
     "text": [
      "100%|███████████████████████████████████████████| 40/40 [00:03<00:00, 10.72it/s]\n"
     ]
    },
    {
     "name": "stdout",
     "output_type": "stream",
     "text": [
      "test acc: 0.5271 - test loss : 1.3231\n",
      "\n"
     ]
    },
    {
     "name": "stderr",
     "output_type": "stream",
     "text": [
      "100%|█████████████████████████████████████████| 196/196 [00:48<00:00,  4.07it/s]\n"
     ]
    },
    {
     "name": "stdout",
     "output_type": "stream",
     "text": [
      "Epoch : 17 - acc: 0.5304 - loss : 1.2994\n",
      "\n"
     ]
    },
    {
     "name": "stderr",
     "output_type": "stream",
     "text": [
      "100%|███████████████████████████████████████████| 40/40 [00:03<00:00, 10.72it/s]\n"
     ]
    },
    {
     "name": "stdout",
     "output_type": "stream",
     "text": [
      "test acc: 0.5213 - test loss : 1.3578\n",
      "\n"
     ]
    },
    {
     "name": "stderr",
     "output_type": "stream",
     "text": [
      " 70%|████████████████████████████▋            | 137/196 [00:33<00:14,  3.95it/s]IOPub message rate exceeded.\n",
      "The notebook server will temporarily stop sending output\n",
      "to the client in order to avoid crashing it.\n",
      "To change this limit, set the config variable\n",
      "`--NotebookApp.iopub_msg_rate_limit`.\n",
      "\n",
      "Current values:\n",
      "NotebookApp.iopub_msg_rate_limit=1000.0 (msgs/sec)\n",
      "NotebookApp.rate_limit_window=3.0 (secs)\n",
      "\n",
      "100%|█████████████████████████████████████████| 196/196 [00:48<00:00,  4.06it/s]\n"
     ]
    },
    {
     "name": "stdout",
     "output_type": "stream",
     "text": [
      "Epoch : 37 - acc: 0.6019 - loss : 1.1119\n",
      "\n"
     ]
    },
    {
     "name": "stderr",
     "output_type": "stream",
     "text": [
      "100%|███████████████████████████████████████████| 40/40 [00:03<00:00, 10.55it/s]\n"
     ]
    },
    {
     "name": "stdout",
     "output_type": "stream",
     "text": [
      "test acc: 0.5706 - test loss : 1.2082\n",
      "\n"
     ]
    },
    {
     "name": "stderr",
     "output_type": "stream",
     "text": [
      "100%|█████████████████████████████████████████| 196/196 [00:48<00:00,  4.05it/s]\n"
     ]
    },
    {
     "name": "stdout",
     "output_type": "stream",
     "text": [
      "Epoch : 38 - acc: 0.6077 - loss : 1.0982\n",
      "\n"
     ]
    },
    {
     "name": "stderr",
     "output_type": "stream",
     "text": [
      "100%|███████████████████████████████████████████| 40/40 [00:03<00:00, 10.65it/s]\n"
     ]
    },
    {
     "name": "stdout",
     "output_type": "stream",
     "text": [
      "test acc: 0.5548 - test loss : 1.2793\n",
      "\n"
     ]
    },
    {
     "name": "stderr",
     "output_type": "stream",
     "text": [
      "100%|█████████████████████████████████████████| 196/196 [00:48<00:00,  4.06it/s]\n"
     ]
    },
    {
     "name": "stdout",
     "output_type": "stream",
     "text": [
      "Epoch : 41 - acc: 0.6167 - loss : 1.0796\n",
      "\n"
     ]
    },
    {
     "name": "stderr",
     "output_type": "stream",
     "text": [
      "100%|███████████████████████████████████████████| 40/40 [00:03<00:00, 10.49it/s]\n"
     ]
    },
    {
     "name": "stdout",
     "output_type": "stream",
     "text": [
      "test acc: 0.5791 - test loss : 1.1869\n",
      "\n"
     ]
    },
    {
     "name": "stderr",
     "output_type": "stream",
     "text": [
      "100%|█████████████████████████████████████████| 196/196 [00:48<00:00,  4.05it/s]\n"
     ]
    },
    {
     "name": "stdout",
     "output_type": "stream",
     "text": [
      "Epoch : 42 - acc: 0.6159 - loss : 1.0815\n",
      "\n"
     ]
    },
    {
     "name": "stderr",
     "output_type": "stream",
     "text": [
      "100%|███████████████████████████████████████████| 40/40 [00:03<00:00, 10.75it/s]\n"
     ]
    },
    {
     "name": "stdout",
     "output_type": "stream",
     "text": [
      "test acc: 0.5759 - test loss : 1.1895\n",
      "\n"
     ]
    },
    {
     "name": "stderr",
     "output_type": "stream",
     "text": [
      "100%|█████████████████████████████████████████| 196/196 [00:48<00:00,  4.06it/s]\n"
     ]
    },
    {
     "name": "stdout",
     "output_type": "stream",
     "text": [
      "Epoch : 43 - acc: 0.6179 - loss : 1.0753\n",
      "\n"
     ]
    },
    {
     "name": "stderr",
     "output_type": "stream",
     "text": [
      "100%|███████████████████████████████████████████| 40/40 [00:03<00:00, 10.61it/s]\n"
     ]
    },
    {
     "name": "stdout",
     "output_type": "stream",
     "text": [
      "test acc: 0.5649 - test loss : 1.2167\n",
      "\n"
     ]
    },
    {
     "name": "stderr",
     "output_type": "stream",
     "text": [
      "100%|█████████████████████████████████████████| 196/196 [00:48<00:00,  4.06it/s]\n"
     ]
    },
    {
     "name": "stdout",
     "output_type": "stream",
     "text": [
      "Epoch : 44 - acc: 0.6198 - loss : 1.0706\n",
      "\n"
     ]
    },
    {
     "name": "stderr",
     "output_type": "stream",
     "text": [
      "100%|███████████████████████████████████████████| 40/40 [00:03<00:00, 10.72it/s]\n"
     ]
    },
    {
     "name": "stdout",
     "output_type": "stream",
     "text": [
      "test acc: 0.5841 - test loss : 1.1687\n",
      "\n"
     ]
    },
    {
     "name": "stderr",
     "output_type": "stream",
     "text": [
      "100%|█████████████████████████████████████████| 196/196 [00:48<00:00,  4.07it/s]\n"
     ]
    },
    {
     "name": "stdout",
     "output_type": "stream",
     "text": [
      "Epoch : 45 - acc: 0.6225 - loss : 1.0624\n",
      "\n"
     ]
    },
    {
     "name": "stderr",
     "output_type": "stream",
     "text": [
      "100%|███████████████████████████████████████████| 40/40 [00:03<00:00, 10.55it/s]\n"
     ]
    },
    {
     "name": "stdout",
     "output_type": "stream",
     "text": [
      "test acc: 0.5864 - test loss : 1.1855\n",
      "\n"
     ]
    },
    {
     "name": "stderr",
     "output_type": "stream",
     "text": [
      "100%|█████████████████████████████████████████| 196/196 [00:48<00:00,  4.04it/s]\n"
     ]
    },
    {
     "name": "stdout",
     "output_type": "stream",
     "text": [
      "Epoch : 46 - acc: 0.6282 - loss : 1.0501\n",
      "\n"
     ]
    },
    {
     "name": "stderr",
     "output_type": "stream",
     "text": [
      "100%|███████████████████████████████████████████| 40/40 [00:03<00:00, 10.60it/s]\n"
     ]
    },
    {
     "name": "stdout",
     "output_type": "stream",
     "text": [
      "test acc: 0.5841 - test loss : 1.1770\n",
      "\n"
     ]
    },
    {
     "name": "stderr",
     "output_type": "stream",
     "text": [
      "100%|█████████████████████████████████████████| 196/196 [00:48<00:00,  4.05it/s]\n"
     ]
    },
    {
     "name": "stdout",
     "output_type": "stream",
     "text": [
      "Epoch : 47 - acc: 0.6272 - loss : 1.0496\n",
      "\n"
     ]
    },
    {
     "name": "stderr",
     "output_type": "stream",
     "text": [
      "100%|███████████████████████████████████████████| 40/40 [00:03<00:00, 10.72it/s]\n"
     ]
    },
    {
     "name": "stdout",
     "output_type": "stream",
     "text": [
      "test acc: 0.5878 - test loss : 1.1747\n",
      "\n"
     ]
    },
    {
     "name": "stderr",
     "output_type": "stream",
     "text": [
      "100%|█████████████████████████████████████████| 196/196 [00:48<00:00,  4.06it/s]\n"
     ]
    },
    {
     "name": "stdout",
     "output_type": "stream",
     "text": [
      "Epoch : 48 - acc: 0.6327 - loss : 1.0403\n",
      "\n"
     ]
    },
    {
     "name": "stderr",
     "output_type": "stream",
     "text": [
      "100%|███████████████████████████████████████████| 40/40 [00:03<00:00, 10.50it/s]\n"
     ]
    },
    {
     "name": "stdout",
     "output_type": "stream",
     "text": [
      "test acc: 0.5812 - test loss : 1.1858\n",
      "\n"
     ]
    },
    {
     "name": "stderr",
     "output_type": "stream",
     "text": [
      "100%|█████████████████████████████████████████| 196/196 [00:48<00:00,  4.06it/s]\n"
     ]
    },
    {
     "name": "stdout",
     "output_type": "stream",
     "text": [
      "Epoch : 49 - acc: 0.6333 - loss : 1.0333\n",
      "\n"
     ]
    },
    {
     "name": "stderr",
     "output_type": "stream",
     "text": [
      "100%|███████████████████████████████████████████| 40/40 [00:03<00:00, 10.65it/s]\n"
     ]
    },
    {
     "name": "stdout",
     "output_type": "stream",
     "text": [
      "test acc: 0.5771 - test loss : 1.1955\n",
      "\n"
     ]
    },
    {
     "name": "stderr",
     "output_type": "stream",
     "text": [
      "100%|█████████████████████████████████████████| 196/196 [00:48<00:00,  4.06it/s]\n"
     ]
    },
    {
     "name": "stdout",
     "output_type": "stream",
     "text": [
      "Epoch : 50 - acc: 0.6338 - loss : 1.0318\n",
      "\n"
     ]
    },
    {
     "name": "stderr",
     "output_type": "stream",
     "text": [
      "100%|███████████████████████████████████████████| 40/40 [00:03<00:00, 10.77it/s]\n"
     ]
    },
    {
     "name": "stdout",
     "output_type": "stream",
     "text": [
      "test acc: 0.5852 - test loss : 1.1948\n",
      "\n"
     ]
    },
    {
     "name": "stderr",
     "output_type": "stream",
     "text": [
      "100%|█████████████████████████████████████████| 196/196 [00:48<00:00,  4.04it/s]\n"
     ]
    },
    {
     "name": "stdout",
     "output_type": "stream",
     "text": [
      "Epoch : 51 - acc: 0.6362 - loss : 1.0204\n",
      "\n"
     ]
    },
    {
     "name": "stderr",
     "output_type": "stream",
     "text": [
      "100%|███████████████████████████████████████████| 40/40 [00:03<00:00, 10.50it/s]\n"
     ]
    },
    {
     "name": "stdout",
     "output_type": "stream",
     "text": [
      "test acc: 0.5850 - test loss : 1.1896\n",
      "\n"
     ]
    },
    {
     "name": "stderr",
     "output_type": "stream",
     "text": [
      "100%|█████████████████████████████████████████| 196/196 [00:48<00:00,  4.05it/s]\n"
     ]
    },
    {
     "name": "stdout",
     "output_type": "stream",
     "text": [
      "Epoch : 52 - acc: 0.6375 - loss : 1.0217\n",
      "\n"
     ]
    },
    {
     "name": "stderr",
     "output_type": "stream",
     "text": [
      "100%|███████████████████████████████████████████| 40/40 [00:03<00:00, 10.60it/s]\n"
     ]
    },
    {
     "name": "stdout",
     "output_type": "stream",
     "text": [
      "test acc: 0.5954 - test loss : 1.1686\n",
      "\n"
     ]
    },
    {
     "name": "stderr",
     "output_type": "stream",
     "text": [
      "100%|█████████████████████████████████████████| 196/196 [00:48<00:00,  4.06it/s]\n"
     ]
    },
    {
     "name": "stdout",
     "output_type": "stream",
     "text": [
      "Epoch : 53 - acc: 0.6408 - loss : 1.0151\n",
      "\n"
     ]
    },
    {
     "name": "stderr",
     "output_type": "stream",
     "text": [
      "100%|███████████████████████████████████████████| 40/40 [00:03<00:00, 10.67it/s]\n"
     ]
    },
    {
     "name": "stdout",
     "output_type": "stream",
     "text": [
      "test acc: 0.5979 - test loss : 1.1475\n",
      "\n"
     ]
    },
    {
     "name": "stderr",
     "output_type": "stream",
     "text": [
      " 75%|██████████████████████████████▊          | 147/196 [00:36<00:12,  4.07it/s]IOPub message rate exceeded.\n",
      "The notebook server will temporarily stop sending output\n",
      "to the client in order to avoid crashing it.\n",
      "To change this limit, set the config variable\n",
      "`--NotebookApp.iopub_msg_rate_limit`.\n",
      "\n",
      "Current values:\n",
      "NotebookApp.iopub_msg_rate_limit=1000.0 (msgs/sec)\n",
      "NotebookApp.rate_limit_window=3.0 (secs)\n",
      "\n",
      "100%|███████████████████████████████████████████| 40/40 [00:03<00:00, 10.72it/s]\n"
     ]
    },
    {
     "name": "stdout",
     "output_type": "stream",
     "text": [
      "test acc: 0.6080 - test loss : 1.1463\n",
      "\n"
     ]
    },
    {
     "name": "stderr",
     "output_type": "stream",
     "text": [
      "100%|█████████████████████████████████████████| 196/196 [00:48<00:00,  4.06it/s]\n"
     ]
    },
    {
     "name": "stdout",
     "output_type": "stream",
     "text": [
      "Epoch : 86 - acc: 0.6955 - loss : 0.8635\n",
      "\n"
     ]
    },
    {
     "name": "stderr",
     "output_type": "stream",
     "text": [
      "100%|███████████████████████████████████████████| 40/40 [00:03<00:00, 10.44it/s]\n"
     ]
    },
    {
     "name": "stdout",
     "output_type": "stream",
     "text": [
      "test acc: 0.6157 - test loss : 1.1413\n",
      "\n"
     ]
    },
    {
     "name": "stderr",
     "output_type": "stream",
     "text": [
      "100%|█████████████████████████████████████████| 196/196 [00:48<00:00,  4.04it/s]\n"
     ]
    },
    {
     "name": "stdout",
     "output_type": "stream",
     "text": [
      "Epoch : 87 - acc: 0.6943 - loss : 0.8556\n",
      "\n"
     ]
    },
    {
     "name": "stderr",
     "output_type": "stream",
     "text": [
      "100%|███████████████████████████████████████████| 40/40 [00:03<00:00, 10.53it/s]\n"
     ]
    },
    {
     "name": "stdout",
     "output_type": "stream",
     "text": [
      "test acc: 0.6185 - test loss : 1.1425\n",
      "\n"
     ]
    },
    {
     "name": "stderr",
     "output_type": "stream",
     "text": [
      "100%|█████████████████████████████████████████| 196/196 [00:48<00:00,  4.06it/s]\n"
     ]
    },
    {
     "name": "stdout",
     "output_type": "stream",
     "text": [
      "Epoch : 88 - acc: 0.6977 - loss : 0.8547\n",
      "\n"
     ]
    },
    {
     "name": "stderr",
     "output_type": "stream",
     "text": [
      "100%|███████████████████████████████████████████| 40/40 [00:03<00:00, 10.56it/s]\n"
     ]
    },
    {
     "name": "stdout",
     "output_type": "stream",
     "text": [
      "test acc: 0.6197 - test loss : 1.1402\n",
      "\n"
     ]
    },
    {
     "name": "stderr",
     "output_type": "stream",
     "text": [
      "100%|█████████████████████████████████████████| 196/196 [00:48<00:00,  4.05it/s]\n"
     ]
    },
    {
     "name": "stdout",
     "output_type": "stream",
     "text": [
      "Epoch : 89 - acc: 0.6967 - loss : 0.8516\n",
      "\n"
     ]
    },
    {
     "name": "stderr",
     "output_type": "stream",
     "text": [
      "100%|███████████████████████████████████████████| 40/40 [00:03<00:00, 10.57it/s]\n"
     ]
    },
    {
     "name": "stdout",
     "output_type": "stream",
     "text": [
      "test acc: 0.6160 - test loss : 1.1282\n",
      "\n"
     ]
    },
    {
     "name": "stderr",
     "output_type": "stream",
     "text": [
      "100%|█████████████████████████████████████████| 196/196 [00:48<00:00,  4.06it/s]\n"
     ]
    },
    {
     "name": "stdout",
     "output_type": "stream",
     "text": [
      "Epoch : 92 - acc: 0.7011 - loss : 0.8399\n",
      "\n"
     ]
    },
    {
     "name": "stderr",
     "output_type": "stream",
     "text": [
      "100%|███████████████████████████████████████████| 40/40 [00:03<00:00, 10.81it/s]\n"
     ]
    },
    {
     "name": "stdout",
     "output_type": "stream",
     "text": [
      "test acc: 0.6118 - test loss : 1.1531\n",
      "\n"
     ]
    },
    {
     "name": "stderr",
     "output_type": "stream",
     "text": [
      "100%|█████████████████████████████████████████| 196/196 [00:48<00:00,  4.04it/s]\n"
     ]
    },
    {
     "name": "stdout",
     "output_type": "stream",
     "text": [
      "Epoch : 93 - acc: 0.7028 - loss : 0.8327\n",
      "\n"
     ]
    },
    {
     "name": "stderr",
     "output_type": "stream",
     "text": [
      "100%|███████████████████████████████████████████| 40/40 [00:03<00:00, 10.44it/s]\n"
     ]
    },
    {
     "name": "stdout",
     "output_type": "stream",
     "text": [
      "test acc: 0.6117 - test loss : 1.1537\n",
      "\n"
     ]
    },
    {
     "name": "stderr",
     "output_type": "stream",
     "text": [
      "100%|█████████████████████████████████████████| 196/196 [00:48<00:00,  4.04it/s]\n"
     ]
    },
    {
     "name": "stdout",
     "output_type": "stream",
     "text": [
      "Epoch : 94 - acc: 0.7035 - loss : 0.8350\n",
      "\n"
     ]
    },
    {
     "name": "stderr",
     "output_type": "stream",
     "text": [
      "100%|███████████████████████████████████████████| 40/40 [00:03<00:00, 10.70it/s]\n"
     ]
    },
    {
     "name": "stdout",
     "output_type": "stream",
     "text": [
      "test acc: 0.6140 - test loss : 1.1533\n",
      "\n"
     ]
    },
    {
     "name": "stderr",
     "output_type": "stream",
     "text": [
      "100%|█████████████████████████████████████████| 196/196 [00:48<00:00,  4.06it/s]\n"
     ]
    },
    {
     "name": "stdout",
     "output_type": "stream",
     "text": [
      "Epoch : 95 - acc: 0.7065 - loss : 0.8287\n",
      "\n"
     ]
    },
    {
     "name": "stderr",
     "output_type": "stream",
     "text": [
      "100%|███████████████████████████████████████████| 40/40 [00:03<00:00, 10.71it/s]\n"
     ]
    },
    {
     "name": "stdout",
     "output_type": "stream",
     "text": [
      "test acc: 0.6086 - test loss : 1.1941\n",
      "\n"
     ]
    },
    {
     "name": "stderr",
     "output_type": "stream",
     "text": [
      "100%|█████████████████████████████████████████| 196/196 [00:48<00:00,  4.06it/s]\n"
     ]
    },
    {
     "name": "stdout",
     "output_type": "stream",
     "text": [
      "Epoch : 96 - acc: 0.7028 - loss : 0.8309\n",
      "\n"
     ]
    },
    {
     "name": "stderr",
     "output_type": "stream",
     "text": [
      "100%|███████████████████████████████████████████| 40/40 [00:03<00:00, 10.57it/s]\n"
     ]
    },
    {
     "name": "stdout",
     "output_type": "stream",
     "text": [
      "test acc: 0.6332 - test loss : 1.0815\n",
      "\n"
     ]
    },
    {
     "name": "stderr",
     "output_type": "stream",
     "text": [
      "100%|█████████████████████████████████████████| 196/196 [00:48<00:00,  4.05it/s]\n"
     ]
    },
    {
     "name": "stdout",
     "output_type": "stream",
     "text": [
      "Epoch : 97 - acc: 0.7080 - loss : 0.8247\n",
      "\n"
     ]
    },
    {
     "name": "stderr",
     "output_type": "stream",
     "text": [
      "100%|███████████████████████████████████████████| 40/40 [00:03<00:00, 10.62it/s]\n"
     ]
    },
    {
     "name": "stdout",
     "output_type": "stream",
     "text": [
      "test acc: 0.6239 - test loss : 1.1108\n",
      "\n"
     ]
    },
    {
     "name": "stderr",
     "output_type": "stream",
     "text": [
      "100%|█████████████████████████████████████████| 196/196 [00:48<00:00,  4.06it/s]\n"
     ]
    },
    {
     "name": "stdout",
     "output_type": "stream",
     "text": [
      "Epoch : 98 - acc: 0.7091 - loss : 0.8187\n",
      "\n"
     ]
    },
    {
     "name": "stderr",
     "output_type": "stream",
     "text": [
      "100%|███████████████████████████████████████████| 40/40 [00:03<00:00, 10.94it/s]\n"
     ]
    },
    {
     "name": "stdout",
     "output_type": "stream",
     "text": [
      "test acc: 0.6235 - test loss : 1.0993\n",
      "\n"
     ]
    },
    {
     "name": "stderr",
     "output_type": "stream",
     "text": [
      "100%|█████████████████████████████████████████| 196/196 [00:48<00:00,  4.06it/s]\n"
     ]
    },
    {
     "name": "stdout",
     "output_type": "stream",
     "text": [
      "Epoch : 99 - acc: 0.7082 - loss : 0.8162\n",
      "\n"
     ]
    },
    {
     "name": "stderr",
     "output_type": "stream",
     "text": [
      "100%|███████████████████████████████████████████| 40/40 [00:03<00:00, 10.61it/s]\n"
     ]
    },
    {
     "name": "stdout",
     "output_type": "stream",
     "text": [
      "test acc: 0.6202 - test loss : 1.1284\n",
      "\n"
     ]
    },
    {
     "name": "stderr",
     "output_type": "stream",
     "text": [
      "100%|█████████████████████████████████████████| 196/196 [00:48<00:00,  4.06it/s]\n"
     ]
    },
    {
     "name": "stdout",
     "output_type": "stream",
     "text": [
      "Epoch : 100 - acc: 0.7142 - loss : 0.8099\n",
      "\n"
     ]
    },
    {
     "name": "stderr",
     "output_type": "stream",
     "text": [
      "100%|███████████████████████████████████████████| 40/40 [00:03<00:00, 10.67it/s]\n"
     ]
    },
    {
     "name": "stdout",
     "output_type": "stream",
     "text": [
      "test acc: 0.6063 - test loss : 1.1607\n",
      "\n"
     ]
    }
   ],
   "source": [
    "train_dataloader = CIFAR10DataLoader(split='train', batch_size=batch_size, num_workers=num_workers, shuffle=shuffle, size='32', normalize='standard')\n",
    "test_dataloader = CIFAR10DataLoader(split='test', batch_size=batch_size, num_workers=num_workers, shuffle=False, size='32', normalize='standard')\n",
    "\n",
    "criterion = nn.CrossEntropyLoss().to(device)\n",
    "optimizer = optim.Adam(model.parameters(), lr=lr)\n",
    "scheduler = optim.lr_scheduler.OneCycleLR(optimizer, max_lr=lr, steps_per_epoch=len(train_dataloader), epochs=epochs)\n",
    "\n",
    "train_accs = []\n",
    "test_accs = []\n",
    "for epoch in range(epochs):\n",
    "\n",
    "    running_loss, running_accuracy = train(model, train_dataloader, criterion, optimizer, scheduler, resnet_features)\n",
    "    print(f\"Epoch : {epoch+1} - acc: {running_accuracy:.4f} - loss : {running_loss:.4f}\\n\")\n",
    "    train_accs.append(running_accuracy)\n",
    "\n",
    "    test_loss, test_accuracy = evaluation(model, test_dataloader, criterion, resnet_features)\n",
    "    print(f\"test acc: {test_accuracy:.4f} - test loss : {test_loss:.4f}\\n\")\n",
    "    test_accs.append(test_accuracy)\n",
    "\n",
    "    if (epoch+1)%5 == 0:\n",
    "        torch.save({\n",
    "            'epoch': epoch,\n",
    "            'model': model,\n",
    "            'optimizer': optimizer,\n",
    "            'scheduler': scheduler,\n",
    "            'train_acc': train_accs,\n",
    "            'test_acc': test_accs\n",
    "        }, './data/' + model.name + '_CIFAR10_checkpoint.pt') "
   ]
  },
  {
   "cell_type": "code",
   "execution_count": 26,
   "metadata": {
    "id": "Z0En8JlYL8eY"
   },
   "outputs": [
    {
     "data": {
      "text/plain": [
       "15994634"
      ]
     },
     "execution_count": 26,
     "metadata": {},
     "output_type": "execute_result"
    }
   ],
   "source": [
    "sum(p.numel() for p in model.parameters() if p.requires_grad)"
   ]
  },
  {
   "cell_type": "markdown",
   "metadata": {
    "id": "z7yDEtyzw8oU"
   },
   "source": [
    "##### CIFAR100 Dataset"
   ]
  },
  {
   "cell_type": "code",
   "execution_count": 23,
   "metadata": {
    "id": "pp1l68Z_UiGc"
   },
   "outputs": [
    {
     "name": "stdout",
     "output_type": "stream",
     "text": [
      "Files already downloaded and verified\n",
      "Files already downloaded and verified\n"
     ]
    },
    {
     "name": "stderr",
     "output_type": "stream",
     "text": [
      "100%|█████████████████████████████████████████| 196/196 [00:30<00:00,  6.42it/s]\n"
     ]
    },
    {
     "name": "stdout",
     "output_type": "stream",
     "text": [
      "Epoch : 1 - acc: 0.0626 - loss : 4.2460\n",
      "\n"
     ]
    },
    {
     "name": "stderr",
     "output_type": "stream",
     "text": [
      "100%|███████████████████████████████████████████| 40/40 [00:02<00:00, 16.87it/s]\n"
     ]
    },
    {
     "name": "stdout",
     "output_type": "stream",
     "text": [
      "test acc: 0.0948 - test loss : 3.9629\n",
      "\n"
     ]
    },
    {
     "name": "stderr",
     "output_type": "stream",
     "text": [
      "100%|█████████████████████████████████████████| 196/196 [00:30<00:00,  6.34it/s]\n"
     ]
    },
    {
     "name": "stdout",
     "output_type": "stream",
     "text": [
      "Epoch : 2 - acc: 0.1082 - loss : 3.8795\n",
      "\n"
     ]
    },
    {
     "name": "stderr",
     "output_type": "stream",
     "text": [
      "100%|███████████████████████████████████████████| 40/40 [00:02<00:00, 16.72it/s]\n"
     ]
    },
    {
     "name": "stdout",
     "output_type": "stream",
     "text": [
      "test acc: 0.1327 - test loss : 3.7303\n",
      "\n"
     ]
    },
    {
     "name": "stderr",
     "output_type": "stream",
     "text": [
      "100%|█████████████████████████████████████████| 196/196 [00:31<00:00,  6.31it/s]\n"
     ]
    },
    {
     "name": "stdout",
     "output_type": "stream",
     "text": [
      "Epoch : 3 - acc: 0.1386 - loss : 3.6736\n",
      "\n"
     ]
    },
    {
     "name": "stderr",
     "output_type": "stream",
     "text": [
      "100%|███████████████████████████████████████████| 40/40 [00:02<00:00, 16.60it/s]\n"
     ]
    },
    {
     "name": "stdout",
     "output_type": "stream",
     "text": [
      "test acc: 0.1562 - test loss : 3.5662\n",
      "\n"
     ]
    },
    {
     "name": "stderr",
     "output_type": "stream",
     "text": [
      "100%|█████████████████████████████████████████| 196/196 [00:31<00:00,  6.28it/s]\n"
     ]
    },
    {
     "name": "stdout",
     "output_type": "stream",
     "text": [
      "Epoch : 4 - acc: 0.1606 - loss : 3.5329\n",
      "\n"
     ]
    },
    {
     "name": "stderr",
     "output_type": "stream",
     "text": [
      "100%|███████████████████████████████████████████| 40/40 [00:02<00:00, 16.54it/s]\n"
     ]
    },
    {
     "name": "stdout",
     "output_type": "stream",
     "text": [
      "test acc: 0.1838 - test loss : 3.4055\n",
      "\n"
     ]
    },
    {
     "name": "stderr",
     "output_type": "stream",
     "text": [
      "100%|█████████████████████████████████████████| 196/196 [00:31<00:00,  6.19it/s]\n"
     ]
    },
    {
     "name": "stdout",
     "output_type": "stream",
     "text": [
      "Epoch : 5 - acc: 0.1854 - loss : 3.3972\n",
      "\n"
     ]
    },
    {
     "name": "stderr",
     "output_type": "stream",
     "text": [
      "100%|███████████████████████████████████████████| 40/40 [00:02<00:00, 16.57it/s]\n"
     ]
    },
    {
     "name": "stdout",
     "output_type": "stream",
     "text": [
      "test acc: 0.2122 - test loss : 3.2768\n",
      "\n"
     ]
    },
    {
     "name": "stderr",
     "output_type": "stream",
     "text": [
      "100%|█████████████████████████████████████████| 196/196 [00:31<00:00,  6.28it/s]\n"
     ]
    },
    {
     "name": "stdout",
     "output_type": "stream",
     "text": [
      "Epoch : 6 - acc: 0.2030 - loss : 3.2956\n",
      "\n"
     ]
    },
    {
     "name": "stderr",
     "output_type": "stream",
     "text": [
      "100%|███████████████████████████████████████████| 40/40 [00:02<00:00, 16.48it/s]\n"
     ]
    },
    {
     "name": "stdout",
     "output_type": "stream",
     "text": [
      "test acc: 0.2253 - test loss : 3.2214\n",
      "\n"
     ]
    },
    {
     "name": "stderr",
     "output_type": "stream",
     "text": [
      "100%|█████████████████████████████████████████| 196/196 [00:31<00:00,  6.28it/s]\n"
     ]
    },
    {
     "name": "stdout",
     "output_type": "stream",
     "text": [
      "Epoch : 7 - acc: 0.2156 - loss : 3.2102\n",
      "\n"
     ]
    },
    {
     "name": "stderr",
     "output_type": "stream",
     "text": [
      "100%|███████████████████████████████████████████| 40/40 [00:02<00:00, 16.70it/s]\n"
     ]
    },
    {
     "name": "stdout",
     "output_type": "stream",
     "text": [
      "test acc: 0.2318 - test loss : 3.1509\n",
      "\n"
     ]
    },
    {
     "name": "stderr",
     "output_type": "stream",
     "text": [
      "100%|█████████████████████████████████████████| 196/196 [00:31<00:00,  6.30it/s]\n"
     ]
    },
    {
     "name": "stdout",
     "output_type": "stream",
     "text": [
      "Epoch : 8 - acc: 0.2302 - loss : 3.1357\n",
      "\n"
     ]
    },
    {
     "name": "stderr",
     "output_type": "stream",
     "text": [
      "100%|███████████████████████████████████████████| 40/40 [00:02<00:00, 16.67it/s]\n"
     ]
    },
    {
     "name": "stdout",
     "output_type": "stream",
     "text": [
      "test acc: 0.2545 - test loss : 3.0667\n",
      "\n"
     ]
    },
    {
     "name": "stderr",
     "output_type": "stream",
     "text": [
      "100%|█████████████████████████████████████████| 196/196 [00:31<00:00,  6.30it/s]\n"
     ]
    },
    {
     "name": "stdout",
     "output_type": "stream",
     "text": [
      "Epoch : 9 - acc: 0.2425 - loss : 3.0684\n",
      "\n"
     ]
    },
    {
     "name": "stderr",
     "output_type": "stream",
     "text": [
      "100%|███████████████████████████████████████████| 40/40 [00:02<00:00, 16.66it/s]\n"
     ]
    },
    {
     "name": "stdout",
     "output_type": "stream",
     "text": [
      "test acc: 0.2608 - test loss : 3.0293\n",
      "\n"
     ]
    },
    {
     "name": "stderr",
     "output_type": "stream",
     "text": [
      "100%|█████████████████████████████████████████| 196/196 [00:31<00:00,  6.30it/s]\n"
     ]
    },
    {
     "name": "stdout",
     "output_type": "stream",
     "text": [
      "Epoch : 10 - acc: 0.2551 - loss : 2.9997\n",
      "\n"
     ]
    },
    {
     "name": "stderr",
     "output_type": "stream",
     "text": [
      "100%|███████████████████████████████████████████| 40/40 [00:02<00:00, 16.70it/s]\n"
     ]
    },
    {
     "name": "stdout",
     "output_type": "stream",
     "text": [
      "test acc: 0.2723 - test loss : 2.9393\n",
      "\n"
     ]
    },
    {
     "name": "stderr",
     "output_type": "stream",
     "text": [
      "100%|█████████████████████████████████████████| 196/196 [00:31<00:00,  6.29it/s]\n"
     ]
    },
    {
     "name": "stdout",
     "output_type": "stream",
     "text": [
      "Epoch : 11 - acc: 0.2653 - loss : 2.9467\n",
      "\n"
     ]
    },
    {
     "name": "stderr",
     "output_type": "stream",
     "text": [
      "100%|███████████████████████████████████████████| 40/40 [00:02<00:00, 16.59it/s]\n"
     ]
    },
    {
     "name": "stdout",
     "output_type": "stream",
     "text": [
      "test acc: 0.2808 - test loss : 2.9162\n",
      "\n"
     ]
    },
    {
     "name": "stderr",
     "output_type": "stream",
     "text": [
      "100%|█████████████████████████████████████████| 196/196 [00:34<00:00,  5.76it/s]\n"
     ]
    },
    {
     "name": "stdout",
     "output_type": "stream",
     "text": [
      "Epoch : 12 - acc: 0.2754 - loss : 2.8892\n",
      "\n"
     ]
    },
    {
     "name": "stderr",
     "output_type": "stream",
     "text": [
      "100%|███████████████████████████████████████████| 40/40 [00:05<00:00,  7.50it/s]\n"
     ]
    },
    {
     "name": "stdout",
     "output_type": "stream",
     "text": [
      "test acc: 0.2843 - test loss : 2.8852\n",
      "\n"
     ]
    },
    {
     "name": "stderr",
     "output_type": "stream",
     "text": [
      "100%|█████████████████████████████████████████| 196/196 [01:18<00:00,  2.48it/s]\n"
     ]
    },
    {
     "name": "stdout",
     "output_type": "stream",
     "text": [
      "Epoch : 13 - acc: 0.2848 - loss : 2.8509\n",
      "\n"
     ]
    },
    {
     "name": "stderr",
     "output_type": "stream",
     "text": [
      "100%|███████████████████████████████████████████| 40/40 [00:05<00:00,  6.74it/s]\n"
     ]
    },
    {
     "name": "stdout",
     "output_type": "stream",
     "text": [
      "test acc: 0.2835 - test loss : 2.8605\n",
      "\n"
     ]
    },
    {
     "name": "stderr",
     "output_type": "stream",
     "text": [
      "100%|█████████████████████████████████████████| 196/196 [01:18<00:00,  2.49it/s]\n"
     ]
    },
    {
     "name": "stdout",
     "output_type": "stream",
     "text": [
      "Epoch : 14 - acc: 0.2950 - loss : 2.8002\n",
      "\n"
     ]
    },
    {
     "name": "stderr",
     "output_type": "stream",
     "text": [
      "100%|███████████████████████████████████████████| 40/40 [00:05<00:00,  6.75it/s]\n"
     ]
    },
    {
     "name": "stdout",
     "output_type": "stream",
     "text": [
      "test acc: 0.2978 - test loss : 2.8264\n",
      "\n"
     ]
    },
    {
     "name": "stderr",
     "output_type": "stream",
     "text": [
      "100%|█████████████████████████████████████████| 196/196 [01:18<00:00,  2.49it/s]\n"
     ]
    },
    {
     "name": "stdout",
     "output_type": "stream",
     "text": [
      "Epoch : 15 - acc: 0.3012 - loss : 2.7558\n",
      "\n"
     ]
    },
    {
     "name": "stderr",
     "output_type": "stream",
     "text": [
      "100%|███████████████████████████████████████████| 40/40 [00:05<00:00,  6.69it/s]\n"
     ]
    },
    {
     "name": "stdout",
     "output_type": "stream",
     "text": [
      "test acc: 0.3052 - test loss : 2.7874\n",
      "\n"
     ]
    },
    {
     "name": "stderr",
     "output_type": "stream",
     "text": [
      "100%|█████████████████████████████████████████| 196/196 [01:18<00:00,  2.50it/s]\n"
     ]
    },
    {
     "name": "stdout",
     "output_type": "stream",
     "text": [
      "Epoch : 16 - acc: 0.3123 - loss : 2.7064\n",
      "\n"
     ]
    },
    {
     "name": "stderr",
     "output_type": "stream",
     "text": [
      "100%|███████████████████████████████████████████| 40/40 [00:05<00:00,  6.75it/s]\n"
     ]
    },
    {
     "name": "stdout",
     "output_type": "stream",
     "text": [
      "test acc: 0.3111 - test loss : 2.7830\n",
      "\n"
     ]
    },
    {
     "name": "stderr",
     "output_type": "stream",
     "text": [
      "100%|█████████████████████████████████████████| 196/196 [01:18<00:00,  2.49it/s]\n"
     ]
    },
    {
     "name": "stdout",
     "output_type": "stream",
     "text": [
      "Epoch : 17 - acc: 0.3204 - loss : 2.6686\n",
      "\n"
     ]
    },
    {
     "name": "stderr",
     "output_type": "stream",
     "text": [
      "100%|███████████████████████████████████████████| 40/40 [00:05<00:00,  6.75it/s]\n"
     ]
    },
    {
     "name": "stdout",
     "output_type": "stream",
     "text": [
      "test acc: 0.3164 - test loss : 2.7574\n",
      "\n"
     ]
    },
    {
     "name": "stderr",
     "output_type": "stream",
     "text": [
      "100%|█████████████████████████████████████████| 196/196 [01:18<00:00,  2.49it/s]\n"
     ]
    },
    {
     "name": "stdout",
     "output_type": "stream",
     "text": [
      "Epoch : 18 - acc: 0.3267 - loss : 2.6356\n",
      "\n"
     ]
    },
    {
     "name": "stderr",
     "output_type": "stream",
     "text": [
      "100%|███████████████████████████████████████████| 40/40 [00:05<00:00,  6.80it/s]\n"
     ]
    },
    {
     "name": "stdout",
     "output_type": "stream",
     "text": [
      "test acc: 0.3232 - test loss : 2.7156\n",
      "\n"
     ]
    },
    {
     "name": "stderr",
     "output_type": "stream",
     "text": [
      "100%|█████████████████████████████████████████| 196/196 [01:18<00:00,  2.49it/s]\n"
     ]
    },
    {
     "name": "stdout",
     "output_type": "stream",
     "text": [
      "Epoch : 19 - acc: 0.3321 - loss : 2.5982\n",
      "\n"
     ]
    },
    {
     "name": "stderr",
     "output_type": "stream",
     "text": [
      "100%|███████████████████████████████████████████| 40/40 [00:05<00:00,  6.76it/s]\n"
     ]
    },
    {
     "name": "stdout",
     "output_type": "stream",
     "text": [
      "test acc: 0.3295 - test loss : 2.6948\n",
      "\n"
     ]
    },
    {
     "name": "stderr",
     "output_type": "stream",
     "text": [
      "100%|█████████████████████████████████████████| 196/196 [01:18<00:00,  2.50it/s]\n"
     ]
    },
    {
     "name": "stdout",
     "output_type": "stream",
     "text": [
      "Epoch : 20 - acc: 0.3433 - loss : 2.5530\n",
      "\n"
     ]
    },
    {
     "name": "stderr",
     "output_type": "stream",
     "text": [
      "100%|███████████████████████████████████████████| 40/40 [00:05<00:00,  6.95it/s]\n"
     ]
    },
    {
     "name": "stdout",
     "output_type": "stream",
     "text": [
      "test acc: 0.3325 - test loss : 2.6660\n",
      "\n"
     ]
    },
    {
     "name": "stderr",
     "output_type": "stream",
     "text": [
      "100%|█████████████████████████████████████████| 196/196 [01:18<00:00,  2.50it/s]\n"
     ]
    },
    {
     "name": "stdout",
     "output_type": "stream",
     "text": [
      "Epoch : 21 - acc: 0.3513 - loss : 2.5176\n",
      "\n"
     ]
    },
    {
     "name": "stderr",
     "output_type": "stream",
     "text": [
      "100%|███████████████████████████████████████████| 40/40 [00:05<00:00,  6.77it/s]\n"
     ]
    },
    {
     "name": "stdout",
     "output_type": "stream",
     "text": [
      "test acc: 0.3376 - test loss : 2.6485\n",
      "\n"
     ]
    },
    {
     "name": "stderr",
     "output_type": "stream",
     "text": [
      "100%|█████████████████████████████████████████| 196/196 [01:18<00:00,  2.50it/s]\n"
     ]
    },
    {
     "name": "stdout",
     "output_type": "stream",
     "text": [
      "Epoch : 22 - acc: 0.3585 - loss : 2.4839\n",
      "\n"
     ]
    },
    {
     "name": "stderr",
     "output_type": "stream",
     "text": [
      "100%|███████████████████████████████████████████| 40/40 [00:05<00:00,  6.80it/s]\n"
     ]
    },
    {
     "name": "stdout",
     "output_type": "stream",
     "text": [
      "test acc: 0.3413 - test loss : 2.6128\n",
      "\n"
     ]
    },
    {
     "name": "stderr",
     "output_type": "stream",
     "text": [
      "100%|█████████████████████████████████████████| 196/196 [01:18<00:00,  2.50it/s]\n"
     ]
    },
    {
     "name": "stdout",
     "output_type": "stream",
     "text": [
      "Epoch : 23 - acc: 0.3641 - loss : 2.4566\n",
      "\n"
     ]
    },
    {
     "name": "stderr",
     "output_type": "stream",
     "text": [
      "100%|███████████████████████████████████████████| 40/40 [00:05<00:00,  6.81it/s]\n"
     ]
    },
    {
     "name": "stdout",
     "output_type": "stream",
     "text": [
      "test acc: 0.3478 - test loss : 2.6061\n",
      "\n"
     ]
    },
    {
     "name": "stderr",
     "output_type": "stream",
     "text": [
      "100%|█████████████████████████████████████████| 196/196 [01:18<00:00,  2.50it/s]\n"
     ]
    },
    {
     "name": "stdout",
     "output_type": "stream",
     "text": [
      "Epoch : 24 - acc: 0.3675 - loss : 2.4215\n",
      "\n"
     ]
    },
    {
     "name": "stderr",
     "output_type": "stream",
     "text": [
      "100%|███████████████████████████████████████████| 40/40 [00:05<00:00,  6.77it/s]\n"
     ]
    },
    {
     "name": "stdout",
     "output_type": "stream",
     "text": [
      "test acc: 0.3546 - test loss : 2.6018\n",
      "\n"
     ]
    },
    {
     "name": "stderr",
     "output_type": "stream",
     "text": [
      "100%|█████████████████████████████████████████| 196/196 [01:18<00:00,  2.50it/s]\n"
     ]
    },
    {
     "name": "stdout",
     "output_type": "stream",
     "text": [
      "Epoch : 25 - acc: 0.3772 - loss : 2.3906\n",
      "\n"
     ]
    },
    {
     "name": "stderr",
     "output_type": "stream",
     "text": [
      "100%|███████████████████████████████████████████| 40/40 [00:05<00:00,  6.81it/s]\n"
     ]
    },
    {
     "name": "stdout",
     "output_type": "stream",
     "text": [
      "test acc: 0.3492 - test loss : 2.5819\n",
      "\n"
     ]
    },
    {
     "name": "stderr",
     "output_type": "stream",
     "text": [
      "100%|█████████████████████████████████████████| 196/196 [01:18<00:00,  2.51it/s]\n"
     ]
    },
    {
     "name": "stdout",
     "output_type": "stream",
     "text": [
      "Epoch : 26 - acc: 0.3837 - loss : 2.3573\n",
      "\n"
     ]
    },
    {
     "name": "stderr",
     "output_type": "stream",
     "text": [
      "100%|███████████████████████████████████████████| 40/40 [00:05<00:00,  6.76it/s]\n"
     ]
    },
    {
     "name": "stdout",
     "output_type": "stream",
     "text": [
      "test acc: 0.3572 - test loss : 2.5600\n",
      "\n"
     ]
    },
    {
     "name": "stderr",
     "output_type": "stream",
     "text": [
      "100%|█████████████████████████████████████████| 196/196 [01:18<00:00,  2.49it/s]\n"
     ]
    },
    {
     "name": "stdout",
     "output_type": "stream",
     "text": [
      "Epoch : 27 - acc: 0.3915 - loss : 2.3289\n",
      "\n"
     ]
    },
    {
     "name": "stderr",
     "output_type": "stream",
     "text": [
      "100%|███████████████████████████████████████████| 40/40 [00:05<00:00,  6.79it/s]\n"
     ]
    },
    {
     "name": "stdout",
     "output_type": "stream",
     "text": [
      "test acc: 0.3581 - test loss : 2.5509\n",
      "\n"
     ]
    },
    {
     "name": "stderr",
     "output_type": "stream",
     "text": [
      "100%|█████████████████████████████████████████| 196/196 [01:18<00:00,  2.50it/s]\n"
     ]
    },
    {
     "name": "stdout",
     "output_type": "stream",
     "text": [
      "Epoch : 28 - acc: 0.3963 - loss : 2.2893\n",
      "\n"
     ]
    },
    {
     "name": "stderr",
     "output_type": "stream",
     "text": [
      "100%|███████████████████████████████████████████| 40/40 [00:05<00:00,  6.78it/s]\n"
     ]
    },
    {
     "name": "stdout",
     "output_type": "stream",
     "text": [
      "test acc: 0.3588 - test loss : 2.5580\n",
      "\n"
     ]
    },
    {
     "name": "stderr",
     "output_type": "stream",
     "text": [
      "100%|█████████████████████████████████████████| 196/196 [01:18<00:00,  2.49it/s]\n"
     ]
    },
    {
     "name": "stdout",
     "output_type": "stream",
     "text": [
      "Epoch : 29 - acc: 0.4064 - loss : 2.2544\n",
      "\n"
     ]
    },
    {
     "name": "stderr",
     "output_type": "stream",
     "text": [
      "100%|███████████████████████████████████████████| 40/40 [00:05<00:00,  6.88it/s]\n"
     ]
    },
    {
     "name": "stdout",
     "output_type": "stream",
     "text": [
      "test acc: 0.3664 - test loss : 2.5323\n",
      "\n"
     ]
    },
    {
     "name": "stderr",
     "output_type": "stream",
     "text": [
      "100%|█████████████████████████████████████████| 196/196 [01:18<00:00,  2.51it/s]\n"
     ]
    },
    {
     "name": "stdout",
     "output_type": "stream",
     "text": [
      "Epoch : 30 - acc: 0.4124 - loss : 2.2267\n",
      "\n"
     ]
    },
    {
     "name": "stderr",
     "output_type": "stream",
     "text": [
      "100%|███████████████████████████████████████████| 40/40 [00:05<00:00,  6.75it/s]\n"
     ]
    },
    {
     "name": "stdout",
     "output_type": "stream",
     "text": [
      "test acc: 0.3656 - test loss : 2.5279\n",
      "\n"
     ]
    },
    {
     "name": "stderr",
     "output_type": "stream",
     "text": [
      "100%|█████████████████████████████████████████| 196/196 [01:18<00:00,  2.49it/s]\n"
     ]
    },
    {
     "name": "stdout",
     "output_type": "stream",
     "text": [
      "Epoch : 31 - acc: 0.4169 - loss : 2.1997\n",
      "\n"
     ]
    },
    {
     "name": "stderr",
     "output_type": "stream",
     "text": [
      "100%|███████████████████████████████████████████| 40/40 [00:05<00:00,  6.76it/s]\n"
     ]
    },
    {
     "name": "stdout",
     "output_type": "stream",
     "text": [
      "test acc: 0.3650 - test loss : 2.5395\n",
      "\n"
     ]
    },
    {
     "name": "stderr",
     "output_type": "stream",
     "text": [
      "100%|█████████████████████████████████████████| 196/196 [01:18<00:00,  2.50it/s]\n"
     ]
    },
    {
     "name": "stdout",
     "output_type": "stream",
     "text": [
      "Epoch : 32 - acc: 0.4233 - loss : 2.1697\n",
      "\n"
     ]
    },
    {
     "name": "stderr",
     "output_type": "stream",
     "text": [
      "100%|███████████████████████████████████████████| 40/40 [00:05<00:00,  6.77it/s]\n"
     ]
    },
    {
     "name": "stdout",
     "output_type": "stream",
     "text": [
      "test acc: 0.3783 - test loss : 2.5016\n",
      "\n"
     ]
    },
    {
     "name": "stderr",
     "output_type": "stream",
     "text": [
      "100%|█████████████████████████████████████████| 196/196 [01:18<00:00,  2.50it/s]\n"
     ]
    },
    {
     "name": "stdout",
     "output_type": "stream",
     "text": [
      "Epoch : 33 - acc: 0.4319 - loss : 2.1368\n",
      "\n"
     ]
    },
    {
     "name": "stderr",
     "output_type": "stream",
     "text": [
      "100%|███████████████████████████████████████████| 40/40 [00:05<00:00,  6.75it/s]\n"
     ]
    },
    {
     "name": "stdout",
     "output_type": "stream",
     "text": [
      "test acc: 0.3737 - test loss : 2.5031\n",
      "\n"
     ]
    },
    {
     "name": "stderr",
     "output_type": "stream",
     "text": [
      "100%|█████████████████████████████████████████| 196/196 [01:18<00:00,  2.49it/s]\n"
     ]
    },
    {
     "name": "stdout",
     "output_type": "stream",
     "text": [
      "Epoch : 34 - acc: 0.4340 - loss : 2.1129\n",
      "\n"
     ]
    },
    {
     "name": "stderr",
     "output_type": "stream",
     "text": [
      "100%|███████████████████████████████████████████| 40/40 [00:05<00:00,  6.75it/s]\n"
     ]
    },
    {
     "name": "stdout",
     "output_type": "stream",
     "text": [
      "test acc: 0.3743 - test loss : 2.4848\n",
      "\n"
     ]
    },
    {
     "name": "stderr",
     "output_type": "stream",
     "text": [
      "100%|█████████████████████████████████████████| 196/196 [01:18<00:00,  2.49it/s]\n"
     ]
    },
    {
     "name": "stdout",
     "output_type": "stream",
     "text": [
      "Epoch : 35 - acc: 0.4418 - loss : 2.0872\n",
      "\n"
     ]
    },
    {
     "name": "stderr",
     "output_type": "stream",
     "text": [
      "100%|███████████████████████████████████████████| 40/40 [00:05<00:00,  6.74it/s]\n"
     ]
    },
    {
     "name": "stdout",
     "output_type": "stream",
     "text": [
      "test acc: 0.3812 - test loss : 2.4838\n",
      "\n"
     ]
    },
    {
     "name": "stderr",
     "output_type": "stream",
     "text": [
      "100%|█████████████████████████████████████████| 196/196 [01:18<00:00,  2.49it/s]\n"
     ]
    },
    {
     "name": "stdout",
     "output_type": "stream",
     "text": [
      "Epoch : 36 - acc: 0.4487 - loss : 2.0573\n",
      "\n"
     ]
    },
    {
     "name": "stderr",
     "output_type": "stream",
     "text": [
      "100%|███████████████████████████████████████████| 40/40 [00:05<00:00,  6.79it/s]\n"
     ]
    },
    {
     "name": "stdout",
     "output_type": "stream",
     "text": [
      "test acc: 0.3742 - test loss : 2.5029\n",
      "\n"
     ]
    },
    {
     "name": "stderr",
     "output_type": "stream",
     "text": [
      "100%|█████████████████████████████████████████| 196/196 [01:18<00:00,  2.49it/s]\n"
     ]
    },
    {
     "name": "stdout",
     "output_type": "stream",
     "text": [
      "Epoch : 37 - acc: 0.4569 - loss : 2.0211\n",
      "\n"
     ]
    },
    {
     "name": "stderr",
     "output_type": "stream",
     "text": [
      "100%|███████████████████████████████████████████| 40/40 [00:05<00:00,  6.80it/s]\n"
     ]
    },
    {
     "name": "stdout",
     "output_type": "stream",
     "text": [
      "test acc: 0.3879 - test loss : 2.4835\n",
      "\n"
     ]
    },
    {
     "name": "stderr",
     "output_type": "stream",
     "text": [
      "100%|█████████████████████████████████████████| 196/196 [01:18<00:00,  2.49it/s]\n"
     ]
    },
    {
     "name": "stdout",
     "output_type": "stream",
     "text": [
      "Epoch : 38 - acc: 0.4647 - loss : 1.9864\n",
      "\n"
     ]
    },
    {
     "name": "stderr",
     "output_type": "stream",
     "text": [
      "100%|███████████████████████████████████████████| 40/40 [00:05<00:00,  7.00it/s]\n"
     ]
    },
    {
     "name": "stdout",
     "output_type": "stream",
     "text": [
      "test acc: 0.3894 - test loss : 2.4677\n",
      "\n"
     ]
    },
    {
     "name": "stderr",
     "output_type": "stream",
     "text": [
      "100%|█████████████████████████████████████████| 196/196 [01:18<00:00,  2.50it/s]\n"
     ]
    },
    {
     "name": "stdout",
     "output_type": "stream",
     "text": [
      "Epoch : 39 - acc: 0.4679 - loss : 1.9712\n",
      "\n"
     ]
    },
    {
     "name": "stderr",
     "output_type": "stream",
     "text": [
      "100%|███████████████████████████████████████████| 40/40 [00:05<00:00,  6.74it/s]\n"
     ]
    },
    {
     "name": "stdout",
     "output_type": "stream",
     "text": [
      "test acc: 0.3945 - test loss : 2.4398\n",
      "\n"
     ]
    },
    {
     "name": "stderr",
     "output_type": "stream",
     "text": [
      "100%|█████████████████████████████████████████| 196/196 [01:18<00:00,  2.49it/s]\n"
     ]
    },
    {
     "name": "stdout",
     "output_type": "stream",
     "text": [
      "Epoch : 40 - acc: 0.4739 - loss : 1.9453\n",
      "\n"
     ]
    },
    {
     "name": "stderr",
     "output_type": "stream",
     "text": [
      "100%|███████████████████████████████████████████| 40/40 [00:05<00:00,  6.76it/s]\n"
     ]
    },
    {
     "name": "stdout",
     "output_type": "stream",
     "text": [
      "test acc: 0.3891 - test loss : 2.4656\n",
      "\n"
     ]
    },
    {
     "name": "stderr",
     "output_type": "stream",
     "text": [
      "100%|█████████████████████████████████████████| 196/196 [01:18<00:00,  2.49it/s]\n"
     ]
    },
    {
     "name": "stdout",
     "output_type": "stream",
     "text": [
      "Epoch : 41 - acc: 0.4798 - loss : 1.9158\n",
      "\n"
     ]
    },
    {
     "name": "stderr",
     "output_type": "stream",
     "text": [
      "100%|███████████████████████████████████████████| 40/40 [00:05<00:00,  6.79it/s]\n"
     ]
    },
    {
     "name": "stdout",
     "output_type": "stream",
     "text": [
      "test acc: 0.3863 - test loss : 2.4928\n",
      "\n"
     ]
    },
    {
     "name": "stderr",
     "output_type": "stream",
     "text": [
      "100%|█████████████████████████████████████████| 196/196 [01:18<00:00,  2.49it/s]\n"
     ]
    },
    {
     "name": "stdout",
     "output_type": "stream",
     "text": [
      "Epoch : 42 - acc: 0.4866 - loss : 1.8828\n",
      "\n"
     ]
    },
    {
     "name": "stderr",
     "output_type": "stream",
     "text": [
      "100%|███████████████████████████████████████████| 40/40 [00:05<00:00,  6.78it/s]\n"
     ]
    },
    {
     "name": "stdout",
     "output_type": "stream",
     "text": [
      "test acc: 0.3921 - test loss : 2.4493\n",
      "\n"
     ]
    },
    {
     "name": "stderr",
     "output_type": "stream",
     "text": [
      "100%|█████████████████████████████████████████| 196/196 [01:18<00:00,  2.49it/s]\n"
     ]
    },
    {
     "name": "stdout",
     "output_type": "stream",
     "text": [
      "Epoch : 43 - acc: 0.4922 - loss : 1.8481\n",
      "\n"
     ]
    },
    {
     "name": "stderr",
     "output_type": "stream",
     "text": [
      "100%|███████████████████████████████████████████| 40/40 [00:05<00:00,  6.70it/s]\n"
     ]
    },
    {
     "name": "stdout",
     "output_type": "stream",
     "text": [
      "test acc: 0.3966 - test loss : 2.4585\n",
      "\n"
     ]
    },
    {
     "name": "stderr",
     "output_type": "stream",
     "text": [
      "100%|█████████████████████████████████████████| 196/196 [01:18<00:00,  2.49it/s]\n"
     ]
    },
    {
     "name": "stdout",
     "output_type": "stream",
     "text": [
      "Epoch : 44 - acc: 0.4977 - loss : 1.8218\n",
      "\n"
     ]
    },
    {
     "name": "stderr",
     "output_type": "stream",
     "text": [
      "100%|███████████████████████████████████████████| 40/40 [00:05<00:00,  6.70it/s]\n"
     ]
    },
    {
     "name": "stdout",
     "output_type": "stream",
     "text": [
      "test acc: 0.4023 - test loss : 2.4531\n",
      "\n"
     ]
    },
    {
     "name": "stderr",
     "output_type": "stream",
     "text": [
      "100%|█████████████████████████████████████████| 196/196 [01:18<00:00,  2.49it/s]\n"
     ]
    },
    {
     "name": "stdout",
     "output_type": "stream",
     "text": [
      "Epoch : 45 - acc: 0.5071 - loss : 1.7958\n",
      "\n"
     ]
    },
    {
     "name": "stderr",
     "output_type": "stream",
     "text": [
      "100%|███████████████████████████████████████████| 40/40 [00:05<00:00,  6.76it/s]\n"
     ]
    },
    {
     "name": "stdout",
     "output_type": "stream",
     "text": [
      "test acc: 0.3960 - test loss : 2.4685\n",
      "\n"
     ]
    },
    {
     "name": "stderr",
     "output_type": "stream",
     "text": [
      "100%|█████████████████████████████████████████| 196/196 [01:18<00:00,  2.48it/s]\n"
     ]
    },
    {
     "name": "stdout",
     "output_type": "stream",
     "text": [
      "Epoch : 46 - acc: 0.5151 - loss : 1.7601\n",
      "\n"
     ]
    },
    {
     "name": "stderr",
     "output_type": "stream",
     "text": [
      "100%|███████████████████████████████████████████| 40/40 [00:05<00:00,  6.77it/s]\n"
     ]
    },
    {
     "name": "stdout",
     "output_type": "stream",
     "text": [
      "test acc: 0.3952 - test loss : 2.4613\n",
      "\n"
     ]
    },
    {
     "name": "stderr",
     "output_type": "stream",
     "text": [
      "100%|█████████████████████████████████████████| 196/196 [01:18<00:00,  2.50it/s]\n"
     ]
    },
    {
     "name": "stdout",
     "output_type": "stream",
     "text": [
      "Epoch : 47 - acc: 0.5198 - loss : 1.7406\n",
      "\n"
     ]
    },
    {
     "name": "stderr",
     "output_type": "stream",
     "text": [
      "100%|███████████████████████████████████████████| 40/40 [00:05<00:00,  6.96it/s]\n"
     ]
    },
    {
     "name": "stdout",
     "output_type": "stream",
     "text": [
      "test acc: 0.4078 - test loss : 2.4290\n",
      "\n"
     ]
    },
    {
     "name": "stderr",
     "output_type": "stream",
     "text": [
      "100%|█████████████████████████████████████████| 196/196 [01:18<00:00,  2.50it/s]\n"
     ]
    },
    {
     "name": "stdout",
     "output_type": "stream",
     "text": [
      "Epoch : 48 - acc: 0.5279 - loss : 1.7036\n",
      "\n"
     ]
    },
    {
     "name": "stderr",
     "output_type": "stream",
     "text": [
      "100%|███████████████████████████████████████████| 40/40 [00:05<00:00,  6.99it/s]\n"
     ]
    },
    {
     "name": "stdout",
     "output_type": "stream",
     "text": [
      "test acc: 0.3997 - test loss : 2.4444\n",
      "\n"
     ]
    },
    {
     "name": "stderr",
     "output_type": "stream",
     "text": [
      "100%|█████████████████████████████████████████| 196/196 [01:18<00:00,  2.49it/s]\n"
     ]
    },
    {
     "name": "stdout",
     "output_type": "stream",
     "text": [
      "Epoch : 49 - acc: 0.5312 - loss : 1.6831\n",
      "\n"
     ]
    },
    {
     "name": "stderr",
     "output_type": "stream",
     "text": [
      "100%|███████████████████████████████████████████| 40/40 [00:05<00:00,  6.80it/s]\n"
     ]
    },
    {
     "name": "stdout",
     "output_type": "stream",
     "text": [
      "test acc: 0.3954 - test loss : 2.4537\n",
      "\n"
     ]
    },
    {
     "name": "stderr",
     "output_type": "stream",
     "text": [
      "100%|█████████████████████████████████████████| 196/196 [01:18<00:00,  2.49it/s]\n"
     ]
    },
    {
     "name": "stdout",
     "output_type": "stream",
     "text": [
      "Epoch : 50 - acc: 0.5381 - loss : 1.6469\n",
      "\n"
     ]
    },
    {
     "name": "stderr",
     "output_type": "stream",
     "text": [
      "100%|███████████████████████████████████████████| 40/40 [00:05<00:00,  6.78it/s]\n"
     ]
    },
    {
     "name": "stdout",
     "output_type": "stream",
     "text": [
      "test acc: 0.4054 - test loss : 2.4690\n",
      "\n"
     ]
    },
    {
     "name": "stderr",
     "output_type": "stream",
     "text": [
      "100%|█████████████████████████████████████████| 196/196 [01:18<00:00,  2.49it/s]\n"
     ]
    },
    {
     "name": "stdout",
     "output_type": "stream",
     "text": [
      "Epoch : 51 - acc: 0.5447 - loss : 1.6258\n",
      "\n"
     ]
    },
    {
     "name": "stderr",
     "output_type": "stream",
     "text": [
      "100%|███████████████████████████████████████████| 40/40 [00:05<00:00,  6.79it/s]\n"
     ]
    },
    {
     "name": "stdout",
     "output_type": "stream",
     "text": [
      "test acc: 0.4101 - test loss : 2.4676\n",
      "\n"
     ]
    },
    {
     "name": "stderr",
     "output_type": "stream",
     "text": [
      "100%|█████████████████████████████████████████| 196/196 [01:18<00:00,  2.49it/s]\n"
     ]
    },
    {
     "name": "stdout",
     "output_type": "stream",
     "text": [
      "Epoch : 52 - acc: 0.5540 - loss : 1.6004\n",
      "\n"
     ]
    },
    {
     "name": "stderr",
     "output_type": "stream",
     "text": [
      "100%|███████████████████████████████████████████| 40/40 [00:05<00:00,  6.74it/s]\n"
     ]
    },
    {
     "name": "stdout",
     "output_type": "stream",
     "text": [
      "test acc: 0.4117 - test loss : 2.4518\n",
      "\n"
     ]
    },
    {
     "name": "stderr",
     "output_type": "stream",
     "text": [
      "100%|█████████████████████████████████████████| 196/196 [01:18<00:00,  2.49it/s]\n"
     ]
    },
    {
     "name": "stdout",
     "output_type": "stream",
     "text": [
      "Epoch : 54 - acc: 0.5660 - loss : 1.5309\n",
      "\n"
     ]
    },
    {
     "name": "stderr",
     "output_type": "stream",
     "text": [
      "100%|███████████████████████████████████████████| 40/40 [00:05<00:00,  6.81it/s]\n"
     ]
    },
    {
     "name": "stdout",
     "output_type": "stream",
     "text": [
      "test acc: 0.4017 - test loss : 2.4994\n",
      "\n"
     ]
    },
    {
     "name": "stderr",
     "output_type": "stream",
     "text": [
      "100%|█████████████████████████████████████████| 196/196 [01:18<00:00,  2.49it/s]\n"
     ]
    },
    {
     "name": "stdout",
     "output_type": "stream",
     "text": [
      "Epoch : 55 - acc: 0.5751 - loss : 1.5047\n",
      "\n"
     ]
    },
    {
     "name": "stderr",
     "output_type": "stream",
     "text": [
      "100%|███████████████████████████████████████████| 40/40 [00:05<00:00,  6.79it/s]\n"
     ]
    },
    {
     "name": "stdout",
     "output_type": "stream",
     "text": [
      "test acc: 0.4039 - test loss : 2.4922\n",
      "\n"
     ]
    },
    {
     "name": "stderr",
     "output_type": "stream",
     "text": [
      "100%|█████████████████████████████████████████| 196/196 [01:18<00:00,  2.49it/s]\n"
     ]
    },
    {
     "name": "stdout",
     "output_type": "stream",
     "text": [
      "Epoch : 56 - acc: 0.5813 - loss : 1.4784\n",
      "\n"
     ]
    },
    {
     "name": "stderr",
     "output_type": "stream",
     "text": [
      "100%|███████████████████████████████████████████| 40/40 [00:05<00:00,  6.92it/s]\n"
     ]
    },
    {
     "name": "stdout",
     "output_type": "stream",
     "text": [
      "test acc: 0.4105 - test loss : 2.4824\n",
      "\n"
     ]
    },
    {
     "name": "stderr",
     "output_type": "stream",
     "text": [
      "100%|█████████████████████████████████████████| 196/196 [01:18<00:00,  2.49it/s]\n"
     ]
    },
    {
     "name": "stdout",
     "output_type": "stream",
     "text": [
      "Epoch : 57 - acc: 0.5853 - loss : 1.4479\n",
      "\n"
     ]
    },
    {
     "name": "stderr",
     "output_type": "stream",
     "text": [
      "100%|███████████████████████████████████████████| 40/40 [00:05<00:00,  6.98it/s]\n"
     ]
    },
    {
     "name": "stdout",
     "output_type": "stream",
     "text": [
      "test acc: 0.4072 - test loss : 2.4826\n",
      "\n"
     ]
    },
    {
     "name": "stderr",
     "output_type": "stream",
     "text": [
      "100%|█████████████████████████████████████████| 196/196 [01:18<00:00,  2.49it/s]\n"
     ]
    },
    {
     "name": "stdout",
     "output_type": "stream",
     "text": [
      "Epoch : 58 - acc: 0.5971 - loss : 1.4152\n",
      "\n"
     ]
    },
    {
     "name": "stderr",
     "output_type": "stream",
     "text": [
      "100%|███████████████████████████████████████████| 40/40 [00:05<00:00,  6.79it/s]\n"
     ]
    },
    {
     "name": "stdout",
     "output_type": "stream",
     "text": [
      "test acc: 0.4095 - test loss : 2.4985\n",
      "\n"
     ]
    },
    {
     "name": "stderr",
     "output_type": "stream",
     "text": [
      "100%|█████████████████████████████████████████| 196/196 [01:18<00:00,  2.49it/s]\n"
     ]
    },
    {
     "name": "stdout",
     "output_type": "stream",
     "text": [
      "Epoch : 59 - acc: 0.6021 - loss : 1.3855\n",
      "\n"
     ]
    },
    {
     "name": "stderr",
     "output_type": "stream",
     "text": [
      "100%|███████████████████████████████████████████| 40/40 [00:05<00:00,  6.78it/s]\n"
     ]
    },
    {
     "name": "stdout",
     "output_type": "stream",
     "text": [
      "test acc: 0.4102 - test loss : 2.5120\n",
      "\n"
     ]
    },
    {
     "name": "stderr",
     "output_type": "stream",
     "text": [
      "100%|█████████████████████████████████████████| 196/196 [01:18<00:00,  2.49it/s]\n"
     ]
    },
    {
     "name": "stdout",
     "output_type": "stream",
     "text": [
      "Epoch : 60 - acc: 0.6083 - loss : 1.3655\n",
      "\n"
     ]
    },
    {
     "name": "stderr",
     "output_type": "stream",
     "text": [
      "100%|███████████████████████████████████████████| 40/40 [00:05<00:00,  6.76it/s]\n"
     ]
    },
    {
     "name": "stdout",
     "output_type": "stream",
     "text": [
      "test acc: 0.4114 - test loss : 2.5061\n",
      "\n"
     ]
    },
    {
     "name": "stderr",
     "output_type": "stream",
     "text": [
      "100%|█████████████████████████████████████████| 196/196 [01:18<00:00,  2.49it/s]\n"
     ]
    },
    {
     "name": "stdout",
     "output_type": "stream",
     "text": [
      "Epoch : 61 - acc: 0.6182 - loss : 1.3241\n",
      "\n"
     ]
    },
    {
     "name": "stderr",
     "output_type": "stream",
     "text": [
      "100%|███████████████████████████████████████████| 40/40 [00:05<00:00,  6.76it/s]\n"
     ]
    },
    {
     "name": "stdout",
     "output_type": "stream",
     "text": [
      "test acc: 0.4070 - test loss : 2.5610\n",
      "\n"
     ]
    },
    {
     "name": "stderr",
     "output_type": "stream",
     "text": [
      "100%|█████████████████████████████████████████| 196/196 [01:18<00:00,  2.49it/s]\n"
     ]
    },
    {
     "name": "stdout",
     "output_type": "stream",
     "text": [
      "Epoch : 62 - acc: 0.6239 - loss : 1.2937\n",
      "\n"
     ]
    },
    {
     "name": "stderr",
     "output_type": "stream",
     "text": [
      "100%|███████████████████████████████████████████| 40/40 [00:05<00:00,  6.81it/s]\n"
     ]
    },
    {
     "name": "stdout",
     "output_type": "stream",
     "text": [
      "test acc: 0.4105 - test loss : 2.5494\n",
      "\n"
     ]
    },
    {
     "name": "stderr",
     "output_type": "stream",
     "text": [
      "100%|█████████████████████████████████████████| 196/196 [01:18<00:00,  2.49it/s]\n"
     ]
    },
    {
     "name": "stdout",
     "output_type": "stream",
     "text": [
      "Epoch : 63 - acc: 0.6315 - loss : 1.2627\n",
      "\n"
     ]
    },
    {
     "name": "stderr",
     "output_type": "stream",
     "text": [
      "100%|███████████████████████████████████████████| 40/40 [00:05<00:00,  6.80it/s]\n"
     ]
    },
    {
     "name": "stdout",
     "output_type": "stream",
     "text": [
      "test acc: 0.4109 - test loss : 2.5684\n",
      "\n"
     ]
    },
    {
     "name": "stderr",
     "output_type": "stream",
     "text": [
      "100%|█████████████████████████████████████████| 196/196 [01:18<00:00,  2.49it/s]\n"
     ]
    },
    {
     "name": "stdout",
     "output_type": "stream",
     "text": [
      "Epoch : 64 - acc: 0.6379 - loss : 1.2370\n",
      "\n"
     ]
    },
    {
     "name": "stderr",
     "output_type": "stream",
     "text": [
      "100%|███████████████████████████████████████████| 40/40 [00:05<00:00,  6.75it/s]\n"
     ]
    },
    {
     "name": "stdout",
     "output_type": "stream",
     "text": [
      "test acc: 0.4097 - test loss : 2.5865\n",
      "\n"
     ]
    },
    {
     "name": "stderr",
     "output_type": "stream",
     "text": [
      "100%|█████████████████████████████████████████| 196/196 [01:18<00:00,  2.49it/s]\n"
     ]
    },
    {
     "name": "stdout",
     "output_type": "stream",
     "text": [
      "Epoch : 65 - acc: 0.6470 - loss : 1.2061\n",
      "\n"
     ]
    },
    {
     "name": "stderr",
     "output_type": "stream",
     "text": [
      "100%|███████████████████████████████████████████| 40/40 [00:05<00:00,  6.86it/s]\n"
     ]
    },
    {
     "name": "stdout",
     "output_type": "stream",
     "text": [
      "test acc: 0.4171 - test loss : 2.5994\n",
      "\n"
     ]
    },
    {
     "name": "stderr",
     "output_type": "stream",
     "text": [
      "100%|█████████████████████████████████████████| 196/196 [01:18<00:00,  2.50it/s]\n"
     ]
    },
    {
     "name": "stdout",
     "output_type": "stream",
     "text": [
      "Epoch : 66 - acc: 0.6546 - loss : 1.1798\n",
      "\n"
     ]
    },
    {
     "name": "stderr",
     "output_type": "stream",
     "text": [
      "100%|███████████████████████████████████████████| 40/40 [00:05<00:00,  7.18it/s]\n"
     ]
    },
    {
     "name": "stdout",
     "output_type": "stream",
     "text": [
      "test acc: 0.4068 - test loss : 2.6427\n",
      "\n"
     ]
    },
    {
     "name": "stderr",
     "output_type": "stream",
     "text": [
      "  7%|███                                       | 14/196 [00:05<01:11,  2.54it/s]IOPub message rate exceeded.\n",
      "The notebook server will temporarily stop sending output\n",
      "to the client in order to avoid crashing it.\n",
      "To change this limit, set the config variable\n",
      "`--NotebookApp.iopub_msg_rate_limit`.\n",
      "\n",
      "Current values:\n",
      "NotebookApp.iopub_msg_rate_limit=1000.0 (msgs/sec)\n",
      "NotebookApp.rate_limit_window=3.0 (secs)\n",
      "\n",
      "100%|█████████████████████████████████████████| 196/196 [01:18<00:00,  2.49it/s]\n"
     ]
    },
    {
     "name": "stdout",
     "output_type": "stream",
     "text": [
      "Epoch : 91 - acc: 0.8290 - loss : 0.5442\n",
      "\n"
     ]
    },
    {
     "name": "stderr",
     "output_type": "stream",
     "text": [
      "100%|███████████████████████████████████████████| 40/40 [00:05<00:00,  6.79it/s]\n"
     ]
    },
    {
     "name": "stdout",
     "output_type": "stream",
     "text": [
      "test acc: 0.4204 - test loss : 3.1676\n",
      "\n"
     ]
    },
    {
     "name": "stderr",
     "output_type": "stream",
     "text": [
      "100%|█████████████████████████████████████████| 196/196 [01:18<00:00,  2.49it/s]\n"
     ]
    },
    {
     "name": "stdout",
     "output_type": "stream",
     "text": [
      "Epoch : 92 - acc: 0.8361 - loss : 0.5170\n",
      "\n"
     ]
    },
    {
     "name": "stderr",
     "output_type": "stream",
     "text": [
      "100%|███████████████████████████████████████████| 40/40 [00:05<00:00,  6.81it/s]\n"
     ]
    },
    {
     "name": "stdout",
     "output_type": "stream",
     "text": [
      "test acc: 0.4188 - test loss : 3.1850\n",
      "\n"
     ]
    },
    {
     "name": "stderr",
     "output_type": "stream",
     "text": [
      "100%|█████████████████████████████████████████| 196/196 [01:18<00:00,  2.49it/s]\n"
     ]
    },
    {
     "name": "stdout",
     "output_type": "stream",
     "text": [
      "Epoch : 93 - acc: 0.8410 - loss : 0.5076\n",
      "\n"
     ]
    },
    {
     "name": "stderr",
     "output_type": "stream",
     "text": [
      "100%|███████████████████████████████████████████| 40/40 [00:05<00:00,  7.14it/s]\n"
     ]
    },
    {
     "name": "stdout",
     "output_type": "stream",
     "text": [
      "test acc: 0.4159 - test loss : 3.2036\n",
      "\n"
     ]
    },
    {
     "name": "stderr",
     "output_type": "stream",
     "text": [
      "100%|█████████████████████████████████████████| 196/196 [01:18<00:00,  2.49it/s]\n"
     ]
    },
    {
     "name": "stdout",
     "output_type": "stream",
     "text": [
      "Epoch : 94 - acc: 0.8474 - loss : 0.4830\n",
      "\n"
     ]
    },
    {
     "name": "stderr",
     "output_type": "stream",
     "text": [
      "100%|███████████████████████████████████████████| 40/40 [00:05<00:00,  6.74it/s]\n"
     ]
    },
    {
     "name": "stdout",
     "output_type": "stream",
     "text": [
      "test acc: 0.4176 - test loss : 3.2338\n",
      "\n"
     ]
    },
    {
     "name": "stderr",
     "output_type": "stream",
     "text": [
      "100%|█████████████████████████████████████████| 196/196 [01:18<00:00,  2.49it/s]\n"
     ]
    },
    {
     "name": "stdout",
     "output_type": "stream",
     "text": [
      "Epoch : 95 - acc: 0.8523 - loss : 0.4653\n",
      "\n"
     ]
    },
    {
     "name": "stderr",
     "output_type": "stream",
     "text": [
      "100%|███████████████████████████████████████████| 40/40 [00:05<00:00,  6.79it/s]\n"
     ]
    },
    {
     "name": "stdout",
     "output_type": "stream",
     "text": [
      "test acc: 0.4153 - test loss : 3.2374\n",
      "\n"
     ]
    },
    {
     "name": "stderr",
     "output_type": "stream",
     "text": [
      "100%|█████████████████████████████████████████| 196/196 [01:18<00:00,  2.49it/s]\n"
     ]
    },
    {
     "name": "stdout",
     "output_type": "stream",
     "text": [
      "Epoch : 96 - acc: 0.8540 - loss : 0.4551\n",
      "\n"
     ]
    },
    {
     "name": "stderr",
     "output_type": "stream",
     "text": [
      "100%|███████████████████████████████████████████| 40/40 [00:05<00:00,  6.83it/s]\n"
     ]
    },
    {
     "name": "stdout",
     "output_type": "stream",
     "text": [
      "test acc: 0.4150 - test loss : 3.3198\n",
      "\n"
     ]
    },
    {
     "name": "stderr",
     "output_type": "stream",
     "text": [
      "100%|█████████████████████████████████████████| 196/196 [01:18<00:00,  2.49it/s]\n"
     ]
    },
    {
     "name": "stdout",
     "output_type": "stream",
     "text": [
      "Epoch : 97 - acc: 0.8613 - loss : 0.4359\n",
      "\n"
     ]
    },
    {
     "name": "stderr",
     "output_type": "stream",
     "text": [
      "100%|███████████████████████████████████████████| 40/40 [00:05<00:00,  6.81it/s]\n"
     ]
    },
    {
     "name": "stdout",
     "output_type": "stream",
     "text": [
      "test acc: 0.4181 - test loss : 3.3205\n",
      "\n"
     ]
    },
    {
     "name": "stderr",
     "output_type": "stream",
     "text": [
      "100%|█████████████████████████████████████████| 196/196 [01:18<00:00,  2.49it/s]\n"
     ]
    },
    {
     "name": "stdout",
     "output_type": "stream",
     "text": [
      "Epoch : 98 - acc: 0.8617 - loss : 0.4313\n",
      "\n"
     ]
    },
    {
     "name": "stderr",
     "output_type": "stream",
     "text": [
      "100%|███████████████████████████████████████████| 40/40 [00:05<00:00,  6.80it/s]\n"
     ]
    },
    {
     "name": "stdout",
     "output_type": "stream",
     "text": [
      "test acc: 0.4198 - test loss : 3.3258\n",
      "\n"
     ]
    },
    {
     "name": "stderr",
     "output_type": "stream",
     "text": [
      "100%|█████████████████████████████████████████| 196/196 [01:18<00:00,  2.49it/s]\n"
     ]
    },
    {
     "name": "stdout",
     "output_type": "stream",
     "text": [
      "Epoch : 99 - acc: 0.8683 - loss : 0.4139\n",
      "\n"
     ]
    },
    {
     "name": "stderr",
     "output_type": "stream",
     "text": [
      "100%|███████████████████████████████████████████| 40/40 [00:05<00:00,  6.73it/s]\n"
     ]
    },
    {
     "name": "stdout",
     "output_type": "stream",
     "text": [
      "test acc: 0.4181 - test loss : 3.3337\n",
      "\n"
     ]
    },
    {
     "name": "stderr",
     "output_type": "stream",
     "text": [
      "100%|█████████████████████████████████████████| 196/196 [01:18<00:00,  2.48it/s]\n"
     ]
    },
    {
     "name": "stdout",
     "output_type": "stream",
     "text": [
      "Epoch : 100 - acc: 0.8737 - loss : 0.3982\n",
      "\n"
     ]
    },
    {
     "name": "stderr",
     "output_type": "stream",
     "text": [
      "100%|███████████████████████████████████████████| 40/40 [00:05<00:00,  6.80it/s]\n"
     ]
    },
    {
     "name": "stdout",
     "output_type": "stream",
     "text": [
      "test acc: 0.4209 - test loss : 3.3295\n",
      "\n"
     ]
    }
   ],
   "source": [
    "train_dataloader = CIFAR100DataLoader(split='train', batch_size=batch_size, num_workers=num_workers, shuffle=shuffle, size='32', normalize='standard')\n",
    "test_dataloader = CIFAR100DataLoader(split='test', batch_size=batch_size, num_workers=num_workers, shuffle=False, size='32', normalize='standard')\n",
    "\n",
    "criterion = nn.CrossEntropyLoss().to(device)\n",
    "optimizer = optim.Adam(model.parameters(), lr=lr)\n",
    "scheduler = optim.lr_scheduler.OneCycleLR(optimizer, max_lr=lr, steps_per_epoch=len(train_dataloader), epochs=epochs)\n",
    "\n",
    "train_accs = []\n",
    "test_accs = []\n",
    "for epoch in range(epochs):\n",
    "\n",
    "    running_loss, running_accuracy = train(model, train_dataloader, criterion, optimizer, scheduler, resnet_features)\n",
    "    print(f\"Epoch : {epoch+1} - acc: {running_accuracy:.4f} - loss : {running_loss:.4f}\\n\")\n",
    "    train_accs.append(running_accuracy)\n",
    "\n",
    "    test_loss, test_accuracy = evaluation(model, test_dataloader, criterion, resnet_features)\n",
    "    print(f\"test acc: {test_accuracy:.4f} - test loss : {test_loss:.4f}\\n\")\n",
    "    test_accs.append(test_accuracy)\n",
    "\n",
    "    if (epoch+1)%5 == 0:\n",
    "        torch.save({\n",
    "            'epoch': epoch,\n",
    "            'model': model,\n",
    "            'optimizer': optimizer,\n",
    "            'scheduler': scheduler,\n",
    "            'train_acc': train_accs,\n",
    "            'test_acc': test_accs\n",
    "        }, './checkpoints/' + model.name + '_CIFAR100_checkpoint.pt') "
   ]
  },
  {
   "cell_type": "code",
   "execution_count": 24,
   "metadata": {
    "id": "Z0En8JlYL8eY"
   },
   "outputs": [
    {
     "data": {
      "text/plain": [
       "16017764"
      ]
     },
     "execution_count": 24,
     "metadata": {},
     "output_type": "execute_result"
    }
   ],
   "source": [
    "sum(p.numel() for p in model.parameters() if p.requires_grad)"
   ]
  },
  {
   "cell_type": "markdown",
   "metadata": {},
   "source": [
    "##### Saving accuracy"
   ]
  },
  {
   "cell_type": "code",
   "execution_count": 27,
   "metadata": {},
   "outputs": [],
   "source": [
    "import csv\n",
    "\n",
    "dataset = 'cifar10'\n",
    "path = './results/'\n",
    "model_name = 'original'\n",
    "\n",
    "with open(path+'train_'+dataset+'_'+model_name+'.csv', 'w', newline='\\n') as myfile:\n",
    "     wr = csv.writer(myfile, quoting=csv.QUOTE_ALL)\n",
    "     for point in train_accs:\n",
    "        wr.writerow([point])\n",
    "        \n",
    "        \n",
    "with open(path+'test_'+dataset+'_'+model_name+'.csv', 'w', newline='\\n') as myfile:\n",
    "     wr = csv.writer(myfile, quoting=csv.QUOTE_ALL)\n",
    "     for point in test_accs:\n",
    "        wr.writerow([point])"
   ]
  },
  {
   "cell_type": "markdown",
   "metadata": {
    "id": "4KjgBoZoxU42"
   },
   "source": [
    "##### Plotting Results"
   ]
  },
  {
   "cell_type": "code",
   "execution_count": 28,
   "metadata": {
    "colab": {
     "base_uri": "https://localhost:8080/",
     "height": 246
    },
    "id": "WsB1V8Gl0jnQ",
    "outputId": "117a99fb-47a7-486d-be6b-f929d01d57d5"
   },
   "outputs": [
    {
     "data": {
      "text/plain": [
       "<matplotlib.legend.Legend at 0x7f0a08c99630>"
      ]
     },
     "execution_count": 28,
     "metadata": {},
     "output_type": "execute_result"
    },
    {
     "data": {
      "image/png": "[encoded data removed]",
      "text/plain": [
       "<Figure size 576x396 with 1 Axes>"
      ]
     },
     "metadata": {},
     "output_type": "display_data"
    }
   ],
   "source": [
    "#CIFAR10\n",
    "train_accs = [acc.cpu().item() for acc in train_accs]\n",
    "test_accs = [acc.cpu().item() for acc in test_accs]\n",
    "# print(train_accs)\n",
    "# print(test_accs)\n",
    "plt.style.use('seaborn')\n",
    "plt.plot(range(1, 101), train_accs, label='Train Accuracy')\n",
    "plt.plot(range(1, 101), test_accs, label='Test Accuracy')\n",
    "\n",
    "plt.xlabel(\"Epochs\")\n",
    "plt.ylabel(\"Accuracy\")\n",
    "\n",
    "plt.title(\"Train vs Test Accuracy\")\n",
    "plt.legend(loc='lower right')"
   ]
  },
  {
   "cell_type": "code",
   "execution_count": 25,
   "metadata": {
    "colab": {
     "base_uri": "https://localhost:8080/",
     "height": 246
    },
    "id": "WsB1V8Gl0jnQ",
    "outputId": "117a99fb-47a7-486d-be6b-f929d01d57d5"
   },
   "outputs": [
    {
     "data": {
      "text/plain": [
       "<matplotlib.legend.Legend at 0x7f012d460588>"
      ]
     },
     "execution_count": 25,
     "metadata": {},
     "output_type": "execute_result"
    },
    {
     "data": {
      "image/png": "[encoded data removed]",
      "text/plain": [
       "<Figure size 576x396 with 1 Axes>"
      ]
     },
     "metadata": {},
     "output_type": "display_data"
    }
   ],
   "source": [
    "#CIFAR100\n",
    "train_accs = [acc.cpu().item() for acc in train_accs]\n",
    "test_accs = [acc.cpu().item() for acc in test_accs]\n",
    "# print(train_accs)\n",
    "# print(test_accs)\n",
    "plt.style.use('seaborn')\n",
    "plt.plot(range(1, 101), train_accs, label='Train Accuracy')\n",
    "plt.plot(range(1, 101), test_accs, label='Test Accuracy')\n",
    "\n",
    "plt.xlabel(\"Epochs\")\n",
    "plt.ylabel(\"Accuracy\")\n",
    "\n",
    "plt.title(\"Train vs Test Accuracy\")\n",
    "plt.legend(loc='lower right')"
   ]
  },
  {
   "cell_type": "code",
   "execution_count": null,
   "metadata": {
    "id": "TwrzOyXGYHYp"
   },
   "outputs": [],
   "source": []
  }
 ],
 "metadata": {
  "accelerator": "GPU",
  "colab": {
   "collapsed_sections": [],
   "name": "Copia de Copia de VisionTransformer.ipynb",
   "provenance": [],
   "toc_visible": true
  },
  "kernelspec": {
   "display_name": "Python 3 (ipykernel)",
   "language": "python",
   "name": "python3"
  },
  "language_info": {
   "codemirror_mode": {
    "name": "ipython",
    "version": 3
   },
   "file_extension": ".py",
   "mimetype": "text/x-python",
   "name": "python",
   "nbconvert_exporter": "python",
   "pygments_lexer": "ipython3",
   "version": "3.7.3"
  },
  "widgets": {
   "application/vnd.jupyter.widget-state+json": {
    "12ac60ab6beb4e91959c8d98bb018254": {
     "model_module": "@jupyter-widgets/controls",
     "model_module_version": "1.5.0",
     "model_name": "FloatProgressModel",
     "state": {
      "_dom_classes": [],
      "_model_module": "@jupyter-widgets/controls",
      "_model_module_version": "1.5.0",
      "_model_name": "FloatProgressModel",
      "_view_count": null,
      "_view_module": "@jupyter-widgets/controls",
      "_view_module_version": "1.5.0",
      "_view_name": "ProgressView",
      "bar_style": "success",
      "description": "",
      "description_tooltip": null,
      "layout": "IPY_MODEL_79eb18521b99496cbb9b08f27c9f5184",
      "max": 170498071,
      "min": 0,
      "orientation": "horizontal",
      "style": "IPY_MODEL_83063d744d884060a8622d7a18970467",
      "value": 170498071
     }
    },
    "3adb4db217884408865bacd17f4fd6b6": {
     "model_module": "@jupyter-widgets/base",
     "model_module_version": "1.2.0",
     "model_name": "LayoutModel",
     "state": {
      "_model_module": "@jupyter-widgets/base",
      "_model_module_version": "1.2.0",
      "_model_name": "LayoutModel",
      "_view_count": null,
      "_view_module": "@jupyter-widgets/base",
      "_view_module_version": "1.2.0",
      "_view_name": "LayoutView",
      "align_content": null,
      "align_items": null,
      "align_self": null,
      "border": null,
      "bottom": null,
      "display": null,
      "flex": null,
      "flex_flow": null,
      "grid_area": null,
      "grid_auto_columns": null,
      "grid_auto_flow": null,
      "grid_auto_rows": null,
      "grid_column": null,
      "grid_gap": null,
      "grid_row": null,
      "grid_template_areas": null,
      "grid_template_columns": null,
      "grid_template_rows": null,
      "height": null,
      "justify_content": null,
      "justify_items": null,
      "left": null,
      "margin": null,
      "max_height": null,
      "max_width": null,
      "min_height": null,
      "min_width": null,
      "object_fit": null,
      "object_position": null,
      "order": null,
      "overflow": null,
      "overflow_x": null,
      "overflow_y": null,
      "padding": null,
      "right": null,
      "top": null,
      "visibility": null,
      "width": null
     }
    },
    "40bd7f0e5bfe4b959df0ba5103e98f79": {
     "model_module": "@jupyter-widgets/controls",
     "model_module_version": "1.5.0",
     "model_name": "DescriptionStyleModel",
     "state": {
      "_model_module": "@jupyter-widgets/controls",
      "_model_module_version": "1.5.0",
      "_model_name": "DescriptionStyleModel",
      "_view_count": null,
      "_view_module": "@jupyter-widgets/base",
      "_view_module_version": "1.2.0",
      "_view_name": "StyleView",
      "description_width": ""
     }
    },
    "473a4b0e31d249bdaf0181688fed009f": {
     "model_module": "@jupyter-widgets/base",
     "model_module_version": "1.2.0",
     "model_name": "LayoutModel",
     "state": {
      "_model_module": "@jupyter-widgets/base",
      "_model_module_version": "1.2.0",
      "_model_name": "LayoutModel",
      "_view_count": null,
      "_view_module": "@jupyter-widgets/base",
      "_view_module_version": "1.2.0",
      "_view_name": "LayoutView",
      "align_content": null,
      "align_items": null,
      "align_self": null,
      "border": null,
      "bottom": null,
      "display": null,
      "flex": null,
      "flex_flow": null,
      "grid_area": null,
      "grid_auto_columns": null,
      "grid_auto_flow": null,
      "grid_auto_rows": null,
      "grid_column": null,
      "grid_gap": null,
      "grid_row": null,
      "grid_template_areas": null,
      "grid_template_columns": null,
      "grid_template_rows": null,
      "height": null,
      "justify_content": null,
      "justify_items": null,
      "left": null,
      "margin": null,
      "max_height": null,
      "max_width": null,
      "min_height": null,
      "min_width": null,
      "object_fit": null,
      "object_position": null,
      "order": null,
      "overflow": null,
      "overflow_x": null,
      "overflow_y": null,
      "padding": null,
      "right": null,
      "top": null,
      "visibility": null,
      "width": null
     }
    },
    "5d3739a396814fa9b2dadd90ada9b8a5": {
     "model_module": "@jupyter-widgets/controls",
     "model_module_version": "1.5.0",
     "model_name": "HTMLModel",
     "state": {
      "_dom_classes": [],
      "_model_module": "@jupyter-widgets/controls",
      "_model_module_version": "1.5.0",
      "_model_name": "HTMLModel",
      "_view_count": null,
      "_view_module": "@jupyter-widgets/controls",
      "_view_module_version": "1.5.0",
      "_view_name": "HTMLView",
      "description": "",
      "description_tooltip": null,
      "layout": "IPY_MODEL_3adb4db217884408865bacd17f4fd6b6",
      "placeholder": "​",
      "style": "IPY_MODEL_40bd7f0e5bfe4b959df0ba5103e98f79",
      "value": ""
     }
    },
    "7953e7734f2f4bec86a7116780df69e7": {
     "model_module": "@jupyter-widgets/controls",
     "model_module_version": "1.5.0",
     "model_name": "HBoxModel",
     "state": {
      "_dom_classes": [],
      "_model_module": "@jupyter-widgets/controls",
      "_model_module_version": "1.5.0",
      "_model_name": "HBoxModel",
      "_view_count": null,
      "_view_module": "@jupyter-widgets/controls",
      "_view_module_version": "1.5.0",
      "_view_name": "HBoxView",
      "box_style": "",
      "children": [
       "IPY_MODEL_5d3739a396814fa9b2dadd90ada9b8a5",
       "IPY_MODEL_12ac60ab6beb4e91959c8d98bb018254",
       "IPY_MODEL_d5694f64915e4d72b886d6bc36ccd856"
      ],
      "layout": "IPY_MODEL_bb5eb479eb7d42879e6807bc0a4abf1b"
     }
    },
    "79eb18521b99496cbb9b08f27c9f5184": {
     "model_module": "@jupyter-widgets/base",
     "model_module_version": "1.2.0",
     "model_name": "LayoutModel",
     "state": {
      "_model_module": "@jupyter-widgets/base",
      "_model_module_version": "1.2.0",
      "_model_name": "LayoutModel",
      "_view_count": null,
      "_view_module": "@jupyter-widgets/base",
      "_view_module_version": "1.2.0",
      "_view_name": "LayoutView",
      "align_content": null,
      "align_items": null,
      "align_self": null,
      "border": null,
      "bottom": null,
      "display": null,
      "flex": null,
      "flex_flow": null,
      "grid_area": null,
      "grid_auto_columns": null,
      "grid_auto_flow": null,
      "grid_auto_rows": null,
      "grid_column": null,
      "grid_gap": null,
      "grid_row": null,
      "grid_template_areas": null,
      "grid_template_columns": null,
      "grid_template_rows": null,
      "height": null,
      "justify_content": null,
      "justify_items": null,
      "left": null,
      "margin": null,
      "max_height": null,
      "max_width": null,
      "min_height": null,
      "min_width": null,
      "object_fit": null,
      "object_position": null,
      "order": null,
      "overflow": null,
      "overflow_x": null,
      "overflow_y": null,
      "padding": null,
      "right": null,
      "top": null,
      "visibility": null,
      "width": null
     }
    },
    "83063d744d884060a8622d7a18970467": {
     "model_module": "@jupyter-widgets/controls",
     "model_module_version": "1.5.0",
     "model_name": "ProgressStyleModel",
     "state": {
      "_model_module": "@jupyter-widgets/controls",
      "_model_module_version": "1.5.0",
      "_model_name": "ProgressStyleModel",
      "_view_count": null,
      "_view_module": "@jupyter-widgets/base",
      "_view_module_version": "1.2.0",
      "_view_name": "StyleView",
      "bar_color": null,
      "description_width": ""
     }
    },
    "87852f1ddd6c4c88b3f8d8371c3d0b96": {
     "model_module": "@jupyter-widgets/controls",
     "model_module_version": "1.5.0",
     "model_name": "DescriptionStyleModel",
     "state": {
      "_model_module": "@jupyter-widgets/controls",
      "_model_module_version": "1.5.0",
      "_model_name": "DescriptionStyleModel",
      "_view_count": null,
      "_view_module": "@jupyter-widgets/base",
      "_view_module_version": "1.2.0",
      "_view_name": "StyleView",
      "description_width": ""
     }
    },
    "bb5eb479eb7d42879e6807bc0a4abf1b": {
     "model_module": "@jupyter-widgets/base",
     "model_module_version": "1.2.0",
     "model_name": "LayoutModel",
     "state": {
      "_model_module": "@jupyter-widgets/base",
      "_model_module_version": "1.2.0",
      "_model_name": "LayoutModel",
      "_view_count": null,
      "_view_module": "@jupyter-widgets/base",
      "_view_module_version": "1.2.0",
      "_view_name": "LayoutView",
      "align_content": null,
      "align_items": null,
      "align_self": null,
      "border": null,
      "bottom": null,
      "display": null,
      "flex": null,
      "flex_flow": null,
      "grid_area": null,
      "grid_auto_columns": null,
      "grid_auto_flow": null,
      "grid_auto_rows": null,
      "grid_column": null,
      "grid_gap": null,
      "grid_row": null,
      "grid_template_areas": null,
      "grid_template_columns": null,
      "grid_template_rows": null,
      "height": null,
      "justify_content": null,
      "justify_items": null,
      "left": null,
      "margin": null,
      "max_height": null,
      "max_width": null,
      "min_height": null,
      "min_width": null,
      "object_fit": null,
      "object_position": null,
      "order": null,
      "overflow": null,
      "overflow_x": null,
      "overflow_y": null,
      "padding": null,
      "right": null,
      "top": null,
      "visibility": null,
      "width": null
     }
    },
    "d5694f64915e4d72b886d6bc36ccd856": {
     "model_module": "@jupyter-widgets/controls",
     "model_module_version": "1.5.0",
     "model_name": "HTMLModel",
     "state": {
      "_dom_classes": [],
      "_model_module": "@jupyter-widgets/controls",
      "_model_module_version": "1.5.0",
      "_model_name": "HTMLModel",
      "_view_count": null,
      "_view_module": "@jupyter-widgets/controls",
      "_view_module_version": "1.5.0",
      "_view_name": "HTMLView",
      "description": "",
      "description_tooltip": null,
      "layout": "IPY_MODEL_473a4b0e31d249bdaf0181688fed009f",
      "placeholder": "​",
      "style": "IPY_MODEL_87852f1ddd6c4c88b3f8d8371c3d0b96",
      "value": " 170499072/? [00:02&lt;00:00, 64257662.02it/s]"
     }
    }
   }
  }
 },
 "nbformat": 4,
 "nbformat_minor": 1
}
